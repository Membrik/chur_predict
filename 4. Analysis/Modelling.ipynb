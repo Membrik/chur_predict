{
 "cells": [
  {
   "cell_type": "code",
   "execution_count": 227,
   "metadata": {
    "ExecuteTime": {
     "end_time": "2019-09-23T15:12:13.922507Z",
     "start_time": "2019-09-23T15:12:13.916522Z"
    }
   },
   "outputs": [],
   "source": [
    "import pandas as pd\n",
    "import numpy as np\n",
    "import pandas as pd\n",
    "import numpy as np\n",
    "import plotly.graph_objects as go\n",
    "import plotly.express as px\n",
    "import plotly.figure_factory as ff\n",
    "from plotly.subplots import make_subplots"
   ]
  },
  {
   "cell_type": "markdown",
   "metadata": {
    "ExecuteTime": {
     "end_time": "2019-09-22T13:15:23.509622Z",
     "start_time": "2019-09-22T13:15:23.505651Z"
    }
   },
   "source": [
    "# Cleaning the data (modelling steps)"
   ]
  },
  {
   "cell_type": "code",
   "execution_count": 228,
   "metadata": {
    "ExecuteTime": {
     "end_time": "2019-09-23T15:12:14.817486Z",
     "start_time": "2019-09-23T15:12:14.795143Z"
    }
   },
   "outputs": [],
   "source": [
    "#import dataset from EDA\n",
    "df =pd.read_pickle(r'C:\\DataScienceProjects\\201907_Churn_ Prediction\\3. Uploaded Data\\churn_data_for_modelling.pkl')"
   ]
  },
  {
   "cell_type": "code",
   "execution_count": 229,
   "metadata": {
    "ExecuteTime": {
     "end_time": "2019-09-23T15:12:15.218375Z",
     "start_time": "2019-09-23T15:12:15.207409Z"
    }
   },
   "outputs": [],
   "source": [
    "# assigning user ids to a variable and removing from the dataset\n",
    "user_id = df['user']\n",
    "df = df.drop(columns=['user'])"
   ]
  },
  {
   "cell_type": "code",
   "execution_count": 230,
   "metadata": {
    "ExecuteTime": {
     "end_time": "2019-09-23T15:12:15.628822Z",
     "start_time": "2019-09-23T15:12:15.590905Z"
    }
   },
   "outputs": [],
   "source": [
    "# one hot encoding of categorical variables\n",
    "df = pd.get_dummies(df)"
   ]
  },
  {
   "cell_type": "code",
   "execution_count": 231,
   "metadata": {
    "ExecuteTime": {
     "end_time": "2019-09-23T15:12:16.026389Z",
     "start_time": "2019-09-23T15:12:16.005784Z"
    }
   },
   "outputs": [],
   "source": [
    "# removing correlated columns created with one hot encoding, i.e. 'na' columns which included the null values\n",
    "df = df.drop(columns = ['housing_na','payment_type_na','zodiac_sign_na'])"
   ]
  },
  {
   "cell_type": "markdown",
   "metadata": {
    "ExecuteTime": {
     "end_time": "2019-09-22T13:31:38.155382Z",
     "start_time": "2019-09-22T13:31:38.139906Z"
    }
   },
   "source": [
    "# Train_test split"
   ]
  },
  {
   "cell_type": "code",
   "execution_count": 232,
   "metadata": {
    "ExecuteTime": {
     "end_time": "2019-09-23T15:12:16.738232Z",
     "start_time": "2019-09-23T15:12:16.712553Z"
    }
   },
   "outputs": [],
   "source": [
    "from sklearn.model_selection import train_test_split\n",
    "X_train,X_test,y_train,y_test = train_test_split(df.drop(columns =['churn']), # independent variables\n",
    "                                                df['churn'],      # dependent variable\n",
    "                                                test_size=0.2,\n",
    "                                                random_state=0)"
   ]
  },
  {
   "cell_type": "code",
   "execution_count": 233,
   "metadata": {
    "ExecuteTime": {
     "end_time": "2019-09-23T15:12:17.181080Z",
     "start_time": "2019-09-23T15:12:17.173071Z"
    }
   },
   "outputs": [
    {
     "data": {
      "text/plain": [
       "0    12656\n",
       "1     8940\n",
       "Name: churn, dtype: int64"
      ]
     },
     "execution_count": 233,
     "metadata": {},
     "output_type": "execute_result"
    }
   ],
   "source": [
    "# Checking the balancing of the dataset\n",
    "y_train.value_counts()"
   ]
  },
  {
   "cell_type": "markdown",
   "metadata": {},
   "source": [
    "# Rebalancing dataset"
   ]
  },
  {
   "cell_type": "code",
   "execution_count": 234,
   "metadata": {
    "ExecuteTime": {
     "end_time": "2019-09-23T15:12:18.301261Z",
     "start_time": "2019-09-23T15:12:18.292682Z"
    }
   },
   "outputs": [],
   "source": [
    "#Dividing dataset by class\n",
    "y_train_neg = y_train[y_train.values==0].index\n",
    "y_train_pos = y_train[y_train.values==1].index"
   ]
  },
  {
   "cell_type": "code",
   "execution_count": 235,
   "metadata": {
    "ExecuteTime": {
     "end_time": "2019-09-23T15:12:19.082810Z",
     "start_time": "2019-09-23T15:12:19.065229Z"
    }
   },
   "outputs": [],
   "source": [
    "# Under-sampling of classes in relation to the higher represented class\n",
    "if len(y_train_neg)>len(y_train_pos):\n",
    "    higher = y_train_neg\n",
    "    lower = y_train_pos\n",
    "else:\n",
    "    higher = y_train_pos\n",
    "    lower = y_train_\n",
    "\n",
    "np.random.seed(0)\n",
    "higher = np.random.choice(higher, size = len(lower)) # pick randomly a subset of observations (rows) matching the size of the smallest class\n",
    "lower = np.asarray(lower) #converting to an array\n",
    "new_indexes = np.concatenate((lower,higher)) # concatenating arrays of indexes\n",
    "\n",
    "# undersampling training data\n",
    "X_train = X_train.loc[new_indexes,]  #all columns\n",
    "y_train = y_train.loc[new_indexes]   #only one col\n",
    "\n"
   ]
  },
  {
   "cell_type": "code",
   "execution_count": 236,
   "metadata": {
    "ExecuteTime": {
     "end_time": "2019-09-23T15:12:20.157640Z",
     "start_time": "2019-09-23T15:12:20.146670Z"
    }
   },
   "outputs": [
    {
     "data": {
      "text/plain": [
       "1    8940\n",
       "0    8940\n",
       "Name: churn, dtype: int64"
      ]
     },
     "execution_count": 236,
     "metadata": {},
     "output_type": "execute_result"
    }
   ],
   "source": [
    "y_train.value_counts()"
   ]
  },
  {
   "cell_type": "markdown",
   "metadata": {},
   "source": [
    "# Scaling"
   ]
  },
  {
   "cell_type": "code",
   "execution_count": 237,
   "metadata": {
    "ExecuteTime": {
     "end_time": "2019-09-23T15:12:21.650291Z",
     "start_time": "2019-09-23T15:12:21.646303Z"
    }
   },
   "outputs": [],
   "source": [
    "from sklearn.preprocessing import StandardScaler"
   ]
  },
  {
   "cell_type": "code",
   "execution_count": 238,
   "metadata": {
    "ExecuteTime": {
     "end_time": "2019-09-23T15:12:22.638520Z",
     "start_time": "2019-09-23T15:12:22.584824Z"
    }
   },
   "outputs": [],
   "source": [
    "sc_X = StandardScaler()\n",
    "# build a \"scaled\" training set\n",
    "X_train2 = pd.DataFrame (sc_X.fit_transform(X_train))\n",
    "X_test2 = pd.DataFrame (sc_X.transform(X_test)) \n",
    "\n",
    "# copying the columns name to the scaled dataset\n",
    "X_train2.columns = X_train.columns.values \n",
    "X_test2.columns = X_test.columns.values\n",
    "\n",
    "# copying the index to the scaled dataset.\n",
    "X_train2.index = X_train.index.values \n",
    "X_test2.index = X_test.index.values\n",
    "\n",
    "X_train = X_train2\n",
    "X_test = X_test2"
   ]
  },
  {
   "cell_type": "markdown",
   "metadata": {},
   "source": [
    "# Model building :"
   ]
  },
  {
   "cell_type": "markdown",
   "metadata": {
    "ExecuteTime": {
     "end_time": "2019-09-23T12:37:51.955842Z",
     "start_time": "2019-09-23T12:37:51.920874Z"
    }
   },
   "source": [
    "## Logistic Regression (all features)"
   ]
  },
  {
   "cell_type": "code",
   "execution_count": 239,
   "metadata": {
    "ExecuteTime": {
     "end_time": "2019-09-23T15:12:32.116960Z",
     "start_time": "2019-09-23T15:12:31.989733Z"
    }
   },
   "outputs": [
    {
     "data": {
      "text/plain": [
       "LogisticRegression(C=1.0, class_weight=None, dual=False, fit_intercept=True,\n",
       "                   intercept_scaling=1, l1_ratio=None, max_iter=100,\n",
       "                   multi_class='warn', n_jobs=None, penalty='l2',\n",
       "                   random_state=0, solver='lbfgs', tol=0.0001, verbose=0,\n",
       "                   warm_start=False)"
      ]
     },
     "execution_count": 239,
     "metadata": {},
     "output_type": "execute_result"
    }
   ],
   "source": [
    "from sklearn.linear_model import LogisticRegression\n",
    "classifier_full = LogisticRegression(random_state=0,solver='lbfgs')\n",
    "classifier_full.fit(X_train,y_train)"
   ]
  },
  {
   "cell_type": "code",
   "execution_count": 240,
   "metadata": {
    "ExecuteTime": {
     "end_time": "2019-09-23T15:12:38.131841Z",
     "start_time": "2019-09-23T15:12:38.124891Z"
    }
   },
   "outputs": [],
   "source": [
    "y_pred = classifier_full.predict(X_test)"
   ]
  },
  {
   "cell_type": "code",
   "execution_count": 241,
   "metadata": {
    "ExecuteTime": {
     "end_time": "2019-09-23T15:12:39.144134Z",
     "start_time": "2019-09-23T15:12:39.127180Z"
    }
   },
   "outputs": [],
   "source": [
    "from sklearn.metrics import confusion_matrix, accuracy_score, f1_score, precision_score, recall_score, classification_report \n",
    "#Evaluating performance metrics\n",
    "def model_evaluation(y_test,y_pred):\n",
    "    cm = confusion_matrix(y_test,y_pred)\n",
    "    df_cm = pd.DataFrame(cm, index = ('False','True'), columns = ('False','True'))  \n",
    "    fig = ff.create_annotated_heatmap(x=df_cm.columns.values.tolist(),\n",
    "                                      y=df_cm.index.values.tolist(),\n",
    "                                      z=df_cm.values.tolist(),\n",
    "                                      colorscale='Spectral',\n",
    "                                     showscale=True)\n",
    "    fig.update_layout(title={'text':'Confusion Matrix',\n",
    "                                'font':{'family':'Merriweather',\n",
    "                                        'size':24},\n",
    "                               },\n",
    "                       xaxis = {\"title\":{\"text\":\"Predicted Value\",\n",
    "                                         \"font\":{'family':'open sans',\n",
    "                                                 'size':18}}},                   \n",
    "                       yaxis = {\"title\":{\"text\":\"True Value\",\n",
    "                                         \"font\":{'family':'open sans',\n",
    "                                                 'size':18}}},\n",
    "                      template=\"plotly_dark\"\n",
    "                      )\n",
    "    fig.show()\n",
    "    print(f'Accuracy score: {round(accuracy_score(y_test,y_pred)*100,2)}%')\n",
    "    print(f'Precision score: {round(precision_score(y_test,y_pred)*100,2)}%')\n",
    "    print(f'Recall score: {round(recall_score(y_test,y_pred)*100,2)}%')\n",
    "    print(f'F1 score: {round(f1_score(y_test,y_pred)*100,2)}%')\n",
    "    print(classification_report(y_test,y_pred))"
   ]
  },
  {
   "cell_type": "code",
   "execution_count": 242,
   "metadata": {
    "ExecuteTime": {
     "end_time": "2019-09-23T15:12:40.733881Z",
     "start_time": "2019-09-23T15:12:40.445655Z"
    }
   },
   "outputs": [
    {
     "data": {
      "application/vnd.plotly.v1+json": {
       "config": {
        "plotlyServerURL": "https://plot.ly"
       },
       "data": [
        {
         "colorscale": [
          [
           0,
           "rgb(158,1,66)"
          ],
          [
           0.1,
           "rgb(213,62,79)"
          ],
          [
           0.2,
           "rgb(244,109,67)"
          ],
          [
           0.3,
           "rgb(253,174,97)"
          ],
          [
           0.4,
           "rgb(254,224,139)"
          ],
          [
           0.5,
           "rgb(255,255,191)"
          ],
          [
           0.6,
           "rgb(230,245,152)"
          ],
          [
           0.7,
           "rgb(171,221,164)"
          ],
          [
           0.8,
           "rgb(102,194,165)"
          ],
          [
           0.9,
           "rgb(50,136,189)"
          ],
          [
           1,
           "rgb(94,79,162)"
          ]
         ],
         "reversescale": false,
         "showscale": true,
         "type": "heatmap",
         "x": [
          "False",
          "True"
         ],
         "y": [
          "False",
          "True"
         ],
         "z": [
          [
           1661,
           1505
          ],
          [
           585,
           1649
          ]
         ]
        }
       ],
       "layout": {
        "annotations": [
         {
          "font": {
           "color": "#FFFFFF"
          },
          "showarrow": false,
          "text": "1661",
          "x": "False",
          "xref": "x",
          "y": "False",
          "yref": "y"
         },
         {
          "font": {
           "color": "#FFFFFF"
          },
          "showarrow": false,
          "text": "1505",
          "x": "True",
          "xref": "x",
          "y": "False",
          "yref": "y"
         },
         {
          "font": {
           "color": "#FFFFFF"
          },
          "showarrow": false,
          "text": "585",
          "x": "False",
          "xref": "x",
          "y": "True",
          "yref": "y"
         },
         {
          "font": {
           "color": "#FFFFFF"
          },
          "showarrow": false,
          "text": "1649",
          "x": "True",
          "xref": "x",
          "y": "True",
          "yref": "y"
         }
        ],
        "template": {
         "data": {
          "bar": [
           {
            "error_x": {
             "color": "#f2f5fa"
            },
            "error_y": {
             "color": "#f2f5fa"
            },
            "marker": {
             "line": {
              "color": "rgb(17,17,17)",
              "width": 0.5
             }
            },
            "type": "bar"
           }
          ],
          "barpolar": [
           {
            "marker": {
             "line": {
              "color": "rgb(17,17,17)",
              "width": 0.5
             }
            },
            "type": "barpolar"
           }
          ],
          "carpet": [
           {
            "aaxis": {
             "endlinecolor": "#A2B1C6",
             "gridcolor": "#506784",
             "linecolor": "#506784",
             "minorgridcolor": "#506784",
             "startlinecolor": "#A2B1C6"
            },
            "baxis": {
             "endlinecolor": "#A2B1C6",
             "gridcolor": "#506784",
             "linecolor": "#506784",
             "minorgridcolor": "#506784",
             "startlinecolor": "#A2B1C6"
            },
            "type": "carpet"
           }
          ],
          "choropleth": [
           {
            "colorbar": {
             "outlinewidth": 0,
             "ticks": ""
            },
            "type": "choropleth"
           }
          ],
          "contour": [
           {
            "colorbar": {
             "outlinewidth": 0,
             "ticks": ""
            },
            "colorscale": [
             [
              0,
              "#0d0887"
             ],
             [
              0.1111111111111111,
              "#46039f"
             ],
             [
              0.2222222222222222,
              "#7201a8"
             ],
             [
              0.3333333333333333,
              "#9c179e"
             ],
             [
              0.4444444444444444,
              "#bd3786"
             ],
             [
              0.5555555555555556,
              "#d8576b"
             ],
             [
              0.6666666666666666,
              "#ed7953"
             ],
             [
              0.7777777777777778,
              "#fb9f3a"
             ],
             [
              0.8888888888888888,
              "#fdca26"
             ],
             [
              1,
              "#f0f921"
             ]
            ],
            "type": "contour"
           }
          ],
          "contourcarpet": [
           {
            "colorbar": {
             "outlinewidth": 0,
             "ticks": ""
            },
            "type": "contourcarpet"
           }
          ],
          "heatmap": [
           {
            "colorbar": {
             "outlinewidth": 0,
             "ticks": ""
            },
            "colorscale": [
             [
              0,
              "#0d0887"
             ],
             [
              0.1111111111111111,
              "#46039f"
             ],
             [
              0.2222222222222222,
              "#7201a8"
             ],
             [
              0.3333333333333333,
              "#9c179e"
             ],
             [
              0.4444444444444444,
              "#bd3786"
             ],
             [
              0.5555555555555556,
              "#d8576b"
             ],
             [
              0.6666666666666666,
              "#ed7953"
             ],
             [
              0.7777777777777778,
              "#fb9f3a"
             ],
             [
              0.8888888888888888,
              "#fdca26"
             ],
             [
              1,
              "#f0f921"
             ]
            ],
            "type": "heatmap"
           }
          ],
          "heatmapgl": [
           {
            "colorbar": {
             "outlinewidth": 0,
             "ticks": ""
            },
            "colorscale": [
             [
              0,
              "#0d0887"
             ],
             [
              0.1111111111111111,
              "#46039f"
             ],
             [
              0.2222222222222222,
              "#7201a8"
             ],
             [
              0.3333333333333333,
              "#9c179e"
             ],
             [
              0.4444444444444444,
              "#bd3786"
             ],
             [
              0.5555555555555556,
              "#d8576b"
             ],
             [
              0.6666666666666666,
              "#ed7953"
             ],
             [
              0.7777777777777778,
              "#fb9f3a"
             ],
             [
              0.8888888888888888,
              "#fdca26"
             ],
             [
              1,
              "#f0f921"
             ]
            ],
            "type": "heatmapgl"
           }
          ],
          "histogram": [
           {
            "marker": {
             "colorbar": {
              "outlinewidth": 0,
              "ticks": ""
             }
            },
            "type": "histogram"
           }
          ],
          "histogram2d": [
           {
            "colorbar": {
             "outlinewidth": 0,
             "ticks": ""
            },
            "colorscale": [
             [
              0,
              "#0d0887"
             ],
             [
              0.1111111111111111,
              "#46039f"
             ],
             [
              0.2222222222222222,
              "#7201a8"
             ],
             [
              0.3333333333333333,
              "#9c179e"
             ],
             [
              0.4444444444444444,
              "#bd3786"
             ],
             [
              0.5555555555555556,
              "#d8576b"
             ],
             [
              0.6666666666666666,
              "#ed7953"
             ],
             [
              0.7777777777777778,
              "#fb9f3a"
             ],
             [
              0.8888888888888888,
              "#fdca26"
             ],
             [
              1,
              "#f0f921"
             ]
            ],
            "type": "histogram2d"
           }
          ],
          "histogram2dcontour": [
           {
            "colorbar": {
             "outlinewidth": 0,
             "ticks": ""
            },
            "colorscale": [
             [
              0,
              "#0d0887"
             ],
             [
              0.1111111111111111,
              "#46039f"
             ],
             [
              0.2222222222222222,
              "#7201a8"
             ],
             [
              0.3333333333333333,
              "#9c179e"
             ],
             [
              0.4444444444444444,
              "#bd3786"
             ],
             [
              0.5555555555555556,
              "#d8576b"
             ],
             [
              0.6666666666666666,
              "#ed7953"
             ],
             [
              0.7777777777777778,
              "#fb9f3a"
             ],
             [
              0.8888888888888888,
              "#fdca26"
             ],
             [
              1,
              "#f0f921"
             ]
            ],
            "type": "histogram2dcontour"
           }
          ],
          "mesh3d": [
           {
            "colorbar": {
             "outlinewidth": 0,
             "ticks": ""
            },
            "type": "mesh3d"
           }
          ],
          "parcoords": [
           {
            "line": {
             "colorbar": {
              "outlinewidth": 0,
              "ticks": ""
             }
            },
            "type": "parcoords"
           }
          ],
          "scatter": [
           {
            "marker": {
             "line": {
              "color": "#283442"
             }
            },
            "type": "scatter"
           }
          ],
          "scatter3d": [
           {
            "line": {
             "colorbar": {
              "outlinewidth": 0,
              "ticks": ""
             }
            },
            "marker": {
             "colorbar": {
              "outlinewidth": 0,
              "ticks": ""
             }
            },
            "type": "scatter3d"
           }
          ],
          "scattercarpet": [
           {
            "marker": {
             "colorbar": {
              "outlinewidth": 0,
              "ticks": ""
             }
            },
            "type": "scattercarpet"
           }
          ],
          "scattergeo": [
           {
            "marker": {
             "colorbar": {
              "outlinewidth": 0,
              "ticks": ""
             }
            },
            "type": "scattergeo"
           }
          ],
          "scattergl": [
           {
            "marker": {
             "line": {
              "color": "#283442"
             }
            },
            "type": "scattergl"
           }
          ],
          "scattermapbox": [
           {
            "marker": {
             "colorbar": {
              "outlinewidth": 0,
              "ticks": ""
             }
            },
            "type": "scattermapbox"
           }
          ],
          "scatterpolar": [
           {
            "marker": {
             "colorbar": {
              "outlinewidth": 0,
              "ticks": ""
             }
            },
            "type": "scatterpolar"
           }
          ],
          "scatterpolargl": [
           {
            "marker": {
             "colorbar": {
              "outlinewidth": 0,
              "ticks": ""
             }
            },
            "type": "scatterpolargl"
           }
          ],
          "scatterternary": [
           {
            "marker": {
             "colorbar": {
              "outlinewidth": 0,
              "ticks": ""
             }
            },
            "type": "scatterternary"
           }
          ],
          "surface": [
           {
            "colorbar": {
             "outlinewidth": 0,
             "ticks": ""
            },
            "colorscale": [
             [
              0,
              "#0d0887"
             ],
             [
              0.1111111111111111,
              "#46039f"
             ],
             [
              0.2222222222222222,
              "#7201a8"
             ],
             [
              0.3333333333333333,
              "#9c179e"
             ],
             [
              0.4444444444444444,
              "#bd3786"
             ],
             [
              0.5555555555555556,
              "#d8576b"
             ],
             [
              0.6666666666666666,
              "#ed7953"
             ],
             [
              0.7777777777777778,
              "#fb9f3a"
             ],
             [
              0.8888888888888888,
              "#fdca26"
             ],
             [
              1,
              "#f0f921"
             ]
            ],
            "type": "surface"
           }
          ],
          "table": [
           {
            "cells": {
             "fill": {
              "color": "#506784"
             },
             "line": {
              "color": "rgb(17,17,17)"
             }
            },
            "header": {
             "fill": {
              "color": "#2a3f5f"
             },
             "line": {
              "color": "rgb(17,17,17)"
             }
            },
            "type": "table"
           }
          ]
         },
         "layout": {
          "annotationdefaults": {
           "arrowcolor": "#f2f5fa",
           "arrowhead": 0,
           "arrowwidth": 1
          },
          "colorscale": {
           "diverging": [
            [
             0,
             "#8e0152"
            ],
            [
             0.1,
             "#c51b7d"
            ],
            [
             0.2,
             "#de77ae"
            ],
            [
             0.3,
             "#f1b6da"
            ],
            [
             0.4,
             "#fde0ef"
            ],
            [
             0.5,
             "#f7f7f7"
            ],
            [
             0.6,
             "#e6f5d0"
            ],
            [
             0.7,
             "#b8e186"
            ],
            [
             0.8,
             "#7fbc41"
            ],
            [
             0.9,
             "#4d9221"
            ],
            [
             1,
             "#276419"
            ]
           ],
           "sequential": [
            [
             0,
             "#0d0887"
            ],
            [
             0.1111111111111111,
             "#46039f"
            ],
            [
             0.2222222222222222,
             "#7201a8"
            ],
            [
             0.3333333333333333,
             "#9c179e"
            ],
            [
             0.4444444444444444,
             "#bd3786"
            ],
            [
             0.5555555555555556,
             "#d8576b"
            ],
            [
             0.6666666666666666,
             "#ed7953"
            ],
            [
             0.7777777777777778,
             "#fb9f3a"
            ],
            [
             0.8888888888888888,
             "#fdca26"
            ],
            [
             1,
             "#f0f921"
            ]
           ],
           "sequentialminus": [
            [
             0,
             "#0d0887"
            ],
            [
             0.1111111111111111,
             "#46039f"
            ],
            [
             0.2222222222222222,
             "#7201a8"
            ],
            [
             0.3333333333333333,
             "#9c179e"
            ],
            [
             0.4444444444444444,
             "#bd3786"
            ],
            [
             0.5555555555555556,
             "#d8576b"
            ],
            [
             0.6666666666666666,
             "#ed7953"
            ],
            [
             0.7777777777777778,
             "#fb9f3a"
            ],
            [
             0.8888888888888888,
             "#fdca26"
            ],
            [
             1,
             "#f0f921"
            ]
           ]
          },
          "colorway": [
           "#636efa",
           "#EF553B",
           "#00cc96",
           "#ab63fa",
           "#FFA15A",
           "#19d3f3",
           "#FF6692",
           "#B6E880",
           "#FF97FF",
           "#FECB52"
          ],
          "font": {
           "color": "#f2f5fa"
          },
          "geo": {
           "bgcolor": "rgb(17,17,17)",
           "lakecolor": "rgb(17,17,17)",
           "landcolor": "rgb(17,17,17)",
           "showlakes": true,
           "showland": true,
           "subunitcolor": "#506784"
          },
          "hoverlabel": {
           "align": "left"
          },
          "hovermode": "closest",
          "mapbox": {
           "style": "dark"
          },
          "paper_bgcolor": "rgb(17,17,17)",
          "plot_bgcolor": "rgb(17,17,17)",
          "polar": {
           "angularaxis": {
            "gridcolor": "#506784",
            "linecolor": "#506784",
            "ticks": ""
           },
           "bgcolor": "rgb(17,17,17)",
           "radialaxis": {
            "gridcolor": "#506784",
            "linecolor": "#506784",
            "ticks": ""
           }
          },
          "scene": {
           "xaxis": {
            "backgroundcolor": "rgb(17,17,17)",
            "gridcolor": "#506784",
            "gridwidth": 2,
            "linecolor": "#506784",
            "showbackground": true,
            "ticks": "",
            "zerolinecolor": "#C8D4E3"
           },
           "yaxis": {
            "backgroundcolor": "rgb(17,17,17)",
            "gridcolor": "#506784",
            "gridwidth": 2,
            "linecolor": "#506784",
            "showbackground": true,
            "ticks": "",
            "zerolinecolor": "#C8D4E3"
           },
           "zaxis": {
            "backgroundcolor": "rgb(17,17,17)",
            "gridcolor": "#506784",
            "gridwidth": 2,
            "linecolor": "#506784",
            "showbackground": true,
            "ticks": "",
            "zerolinecolor": "#C8D4E3"
           }
          },
          "shapedefaults": {
           "line": {
            "color": "#f2f5fa"
           }
          },
          "sliderdefaults": {
           "bgcolor": "#C8D4E3",
           "bordercolor": "rgb(17,17,17)",
           "borderwidth": 1,
           "tickwidth": 0
          },
          "ternary": {
           "aaxis": {
            "gridcolor": "#506784",
            "linecolor": "#506784",
            "ticks": ""
           },
           "baxis": {
            "gridcolor": "#506784",
            "linecolor": "#506784",
            "ticks": ""
           },
           "bgcolor": "rgb(17,17,17)",
           "caxis": {
            "gridcolor": "#506784",
            "linecolor": "#506784",
            "ticks": ""
           }
          },
          "title": {
           "x": 0.05
          },
          "updatemenudefaults": {
           "bgcolor": "#506784",
           "borderwidth": 0
          },
          "xaxis": {
           "automargin": true,
           "gridcolor": "#283442",
           "linecolor": "#506784",
           "ticks": "",
           "zerolinecolor": "#283442",
           "zerolinewidth": 2
          },
          "yaxis": {
           "automargin": true,
           "gridcolor": "#283442",
           "linecolor": "#506784",
           "ticks": "",
           "zerolinecolor": "#283442",
           "zerolinewidth": 2
          }
         }
        },
        "title": {
         "font": {
          "family": "Merriweather",
          "size": 24
         },
         "text": "Confusion Matrix"
        },
        "xaxis": {
         "dtick": 1,
         "gridcolor": "rgb(0, 0, 0)",
         "side": "top",
         "ticks": "",
         "title": {
          "font": {
           "family": "open sans",
           "size": 18
          },
          "text": "Predicted Value"
         }
        },
        "yaxis": {
         "dtick": 1,
         "ticks": "",
         "ticksuffix": "  ",
         "title": {
          "font": {
           "family": "open sans",
           "size": 18
          },
          "text": "True Value"
         }
        }
       }
      },
      "text/html": [
       "<div>\n",
       "        \n",
       "        \n",
       "            <div id=\"5a00bb01-1ad4-480a-a0de-2f17aa3b2906\" class=\"plotly-graph-div\" style=\"height:525px; width:100%;\"></div>\n",
       "            <script type=\"text/javascript\">\n",
       "                require([\"plotly\"], function(Plotly) {\n",
       "                    window.PLOTLYENV=window.PLOTLYENV || {};\n",
       "                    \n",
       "                if (document.getElementById(\"5a00bb01-1ad4-480a-a0de-2f17aa3b2906\")) {\n",
       "                    Plotly.newPlot(\n",
       "                        '5a00bb01-1ad4-480a-a0de-2f17aa3b2906',\n",
       "                        [{\"colorscale\": [[0.0, \"rgb(158,1,66)\"], [0.1, \"rgb(213,62,79)\"], [0.2, \"rgb(244,109,67)\"], [0.3, \"rgb(253,174,97)\"], [0.4, \"rgb(254,224,139)\"], [0.5, \"rgb(255,255,191)\"], [0.6, \"rgb(230,245,152)\"], [0.7, \"rgb(171,221,164)\"], [0.8, \"rgb(102,194,165)\"], [0.9, \"rgb(50,136,189)\"], [1.0, \"rgb(94,79,162)\"]], \"reversescale\": false, \"showscale\": true, \"type\": \"heatmap\", \"x\": [\"False\", \"True\"], \"y\": [\"False\", \"True\"], \"z\": [[1661, 1505], [585, 1649]]}],\n",
       "                        {\"annotations\": [{\"font\": {\"color\": \"#FFFFFF\"}, \"showarrow\": false, \"text\": \"1661\", \"x\": \"False\", \"xref\": \"x\", \"y\": \"False\", \"yref\": \"y\"}, {\"font\": {\"color\": \"#FFFFFF\"}, \"showarrow\": false, \"text\": \"1505\", \"x\": \"True\", \"xref\": \"x\", \"y\": \"False\", \"yref\": \"y\"}, {\"font\": {\"color\": \"#FFFFFF\"}, \"showarrow\": false, \"text\": \"585\", \"x\": \"False\", \"xref\": \"x\", \"y\": \"True\", \"yref\": \"y\"}, {\"font\": {\"color\": \"#FFFFFF\"}, \"showarrow\": false, \"text\": \"1649\", \"x\": \"True\", \"xref\": \"x\", \"y\": \"True\", \"yref\": \"y\"}], \"template\": {\"data\": {\"bar\": [{\"error_x\": {\"color\": \"#f2f5fa\"}, \"error_y\": {\"color\": \"#f2f5fa\"}, \"marker\": {\"line\": {\"color\": \"rgb(17,17,17)\", \"width\": 0.5}}, \"type\": \"bar\"}], \"barpolar\": [{\"marker\": {\"line\": {\"color\": \"rgb(17,17,17)\", \"width\": 0.5}}, \"type\": \"barpolar\"}], \"carpet\": [{\"aaxis\": {\"endlinecolor\": \"#A2B1C6\", \"gridcolor\": \"#506784\", \"linecolor\": \"#506784\", \"minorgridcolor\": \"#506784\", \"startlinecolor\": \"#A2B1C6\"}, \"baxis\": {\"endlinecolor\": \"#A2B1C6\", \"gridcolor\": \"#506784\", \"linecolor\": \"#506784\", \"minorgridcolor\": \"#506784\", \"startlinecolor\": \"#A2B1C6\"}, \"type\": \"carpet\"}], \"choropleth\": [{\"colorbar\": {\"outlinewidth\": 0, \"ticks\": \"\"}, \"type\": \"choropleth\"}], \"contour\": [{\"colorbar\": {\"outlinewidth\": 0, \"ticks\": \"\"}, \"colorscale\": [[0.0, \"#0d0887\"], [0.1111111111111111, \"#46039f\"], [0.2222222222222222, \"#7201a8\"], [0.3333333333333333, \"#9c179e\"], [0.4444444444444444, \"#bd3786\"], [0.5555555555555556, \"#d8576b\"], [0.6666666666666666, \"#ed7953\"], [0.7777777777777778, \"#fb9f3a\"], [0.8888888888888888, \"#fdca26\"], [1.0, \"#f0f921\"]], \"type\": \"contour\"}], \"contourcarpet\": [{\"colorbar\": {\"outlinewidth\": 0, \"ticks\": \"\"}, \"type\": \"contourcarpet\"}], \"heatmap\": [{\"colorbar\": {\"outlinewidth\": 0, \"ticks\": \"\"}, \"colorscale\": [[0.0, \"#0d0887\"], [0.1111111111111111, \"#46039f\"], [0.2222222222222222, \"#7201a8\"], [0.3333333333333333, \"#9c179e\"], [0.4444444444444444, \"#bd3786\"], [0.5555555555555556, \"#d8576b\"], [0.6666666666666666, \"#ed7953\"], [0.7777777777777778, \"#fb9f3a\"], [0.8888888888888888, \"#fdca26\"], [1.0, \"#f0f921\"]], \"type\": \"heatmap\"}], \"heatmapgl\": [{\"colorbar\": {\"outlinewidth\": 0, \"ticks\": \"\"}, \"colorscale\": [[0.0, \"#0d0887\"], [0.1111111111111111, \"#46039f\"], [0.2222222222222222, \"#7201a8\"], [0.3333333333333333, \"#9c179e\"], [0.4444444444444444, \"#bd3786\"], [0.5555555555555556, \"#d8576b\"], [0.6666666666666666, \"#ed7953\"], [0.7777777777777778, \"#fb9f3a\"], [0.8888888888888888, \"#fdca26\"], [1.0, \"#f0f921\"]], \"type\": \"heatmapgl\"}], \"histogram\": [{\"marker\": {\"colorbar\": {\"outlinewidth\": 0, \"ticks\": \"\"}}, \"type\": \"histogram\"}], \"histogram2d\": [{\"colorbar\": {\"outlinewidth\": 0, \"ticks\": \"\"}, \"colorscale\": [[0.0, \"#0d0887\"], [0.1111111111111111, \"#46039f\"], [0.2222222222222222, \"#7201a8\"], [0.3333333333333333, \"#9c179e\"], [0.4444444444444444, \"#bd3786\"], [0.5555555555555556, \"#d8576b\"], [0.6666666666666666, \"#ed7953\"], [0.7777777777777778, \"#fb9f3a\"], [0.8888888888888888, \"#fdca26\"], [1.0, \"#f0f921\"]], \"type\": \"histogram2d\"}], \"histogram2dcontour\": [{\"colorbar\": {\"outlinewidth\": 0, \"ticks\": \"\"}, \"colorscale\": [[0.0, \"#0d0887\"], [0.1111111111111111, \"#46039f\"], [0.2222222222222222, \"#7201a8\"], [0.3333333333333333, \"#9c179e\"], [0.4444444444444444, \"#bd3786\"], [0.5555555555555556, \"#d8576b\"], [0.6666666666666666, \"#ed7953\"], [0.7777777777777778, \"#fb9f3a\"], [0.8888888888888888, \"#fdca26\"], [1.0, \"#f0f921\"]], \"type\": \"histogram2dcontour\"}], \"mesh3d\": [{\"colorbar\": {\"outlinewidth\": 0, \"ticks\": \"\"}, \"type\": \"mesh3d\"}], \"parcoords\": [{\"line\": {\"colorbar\": {\"outlinewidth\": 0, \"ticks\": \"\"}}, \"type\": \"parcoords\"}], \"scatter\": [{\"marker\": {\"line\": {\"color\": \"#283442\"}}, \"type\": \"scatter\"}], \"scatter3d\": [{\"line\": {\"colorbar\": {\"outlinewidth\": 0, \"ticks\": \"\"}}, \"marker\": {\"colorbar\": {\"outlinewidth\": 0, \"ticks\": \"\"}}, \"type\": \"scatter3d\"}], \"scattercarpet\": [{\"marker\": {\"colorbar\": {\"outlinewidth\": 0, \"ticks\": \"\"}}, \"type\": \"scattercarpet\"}], \"scattergeo\": [{\"marker\": {\"colorbar\": {\"outlinewidth\": 0, \"ticks\": \"\"}}, \"type\": \"scattergeo\"}], \"scattergl\": [{\"marker\": {\"line\": {\"color\": \"#283442\"}}, \"type\": \"scattergl\"}], \"scattermapbox\": [{\"marker\": {\"colorbar\": {\"outlinewidth\": 0, \"ticks\": \"\"}}, \"type\": \"scattermapbox\"}], \"scatterpolar\": [{\"marker\": {\"colorbar\": {\"outlinewidth\": 0, \"ticks\": \"\"}}, \"type\": \"scatterpolar\"}], \"scatterpolargl\": [{\"marker\": {\"colorbar\": {\"outlinewidth\": 0, \"ticks\": \"\"}}, \"type\": \"scatterpolargl\"}], \"scatterternary\": [{\"marker\": {\"colorbar\": {\"outlinewidth\": 0, \"ticks\": \"\"}}, \"type\": \"scatterternary\"}], \"surface\": [{\"colorbar\": {\"outlinewidth\": 0, \"ticks\": \"\"}, \"colorscale\": [[0.0, \"#0d0887\"], [0.1111111111111111, \"#46039f\"], [0.2222222222222222, \"#7201a8\"], [0.3333333333333333, \"#9c179e\"], [0.4444444444444444, \"#bd3786\"], [0.5555555555555556, \"#d8576b\"], [0.6666666666666666, \"#ed7953\"], [0.7777777777777778, \"#fb9f3a\"], [0.8888888888888888, \"#fdca26\"], [1.0, \"#f0f921\"]], \"type\": \"surface\"}], \"table\": [{\"cells\": {\"fill\": {\"color\": \"#506784\"}, \"line\": {\"color\": \"rgb(17,17,17)\"}}, \"header\": {\"fill\": {\"color\": \"#2a3f5f\"}, \"line\": {\"color\": \"rgb(17,17,17)\"}}, \"type\": \"table\"}]}, \"layout\": {\"annotationdefaults\": {\"arrowcolor\": \"#f2f5fa\", \"arrowhead\": 0, \"arrowwidth\": 1}, \"colorscale\": {\"diverging\": [[0, \"#8e0152\"], [0.1, \"#c51b7d\"], [0.2, \"#de77ae\"], [0.3, \"#f1b6da\"], [0.4, \"#fde0ef\"], [0.5, \"#f7f7f7\"], [0.6, \"#e6f5d0\"], [0.7, \"#b8e186\"], [0.8, \"#7fbc41\"], [0.9, \"#4d9221\"], [1, \"#276419\"]], \"sequential\": [[0.0, \"#0d0887\"], [0.1111111111111111, \"#46039f\"], [0.2222222222222222, \"#7201a8\"], [0.3333333333333333, \"#9c179e\"], [0.4444444444444444, \"#bd3786\"], [0.5555555555555556, \"#d8576b\"], [0.6666666666666666, \"#ed7953\"], [0.7777777777777778, \"#fb9f3a\"], [0.8888888888888888, \"#fdca26\"], [1.0, \"#f0f921\"]], \"sequentialminus\": [[0.0, \"#0d0887\"], [0.1111111111111111, \"#46039f\"], [0.2222222222222222, \"#7201a8\"], [0.3333333333333333, \"#9c179e\"], [0.4444444444444444, \"#bd3786\"], [0.5555555555555556, \"#d8576b\"], [0.6666666666666666, \"#ed7953\"], [0.7777777777777778, \"#fb9f3a\"], [0.8888888888888888, \"#fdca26\"], [1.0, \"#f0f921\"]]}, \"colorway\": [\"#636efa\", \"#EF553B\", \"#00cc96\", \"#ab63fa\", \"#FFA15A\", \"#19d3f3\", \"#FF6692\", \"#B6E880\", \"#FF97FF\", \"#FECB52\"], \"font\": {\"color\": \"#f2f5fa\"}, \"geo\": {\"bgcolor\": \"rgb(17,17,17)\", \"lakecolor\": \"rgb(17,17,17)\", \"landcolor\": \"rgb(17,17,17)\", \"showlakes\": true, \"showland\": true, \"subunitcolor\": \"#506784\"}, \"hoverlabel\": {\"align\": \"left\"}, \"hovermode\": \"closest\", \"mapbox\": {\"style\": \"dark\"}, \"paper_bgcolor\": \"rgb(17,17,17)\", \"plot_bgcolor\": \"rgb(17,17,17)\", \"polar\": {\"angularaxis\": {\"gridcolor\": \"#506784\", \"linecolor\": \"#506784\", \"ticks\": \"\"}, \"bgcolor\": \"rgb(17,17,17)\", \"radialaxis\": {\"gridcolor\": \"#506784\", \"linecolor\": \"#506784\", \"ticks\": \"\"}}, \"scene\": {\"xaxis\": {\"backgroundcolor\": \"rgb(17,17,17)\", \"gridcolor\": \"#506784\", \"gridwidth\": 2, \"linecolor\": \"#506784\", \"showbackground\": true, \"ticks\": \"\", \"zerolinecolor\": \"#C8D4E3\"}, \"yaxis\": {\"backgroundcolor\": \"rgb(17,17,17)\", \"gridcolor\": \"#506784\", \"gridwidth\": 2, \"linecolor\": \"#506784\", \"showbackground\": true, \"ticks\": \"\", \"zerolinecolor\": \"#C8D4E3\"}, \"zaxis\": {\"backgroundcolor\": \"rgb(17,17,17)\", \"gridcolor\": \"#506784\", \"gridwidth\": 2, \"linecolor\": \"#506784\", \"showbackground\": true, \"ticks\": \"\", \"zerolinecolor\": \"#C8D4E3\"}}, \"shapedefaults\": {\"line\": {\"color\": \"#f2f5fa\"}}, \"sliderdefaults\": {\"bgcolor\": \"#C8D4E3\", \"bordercolor\": \"rgb(17,17,17)\", \"borderwidth\": 1, \"tickwidth\": 0}, \"ternary\": {\"aaxis\": {\"gridcolor\": \"#506784\", \"linecolor\": \"#506784\", \"ticks\": \"\"}, \"baxis\": {\"gridcolor\": \"#506784\", \"linecolor\": \"#506784\", \"ticks\": \"\"}, \"bgcolor\": \"rgb(17,17,17)\", \"caxis\": {\"gridcolor\": \"#506784\", \"linecolor\": \"#506784\", \"ticks\": \"\"}}, \"title\": {\"x\": 0.05}, \"updatemenudefaults\": {\"bgcolor\": \"#506784\", \"borderwidth\": 0}, \"xaxis\": {\"automargin\": true, \"gridcolor\": \"#283442\", \"linecolor\": \"#506784\", \"ticks\": \"\", \"zerolinecolor\": \"#283442\", \"zerolinewidth\": 2}, \"yaxis\": {\"automargin\": true, \"gridcolor\": \"#283442\", \"linecolor\": \"#506784\", \"ticks\": \"\", \"zerolinecolor\": \"#283442\", \"zerolinewidth\": 2}}}, \"title\": {\"font\": {\"family\": \"Merriweather\", \"size\": 24}, \"text\": \"Confusion Matrix\"}, \"xaxis\": {\"dtick\": 1, \"gridcolor\": \"rgb(0, 0, 0)\", \"side\": \"top\", \"ticks\": \"\", \"title\": {\"font\": {\"family\": \"open sans\", \"size\": 18}, \"text\": \"Predicted Value\"}}, \"yaxis\": {\"dtick\": 1, \"ticks\": \"\", \"ticksuffix\": \"  \", \"title\": {\"font\": {\"family\": \"open sans\", \"size\": 18}, \"text\": \"True Value\"}}},\n",
       "                        {\"responsive\": true}\n",
       "                    ).then(function(){\n",
       "                            \n",
       "var gd = document.getElementById('5a00bb01-1ad4-480a-a0de-2f17aa3b2906');\n",
       "var x = new MutationObserver(function (mutations, observer) {{\n",
       "        var display = window.getComputedStyle(gd).display;\n",
       "        if (!display || display === 'none') {{\n",
       "            console.log([gd, 'removed!']);\n",
       "            Plotly.purge(gd);\n",
       "            observer.disconnect();\n",
       "        }}\n",
       "}});\n",
       "\n",
       "// Listen for the removal of the full notebook cells\n",
       "var notebookContainer = gd.closest('#notebook-container');\n",
       "if (notebookContainer) {{\n",
       "    x.observe(notebookContainer, {childList: true});\n",
       "}}\n",
       "\n",
       "// Listen for the clearing of the current output cell\n",
       "var outputEl = gd.closest('.output');\n",
       "if (outputEl) {{\n",
       "    x.observe(outputEl, {childList: true});\n",
       "}}\n",
       "\n",
       "                        })\n",
       "                };\n",
       "                });\n",
       "            </script>\n",
       "        </div>"
      ]
     },
     "metadata": {},
     "output_type": "display_data"
    },
    {
     "name": "stdout",
     "output_type": "stream",
     "text": [
      "Accuracy score: 61.3%\n",
      "Precision score: 52.28%\n",
      "Recall score: 73.81%\n",
      "F1 score: 61.21%\n",
      "              precision    recall  f1-score   support\n",
      "\n",
      "           0       0.74      0.52      0.61      3166\n",
      "           1       0.52      0.74      0.61      2234\n",
      "\n",
      "    accuracy                           0.61      5400\n",
      "   macro avg       0.63      0.63      0.61      5400\n",
      "weighted avg       0.65      0.61      0.61      5400\n",
      "\n"
     ]
    }
   ],
   "source": [
    "model_evaluation(y_test,y_pred)"
   ]
  },
  {
   "cell_type": "code",
   "execution_count": 243,
   "metadata": {
    "ExecuteTime": {
     "end_time": "2019-09-23T15:12:44.048016Z",
     "start_time": "2019-09-23T15:12:43.216243Z"
    }
   },
   "outputs": [
    {
     "data": {
      "text/plain": [
       "0.6378635346756153"
      ]
     },
     "execution_count": 243,
     "metadata": {},
     "output_type": "execute_result"
    }
   ],
   "source": [
    "# Applying k-fold Cross Validation\n",
    "from sklearn.model_selection import cross_val_score\n",
    "accuracies = cross_val_score(estimator = classifier,\n",
    "                            X = X_train,\n",
    "                            y = y_train,\n",
    "                            cv =10)\n",
    "accuracies.mean()"
   ]
  },
  {
   "cell_type": "code",
   "execution_count": 244,
   "metadata": {
    "ExecuteTime": {
     "end_time": "2019-09-23T15:12:46.291017Z",
     "start_time": "2019-09-23T15:12:46.284037Z"
    }
   },
   "outputs": [],
   "source": [
    "# Analyzing coefficient of the features in the decision function\n",
    "features = pd.DataFrame(X_train.columns,columns=['features']) # build a dataframe with column name in rows\n",
    "coefficient = pd.DataFrame(classifier_full.coef_.T,columns = [\"coef\"]) #build a dataframe with coefficients\n",
    "df_coef = pd.concat([features,coefficient],axis=1)"
   ]
  },
  {
   "cell_type": "code",
   "execution_count": 223,
   "metadata": {
    "ExecuteTime": {
     "end_time": "2019-09-23T15:10:49.787038Z",
     "start_time": "2019-09-23T15:10:49.765126Z"
    }
   },
   "outputs": [
    {
     "data": {
      "text/html": [
       "<div>\n",
       "<style scoped>\n",
       "    .dataframe tbody tr th:only-of-type {\n",
       "        vertical-align: middle;\n",
       "    }\n",
       "\n",
       "    .dataframe tbody tr th {\n",
       "        vertical-align: top;\n",
       "    }\n",
       "\n",
       "    .dataframe thead th {\n",
       "        text-align: right;\n",
       "    }\n",
       "</style>\n",
       "<table border=\"1\" class=\"dataframe\">\n",
       "  <thead>\n",
       "    <tr style=\"text-align: right;\">\n",
       "      <th></th>\n",
       "      <th>features</th>\n",
       "      <th>coef</th>\n",
       "    </tr>\n",
       "  </thead>\n",
       "  <tbody>\n",
       "    <tr>\n",
       "      <td>12</td>\n",
       "      <td>ios_user</td>\n",
       "      <td>0.126610</td>\n",
       "    </tr>\n",
       "    <tr>\n",
       "      <td>11</td>\n",
       "      <td>web_user</td>\n",
       "      <td>0.114792</td>\n",
       "    </tr>\n",
       "    <tr>\n",
       "      <td>18</td>\n",
       "      <td>rejected_loan</td>\n",
       "      <td>0.114086</td>\n",
       "    </tr>\n",
       "    <tr>\n",
       "      <td>17</td>\n",
       "      <td>received_loan</td>\n",
       "      <td>0.110471</td>\n",
       "    </tr>\n",
       "    <tr>\n",
       "      <td>14</td>\n",
       "      <td>registered_phones</td>\n",
       "      <td>0.093949</td>\n",
       "    </tr>\n",
       "    <tr>\n",
       "      <td>16</td>\n",
       "      <td>cancelled_loan</td>\n",
       "      <td>0.091392</td>\n",
       "    </tr>\n",
       "    <tr>\n",
       "      <td>13</td>\n",
       "      <td>android_user</td>\n",
       "      <td>0.070288</td>\n",
       "    </tr>\n",
       "    <tr>\n",
       "      <td>6</td>\n",
       "      <td>cc_recommended</td>\n",
       "      <td>0.068813</td>\n",
       "    </tr>\n",
       "    <tr>\n",
       "      <td>19</td>\n",
       "      <td>left_for_two_month_plus</td>\n",
       "      <td>0.056513</td>\n",
       "    </tr>\n",
       "    <tr>\n",
       "      <td>5</td>\n",
       "      <td>cc_taken</td>\n",
       "      <td>0.051114</td>\n",
       "    </tr>\n",
       "    <tr>\n",
       "      <td>20</td>\n",
       "      <td>left_for_one_month</td>\n",
       "      <td>0.048649</td>\n",
       "    </tr>\n",
       "    <tr>\n",
       "      <td>1</td>\n",
       "      <td>deposits</td>\n",
       "      <td>0.042935</td>\n",
       "    </tr>\n",
       "    <tr>\n",
       "      <td>9</td>\n",
       "      <td>cc_application_begin</td>\n",
       "      <td>0.040984</td>\n",
       "    </tr>\n",
       "    <tr>\n",
       "      <td>2</td>\n",
       "      <td>withdrawal</td>\n",
       "      <td>0.039898</td>\n",
       "    </tr>\n",
       "    <tr>\n",
       "      <td>24</td>\n",
       "      <td>housing_R</td>\n",
       "      <td>0.031370</td>\n",
       "    </tr>\n",
       "    <tr>\n",
       "      <td>22</td>\n",
       "      <td>is_referred</td>\n",
       "      <td>0.026113</td>\n",
       "    </tr>\n",
       "    <tr>\n",
       "      <td>32</td>\n",
       "      <td>zodiac_sign_Capricorn</td>\n",
       "      <td>0.025658</td>\n",
       "    </tr>\n",
       "    <tr>\n",
       "      <td>28</td>\n",
       "      <td>payment_type_Weekly</td>\n",
       "      <td>0.024614</td>\n",
       "    </tr>\n",
       "    <tr>\n",
       "      <td>31</td>\n",
       "      <td>zodiac_sign_Cancer</td>\n",
       "      <td>0.019953</td>\n",
       "    </tr>\n",
       "    <tr>\n",
       "      <td>30</td>\n",
       "      <td>zodiac_sign_Aries</td>\n",
       "      <td>0.019623</td>\n",
       "    </tr>\n",
       "    <tr>\n",
       "      <td>40</td>\n",
       "      <td>zodiac_sign_Virgo</td>\n",
       "      <td>0.019102</td>\n",
       "    </tr>\n",
       "    <tr>\n",
       "      <td>36</td>\n",
       "      <td>zodiac_sign_Pisces</td>\n",
       "      <td>0.014657</td>\n",
       "    </tr>\n",
       "    <tr>\n",
       "      <td>34</td>\n",
       "      <td>zodiac_sign_Leo</td>\n",
       "      <td>0.005608</td>\n",
       "    </tr>\n",
       "    <tr>\n",
       "      <td>8</td>\n",
       "      <td>cc_liked</td>\n",
       "      <td>0.000938</td>\n",
       "    </tr>\n",
       "    <tr>\n",
       "      <td>37</td>\n",
       "      <td>zodiac_sign_Sagittarius</td>\n",
       "      <td>-0.002209</td>\n",
       "    </tr>\n",
       "    <tr>\n",
       "      <td>26</td>\n",
       "      <td>payment_type_Monthly</td>\n",
       "      <td>-0.008968</td>\n",
       "    </tr>\n",
       "    <tr>\n",
       "      <td>33</td>\n",
       "      <td>zodiac_sign_Gemini</td>\n",
       "      <td>-0.011625</td>\n",
       "    </tr>\n",
       "    <tr>\n",
       "      <td>29</td>\n",
       "      <td>zodiac_sign_Aquarius</td>\n",
       "      <td>-0.012964</td>\n",
       "    </tr>\n",
       "    <tr>\n",
       "      <td>7</td>\n",
       "      <td>cc_disliked</td>\n",
       "      <td>-0.013868</td>\n",
       "    </tr>\n",
       "    <tr>\n",
       "      <td>39</td>\n",
       "      <td>zodiac_sign_Taurus</td>\n",
       "      <td>-0.015532</td>\n",
       "    </tr>\n",
       "    <tr>\n",
       "      <td>35</td>\n",
       "      <td>zodiac_sign_Libra</td>\n",
       "      <td>-0.022227</td>\n",
       "    </tr>\n",
       "    <tr>\n",
       "      <td>38</td>\n",
       "      <td>zodiac_sign_Scorpio</td>\n",
       "      <td>-0.024639</td>\n",
       "    </tr>\n",
       "    <tr>\n",
       "      <td>23</td>\n",
       "      <td>housing_O</td>\n",
       "      <td>-0.025265</td>\n",
       "    </tr>\n",
       "    <tr>\n",
       "      <td>25</td>\n",
       "      <td>payment_type_Bi-Weekly</td>\n",
       "      <td>-0.031862</td>\n",
       "    </tr>\n",
       "    <tr>\n",
       "      <td>27</td>\n",
       "      <td>payment_type_Semi-Monthly</td>\n",
       "      <td>-0.034046</td>\n",
       "    </tr>\n",
       "    <tr>\n",
       "      <td>10</td>\n",
       "      <td>app_downloaded</td>\n",
       "      <td>-0.047144</td>\n",
       "    </tr>\n",
       "    <tr>\n",
       "      <td>15</td>\n",
       "      <td>waiting_4_loan</td>\n",
       "      <td>-0.055365</td>\n",
       "    </tr>\n",
       "    <tr>\n",
       "      <td>0</td>\n",
       "      <td>age</td>\n",
       "      <td>-0.162172</td>\n",
       "    </tr>\n",
       "    <tr>\n",
       "      <td>4</td>\n",
       "      <td>purchases</td>\n",
       "      <td>-0.195018</td>\n",
       "    </tr>\n",
       "    <tr>\n",
       "      <td>21</td>\n",
       "      <td>reward_rate</td>\n",
       "      <td>-0.217798</td>\n",
       "    </tr>\n",
       "    <tr>\n",
       "      <td>3</td>\n",
       "      <td>purchases_partners</td>\n",
       "      <td>-0.688593</td>\n",
       "    </tr>\n",
       "  </tbody>\n",
       "</table>\n",
       "</div>"
      ],
      "text/plain": [
       "                     features      coef\n",
       "12                   ios_user  0.126610\n",
       "11                   web_user  0.114792\n",
       "18              rejected_loan  0.114086\n",
       "17              received_loan  0.110471\n",
       "14          registered_phones  0.093949\n",
       "16             cancelled_loan  0.091392\n",
       "13               android_user  0.070288\n",
       "6              cc_recommended  0.068813\n",
       "19    left_for_two_month_plus  0.056513\n",
       "5                    cc_taken  0.051114\n",
       "20         left_for_one_month  0.048649\n",
       "1                    deposits  0.042935\n",
       "9        cc_application_begin  0.040984\n",
       "2                  withdrawal  0.039898\n",
       "24                  housing_R  0.031370\n",
       "22                is_referred  0.026113\n",
       "32      zodiac_sign_Capricorn  0.025658\n",
       "28        payment_type_Weekly  0.024614\n",
       "31         zodiac_sign_Cancer  0.019953\n",
       "30          zodiac_sign_Aries  0.019623\n",
       "40          zodiac_sign_Virgo  0.019102\n",
       "36         zodiac_sign_Pisces  0.014657\n",
       "34            zodiac_sign_Leo  0.005608\n",
       "8                    cc_liked  0.000938\n",
       "37    zodiac_sign_Sagittarius -0.002209\n",
       "26       payment_type_Monthly -0.008968\n",
       "33         zodiac_sign_Gemini -0.011625\n",
       "29       zodiac_sign_Aquarius -0.012964\n",
       "7                 cc_disliked -0.013868\n",
       "39         zodiac_sign_Taurus -0.015532\n",
       "35          zodiac_sign_Libra -0.022227\n",
       "38        zodiac_sign_Scorpio -0.024639\n",
       "23                  housing_O -0.025265\n",
       "25     payment_type_Bi-Weekly -0.031862\n",
       "27  payment_type_Semi-Monthly -0.034046\n",
       "10             app_downloaded -0.047144\n",
       "15             waiting_4_loan -0.055365\n",
       "0                         age -0.162172\n",
       "4                   purchases -0.195018\n",
       "21                reward_rate -0.217798\n",
       "3          purchases_partners -0.688593"
      ]
     },
     "execution_count": 223,
     "metadata": {},
     "output_type": "execute_result"
    }
   ],
   "source": [
    "df_coef.sort_values('coef',ascending=False)"
   ]
  },
  {
   "cell_type": "code",
   "execution_count": 245,
   "metadata": {
    "ExecuteTime": {
     "end_time": "2019-09-23T15:13:04.881853Z",
     "start_time": "2019-09-23T15:13:04.877866Z"
    }
   },
   "outputs": [],
   "source": [
    "#Feature selection\n",
    "from sklearn.feature_selection import RFE\n",
    "from sklearn.linear_model import LogisticRegression\n"
   ]
  },
  {
   "cell_type": "code",
   "execution_count": 246,
   "metadata": {
    "ExecuteTime": {
     "end_time": "2019-09-23T15:13:07.451030Z",
     "start_time": "2019-09-23T15:13:06.069212Z"
    }
   },
   "outputs": [
    {
     "data": {
      "text/plain": [
       "Index(['age', 'withdrawal', 'purchases_partners', 'purchases', 'cc_taken',\n",
       "       'cc_recommended', 'cc_application_begin', 'app_downloaded', 'web_user',\n",
       "       'ios_user', 'android_user', 'registered_phones', 'waiting_4_loan',\n",
       "       'cancelled_loan', 'received_loan', 'rejected_loan',\n",
       "       'left_for_two_month_plus', 'left_for_one_month', 'reward_rate',\n",
       "       'payment_type_Weekly'],\n",
       "      dtype='object')"
      ]
     },
     "execution_count": 246,
     "metadata": {},
     "output_type": "execute_result"
    }
   ],
   "source": [
    "#Model To be tested\n",
    "clf = LogisticRegression(solver='lbfgs')\n",
    "rfe = RFE(clf, 20) #using Recursive Feature elimination\n",
    "rfe = rfe.fit(X_train,y_train)\n",
    "\n",
    "X_train.columns[rfe.support_] #display important features\n"
   ]
  },
  {
   "cell_type": "markdown",
   "metadata": {
    "ExecuteTime": {
     "end_time": "2019-09-23T12:38:42.936828Z",
     "start_time": "2019-09-23T12:38:42.905586Z"
    }
   },
   "source": [
    "## Logistic Regression (selected features)"
   ]
  },
  {
   "cell_type": "code",
   "execution_count": 180,
   "metadata": {
    "ExecuteTime": {
     "end_time": "2019-09-23T14:45:16.400352Z",
     "start_time": "2019-09-23T14:45:16.335063Z"
    }
   },
   "outputs": [
    {
     "data": {
      "text/plain": [
       "LogisticRegression(C=1.0, class_weight=None, dual=False, fit_intercept=True,\n",
       "                   intercept_scaling=1, l1_ratio=None, max_iter=100,\n",
       "                   multi_class='warn', n_jobs=None, penalty='l2',\n",
       "                   random_state=0, solver='lbfgs', tol=0.0001, verbose=0,\n",
       "                   warm_start=False)"
      ]
     },
     "execution_count": 180,
     "metadata": {},
     "output_type": "execute_result"
    }
   ],
   "source": [
    "# Training the model with selected features\n",
    "from sklearn.linear_model import LogisticRegression\n",
    "classifier = LogisticRegression(random_state=0,solver='lbfgs')\n",
    "classifier.fit(X_train[X_train.columns[rfe.support_]],y_train)"
   ]
  },
  {
   "cell_type": "code",
   "execution_count": 181,
   "metadata": {
    "ExecuteTime": {
     "end_time": "2019-09-23T14:45:17.197933Z",
     "start_time": "2019-09-23T14:45:17.186963Z"
    }
   },
   "outputs": [],
   "source": [
    "y_pred = classifier.predict(X_test[X_test.columns[rfe.support_]])"
   ]
  },
  {
   "cell_type": "code",
   "execution_count": 182,
   "metadata": {
    "ExecuteTime": {
     "end_time": "2019-09-23T14:45:18.325451Z",
     "start_time": "2019-09-23T14:45:18.028713Z"
    }
   },
   "outputs": [
    {
     "data": {
      "application/vnd.plotly.v1+json": {
       "config": {
        "plotlyServerURL": "https://plot.ly"
       },
       "data": [
        {
         "colorscale": [
          [
           0,
           "rgb(158,1,66)"
          ],
          [
           0.1,
           "rgb(213,62,79)"
          ],
          [
           0.2,
           "rgb(244,109,67)"
          ],
          [
           0.3,
           "rgb(253,174,97)"
          ],
          [
           0.4,
           "rgb(254,224,139)"
          ],
          [
           0.5,
           "rgb(255,255,191)"
          ],
          [
           0.6,
           "rgb(230,245,152)"
          ],
          [
           0.7,
           "rgb(171,221,164)"
          ],
          [
           0.8,
           "rgb(102,194,165)"
          ],
          [
           0.9,
           "rgb(50,136,189)"
          ],
          [
           1,
           "rgb(94,79,162)"
          ]
         ],
         "reversescale": false,
         "showscale": true,
         "type": "heatmap",
         "x": [
          "False",
          "True"
         ],
         "y": [
          "False",
          "True"
         ],
         "z": [
          [
           1642,
           1524
          ],
          [
           583,
           1651
          ]
         ]
        }
       ],
       "layout": {
        "annotations": [
         {
          "font": {
           "color": "#FFFFFF"
          },
          "showarrow": false,
          "text": "1642",
          "x": "False",
          "xref": "x",
          "y": "False",
          "yref": "y"
         },
         {
          "font": {
           "color": "#FFFFFF"
          },
          "showarrow": false,
          "text": "1524",
          "x": "True",
          "xref": "x",
          "y": "False",
          "yref": "y"
         },
         {
          "font": {
           "color": "#FFFFFF"
          },
          "showarrow": false,
          "text": "583",
          "x": "False",
          "xref": "x",
          "y": "True",
          "yref": "y"
         },
         {
          "font": {
           "color": "#FFFFFF"
          },
          "showarrow": false,
          "text": "1651",
          "x": "True",
          "xref": "x",
          "y": "True",
          "yref": "y"
         }
        ],
        "template": {
         "data": {
          "bar": [
           {
            "error_x": {
             "color": "#f2f5fa"
            },
            "error_y": {
             "color": "#f2f5fa"
            },
            "marker": {
             "line": {
              "color": "rgb(17,17,17)",
              "width": 0.5
             }
            },
            "type": "bar"
           }
          ],
          "barpolar": [
           {
            "marker": {
             "line": {
              "color": "rgb(17,17,17)",
              "width": 0.5
             }
            },
            "type": "barpolar"
           }
          ],
          "carpet": [
           {
            "aaxis": {
             "endlinecolor": "#A2B1C6",
             "gridcolor": "#506784",
             "linecolor": "#506784",
             "minorgridcolor": "#506784",
             "startlinecolor": "#A2B1C6"
            },
            "baxis": {
             "endlinecolor": "#A2B1C6",
             "gridcolor": "#506784",
             "linecolor": "#506784",
             "minorgridcolor": "#506784",
             "startlinecolor": "#A2B1C6"
            },
            "type": "carpet"
           }
          ],
          "choropleth": [
           {
            "colorbar": {
             "outlinewidth": 0,
             "ticks": ""
            },
            "type": "choropleth"
           }
          ],
          "contour": [
           {
            "colorbar": {
             "outlinewidth": 0,
             "ticks": ""
            },
            "colorscale": [
             [
              0,
              "#0d0887"
             ],
             [
              0.1111111111111111,
              "#46039f"
             ],
             [
              0.2222222222222222,
              "#7201a8"
             ],
             [
              0.3333333333333333,
              "#9c179e"
             ],
             [
              0.4444444444444444,
              "#bd3786"
             ],
             [
              0.5555555555555556,
              "#d8576b"
             ],
             [
              0.6666666666666666,
              "#ed7953"
             ],
             [
              0.7777777777777778,
              "#fb9f3a"
             ],
             [
              0.8888888888888888,
              "#fdca26"
             ],
             [
              1,
              "#f0f921"
             ]
            ],
            "type": "contour"
           }
          ],
          "contourcarpet": [
           {
            "colorbar": {
             "outlinewidth": 0,
             "ticks": ""
            },
            "type": "contourcarpet"
           }
          ],
          "heatmap": [
           {
            "colorbar": {
             "outlinewidth": 0,
             "ticks": ""
            },
            "colorscale": [
             [
              0,
              "#0d0887"
             ],
             [
              0.1111111111111111,
              "#46039f"
             ],
             [
              0.2222222222222222,
              "#7201a8"
             ],
             [
              0.3333333333333333,
              "#9c179e"
             ],
             [
              0.4444444444444444,
              "#bd3786"
             ],
             [
              0.5555555555555556,
              "#d8576b"
             ],
             [
              0.6666666666666666,
              "#ed7953"
             ],
             [
              0.7777777777777778,
              "#fb9f3a"
             ],
             [
              0.8888888888888888,
              "#fdca26"
             ],
             [
              1,
              "#f0f921"
             ]
            ],
            "type": "heatmap"
           }
          ],
          "heatmapgl": [
           {
            "colorbar": {
             "outlinewidth": 0,
             "ticks": ""
            },
            "colorscale": [
             [
              0,
              "#0d0887"
             ],
             [
              0.1111111111111111,
              "#46039f"
             ],
             [
              0.2222222222222222,
              "#7201a8"
             ],
             [
              0.3333333333333333,
              "#9c179e"
             ],
             [
              0.4444444444444444,
              "#bd3786"
             ],
             [
              0.5555555555555556,
              "#d8576b"
             ],
             [
              0.6666666666666666,
              "#ed7953"
             ],
             [
              0.7777777777777778,
              "#fb9f3a"
             ],
             [
              0.8888888888888888,
              "#fdca26"
             ],
             [
              1,
              "#f0f921"
             ]
            ],
            "type": "heatmapgl"
           }
          ],
          "histogram": [
           {
            "marker": {
             "colorbar": {
              "outlinewidth": 0,
              "ticks": ""
             }
            },
            "type": "histogram"
           }
          ],
          "histogram2d": [
           {
            "colorbar": {
             "outlinewidth": 0,
             "ticks": ""
            },
            "colorscale": [
             [
              0,
              "#0d0887"
             ],
             [
              0.1111111111111111,
              "#46039f"
             ],
             [
              0.2222222222222222,
              "#7201a8"
             ],
             [
              0.3333333333333333,
              "#9c179e"
             ],
             [
              0.4444444444444444,
              "#bd3786"
             ],
             [
              0.5555555555555556,
              "#d8576b"
             ],
             [
              0.6666666666666666,
              "#ed7953"
             ],
             [
              0.7777777777777778,
              "#fb9f3a"
             ],
             [
              0.8888888888888888,
              "#fdca26"
             ],
             [
              1,
              "#f0f921"
             ]
            ],
            "type": "histogram2d"
           }
          ],
          "histogram2dcontour": [
           {
            "colorbar": {
             "outlinewidth": 0,
             "ticks": ""
            },
            "colorscale": [
             [
              0,
              "#0d0887"
             ],
             [
              0.1111111111111111,
              "#46039f"
             ],
             [
              0.2222222222222222,
              "#7201a8"
             ],
             [
              0.3333333333333333,
              "#9c179e"
             ],
             [
              0.4444444444444444,
              "#bd3786"
             ],
             [
              0.5555555555555556,
              "#d8576b"
             ],
             [
              0.6666666666666666,
              "#ed7953"
             ],
             [
              0.7777777777777778,
              "#fb9f3a"
             ],
             [
              0.8888888888888888,
              "#fdca26"
             ],
             [
              1,
              "#f0f921"
             ]
            ],
            "type": "histogram2dcontour"
           }
          ],
          "mesh3d": [
           {
            "colorbar": {
             "outlinewidth": 0,
             "ticks": ""
            },
            "type": "mesh3d"
           }
          ],
          "parcoords": [
           {
            "line": {
             "colorbar": {
              "outlinewidth": 0,
              "ticks": ""
             }
            },
            "type": "parcoords"
           }
          ],
          "scatter": [
           {
            "marker": {
             "line": {
              "color": "#283442"
             }
            },
            "type": "scatter"
           }
          ],
          "scatter3d": [
           {
            "line": {
             "colorbar": {
              "outlinewidth": 0,
              "ticks": ""
             }
            },
            "marker": {
             "colorbar": {
              "outlinewidth": 0,
              "ticks": ""
             }
            },
            "type": "scatter3d"
           }
          ],
          "scattercarpet": [
           {
            "marker": {
             "colorbar": {
              "outlinewidth": 0,
              "ticks": ""
             }
            },
            "type": "scattercarpet"
           }
          ],
          "scattergeo": [
           {
            "marker": {
             "colorbar": {
              "outlinewidth": 0,
              "ticks": ""
             }
            },
            "type": "scattergeo"
           }
          ],
          "scattergl": [
           {
            "marker": {
             "line": {
              "color": "#283442"
             }
            },
            "type": "scattergl"
           }
          ],
          "scattermapbox": [
           {
            "marker": {
             "colorbar": {
              "outlinewidth": 0,
              "ticks": ""
             }
            },
            "type": "scattermapbox"
           }
          ],
          "scatterpolar": [
           {
            "marker": {
             "colorbar": {
              "outlinewidth": 0,
              "ticks": ""
             }
            },
            "type": "scatterpolar"
           }
          ],
          "scatterpolargl": [
           {
            "marker": {
             "colorbar": {
              "outlinewidth": 0,
              "ticks": ""
             }
            },
            "type": "scatterpolargl"
           }
          ],
          "scatterternary": [
           {
            "marker": {
             "colorbar": {
              "outlinewidth": 0,
              "ticks": ""
             }
            },
            "type": "scatterternary"
           }
          ],
          "surface": [
           {
            "colorbar": {
             "outlinewidth": 0,
             "ticks": ""
            },
            "colorscale": [
             [
              0,
              "#0d0887"
             ],
             [
              0.1111111111111111,
              "#46039f"
             ],
             [
              0.2222222222222222,
              "#7201a8"
             ],
             [
              0.3333333333333333,
              "#9c179e"
             ],
             [
              0.4444444444444444,
              "#bd3786"
             ],
             [
              0.5555555555555556,
              "#d8576b"
             ],
             [
              0.6666666666666666,
              "#ed7953"
             ],
             [
              0.7777777777777778,
              "#fb9f3a"
             ],
             [
              0.8888888888888888,
              "#fdca26"
             ],
             [
              1,
              "#f0f921"
             ]
            ],
            "type": "surface"
           }
          ],
          "table": [
           {
            "cells": {
             "fill": {
              "color": "#506784"
             },
             "line": {
              "color": "rgb(17,17,17)"
             }
            },
            "header": {
             "fill": {
              "color": "#2a3f5f"
             },
             "line": {
              "color": "rgb(17,17,17)"
             }
            },
            "type": "table"
           }
          ]
         },
         "layout": {
          "annotationdefaults": {
           "arrowcolor": "#f2f5fa",
           "arrowhead": 0,
           "arrowwidth": 1
          },
          "colorscale": {
           "diverging": [
            [
             0,
             "#8e0152"
            ],
            [
             0.1,
             "#c51b7d"
            ],
            [
             0.2,
             "#de77ae"
            ],
            [
             0.3,
             "#f1b6da"
            ],
            [
             0.4,
             "#fde0ef"
            ],
            [
             0.5,
             "#f7f7f7"
            ],
            [
             0.6,
             "#e6f5d0"
            ],
            [
             0.7,
             "#b8e186"
            ],
            [
             0.8,
             "#7fbc41"
            ],
            [
             0.9,
             "#4d9221"
            ],
            [
             1,
             "#276419"
            ]
           ],
           "sequential": [
            [
             0,
             "#0d0887"
            ],
            [
             0.1111111111111111,
             "#46039f"
            ],
            [
             0.2222222222222222,
             "#7201a8"
            ],
            [
             0.3333333333333333,
             "#9c179e"
            ],
            [
             0.4444444444444444,
             "#bd3786"
            ],
            [
             0.5555555555555556,
             "#d8576b"
            ],
            [
             0.6666666666666666,
             "#ed7953"
            ],
            [
             0.7777777777777778,
             "#fb9f3a"
            ],
            [
             0.8888888888888888,
             "#fdca26"
            ],
            [
             1,
             "#f0f921"
            ]
           ],
           "sequentialminus": [
            [
             0,
             "#0d0887"
            ],
            [
             0.1111111111111111,
             "#46039f"
            ],
            [
             0.2222222222222222,
             "#7201a8"
            ],
            [
             0.3333333333333333,
             "#9c179e"
            ],
            [
             0.4444444444444444,
             "#bd3786"
            ],
            [
             0.5555555555555556,
             "#d8576b"
            ],
            [
             0.6666666666666666,
             "#ed7953"
            ],
            [
             0.7777777777777778,
             "#fb9f3a"
            ],
            [
             0.8888888888888888,
             "#fdca26"
            ],
            [
             1,
             "#f0f921"
            ]
           ]
          },
          "colorway": [
           "#636efa",
           "#EF553B",
           "#00cc96",
           "#ab63fa",
           "#FFA15A",
           "#19d3f3",
           "#FF6692",
           "#B6E880",
           "#FF97FF",
           "#FECB52"
          ],
          "font": {
           "color": "#f2f5fa"
          },
          "geo": {
           "bgcolor": "rgb(17,17,17)",
           "lakecolor": "rgb(17,17,17)",
           "landcolor": "rgb(17,17,17)",
           "showlakes": true,
           "showland": true,
           "subunitcolor": "#506784"
          },
          "hoverlabel": {
           "align": "left"
          },
          "hovermode": "closest",
          "mapbox": {
           "style": "dark"
          },
          "paper_bgcolor": "rgb(17,17,17)",
          "plot_bgcolor": "rgb(17,17,17)",
          "polar": {
           "angularaxis": {
            "gridcolor": "#506784",
            "linecolor": "#506784",
            "ticks": ""
           },
           "bgcolor": "rgb(17,17,17)",
           "radialaxis": {
            "gridcolor": "#506784",
            "linecolor": "#506784",
            "ticks": ""
           }
          },
          "scene": {
           "xaxis": {
            "backgroundcolor": "rgb(17,17,17)",
            "gridcolor": "#506784",
            "gridwidth": 2,
            "linecolor": "#506784",
            "showbackground": true,
            "ticks": "",
            "zerolinecolor": "#C8D4E3"
           },
           "yaxis": {
            "backgroundcolor": "rgb(17,17,17)",
            "gridcolor": "#506784",
            "gridwidth": 2,
            "linecolor": "#506784",
            "showbackground": true,
            "ticks": "",
            "zerolinecolor": "#C8D4E3"
           },
           "zaxis": {
            "backgroundcolor": "rgb(17,17,17)",
            "gridcolor": "#506784",
            "gridwidth": 2,
            "linecolor": "#506784",
            "showbackground": true,
            "ticks": "",
            "zerolinecolor": "#C8D4E3"
           }
          },
          "shapedefaults": {
           "line": {
            "color": "#f2f5fa"
           }
          },
          "sliderdefaults": {
           "bgcolor": "#C8D4E3",
           "bordercolor": "rgb(17,17,17)",
           "borderwidth": 1,
           "tickwidth": 0
          },
          "ternary": {
           "aaxis": {
            "gridcolor": "#506784",
            "linecolor": "#506784",
            "ticks": ""
           },
           "baxis": {
            "gridcolor": "#506784",
            "linecolor": "#506784",
            "ticks": ""
           },
           "bgcolor": "rgb(17,17,17)",
           "caxis": {
            "gridcolor": "#506784",
            "linecolor": "#506784",
            "ticks": ""
           }
          },
          "title": {
           "x": 0.05
          },
          "updatemenudefaults": {
           "bgcolor": "#506784",
           "borderwidth": 0
          },
          "xaxis": {
           "automargin": true,
           "gridcolor": "#283442",
           "linecolor": "#506784",
           "ticks": "",
           "zerolinecolor": "#283442",
           "zerolinewidth": 2
          },
          "yaxis": {
           "automargin": true,
           "gridcolor": "#283442",
           "linecolor": "#506784",
           "ticks": "",
           "zerolinecolor": "#283442",
           "zerolinewidth": 2
          }
         }
        },
        "title": {
         "font": {
          "family": "Merriweather",
          "size": 24
         },
         "text": "Confusion Matrix"
        },
        "xaxis": {
         "dtick": 1,
         "gridcolor": "rgb(0, 0, 0)",
         "side": "top",
         "ticks": "",
         "title": {
          "font": {
           "family": "open sans",
           "size": 18
          },
          "text": "Predicted Value"
         }
        },
        "yaxis": {
         "dtick": 1,
         "ticks": "",
         "ticksuffix": "  ",
         "title": {
          "font": {
           "family": "open sans",
           "size": 18
          },
          "text": "True Value"
         }
        }
       }
      },
      "text/html": [
       "<div>\n",
       "        \n",
       "        \n",
       "            <div id=\"68863801-cfbe-48bc-b52e-6cc5b6b05070\" class=\"plotly-graph-div\" style=\"height:525px; width:100%;\"></div>\n",
       "            <script type=\"text/javascript\">\n",
       "                require([\"plotly\"], function(Plotly) {\n",
       "                    window.PLOTLYENV=window.PLOTLYENV || {};\n",
       "                    \n",
       "                if (document.getElementById(\"68863801-cfbe-48bc-b52e-6cc5b6b05070\")) {\n",
       "                    Plotly.newPlot(\n",
       "                        '68863801-cfbe-48bc-b52e-6cc5b6b05070',\n",
       "                        [{\"colorscale\": [[0.0, \"rgb(158,1,66)\"], [0.1, \"rgb(213,62,79)\"], [0.2, \"rgb(244,109,67)\"], [0.3, \"rgb(253,174,97)\"], [0.4, \"rgb(254,224,139)\"], [0.5, \"rgb(255,255,191)\"], [0.6, \"rgb(230,245,152)\"], [0.7, \"rgb(171,221,164)\"], [0.8, \"rgb(102,194,165)\"], [0.9, \"rgb(50,136,189)\"], [1.0, \"rgb(94,79,162)\"]], \"reversescale\": false, \"showscale\": true, \"type\": \"heatmap\", \"x\": [\"False\", \"True\"], \"y\": [\"False\", \"True\"], \"z\": [[1642, 1524], [583, 1651]]}],\n",
       "                        {\"annotations\": [{\"font\": {\"color\": \"#FFFFFF\"}, \"showarrow\": false, \"text\": \"1642\", \"x\": \"False\", \"xref\": \"x\", \"y\": \"False\", \"yref\": \"y\"}, {\"font\": {\"color\": \"#FFFFFF\"}, \"showarrow\": false, \"text\": \"1524\", \"x\": \"True\", \"xref\": \"x\", \"y\": \"False\", \"yref\": \"y\"}, {\"font\": {\"color\": \"#FFFFFF\"}, \"showarrow\": false, \"text\": \"583\", \"x\": \"False\", \"xref\": \"x\", \"y\": \"True\", \"yref\": \"y\"}, {\"font\": {\"color\": \"#FFFFFF\"}, \"showarrow\": false, \"text\": \"1651\", \"x\": \"True\", \"xref\": \"x\", \"y\": \"True\", \"yref\": \"y\"}], \"template\": {\"data\": {\"bar\": [{\"error_x\": {\"color\": \"#f2f5fa\"}, \"error_y\": {\"color\": \"#f2f5fa\"}, \"marker\": {\"line\": {\"color\": \"rgb(17,17,17)\", \"width\": 0.5}}, \"type\": \"bar\"}], \"barpolar\": [{\"marker\": {\"line\": {\"color\": \"rgb(17,17,17)\", \"width\": 0.5}}, \"type\": \"barpolar\"}], \"carpet\": [{\"aaxis\": {\"endlinecolor\": \"#A2B1C6\", \"gridcolor\": \"#506784\", \"linecolor\": \"#506784\", \"minorgridcolor\": \"#506784\", \"startlinecolor\": \"#A2B1C6\"}, \"baxis\": {\"endlinecolor\": \"#A2B1C6\", \"gridcolor\": \"#506784\", \"linecolor\": \"#506784\", \"minorgridcolor\": \"#506784\", \"startlinecolor\": \"#A2B1C6\"}, \"type\": \"carpet\"}], \"choropleth\": [{\"colorbar\": {\"outlinewidth\": 0, \"ticks\": \"\"}, \"type\": \"choropleth\"}], \"contour\": [{\"colorbar\": {\"outlinewidth\": 0, \"ticks\": \"\"}, \"colorscale\": [[0.0, \"#0d0887\"], [0.1111111111111111, \"#46039f\"], [0.2222222222222222, \"#7201a8\"], [0.3333333333333333, \"#9c179e\"], [0.4444444444444444, \"#bd3786\"], [0.5555555555555556, \"#d8576b\"], [0.6666666666666666, \"#ed7953\"], [0.7777777777777778, \"#fb9f3a\"], [0.8888888888888888, \"#fdca26\"], [1.0, \"#f0f921\"]], \"type\": \"contour\"}], \"contourcarpet\": [{\"colorbar\": {\"outlinewidth\": 0, \"ticks\": \"\"}, \"type\": \"contourcarpet\"}], \"heatmap\": [{\"colorbar\": {\"outlinewidth\": 0, \"ticks\": \"\"}, \"colorscale\": [[0.0, \"#0d0887\"], [0.1111111111111111, \"#46039f\"], [0.2222222222222222, \"#7201a8\"], [0.3333333333333333, \"#9c179e\"], [0.4444444444444444, \"#bd3786\"], [0.5555555555555556, \"#d8576b\"], [0.6666666666666666, \"#ed7953\"], [0.7777777777777778, \"#fb9f3a\"], [0.8888888888888888, \"#fdca26\"], [1.0, \"#f0f921\"]], \"type\": \"heatmap\"}], \"heatmapgl\": [{\"colorbar\": {\"outlinewidth\": 0, \"ticks\": \"\"}, \"colorscale\": [[0.0, \"#0d0887\"], [0.1111111111111111, \"#46039f\"], [0.2222222222222222, \"#7201a8\"], [0.3333333333333333, \"#9c179e\"], [0.4444444444444444, \"#bd3786\"], [0.5555555555555556, \"#d8576b\"], [0.6666666666666666, \"#ed7953\"], [0.7777777777777778, \"#fb9f3a\"], [0.8888888888888888, \"#fdca26\"], [1.0, \"#f0f921\"]], \"type\": \"heatmapgl\"}], \"histogram\": [{\"marker\": {\"colorbar\": {\"outlinewidth\": 0, \"ticks\": \"\"}}, \"type\": \"histogram\"}], \"histogram2d\": [{\"colorbar\": {\"outlinewidth\": 0, \"ticks\": \"\"}, \"colorscale\": [[0.0, \"#0d0887\"], [0.1111111111111111, \"#46039f\"], [0.2222222222222222, \"#7201a8\"], [0.3333333333333333, \"#9c179e\"], [0.4444444444444444, \"#bd3786\"], [0.5555555555555556, \"#d8576b\"], [0.6666666666666666, \"#ed7953\"], [0.7777777777777778, \"#fb9f3a\"], [0.8888888888888888, \"#fdca26\"], [1.0, \"#f0f921\"]], \"type\": \"histogram2d\"}], \"histogram2dcontour\": [{\"colorbar\": {\"outlinewidth\": 0, \"ticks\": \"\"}, \"colorscale\": [[0.0, \"#0d0887\"], [0.1111111111111111, \"#46039f\"], [0.2222222222222222, \"#7201a8\"], [0.3333333333333333, \"#9c179e\"], [0.4444444444444444, \"#bd3786\"], [0.5555555555555556, \"#d8576b\"], [0.6666666666666666, \"#ed7953\"], [0.7777777777777778, \"#fb9f3a\"], [0.8888888888888888, \"#fdca26\"], [1.0, \"#f0f921\"]], \"type\": \"histogram2dcontour\"}], \"mesh3d\": [{\"colorbar\": {\"outlinewidth\": 0, \"ticks\": \"\"}, \"type\": \"mesh3d\"}], \"parcoords\": [{\"line\": {\"colorbar\": {\"outlinewidth\": 0, \"ticks\": \"\"}}, \"type\": \"parcoords\"}], \"scatter\": [{\"marker\": {\"line\": {\"color\": \"#283442\"}}, \"type\": \"scatter\"}], \"scatter3d\": [{\"line\": {\"colorbar\": {\"outlinewidth\": 0, \"ticks\": \"\"}}, \"marker\": {\"colorbar\": {\"outlinewidth\": 0, \"ticks\": \"\"}}, \"type\": \"scatter3d\"}], \"scattercarpet\": [{\"marker\": {\"colorbar\": {\"outlinewidth\": 0, \"ticks\": \"\"}}, \"type\": \"scattercarpet\"}], \"scattergeo\": [{\"marker\": {\"colorbar\": {\"outlinewidth\": 0, \"ticks\": \"\"}}, \"type\": \"scattergeo\"}], \"scattergl\": [{\"marker\": {\"line\": {\"color\": \"#283442\"}}, \"type\": \"scattergl\"}], \"scattermapbox\": [{\"marker\": {\"colorbar\": {\"outlinewidth\": 0, \"ticks\": \"\"}}, \"type\": \"scattermapbox\"}], \"scatterpolar\": [{\"marker\": {\"colorbar\": {\"outlinewidth\": 0, \"ticks\": \"\"}}, \"type\": \"scatterpolar\"}], \"scatterpolargl\": [{\"marker\": {\"colorbar\": {\"outlinewidth\": 0, \"ticks\": \"\"}}, \"type\": \"scatterpolargl\"}], \"scatterternary\": [{\"marker\": {\"colorbar\": {\"outlinewidth\": 0, \"ticks\": \"\"}}, \"type\": \"scatterternary\"}], \"surface\": [{\"colorbar\": {\"outlinewidth\": 0, \"ticks\": \"\"}, \"colorscale\": [[0.0, \"#0d0887\"], [0.1111111111111111, \"#46039f\"], [0.2222222222222222, \"#7201a8\"], [0.3333333333333333, \"#9c179e\"], [0.4444444444444444, \"#bd3786\"], [0.5555555555555556, \"#d8576b\"], [0.6666666666666666, \"#ed7953\"], [0.7777777777777778, \"#fb9f3a\"], [0.8888888888888888, \"#fdca26\"], [1.0, \"#f0f921\"]], \"type\": \"surface\"}], \"table\": [{\"cells\": {\"fill\": {\"color\": \"#506784\"}, \"line\": {\"color\": \"rgb(17,17,17)\"}}, \"header\": {\"fill\": {\"color\": \"#2a3f5f\"}, \"line\": {\"color\": \"rgb(17,17,17)\"}}, \"type\": \"table\"}]}, \"layout\": {\"annotationdefaults\": {\"arrowcolor\": \"#f2f5fa\", \"arrowhead\": 0, \"arrowwidth\": 1}, \"colorscale\": {\"diverging\": [[0, \"#8e0152\"], [0.1, \"#c51b7d\"], [0.2, \"#de77ae\"], [0.3, \"#f1b6da\"], [0.4, \"#fde0ef\"], [0.5, \"#f7f7f7\"], [0.6, \"#e6f5d0\"], [0.7, \"#b8e186\"], [0.8, \"#7fbc41\"], [0.9, \"#4d9221\"], [1, \"#276419\"]], \"sequential\": [[0.0, \"#0d0887\"], [0.1111111111111111, \"#46039f\"], [0.2222222222222222, \"#7201a8\"], [0.3333333333333333, \"#9c179e\"], [0.4444444444444444, \"#bd3786\"], [0.5555555555555556, \"#d8576b\"], [0.6666666666666666, \"#ed7953\"], [0.7777777777777778, \"#fb9f3a\"], [0.8888888888888888, \"#fdca26\"], [1.0, \"#f0f921\"]], \"sequentialminus\": [[0.0, \"#0d0887\"], [0.1111111111111111, \"#46039f\"], [0.2222222222222222, \"#7201a8\"], [0.3333333333333333, \"#9c179e\"], [0.4444444444444444, \"#bd3786\"], [0.5555555555555556, \"#d8576b\"], [0.6666666666666666, \"#ed7953\"], [0.7777777777777778, \"#fb9f3a\"], [0.8888888888888888, \"#fdca26\"], [1.0, \"#f0f921\"]]}, \"colorway\": [\"#636efa\", \"#EF553B\", \"#00cc96\", \"#ab63fa\", \"#FFA15A\", \"#19d3f3\", \"#FF6692\", \"#B6E880\", \"#FF97FF\", \"#FECB52\"], \"font\": {\"color\": \"#f2f5fa\"}, \"geo\": {\"bgcolor\": \"rgb(17,17,17)\", \"lakecolor\": \"rgb(17,17,17)\", \"landcolor\": \"rgb(17,17,17)\", \"showlakes\": true, \"showland\": true, \"subunitcolor\": \"#506784\"}, \"hoverlabel\": {\"align\": \"left\"}, \"hovermode\": \"closest\", \"mapbox\": {\"style\": \"dark\"}, \"paper_bgcolor\": \"rgb(17,17,17)\", \"plot_bgcolor\": \"rgb(17,17,17)\", \"polar\": {\"angularaxis\": {\"gridcolor\": \"#506784\", \"linecolor\": \"#506784\", \"ticks\": \"\"}, \"bgcolor\": \"rgb(17,17,17)\", \"radialaxis\": {\"gridcolor\": \"#506784\", \"linecolor\": \"#506784\", \"ticks\": \"\"}}, \"scene\": {\"xaxis\": {\"backgroundcolor\": \"rgb(17,17,17)\", \"gridcolor\": \"#506784\", \"gridwidth\": 2, \"linecolor\": \"#506784\", \"showbackground\": true, \"ticks\": \"\", \"zerolinecolor\": \"#C8D4E3\"}, \"yaxis\": {\"backgroundcolor\": \"rgb(17,17,17)\", \"gridcolor\": \"#506784\", \"gridwidth\": 2, \"linecolor\": \"#506784\", \"showbackground\": true, \"ticks\": \"\", \"zerolinecolor\": \"#C8D4E3\"}, \"zaxis\": {\"backgroundcolor\": \"rgb(17,17,17)\", \"gridcolor\": \"#506784\", \"gridwidth\": 2, \"linecolor\": \"#506784\", \"showbackground\": true, \"ticks\": \"\", \"zerolinecolor\": \"#C8D4E3\"}}, \"shapedefaults\": {\"line\": {\"color\": \"#f2f5fa\"}}, \"sliderdefaults\": {\"bgcolor\": \"#C8D4E3\", \"bordercolor\": \"rgb(17,17,17)\", \"borderwidth\": 1, \"tickwidth\": 0}, \"ternary\": {\"aaxis\": {\"gridcolor\": \"#506784\", \"linecolor\": \"#506784\", \"ticks\": \"\"}, \"baxis\": {\"gridcolor\": \"#506784\", \"linecolor\": \"#506784\", \"ticks\": \"\"}, \"bgcolor\": \"rgb(17,17,17)\", \"caxis\": {\"gridcolor\": \"#506784\", \"linecolor\": \"#506784\", \"ticks\": \"\"}}, \"title\": {\"x\": 0.05}, \"updatemenudefaults\": {\"bgcolor\": \"#506784\", \"borderwidth\": 0}, \"xaxis\": {\"automargin\": true, \"gridcolor\": \"#283442\", \"linecolor\": \"#506784\", \"ticks\": \"\", \"zerolinecolor\": \"#283442\", \"zerolinewidth\": 2}, \"yaxis\": {\"automargin\": true, \"gridcolor\": \"#283442\", \"linecolor\": \"#506784\", \"ticks\": \"\", \"zerolinecolor\": \"#283442\", \"zerolinewidth\": 2}}}, \"title\": {\"font\": {\"family\": \"Merriweather\", \"size\": 24}, \"text\": \"Confusion Matrix\"}, \"xaxis\": {\"dtick\": 1, \"gridcolor\": \"rgb(0, 0, 0)\", \"side\": \"top\", \"ticks\": \"\", \"title\": {\"font\": {\"family\": \"open sans\", \"size\": 18}, \"text\": \"Predicted Value\"}}, \"yaxis\": {\"dtick\": 1, \"ticks\": \"\", \"ticksuffix\": \"  \", \"title\": {\"font\": {\"family\": \"open sans\", \"size\": 18}, \"text\": \"True Value\"}}},\n",
       "                        {\"responsive\": true}\n",
       "                    ).then(function(){\n",
       "                            \n",
       "var gd = document.getElementById('68863801-cfbe-48bc-b52e-6cc5b6b05070');\n",
       "var x = new MutationObserver(function (mutations, observer) {{\n",
       "        var display = window.getComputedStyle(gd).display;\n",
       "        if (!display || display === 'none') {{\n",
       "            console.log([gd, 'removed!']);\n",
       "            Plotly.purge(gd);\n",
       "            observer.disconnect();\n",
       "        }}\n",
       "}});\n",
       "\n",
       "// Listen for the removal of the full notebook cells\n",
       "var notebookContainer = gd.closest('#notebook-container');\n",
       "if (notebookContainer) {{\n",
       "    x.observe(notebookContainer, {childList: true});\n",
       "}}\n",
       "\n",
       "// Listen for the clearing of the current output cell\n",
       "var outputEl = gd.closest('.output');\n",
       "if (outputEl) {{\n",
       "    x.observe(outputEl, {childList: true});\n",
       "}}\n",
       "\n",
       "                        })\n",
       "                };\n",
       "                });\n",
       "            </script>\n",
       "        </div>"
      ]
     },
     "metadata": {},
     "output_type": "display_data"
    },
    {
     "name": "stdout",
     "output_type": "stream",
     "text": [
      "Accuracy score: 60.98%\n",
      "Precision score: 52.0%\n",
      "Recall score: 73.9%\n",
      "F1 score: 61.05%\n",
      "              precision    recall  f1-score   support\n",
      "\n",
      "           0       0.74      0.52      0.61      3166\n",
      "           1       0.52      0.74      0.61      2234\n",
      "\n",
      "    accuracy                           0.61      5400\n",
      "   macro avg       0.63      0.63      0.61      5400\n",
      "weighted avg       0.65      0.61      0.61      5400\n",
      "\n"
     ]
    }
   ],
   "source": [
    "model_evaluation(y_test,y_pred)"
   ]
  },
  {
   "cell_type": "markdown",
   "metadata": {
    "ExecuteTime": {
     "end_time": "2019-09-23T12:42:48.269577Z",
     "start_time": "2019-09-23T12:42:48.253956Z"
    }
   },
   "source": [
    "Although the perofrmance of the model did not increase a lot we managed to slice by half the predictors and get almost the same results than the previous model containing all the features.\n",
    "This improve our ability to understand what are the key features leading users to churn."
   ]
  },
  {
   "cell_type": "code",
   "execution_count": 183,
   "metadata": {
    "ExecuteTime": {
     "end_time": "2019-09-23T14:45:21.795300Z",
     "start_time": "2019-09-23T14:45:21.788894Z"
    }
   },
   "outputs": [],
   "source": [
    "# Analyzing coefficients:\n",
    "features = pd.DataFrame(X_train.columns[rfe.support_],columns=['features']) # build a dataframe with column name in rows\n",
    "coefficient = pd.DataFrame(classifier.coef_.T,columns = [\"coef\"]) #build a dataframe with coefficients\n",
    "df_coef_short = pd.concat([features,coefficient],axis=1)"
   ]
  },
  {
   "cell_type": "code",
   "execution_count": 184,
   "metadata": {
    "ExecuteTime": {
     "end_time": "2019-09-23T14:45:23.449529Z",
     "start_time": "2019-09-23T14:45:23.438039Z"
    }
   },
   "outputs": [
    {
     "data": {
      "text/html": [
       "<div>\n",
       "<style scoped>\n",
       "    .dataframe tbody tr th:only-of-type {\n",
       "        vertical-align: middle;\n",
       "    }\n",
       "\n",
       "    .dataframe tbody tr th {\n",
       "        vertical-align: top;\n",
       "    }\n",
       "\n",
       "    .dataframe thead th {\n",
       "        text-align: right;\n",
       "    }\n",
       "</style>\n",
       "<table border=\"1\" class=\"dataframe\">\n",
       "  <thead>\n",
       "    <tr style=\"text-align: right;\">\n",
       "      <th></th>\n",
       "      <th>features</th>\n",
       "      <th>coef</th>\n",
       "    </tr>\n",
       "  </thead>\n",
       "  <tbody>\n",
       "    <tr>\n",
       "      <td>0</td>\n",
       "      <td>age</td>\n",
       "      <td>-0.165304</td>\n",
       "    </tr>\n",
       "    <tr>\n",
       "      <td>1</td>\n",
       "      <td>withdrawal</td>\n",
       "      <td>0.044562</td>\n",
       "    </tr>\n",
       "    <tr>\n",
       "      <td>2</td>\n",
       "      <td>purchases_partners</td>\n",
       "      <td>-0.675173</td>\n",
       "    </tr>\n",
       "    <tr>\n",
       "      <td>3</td>\n",
       "      <td>purchases</td>\n",
       "      <td>-0.150695</td>\n",
       "    </tr>\n",
       "    <tr>\n",
       "      <td>4</td>\n",
       "      <td>cc_taken</td>\n",
       "      <td>0.050427</td>\n",
       "    </tr>\n",
       "    <tr>\n",
       "      <td>5</td>\n",
       "      <td>cc_recommended</td>\n",
       "      <td>0.072417</td>\n",
       "    </tr>\n",
       "    <tr>\n",
       "      <td>6</td>\n",
       "      <td>cc_application_begin</td>\n",
       "      <td>0.046789</td>\n",
       "    </tr>\n",
       "    <tr>\n",
       "      <td>7</td>\n",
       "      <td>app_downloaded</td>\n",
       "      <td>-0.045413</td>\n",
       "    </tr>\n",
       "    <tr>\n",
       "      <td>8</td>\n",
       "      <td>web_user</td>\n",
       "      <td>0.116577</td>\n",
       "    </tr>\n",
       "    <tr>\n",
       "      <td>9</td>\n",
       "      <td>ios_user</td>\n",
       "      <td>0.133312</td>\n",
       "    </tr>\n",
       "    <tr>\n",
       "      <td>10</td>\n",
       "      <td>android_user</td>\n",
       "      <td>0.073221</td>\n",
       "    </tr>\n",
       "    <tr>\n",
       "      <td>11</td>\n",
       "      <td>registered_phones</td>\n",
       "      <td>0.095926</td>\n",
       "    </tr>\n",
       "    <tr>\n",
       "      <td>12</td>\n",
       "      <td>waiting_4_loan</td>\n",
       "      <td>-0.054032</td>\n",
       "    </tr>\n",
       "    <tr>\n",
       "      <td>13</td>\n",
       "      <td>cancelled_loan</td>\n",
       "      <td>0.090099</td>\n",
       "    </tr>\n",
       "    <tr>\n",
       "      <td>14</td>\n",
       "      <td>received_loan</td>\n",
       "      <td>0.107407</td>\n",
       "    </tr>\n",
       "    <tr>\n",
       "      <td>15</td>\n",
       "      <td>rejected_loan</td>\n",
       "      <td>0.113791</td>\n",
       "    </tr>\n",
       "    <tr>\n",
       "      <td>16</td>\n",
       "      <td>left_for_two_month_plus</td>\n",
       "      <td>0.053953</td>\n",
       "    </tr>\n",
       "    <tr>\n",
       "      <td>17</td>\n",
       "      <td>left_for_one_month</td>\n",
       "      <td>0.046856</td>\n",
       "    </tr>\n",
       "    <tr>\n",
       "      <td>18</td>\n",
       "      <td>reward_rate</td>\n",
       "      <td>-0.218932</td>\n",
       "    </tr>\n",
       "    <tr>\n",
       "      <td>19</td>\n",
       "      <td>payment_type_Weekly</td>\n",
       "      <td>0.048082</td>\n",
       "    </tr>\n",
       "  </tbody>\n",
       "</table>\n",
       "</div>"
      ],
      "text/plain": [
       "                   features      coef\n",
       "0                       age -0.165304\n",
       "1                withdrawal  0.044562\n",
       "2        purchases_partners -0.675173\n",
       "3                 purchases -0.150695\n",
       "4                  cc_taken  0.050427\n",
       "5            cc_recommended  0.072417\n",
       "6      cc_application_begin  0.046789\n",
       "7            app_downloaded -0.045413\n",
       "8                  web_user  0.116577\n",
       "9                  ios_user  0.133312\n",
       "10             android_user  0.073221\n",
       "11        registered_phones  0.095926\n",
       "12           waiting_4_loan -0.054032\n",
       "13           cancelled_loan  0.090099\n",
       "14            received_loan  0.107407\n",
       "15            rejected_loan  0.113791\n",
       "16  left_for_two_month_plus  0.053953\n",
       "17       left_for_one_month  0.046856\n",
       "18              reward_rate -0.218932\n",
       "19      payment_type_Weekly  0.048082"
      ]
     },
     "execution_count": 184,
     "metadata": {},
     "output_type": "execute_result"
    }
   ],
   "source": [
    "df_coef_short"
   ]
  },
  {
   "cell_type": "code",
   "execution_count": 52,
   "metadata": {
    "ExecuteTime": {
     "end_time": "2019-09-23T14:10:10.182498Z",
     "start_time": "2019-09-23T14:10:10.165510Z"
    }
   },
   "outputs": [],
   "source": [
    "# Formatting final_results\n",
    "final_results = pd.concat([y_test,user_id], axis=1).dropna()\n",
    "final_results['predicted_churn'] = y_pred\n",
    "final_results = final_results[['user','churn','predicted_churn']].reset_index(drop=True)"
   ]
  },
  {
   "cell_type": "code",
   "execution_count": 53,
   "metadata": {
    "ExecuteTime": {
     "end_time": "2019-09-23T14:10:10.840701Z",
     "start_time": "2019-09-23T14:10:10.820754Z"
    }
   },
   "outputs": [
    {
     "data": {
      "text/html": [
       "<div>\n",
       "<style scoped>\n",
       "    .dataframe tbody tr th:only-of-type {\n",
       "        vertical-align: middle;\n",
       "    }\n",
       "\n",
       "    .dataframe tbody tr th {\n",
       "        vertical-align: top;\n",
       "    }\n",
       "\n",
       "    .dataframe thead th {\n",
       "        text-align: right;\n",
       "    }\n",
       "</style>\n",
       "<table border=\"1\" class=\"dataframe\">\n",
       "  <thead>\n",
       "    <tr style=\"text-align: right;\">\n",
       "      <th></th>\n",
       "      <th>user</th>\n",
       "      <th>churn</th>\n",
       "      <th>predicted_churn</th>\n",
       "    </tr>\n",
       "  </thead>\n",
       "  <tbody>\n",
       "    <tr>\n",
       "      <td>0</td>\n",
       "      <td>61353</td>\n",
       "      <td>1.0</td>\n",
       "      <td>1</td>\n",
       "    </tr>\n",
       "    <tr>\n",
       "      <td>1</td>\n",
       "      <td>67679</td>\n",
       "      <td>0.0</td>\n",
       "      <td>0</td>\n",
       "    </tr>\n",
       "    <tr>\n",
       "      <td>2</td>\n",
       "      <td>21269</td>\n",
       "      <td>0.0</td>\n",
       "      <td>0</td>\n",
       "    </tr>\n",
       "    <tr>\n",
       "      <td>3</td>\n",
       "      <td>69531</td>\n",
       "      <td>0.0</td>\n",
       "      <td>1</td>\n",
       "    </tr>\n",
       "    <tr>\n",
       "      <td>4</td>\n",
       "      <td>25997</td>\n",
       "      <td>0.0</td>\n",
       "      <td>0</td>\n",
       "    </tr>\n",
       "    <tr>\n",
       "      <td>...</td>\n",
       "      <td>...</td>\n",
       "      <td>...</td>\n",
       "      <td>...</td>\n",
       "    </tr>\n",
       "    <tr>\n",
       "      <td>5395</td>\n",
       "      <td>22377</td>\n",
       "      <td>0.0</td>\n",
       "      <td>0</td>\n",
       "    </tr>\n",
       "    <tr>\n",
       "      <td>5396</td>\n",
       "      <td>24291</td>\n",
       "      <td>1.0</td>\n",
       "      <td>1</td>\n",
       "    </tr>\n",
       "    <tr>\n",
       "      <td>5397</td>\n",
       "      <td>23740</td>\n",
       "      <td>0.0</td>\n",
       "      <td>1</td>\n",
       "    </tr>\n",
       "    <tr>\n",
       "      <td>5398</td>\n",
       "      <td>47663</td>\n",
       "      <td>1.0</td>\n",
       "      <td>0</td>\n",
       "    </tr>\n",
       "    <tr>\n",
       "      <td>5399</td>\n",
       "      <td>52752</td>\n",
       "      <td>1.0</td>\n",
       "      <td>1</td>\n",
       "    </tr>\n",
       "  </tbody>\n",
       "</table>\n",
       "<p>5400 rows × 3 columns</p>\n",
       "</div>"
      ],
      "text/plain": [
       "       user  churn  predicted_churn\n",
       "0     61353    1.0                1\n",
       "1     67679    0.0                0\n",
       "2     21269    0.0                0\n",
       "3     69531    0.0                1\n",
       "4     25997    0.0                0\n",
       "...     ...    ...              ...\n",
       "5395  22377    0.0                0\n",
       "5396  24291    1.0                1\n",
       "5397  23740    0.0                1\n",
       "5398  47663    1.0                0\n",
       "5399  52752    1.0                1\n",
       "\n",
       "[5400 rows x 3 columns]"
      ]
     },
     "execution_count": 53,
     "metadata": {},
     "output_type": "execute_result"
    }
   ],
   "source": [
    "final_results"
   ]
  },
  {
   "cell_type": "markdown",
   "metadata": {},
   "source": [
    "Conclusion:\n",
    "\n",
    "Model gives us an indication of which users are more likely to churn. It is important to note that we have not contrained our model to a timeframe by setting the expected churn date as we want to have an idea of what features are the signs of a disengagement.\n",
    "Indeed, we won't necessarily built new products or features for users who are almost sure to leave but for the ones who are starting to lose interest.\n",
    "If, after the release of new products / features, we start seeing our model predicting that less of our users are going to churn, then we can assume our customers are feeling more engaged. As a follow-up, we could release a poll to get more insights on how they perceived our new features.\n",
    "\n",
    "To strengthen the accuracy of our model we can think about setting up a time dimension to churn.\n"
   ]
  },
  {
   "cell_type": "markdown",
   "metadata": {},
   "source": [
    "# Bonus\n"
   ]
  },
  {
   "cell_type": "markdown",
   "metadata": {
    "ExecuteTime": {
     "end_time": "2019-09-23T15:17:51.062837Z",
     "start_time": "2019-09-23T15:17:51.058329Z"
    }
   },
   "source": [
    "## Random Forest"
   ]
  },
  {
   "cell_type": "code",
   "execution_count": 264,
   "metadata": {
    "ExecuteTime": {
     "end_time": "2019-09-23T15:20:58.910685Z",
     "start_time": "2019-09-23T15:20:55.579123Z"
    }
   },
   "outputs": [
    {
     "data": {
      "text/plain": [
       "RandomForestClassifier(bootstrap=True, class_weight=None, criterion='gini',\n",
       "                       max_depth=6, max_features='auto', max_leaf_nodes=None,\n",
       "                       min_impurity_decrease=0.0, min_impurity_split=None,\n",
       "                       min_samples_leaf=1, min_samples_split=2,\n",
       "                       min_weight_fraction_leaf=0.0, n_estimators=500,\n",
       "                       n_jobs=None, oob_score=False, random_state=None,\n",
       "                       verbose=0, warm_start=False)"
      ]
     },
     "execution_count": 264,
     "metadata": {},
     "output_type": "execute_result"
    }
   ],
   "source": [
    "from sklearn.ensemble import RandomForestClassifier\n",
    "N_ESTIMATORS = 500\n",
    "MAX_DEPTH = 6\n",
    "RFClf=RandomForestClassifier(n_estimators=N_ESTIMATORS,max_depth=MAX_DEPTH)\n",
    "RFClf.fit(X_train,y_train)"
   ]
  },
  {
   "cell_type": "code",
   "execution_count": 265,
   "metadata": {
    "ExecuteTime": {
     "end_time": "2019-09-23T15:20:59.200405Z",
     "start_time": "2019-09-23T15:20:58.912646Z"
    }
   },
   "outputs": [],
   "source": [
    "y_pred = RFClf.predict(X_test)"
   ]
  },
  {
   "cell_type": "code",
   "execution_count": 266,
   "metadata": {
    "ExecuteTime": {
     "end_time": "2019-09-23T15:20:59.442808Z",
     "start_time": "2019-09-23T15:20:59.203395Z"
    }
   },
   "outputs": [
    {
     "data": {
      "application/vnd.plotly.v1+json": {
       "config": {
        "plotlyServerURL": "https://plot.ly"
       },
       "data": [
        {
         "colorscale": [
          [
           0,
           "rgb(158,1,66)"
          ],
          [
           0.1,
           "rgb(213,62,79)"
          ],
          [
           0.2,
           "rgb(244,109,67)"
          ],
          [
           0.3,
           "rgb(253,174,97)"
          ],
          [
           0.4,
           "rgb(254,224,139)"
          ],
          [
           0.5,
           "rgb(255,255,191)"
          ],
          [
           0.6,
           "rgb(230,245,152)"
          ],
          [
           0.7,
           "rgb(171,221,164)"
          ],
          [
           0.8,
           "rgb(102,194,165)"
          ],
          [
           0.9,
           "rgb(50,136,189)"
          ],
          [
           1,
           "rgb(94,79,162)"
          ]
         ],
         "reversescale": false,
         "showscale": true,
         "type": "heatmap",
         "x": [
          "False",
          "True"
         ],
         "y": [
          "False",
          "True"
         ],
         "z": [
          [
           1949,
           1217
          ],
          [
           714,
           1520
          ]
         ]
        }
       ],
       "layout": {
        "annotations": [
         {
          "font": {
           "color": "#FFFFFF"
          },
          "showarrow": false,
          "text": "1949",
          "x": "False",
          "xref": "x",
          "y": "False",
          "yref": "y"
         },
         {
          "font": {
           "color": "#FFFFFF"
          },
          "showarrow": false,
          "text": "1217",
          "x": "True",
          "xref": "x",
          "y": "False",
          "yref": "y"
         },
         {
          "font": {
           "color": "#FFFFFF"
          },
          "showarrow": false,
          "text": "714",
          "x": "False",
          "xref": "x",
          "y": "True",
          "yref": "y"
         },
         {
          "font": {
           "color": "#FFFFFF"
          },
          "showarrow": false,
          "text": "1520",
          "x": "True",
          "xref": "x",
          "y": "True",
          "yref": "y"
         }
        ],
        "template": {
         "data": {
          "bar": [
           {
            "error_x": {
             "color": "#f2f5fa"
            },
            "error_y": {
             "color": "#f2f5fa"
            },
            "marker": {
             "line": {
              "color": "rgb(17,17,17)",
              "width": 0.5
             }
            },
            "type": "bar"
           }
          ],
          "barpolar": [
           {
            "marker": {
             "line": {
              "color": "rgb(17,17,17)",
              "width": 0.5
             }
            },
            "type": "barpolar"
           }
          ],
          "carpet": [
           {
            "aaxis": {
             "endlinecolor": "#A2B1C6",
             "gridcolor": "#506784",
             "linecolor": "#506784",
             "minorgridcolor": "#506784",
             "startlinecolor": "#A2B1C6"
            },
            "baxis": {
             "endlinecolor": "#A2B1C6",
             "gridcolor": "#506784",
             "linecolor": "#506784",
             "minorgridcolor": "#506784",
             "startlinecolor": "#A2B1C6"
            },
            "type": "carpet"
           }
          ],
          "choropleth": [
           {
            "colorbar": {
             "outlinewidth": 0,
             "ticks": ""
            },
            "type": "choropleth"
           }
          ],
          "contour": [
           {
            "colorbar": {
             "outlinewidth": 0,
             "ticks": ""
            },
            "colorscale": [
             [
              0,
              "#0d0887"
             ],
             [
              0.1111111111111111,
              "#46039f"
             ],
             [
              0.2222222222222222,
              "#7201a8"
             ],
             [
              0.3333333333333333,
              "#9c179e"
             ],
             [
              0.4444444444444444,
              "#bd3786"
             ],
             [
              0.5555555555555556,
              "#d8576b"
             ],
             [
              0.6666666666666666,
              "#ed7953"
             ],
             [
              0.7777777777777778,
              "#fb9f3a"
             ],
             [
              0.8888888888888888,
              "#fdca26"
             ],
             [
              1,
              "#f0f921"
             ]
            ],
            "type": "contour"
           }
          ],
          "contourcarpet": [
           {
            "colorbar": {
             "outlinewidth": 0,
             "ticks": ""
            },
            "type": "contourcarpet"
           }
          ],
          "heatmap": [
           {
            "colorbar": {
             "outlinewidth": 0,
             "ticks": ""
            },
            "colorscale": [
             [
              0,
              "#0d0887"
             ],
             [
              0.1111111111111111,
              "#46039f"
             ],
             [
              0.2222222222222222,
              "#7201a8"
             ],
             [
              0.3333333333333333,
              "#9c179e"
             ],
             [
              0.4444444444444444,
              "#bd3786"
             ],
             [
              0.5555555555555556,
              "#d8576b"
             ],
             [
              0.6666666666666666,
              "#ed7953"
             ],
             [
              0.7777777777777778,
              "#fb9f3a"
             ],
             [
              0.8888888888888888,
              "#fdca26"
             ],
             [
              1,
              "#f0f921"
             ]
            ],
            "type": "heatmap"
           }
          ],
          "heatmapgl": [
           {
            "colorbar": {
             "outlinewidth": 0,
             "ticks": ""
            },
            "colorscale": [
             [
              0,
              "#0d0887"
             ],
             [
              0.1111111111111111,
              "#46039f"
             ],
             [
              0.2222222222222222,
              "#7201a8"
             ],
             [
              0.3333333333333333,
              "#9c179e"
             ],
             [
              0.4444444444444444,
              "#bd3786"
             ],
             [
              0.5555555555555556,
              "#d8576b"
             ],
             [
              0.6666666666666666,
              "#ed7953"
             ],
             [
              0.7777777777777778,
              "#fb9f3a"
             ],
             [
              0.8888888888888888,
              "#fdca26"
             ],
             [
              1,
              "#f0f921"
             ]
            ],
            "type": "heatmapgl"
           }
          ],
          "histogram": [
           {
            "marker": {
             "colorbar": {
              "outlinewidth": 0,
              "ticks": ""
             }
            },
            "type": "histogram"
           }
          ],
          "histogram2d": [
           {
            "colorbar": {
             "outlinewidth": 0,
             "ticks": ""
            },
            "colorscale": [
             [
              0,
              "#0d0887"
             ],
             [
              0.1111111111111111,
              "#46039f"
             ],
             [
              0.2222222222222222,
              "#7201a8"
             ],
             [
              0.3333333333333333,
              "#9c179e"
             ],
             [
              0.4444444444444444,
              "#bd3786"
             ],
             [
              0.5555555555555556,
              "#d8576b"
             ],
             [
              0.6666666666666666,
              "#ed7953"
             ],
             [
              0.7777777777777778,
              "#fb9f3a"
             ],
             [
              0.8888888888888888,
              "#fdca26"
             ],
             [
              1,
              "#f0f921"
             ]
            ],
            "type": "histogram2d"
           }
          ],
          "histogram2dcontour": [
           {
            "colorbar": {
             "outlinewidth": 0,
             "ticks": ""
            },
            "colorscale": [
             [
              0,
              "#0d0887"
             ],
             [
              0.1111111111111111,
              "#46039f"
             ],
             [
              0.2222222222222222,
              "#7201a8"
             ],
             [
              0.3333333333333333,
              "#9c179e"
             ],
             [
              0.4444444444444444,
              "#bd3786"
             ],
             [
              0.5555555555555556,
              "#d8576b"
             ],
             [
              0.6666666666666666,
              "#ed7953"
             ],
             [
              0.7777777777777778,
              "#fb9f3a"
             ],
             [
              0.8888888888888888,
              "#fdca26"
             ],
             [
              1,
              "#f0f921"
             ]
            ],
            "type": "histogram2dcontour"
           }
          ],
          "mesh3d": [
           {
            "colorbar": {
             "outlinewidth": 0,
             "ticks": ""
            },
            "type": "mesh3d"
           }
          ],
          "parcoords": [
           {
            "line": {
             "colorbar": {
              "outlinewidth": 0,
              "ticks": ""
             }
            },
            "type": "parcoords"
           }
          ],
          "scatter": [
           {
            "marker": {
             "line": {
              "color": "#283442"
             }
            },
            "type": "scatter"
           }
          ],
          "scatter3d": [
           {
            "line": {
             "colorbar": {
              "outlinewidth": 0,
              "ticks": ""
             }
            },
            "marker": {
             "colorbar": {
              "outlinewidth": 0,
              "ticks": ""
             }
            },
            "type": "scatter3d"
           }
          ],
          "scattercarpet": [
           {
            "marker": {
             "colorbar": {
              "outlinewidth": 0,
              "ticks": ""
             }
            },
            "type": "scattercarpet"
           }
          ],
          "scattergeo": [
           {
            "marker": {
             "colorbar": {
              "outlinewidth": 0,
              "ticks": ""
             }
            },
            "type": "scattergeo"
           }
          ],
          "scattergl": [
           {
            "marker": {
             "line": {
              "color": "#283442"
             }
            },
            "type": "scattergl"
           }
          ],
          "scattermapbox": [
           {
            "marker": {
             "colorbar": {
              "outlinewidth": 0,
              "ticks": ""
             }
            },
            "type": "scattermapbox"
           }
          ],
          "scatterpolar": [
           {
            "marker": {
             "colorbar": {
              "outlinewidth": 0,
              "ticks": ""
             }
            },
            "type": "scatterpolar"
           }
          ],
          "scatterpolargl": [
           {
            "marker": {
             "colorbar": {
              "outlinewidth": 0,
              "ticks": ""
             }
            },
            "type": "scatterpolargl"
           }
          ],
          "scatterternary": [
           {
            "marker": {
             "colorbar": {
              "outlinewidth": 0,
              "ticks": ""
             }
            },
            "type": "scatterternary"
           }
          ],
          "surface": [
           {
            "colorbar": {
             "outlinewidth": 0,
             "ticks": ""
            },
            "colorscale": [
             [
              0,
              "#0d0887"
             ],
             [
              0.1111111111111111,
              "#46039f"
             ],
             [
              0.2222222222222222,
              "#7201a8"
             ],
             [
              0.3333333333333333,
              "#9c179e"
             ],
             [
              0.4444444444444444,
              "#bd3786"
             ],
             [
              0.5555555555555556,
              "#d8576b"
             ],
             [
              0.6666666666666666,
              "#ed7953"
             ],
             [
              0.7777777777777778,
              "#fb9f3a"
             ],
             [
              0.8888888888888888,
              "#fdca26"
             ],
             [
              1,
              "#f0f921"
             ]
            ],
            "type": "surface"
           }
          ],
          "table": [
           {
            "cells": {
             "fill": {
              "color": "#506784"
             },
             "line": {
              "color": "rgb(17,17,17)"
             }
            },
            "header": {
             "fill": {
              "color": "#2a3f5f"
             },
             "line": {
              "color": "rgb(17,17,17)"
             }
            },
            "type": "table"
           }
          ]
         },
         "layout": {
          "annotationdefaults": {
           "arrowcolor": "#f2f5fa",
           "arrowhead": 0,
           "arrowwidth": 1
          },
          "colorscale": {
           "diverging": [
            [
             0,
             "#8e0152"
            ],
            [
             0.1,
             "#c51b7d"
            ],
            [
             0.2,
             "#de77ae"
            ],
            [
             0.3,
             "#f1b6da"
            ],
            [
             0.4,
             "#fde0ef"
            ],
            [
             0.5,
             "#f7f7f7"
            ],
            [
             0.6,
             "#e6f5d0"
            ],
            [
             0.7,
             "#b8e186"
            ],
            [
             0.8,
             "#7fbc41"
            ],
            [
             0.9,
             "#4d9221"
            ],
            [
             1,
             "#276419"
            ]
           ],
           "sequential": [
            [
             0,
             "#0d0887"
            ],
            [
             0.1111111111111111,
             "#46039f"
            ],
            [
             0.2222222222222222,
             "#7201a8"
            ],
            [
             0.3333333333333333,
             "#9c179e"
            ],
            [
             0.4444444444444444,
             "#bd3786"
            ],
            [
             0.5555555555555556,
             "#d8576b"
            ],
            [
             0.6666666666666666,
             "#ed7953"
            ],
            [
             0.7777777777777778,
             "#fb9f3a"
            ],
            [
             0.8888888888888888,
             "#fdca26"
            ],
            [
             1,
             "#f0f921"
            ]
           ],
           "sequentialminus": [
            [
             0,
             "#0d0887"
            ],
            [
             0.1111111111111111,
             "#46039f"
            ],
            [
             0.2222222222222222,
             "#7201a8"
            ],
            [
             0.3333333333333333,
             "#9c179e"
            ],
            [
             0.4444444444444444,
             "#bd3786"
            ],
            [
             0.5555555555555556,
             "#d8576b"
            ],
            [
             0.6666666666666666,
             "#ed7953"
            ],
            [
             0.7777777777777778,
             "#fb9f3a"
            ],
            [
             0.8888888888888888,
             "#fdca26"
            ],
            [
             1,
             "#f0f921"
            ]
           ]
          },
          "colorway": [
           "#636efa",
           "#EF553B",
           "#00cc96",
           "#ab63fa",
           "#FFA15A",
           "#19d3f3",
           "#FF6692",
           "#B6E880",
           "#FF97FF",
           "#FECB52"
          ],
          "font": {
           "color": "#f2f5fa"
          },
          "geo": {
           "bgcolor": "rgb(17,17,17)",
           "lakecolor": "rgb(17,17,17)",
           "landcolor": "rgb(17,17,17)",
           "showlakes": true,
           "showland": true,
           "subunitcolor": "#506784"
          },
          "hoverlabel": {
           "align": "left"
          },
          "hovermode": "closest",
          "mapbox": {
           "style": "dark"
          },
          "paper_bgcolor": "rgb(17,17,17)",
          "plot_bgcolor": "rgb(17,17,17)",
          "polar": {
           "angularaxis": {
            "gridcolor": "#506784",
            "linecolor": "#506784",
            "ticks": ""
           },
           "bgcolor": "rgb(17,17,17)",
           "radialaxis": {
            "gridcolor": "#506784",
            "linecolor": "#506784",
            "ticks": ""
           }
          },
          "scene": {
           "xaxis": {
            "backgroundcolor": "rgb(17,17,17)",
            "gridcolor": "#506784",
            "gridwidth": 2,
            "linecolor": "#506784",
            "showbackground": true,
            "ticks": "",
            "zerolinecolor": "#C8D4E3"
           },
           "yaxis": {
            "backgroundcolor": "rgb(17,17,17)",
            "gridcolor": "#506784",
            "gridwidth": 2,
            "linecolor": "#506784",
            "showbackground": true,
            "ticks": "",
            "zerolinecolor": "#C8D4E3"
           },
           "zaxis": {
            "backgroundcolor": "rgb(17,17,17)",
            "gridcolor": "#506784",
            "gridwidth": 2,
            "linecolor": "#506784",
            "showbackground": true,
            "ticks": "",
            "zerolinecolor": "#C8D4E3"
           }
          },
          "shapedefaults": {
           "line": {
            "color": "#f2f5fa"
           }
          },
          "sliderdefaults": {
           "bgcolor": "#C8D4E3",
           "bordercolor": "rgb(17,17,17)",
           "borderwidth": 1,
           "tickwidth": 0
          },
          "ternary": {
           "aaxis": {
            "gridcolor": "#506784",
            "linecolor": "#506784",
            "ticks": ""
           },
           "baxis": {
            "gridcolor": "#506784",
            "linecolor": "#506784",
            "ticks": ""
           },
           "bgcolor": "rgb(17,17,17)",
           "caxis": {
            "gridcolor": "#506784",
            "linecolor": "#506784",
            "ticks": ""
           }
          },
          "title": {
           "x": 0.05
          },
          "updatemenudefaults": {
           "bgcolor": "#506784",
           "borderwidth": 0
          },
          "xaxis": {
           "automargin": true,
           "gridcolor": "#283442",
           "linecolor": "#506784",
           "ticks": "",
           "zerolinecolor": "#283442",
           "zerolinewidth": 2
          },
          "yaxis": {
           "automargin": true,
           "gridcolor": "#283442",
           "linecolor": "#506784",
           "ticks": "",
           "zerolinecolor": "#283442",
           "zerolinewidth": 2
          }
         }
        },
        "title": {
         "font": {
          "family": "Merriweather",
          "size": 24
         },
         "text": "Confusion Matrix"
        },
        "xaxis": {
         "dtick": 1,
         "gridcolor": "rgb(0, 0, 0)",
         "side": "top",
         "ticks": "",
         "title": {
          "font": {
           "family": "open sans",
           "size": 18
          },
          "text": "Predicted Value"
         }
        },
        "yaxis": {
         "dtick": 1,
         "ticks": "",
         "ticksuffix": "  ",
         "title": {
          "font": {
           "family": "open sans",
           "size": 18
          },
          "text": "True Value"
         }
        }
       }
      },
      "text/html": [
       "<div>\n",
       "        \n",
       "        \n",
       "            <div id=\"eec060d0-50e1-4a28-9444-cf1c60405cb6\" class=\"plotly-graph-div\" style=\"height:525px; width:100%;\"></div>\n",
       "            <script type=\"text/javascript\">\n",
       "                require([\"plotly\"], function(Plotly) {\n",
       "                    window.PLOTLYENV=window.PLOTLYENV || {};\n",
       "                    \n",
       "                if (document.getElementById(\"eec060d0-50e1-4a28-9444-cf1c60405cb6\")) {\n",
       "                    Plotly.newPlot(\n",
       "                        'eec060d0-50e1-4a28-9444-cf1c60405cb6',\n",
       "                        [{\"colorscale\": [[0.0, \"rgb(158,1,66)\"], [0.1, \"rgb(213,62,79)\"], [0.2, \"rgb(244,109,67)\"], [0.3, \"rgb(253,174,97)\"], [0.4, \"rgb(254,224,139)\"], [0.5, \"rgb(255,255,191)\"], [0.6, \"rgb(230,245,152)\"], [0.7, \"rgb(171,221,164)\"], [0.8, \"rgb(102,194,165)\"], [0.9, \"rgb(50,136,189)\"], [1.0, \"rgb(94,79,162)\"]], \"reversescale\": false, \"showscale\": true, \"type\": \"heatmap\", \"x\": [\"False\", \"True\"], \"y\": [\"False\", \"True\"], \"z\": [[1949, 1217], [714, 1520]]}],\n",
       "                        {\"annotations\": [{\"font\": {\"color\": \"#FFFFFF\"}, \"showarrow\": false, \"text\": \"1949\", \"x\": \"False\", \"xref\": \"x\", \"y\": \"False\", \"yref\": \"y\"}, {\"font\": {\"color\": \"#FFFFFF\"}, \"showarrow\": false, \"text\": \"1217\", \"x\": \"True\", \"xref\": \"x\", \"y\": \"False\", \"yref\": \"y\"}, {\"font\": {\"color\": \"#FFFFFF\"}, \"showarrow\": false, \"text\": \"714\", \"x\": \"False\", \"xref\": \"x\", \"y\": \"True\", \"yref\": \"y\"}, {\"font\": {\"color\": \"#FFFFFF\"}, \"showarrow\": false, \"text\": \"1520\", \"x\": \"True\", \"xref\": \"x\", \"y\": \"True\", \"yref\": \"y\"}], \"template\": {\"data\": {\"bar\": [{\"error_x\": {\"color\": \"#f2f5fa\"}, \"error_y\": {\"color\": \"#f2f5fa\"}, \"marker\": {\"line\": {\"color\": \"rgb(17,17,17)\", \"width\": 0.5}}, \"type\": \"bar\"}], \"barpolar\": [{\"marker\": {\"line\": {\"color\": \"rgb(17,17,17)\", \"width\": 0.5}}, \"type\": \"barpolar\"}], \"carpet\": [{\"aaxis\": {\"endlinecolor\": \"#A2B1C6\", \"gridcolor\": \"#506784\", \"linecolor\": \"#506784\", \"minorgridcolor\": \"#506784\", \"startlinecolor\": \"#A2B1C6\"}, \"baxis\": {\"endlinecolor\": \"#A2B1C6\", \"gridcolor\": \"#506784\", \"linecolor\": \"#506784\", \"minorgridcolor\": \"#506784\", \"startlinecolor\": \"#A2B1C6\"}, \"type\": \"carpet\"}], \"choropleth\": [{\"colorbar\": {\"outlinewidth\": 0, \"ticks\": \"\"}, \"type\": \"choropleth\"}], \"contour\": [{\"colorbar\": {\"outlinewidth\": 0, \"ticks\": \"\"}, \"colorscale\": [[0.0, \"#0d0887\"], [0.1111111111111111, \"#46039f\"], [0.2222222222222222, \"#7201a8\"], [0.3333333333333333, \"#9c179e\"], [0.4444444444444444, \"#bd3786\"], [0.5555555555555556, \"#d8576b\"], [0.6666666666666666, \"#ed7953\"], [0.7777777777777778, \"#fb9f3a\"], [0.8888888888888888, \"#fdca26\"], [1.0, \"#f0f921\"]], \"type\": \"contour\"}], \"contourcarpet\": [{\"colorbar\": {\"outlinewidth\": 0, \"ticks\": \"\"}, \"type\": \"contourcarpet\"}], \"heatmap\": [{\"colorbar\": {\"outlinewidth\": 0, \"ticks\": \"\"}, \"colorscale\": [[0.0, \"#0d0887\"], [0.1111111111111111, \"#46039f\"], [0.2222222222222222, \"#7201a8\"], [0.3333333333333333, \"#9c179e\"], [0.4444444444444444, \"#bd3786\"], [0.5555555555555556, \"#d8576b\"], [0.6666666666666666, \"#ed7953\"], [0.7777777777777778, \"#fb9f3a\"], [0.8888888888888888, \"#fdca26\"], [1.0, \"#f0f921\"]], \"type\": \"heatmap\"}], \"heatmapgl\": [{\"colorbar\": {\"outlinewidth\": 0, \"ticks\": \"\"}, \"colorscale\": [[0.0, \"#0d0887\"], [0.1111111111111111, \"#46039f\"], [0.2222222222222222, \"#7201a8\"], [0.3333333333333333, \"#9c179e\"], [0.4444444444444444, \"#bd3786\"], [0.5555555555555556, \"#d8576b\"], [0.6666666666666666, \"#ed7953\"], [0.7777777777777778, \"#fb9f3a\"], [0.8888888888888888, \"#fdca26\"], [1.0, \"#f0f921\"]], \"type\": \"heatmapgl\"}], \"histogram\": [{\"marker\": {\"colorbar\": {\"outlinewidth\": 0, \"ticks\": \"\"}}, \"type\": \"histogram\"}], \"histogram2d\": [{\"colorbar\": {\"outlinewidth\": 0, \"ticks\": \"\"}, \"colorscale\": [[0.0, \"#0d0887\"], [0.1111111111111111, \"#46039f\"], [0.2222222222222222, \"#7201a8\"], [0.3333333333333333, \"#9c179e\"], [0.4444444444444444, \"#bd3786\"], [0.5555555555555556, \"#d8576b\"], [0.6666666666666666, \"#ed7953\"], [0.7777777777777778, \"#fb9f3a\"], [0.8888888888888888, \"#fdca26\"], [1.0, \"#f0f921\"]], \"type\": \"histogram2d\"}], \"histogram2dcontour\": [{\"colorbar\": {\"outlinewidth\": 0, \"ticks\": \"\"}, \"colorscale\": [[0.0, \"#0d0887\"], [0.1111111111111111, \"#46039f\"], [0.2222222222222222, \"#7201a8\"], [0.3333333333333333, \"#9c179e\"], [0.4444444444444444, \"#bd3786\"], [0.5555555555555556, \"#d8576b\"], [0.6666666666666666, \"#ed7953\"], [0.7777777777777778, \"#fb9f3a\"], [0.8888888888888888, \"#fdca26\"], [1.0, \"#f0f921\"]], \"type\": \"histogram2dcontour\"}], \"mesh3d\": [{\"colorbar\": {\"outlinewidth\": 0, \"ticks\": \"\"}, \"type\": \"mesh3d\"}], \"parcoords\": [{\"line\": {\"colorbar\": {\"outlinewidth\": 0, \"ticks\": \"\"}}, \"type\": \"parcoords\"}], \"scatter\": [{\"marker\": {\"line\": {\"color\": \"#283442\"}}, \"type\": \"scatter\"}], \"scatter3d\": [{\"line\": {\"colorbar\": {\"outlinewidth\": 0, \"ticks\": \"\"}}, \"marker\": {\"colorbar\": {\"outlinewidth\": 0, \"ticks\": \"\"}}, \"type\": \"scatter3d\"}], \"scattercarpet\": [{\"marker\": {\"colorbar\": {\"outlinewidth\": 0, \"ticks\": \"\"}}, \"type\": \"scattercarpet\"}], \"scattergeo\": [{\"marker\": {\"colorbar\": {\"outlinewidth\": 0, \"ticks\": \"\"}}, \"type\": \"scattergeo\"}], \"scattergl\": [{\"marker\": {\"line\": {\"color\": \"#283442\"}}, \"type\": \"scattergl\"}], \"scattermapbox\": [{\"marker\": {\"colorbar\": {\"outlinewidth\": 0, \"ticks\": \"\"}}, \"type\": \"scattermapbox\"}], \"scatterpolar\": [{\"marker\": {\"colorbar\": {\"outlinewidth\": 0, \"ticks\": \"\"}}, \"type\": \"scatterpolar\"}], \"scatterpolargl\": [{\"marker\": {\"colorbar\": {\"outlinewidth\": 0, \"ticks\": \"\"}}, \"type\": \"scatterpolargl\"}], \"scatterternary\": [{\"marker\": {\"colorbar\": {\"outlinewidth\": 0, \"ticks\": \"\"}}, \"type\": \"scatterternary\"}], \"surface\": [{\"colorbar\": {\"outlinewidth\": 0, \"ticks\": \"\"}, \"colorscale\": [[0.0, \"#0d0887\"], [0.1111111111111111, \"#46039f\"], [0.2222222222222222, \"#7201a8\"], [0.3333333333333333, \"#9c179e\"], [0.4444444444444444, \"#bd3786\"], [0.5555555555555556, \"#d8576b\"], [0.6666666666666666, \"#ed7953\"], [0.7777777777777778, \"#fb9f3a\"], [0.8888888888888888, \"#fdca26\"], [1.0, \"#f0f921\"]], \"type\": \"surface\"}], \"table\": [{\"cells\": {\"fill\": {\"color\": \"#506784\"}, \"line\": {\"color\": \"rgb(17,17,17)\"}}, \"header\": {\"fill\": {\"color\": \"#2a3f5f\"}, \"line\": {\"color\": \"rgb(17,17,17)\"}}, \"type\": \"table\"}]}, \"layout\": {\"annotationdefaults\": {\"arrowcolor\": \"#f2f5fa\", \"arrowhead\": 0, \"arrowwidth\": 1}, \"colorscale\": {\"diverging\": [[0, \"#8e0152\"], [0.1, \"#c51b7d\"], [0.2, \"#de77ae\"], [0.3, \"#f1b6da\"], [0.4, \"#fde0ef\"], [0.5, \"#f7f7f7\"], [0.6, \"#e6f5d0\"], [0.7, \"#b8e186\"], [0.8, \"#7fbc41\"], [0.9, \"#4d9221\"], [1, \"#276419\"]], \"sequential\": [[0.0, \"#0d0887\"], [0.1111111111111111, \"#46039f\"], [0.2222222222222222, \"#7201a8\"], [0.3333333333333333, \"#9c179e\"], [0.4444444444444444, \"#bd3786\"], [0.5555555555555556, \"#d8576b\"], [0.6666666666666666, \"#ed7953\"], [0.7777777777777778, \"#fb9f3a\"], [0.8888888888888888, \"#fdca26\"], [1.0, \"#f0f921\"]], \"sequentialminus\": [[0.0, \"#0d0887\"], [0.1111111111111111, \"#46039f\"], [0.2222222222222222, \"#7201a8\"], [0.3333333333333333, \"#9c179e\"], [0.4444444444444444, \"#bd3786\"], [0.5555555555555556, \"#d8576b\"], [0.6666666666666666, \"#ed7953\"], [0.7777777777777778, \"#fb9f3a\"], [0.8888888888888888, \"#fdca26\"], [1.0, \"#f0f921\"]]}, \"colorway\": [\"#636efa\", \"#EF553B\", \"#00cc96\", \"#ab63fa\", \"#FFA15A\", \"#19d3f3\", \"#FF6692\", \"#B6E880\", \"#FF97FF\", \"#FECB52\"], \"font\": {\"color\": \"#f2f5fa\"}, \"geo\": {\"bgcolor\": \"rgb(17,17,17)\", \"lakecolor\": \"rgb(17,17,17)\", \"landcolor\": \"rgb(17,17,17)\", \"showlakes\": true, \"showland\": true, \"subunitcolor\": \"#506784\"}, \"hoverlabel\": {\"align\": \"left\"}, \"hovermode\": \"closest\", \"mapbox\": {\"style\": \"dark\"}, \"paper_bgcolor\": \"rgb(17,17,17)\", \"plot_bgcolor\": \"rgb(17,17,17)\", \"polar\": {\"angularaxis\": {\"gridcolor\": \"#506784\", \"linecolor\": \"#506784\", \"ticks\": \"\"}, \"bgcolor\": \"rgb(17,17,17)\", \"radialaxis\": {\"gridcolor\": \"#506784\", \"linecolor\": \"#506784\", \"ticks\": \"\"}}, \"scene\": {\"xaxis\": {\"backgroundcolor\": \"rgb(17,17,17)\", \"gridcolor\": \"#506784\", \"gridwidth\": 2, \"linecolor\": \"#506784\", \"showbackground\": true, \"ticks\": \"\", \"zerolinecolor\": \"#C8D4E3\"}, \"yaxis\": {\"backgroundcolor\": \"rgb(17,17,17)\", \"gridcolor\": \"#506784\", \"gridwidth\": 2, \"linecolor\": \"#506784\", \"showbackground\": true, \"ticks\": \"\", \"zerolinecolor\": \"#C8D4E3\"}, \"zaxis\": {\"backgroundcolor\": \"rgb(17,17,17)\", \"gridcolor\": \"#506784\", \"gridwidth\": 2, \"linecolor\": \"#506784\", \"showbackground\": true, \"ticks\": \"\", \"zerolinecolor\": \"#C8D4E3\"}}, \"shapedefaults\": {\"line\": {\"color\": \"#f2f5fa\"}}, \"sliderdefaults\": {\"bgcolor\": \"#C8D4E3\", \"bordercolor\": \"rgb(17,17,17)\", \"borderwidth\": 1, \"tickwidth\": 0}, \"ternary\": {\"aaxis\": {\"gridcolor\": \"#506784\", \"linecolor\": \"#506784\", \"ticks\": \"\"}, \"baxis\": {\"gridcolor\": \"#506784\", \"linecolor\": \"#506784\", \"ticks\": \"\"}, \"bgcolor\": \"rgb(17,17,17)\", \"caxis\": {\"gridcolor\": \"#506784\", \"linecolor\": \"#506784\", \"ticks\": \"\"}}, \"title\": {\"x\": 0.05}, \"updatemenudefaults\": {\"bgcolor\": \"#506784\", \"borderwidth\": 0}, \"xaxis\": {\"automargin\": true, \"gridcolor\": \"#283442\", \"linecolor\": \"#506784\", \"ticks\": \"\", \"zerolinecolor\": \"#283442\", \"zerolinewidth\": 2}, \"yaxis\": {\"automargin\": true, \"gridcolor\": \"#283442\", \"linecolor\": \"#506784\", \"ticks\": \"\", \"zerolinecolor\": \"#283442\", \"zerolinewidth\": 2}}}, \"title\": {\"font\": {\"family\": \"Merriweather\", \"size\": 24}, \"text\": \"Confusion Matrix\"}, \"xaxis\": {\"dtick\": 1, \"gridcolor\": \"rgb(0, 0, 0)\", \"side\": \"top\", \"ticks\": \"\", \"title\": {\"font\": {\"family\": \"open sans\", \"size\": 18}, \"text\": \"Predicted Value\"}}, \"yaxis\": {\"dtick\": 1, \"ticks\": \"\", \"ticksuffix\": \"  \", \"title\": {\"font\": {\"family\": \"open sans\", \"size\": 18}, \"text\": \"True Value\"}}},\n",
       "                        {\"responsive\": true}\n",
       "                    ).then(function(){\n",
       "                            \n",
       "var gd = document.getElementById('eec060d0-50e1-4a28-9444-cf1c60405cb6');\n",
       "var x = new MutationObserver(function (mutations, observer) {{\n",
       "        var display = window.getComputedStyle(gd).display;\n",
       "        if (!display || display === 'none') {{\n",
       "            console.log([gd, 'removed!']);\n",
       "            Plotly.purge(gd);\n",
       "            observer.disconnect();\n",
       "        }}\n",
       "}});\n",
       "\n",
       "// Listen for the removal of the full notebook cells\n",
       "var notebookContainer = gd.closest('#notebook-container');\n",
       "if (notebookContainer) {{\n",
       "    x.observe(notebookContainer, {childList: true});\n",
       "}}\n",
       "\n",
       "// Listen for the clearing of the current output cell\n",
       "var outputEl = gd.closest('.output');\n",
       "if (outputEl) {{\n",
       "    x.observe(outputEl, {childList: true});\n",
       "}}\n",
       "\n",
       "                        })\n",
       "                };\n",
       "                });\n",
       "            </script>\n",
       "        </div>"
      ]
     },
     "metadata": {},
     "output_type": "display_data"
    },
    {
     "name": "stdout",
     "output_type": "stream",
     "text": [
      "Accuracy score: 64.24%\n",
      "Precision score: 55.54%\n",
      "Recall score: 68.04%\n",
      "F1 score: 61.15%\n",
      "              precision    recall  f1-score   support\n",
      "\n",
      "           0       0.73      0.62      0.67      3166\n",
      "           1       0.56      0.68      0.61      2234\n",
      "\n",
      "    accuracy                           0.64      5400\n",
      "   macro avg       0.64      0.65      0.64      5400\n",
      "weighted avg       0.66      0.64      0.65      5400\n",
      "\n"
     ]
    }
   ],
   "source": [
    "model_evaluation(y_test,y_pred)"
   ]
  },
  {
   "cell_type": "markdown",
   "metadata": {
    "ExecuteTime": {
     "end_time": "2019-09-23T15:18:20.990488Z",
     "start_time": "2019-09-23T15:18:20.985919Z"
    }
   },
   "source": [
    "## Additionnal Metrics: ROC Curve"
   ]
  },
  {
   "cell_type": "code",
   "execution_count": 267,
   "metadata": {
    "ExecuteTime": {
     "end_time": "2019-09-23T15:20:59.710061Z",
     "start_time": "2019-09-23T15:20:59.444770Z"
    }
   },
   "outputs": [],
   "source": [
    "from sklearn.metrics import roc_curve\n",
    "from sklearn.metrics import roc_auc_score\n",
    "#Prediction probabilities for the test data\n",
    "probs = RFClf.predict_proba(X_test)\n",
    "probs = probs[:,1] #keep only the prediction for the positive class\n",
    "# Compute AUC Score\n",
    "auc = roc_auc_score(y_test,probs)\n",
    "# ROC curve data\n",
    "fpr, tpr, thresholds = roc_curve(y_test, probs)"
   ]
  },
  {
   "cell_type": "code",
   "execution_count": 268,
   "metadata": {
    "ExecuteTime": {
     "end_time": "2019-09-23T15:21:00.181339Z",
     "start_time": "2019-09-23T15:20:59.711057Z"
    }
   },
   "outputs": [
    {
     "data": {
      "application/vnd.plotly.v1+json": {
       "config": {
        "plotlyServerURL": "https://plot.ly"
       },
       "data": [
        {
         "mode": "lines",
         "name": "ROC Curve (Area=0.717)",
         "type": "scatter",
         "x": [
          0,
          0,
          0.0006317119393556538,
          0.0006317119393556538,
          0.0009475679090334807,
          0.0009475679090334807,
          0.0012634238787113076,
          0.0012634238787113076,
          0.0015792798483891346,
          0.0015792798483891346,
          0.0018951358180669614,
          0.0018951358180669614,
          0.0022109917877447885,
          0.0022109917877447885,
          0.002842703727100442,
          0.002842703727100442,
          0.003158559696778269,
          0.003158559696778269,
          0.003474415666456096,
          0.003474415666456096,
          0.003790271636133923,
          0.003790271636133923,
          0.00410612760581175,
          0.00410612760581175,
          0.004421983575489577,
          0.004421983575489577,
          0.00505369551484523,
          0.00505369551484523,
          0.005685407454200884,
          0.005685407454200884,
          0.006001263423878711,
          0.006001263423878711,
          0.006317119393556538,
          0.006317119393556538,
          0.0066329753632343655,
          0.0066329753632343655,
          0.006948831332912192,
          0.006948831332912192,
          0.007264687302590019,
          0.007264687302590019,
          0.007580543272267846,
          0.007580543272267846,
          0.0082122552116235,
          0.0082122552116235,
          0.008843967150979154,
          0.008843967150979154,
          0.00915982312065698,
          0.00915982312065698,
          0.009475679090334808,
          0.009475679090334808,
          0.01010739102969046,
          0.01010739102969046,
          0.010423246999368288,
          0.010423246999368288,
          0.011054958938723942,
          0.011054958938723942,
          0.011370814908401769,
          0.011370814908401769,
          0.011686670878079595,
          0.011686670878079595,
          0.012002526847757423,
          0.012002526847757423,
          0.012318382817435249,
          0.012318382817435249,
          0.012634238787113077,
          0.012634238787113077,
          0.012950094756790903,
          0.012950094756790903,
          0.013265950726468731,
          0.013265950726468731,
          0.013581806696146557,
          0.013581806696146557,
          0.013897662665824383,
          0.013897662665824383,
          0.014213518635502211,
          0.014213518635502211,
          0.014529374605180037,
          0.014529374605180037,
          0.014845230574857865,
          0.014845230574857865,
          0.01547694251421352,
          0.01547694251421352,
          0.015792798483891344,
          0.015792798483891344,
          0.016424510423247,
          0.016424510423247,
          0.016740366392924828,
          0.016740366392924828,
          0.017056222362602652,
          0.017056222362602652,
          0.01737207833228048,
          0.01737207833228048,
          0.017687934301958308,
          0.017687934301958308,
          0.018003790271636132,
          0.018003790271636132,
          0.01831964624131396,
          0.01831964624131396,
          0.018951358180669616,
          0.018951358180669616,
          0.01926721415034744,
          0.01926721415034744,
          0.01958307012002527,
          0.01958307012002527,
          0.019898926089703096,
          0.019898926089703096,
          0.02021478205938092,
          0.02021478205938092,
          0.02053063802905875,
          0.02053063802905875,
          0.020846493998736577,
          0.020846493998736577,
          0.021162349968414405,
          0.021162349968414405,
          0.02147820593809223,
          0.02147820593809223,
          0.021794061907770057,
          0.021794061907770057,
          0.022109917877447885,
          0.022109917877447885,
          0.02242577384712571,
          0.02242577384712571,
          0.022741629816803537,
          0.022741629816803537,
          0.023057485786481365,
          0.023057485786481365,
          0.023689197725837018,
          0.023689197725837018,
          0.024005053695514846,
          0.024005053695514846,
          0.024636765634870498,
          0.024636765634870498,
          0.024952621604548326,
          0.024952621604548326,
          0.025268477574226154,
          0.025268477574226154,
          0.025584333543903978,
          0.025584333543903978,
          0.025900189513581806,
          0.025900189513581806,
          0.026216045483259634,
          0.026216045483259634,
          0.026531901452937462,
          0.026531901452937462,
          0.027163613392293114,
          0.027163613392293114,
          0.027479469361970942,
          0.027479469361970942,
          0.027795325331648767,
          0.027795325331648767,
          0.028111181301326595,
          0.028111181301326595,
          0.02874289324068225,
          0.02874289324068225,
          0.029058749210360075,
          0.029058749210360075,
          0.029374605180037903,
          0.029374605180037903,
          0.02969046114971573,
          0.02969046114971573,
          0.030322173089071383,
          0.030322173089071383,
          0.03063802905874921,
          0.03063802905874921,
          0.03095388502842704,
          0.03095388502842704,
          0.03126974099810487,
          0.03126974099810487,
          0.032217308907138344,
          0.032217308907138344,
          0.03253316487681617,
          0.03253316487681617,
          0.03316487681617183,
          0.03316487681617183,
          0.033480732785849655,
          0.033480732785849655,
          0.03442830069488313,
          0.03442830069488313,
          0.03474415666456096,
          0.03474415666456096,
          0.03506001263423879,
          0.03506001263423879,
          0.035375868603916616,
          0.035375868603916616,
          0.035691724573594444,
          0.035691724573594444,
          0.036007580543272265,
          0.036007580543272265,
          0.03632343651295009,
          0.03632343651295009,
          0.03695514845230575,
          0.03695514845230575,
          0.037271004421983576,
          0.037271004421983576,
          0.037586860391661404,
          0.037586860391661404,
          0.03790271636133923,
          0.03790271636133923,
          0.03885028427037271,
          0.03885028427037271,
          0.03916614024005054,
          0.03916614024005054,
          0.039481996209728365,
          0.039481996209728365,
          0.03979785217940619,
          0.03979785217940619,
          0.04011370814908402,
          0.04011370814908402,
          0.04042956411876184,
          0.04042956411876184,
          0.04074542008843967,
          0.04074542008843967,
          0.0410612760581175,
          0.0410612760581175,
          0.041692987997473153,
          0.041692987997473153,
          0.04200884396715098,
          0.04200884396715098,
          0.04232469993682881,
          0.04232469993682881,
          0.04264055590650663,
          0.04264055590650663,
          0.04295641187618446,
          0.04295641187618446,
          0.043272267845862286,
          0.043272267845862286,
          0.043588123815540114,
          0.043588123815540114,
          0.04390397978521794,
          0.04390397978521794,
          0.0445356917245736,
          0.0445356917245736,
          0.04485154769425142,
          0.04485154769425142,
          0.04516740366392925,
          0.04516740366392925,
          0.045483259633607075,
          0.045483259633607075,
          0.0457991156032849,
          0.0457991156032849,
          0.04611497157296273,
          0.04611497157296273,
          0.04643082754264056,
          0.04643082754264056,
          0.04706253948199621,
          0.04706253948199621,
          0.047378395451674035,
          0.047378395451674035,
          0.04864181933038535,
          0.04864181933038535,
          0.049273531269740996,
          0.049589387239418824,
          0.049589387239418824,
          0.04990524320909665,
          0.04990524320909665,
          0.050852811118130135,
          0.050852811118130135,
          0.051168667087807956,
          0.051168667087807956,
          0.05180037902716361,
          0.05180037902716361,
          0.05211623499684144,
          0.05211623499684144,
          0.05243209096651927,
          0.05243209096651927,
          0.052747946936197096,
          0.052747946936197096,
          0.053379658875552745,
          0.053379658875552745,
          0.05369551484523057,
          0.05369551484523057,
          0.0540113708149084,
          0.0540113708149084,
          0.05432722678458623,
          0.05432722678458623,
          0.05464308275426406,
          0.05464308275426406,
          0.054958938723941884,
          0.054958938723941884,
          0.05527479469361971,
          0.05527479469361971,
          0.05559065066329753,
          0.05559065066329753,
          0.05590650663297536,
          0.05590650663297536,
          0.05622236260265319,
          0.05622236260265319,
          0.05716993051168667,
          0.05716993051168667,
          0.0574857864813645,
          0.0574857864813645,
          0.05780164245104232,
          0.05780164245104232,
          0.05843335439039798,
          0.05843335439039798,
          0.059065066329753634,
          0.059065066329753634,
          0.05938092229943146,
          0.05938092229943146,
          0.060644346178142766,
          0.060644346178142766,
          0.060960202147820594,
          0.060960202147820594,
          0.06190777005685408,
          0.06190777005685408,
          0.06317119393556538,
          0.06317119393556538,
          0.0634870499052432,
          0.0634870499052432,
          0.06380290587492103,
          0.06380290587492103,
          0.06411876184459886,
          0.06411876184459886,
          0.06443461781427669,
          0.06443461781427669,
          0.06506632975363234,
          0.06506632975363234,
          0.06538218572331017,
          0.06538218572331017,
          0.065698041692988,
          0.06632975363234365,
          0.06664560960202148,
          0.06664560960202148,
          0.06696146557169931,
          0.06696146557169931,
          0.06759317751105495,
          0.06759317751105495,
          0.06854074542008844,
          0.06854074542008844,
          0.06948831332912192,
          0.06948831332912192,
          0.06980416929879975,
          0.06980416929879975,
          0.07075173720783323,
          0.07075173720783323,
          0.07106759317751106,
          0.07106759317751106,
          0.07138344914718889,
          0.07138344914718889,
          0.07169930511686672,
          0.07169930511686672,
          0.07201516108654453,
          0.07201516108654453,
          0.07233101705622236,
          0.07233101705622236,
          0.07264687302590019,
          0.07264687302590019,
          0.07359444093493367,
          0.07359444093493367,
          0.0739102969046115,
          0.0739102969046115,
          0.07485786481364498,
          0.07485786481364498,
          0.07517372078332281,
          0.07517372078332281,
          0.07580543272267846,
          0.07580543272267846,
          0.07612128869235628,
          0.07612128869235628,
          0.07675300063171193,
          0.07675300063171193,
          0.07706885660138976,
          0.07706885660138976,
          0.07801642451042325,
          0.07801642451042325,
          0.07833228048010107,
          0.07833228048010107,
          0.07896399241945673,
          0.07991156032849021,
          0.07991156032849021,
          0.08117498420720151,
          0.08117498420720151,
          0.08180669614655717,
          0.08180669614655717,
          0.082122552116235,
          0.082122552116235,
          0.08275426405559065,
          0.08275426405559065,
          0.08401768793430196,
          0.08401768793430196,
          0.08496525584333543,
          0.08496525584333543,
          0.08528111181301326,
          0.08528111181301326,
          0.08559696778269109,
          0.08559696778269109,
          0.08622867972204674,
          0.08622867972204674,
          0.08654453569172457,
          0.08654453569172457,
          0.0868603916614024,
          0.0868603916614024,
          0.08717624763108023,
          0.08717624763108023,
          0.08749210360075806,
          0.08749210360075806,
          0.08780795957043588,
          0.08780795957043588,
          0.08843967150979154,
          0.08843967150979154,
          0.08875552747946937,
          0.08875552747946937,
          0.08938723941882501,
          0.08938723941882501,
          0.09096651926721415,
          0.09096651926721415,
          0.0915982312065698,
          0.0915982312065698,
          0.09191408717624763,
          0.09191408717624763,
          0.09222994314592546,
          0.09222994314592546,
          0.09254579911560329,
          0.09254579911560329,
          0.09317751105495894,
          0.09317751105495894,
          0.09380922299431459,
          0.09380922299431459,
          0.09475679090334807,
          0.09475679090334807,
          0.0950726468730259,
          0.09570435881238155,
          0.09570435881238155,
          0.09602021478205938,
          0.09602021478205938,
          0.09633607075173721,
          0.09633607075173721,
          0.09665192672141504,
          0.09665192672141504,
          0.09696778269109287,
          0.09759949463044852,
          0.09759949463044852,
          0.09823120656980416,
          0.09823120656980416,
          0.09854706253948199,
          0.09854706253948199,
          0.09886291850915982,
          0.09886291850915982,
          0.09949463044851548,
          0.09949463044851548,
          0.10044219835754896,
          0.10044219835754896,
          0.10233733417561591,
          0.10233733417561591,
          0.1032849020846494,
          0.1032849020846494,
          0.10391661402400505,
          0.10391661402400505,
          0.10454832596336071,
          0.10454832596336071,
          0.10518003790271636,
          0.10549589387239419,
          0.10549589387239419,
          0.10581174984207202,
          0.10581174984207202,
          0.10644346178142768,
          0.10644346178142768,
          0.10707517372078332,
          0.10707517372078332,
          0.10739102969046115,
          0.10739102969046115,
          0.10770688566013897,
          0.10770688566013897,
          0.10833859759949463,
          0.10833859759949463,
          0.10865445356917246,
          0.10865445356917246,
          0.10928616550852811,
          0.10928616550852811,
          0.10960202147820594,
          0.1102337334175616,
          0.1102337334175616,
          0.11054958938723942,
          0.11054958938723942,
          0.11086544535691725,
          0.11086544535691725,
          0.1114971572962729,
          0.1114971572962729,
          0.11181301326595072,
          0.11181301326595072,
          0.11244472520530638,
          0.11244472520530638,
          0.1127605811749842,
          0.1127605811749842,
          0.11339229311433986,
          0.11339229311433986,
          0.11433986102337335,
          0.11433986102337335,
          0.11465571699305117,
          0.11465571699305117,
          0.114971572962729,
          0.114971572962729,
          0.114971572962729,
          0.114971572962729,
          0.11560328490208464,
          0.11560328490208464,
          0.1162349968414403,
          0.1162349968414403,
          0.11686670878079596,
          0.11686670878079596,
          0.11749842072015161,
          0.11749842072015161,
          0.11813013265950727,
          0.11813013265950727,
          0.11876184459886292,
          0.11876184459886292,
          0.12002526847757422,
          0.12002526847757422,
          0.12034112444725205,
          0.1209728363866077,
          0.1209728363866077,
          0.12128869235628553,
          0.12128869235628553,
          0.12160454832596336,
          0.12160454832596336,
          0.12192040429564119,
          0.12223626026531902,
          0.12223626026531902,
          0.12286797220467467,
          0.12286797220467467,
          0.1231838281743525,
          0.1231838281743525,
          0.12381554011370816,
          0.12381554011370816,
          0.12476310802274163,
          0.12476310802274163,
          0.12507896399241947,
          0.12507896399241947,
          0.12571067593177512,
          0.12571067593177512,
          0.12634238787113075,
          0.12634238787113075,
          0.1266582438408086,
          0.1266582438408086,
          0.12760581174984206,
          0.12760581174984206,
          0.12823752368919772,
          0.12823752368919772,
          0.12886923562855337,
          0.12886923562855337,
          0.12950094756790903,
          0.12950094756790903,
          0.1301326595072647,
          0.1301326595072647,
          0.13076437144662034,
          0.13076437144662034,
          0.1317119393556538,
          0.1317119393556538,
          0.13202779532533165,
          0.13202779532533165,
          0.1326595072646873,
          0.13329121920404297,
          0.13329121920404297,
          0.13360707517372078,
          0.13360707517372078,
          0.13392293114339862,
          0.13392293114339862,
          0.13423878711307644,
          0.13455464308275428,
          0.1348704990524321,
          0.1348704990524321,
          0.13550221099178775,
          0.13550221099178775,
          0.13581806696146556,
          0.1361339229311434,
          0.1361339229311434,
          0.13644977890082122,
          0.13644977890082122,
          0.13897662665824384,
          0.13897662665824384,
          0.1396083385975995,
          0.1396083385975995,
          0.1399241945672773,
          0.1399241945672773,
          0.14150347441566646,
          0.14150347441566646,
          0.14213518635502212,
          0.14213518635502212,
          0.14276689829437778,
          0.14276689829437778,
          0.1443461781427669,
          0.1443461781427669,
          0.1456096020214782,
          0.1456096020214782,
          0.14655716993051168,
          0.14718888186986734,
          0.14718888186986734,
          0.147820593809223,
          0.147820593809223,
          0.14876816171825646,
          0.14876816171825646,
          0.1490840176879343,
          0.1490840176879343,
          0.15003158559696778,
          0.15003158559696778,
          0.15034744156664562,
          0.15097915350600127,
          0.1512950094756791,
          0.1512950094756791,
          0.15161086544535693,
          0.15161086544535693,
          0.15224257738471256,
          0.15224257738471256,
          0.1525584333543904,
          0.1525584333543904,
          0.1528742893240682,
          0.1528742893240682,
          0.15350600126342387,
          0.15350600126342387,
          0.15445356917245737,
          0.15445356917245737,
          0.15476942514213518,
          0.15476942514213518,
          0.15508528111181302,
          0.15508528111181302,
          0.15540113708149084,
          0.15540113708149084,
          0.1560328490208465,
          0.1560328490208465,
          0.15634870499052433,
          0.15634870499052433,
          0.15698041692987996,
          0.15698041692987996,
          0.1572962728995578,
          0.1572962728995578,
          0.15761212886923562,
          0.15761212886923562,
          0.15887555274794693,
          0.15887555274794693,
          0.15950726468730259,
          0.15950726468730259,
          0.15982312065698043,
          0.15982312065698043,
          0.16013897662665824,
          0.16013897662665824,
          0.16045483259633608,
          0.16045483259633608,
          0.1607706885660139,
          0.1607706885660139,
          0.1620341124447252,
          0.1620341124447252,
          0.16266582438408086,
          0.16266582438408086,
          0.16298168035375868,
          0.16298168035375868,
          0.16329753632343652,
          0.16329753632343652,
          0.16392924826279218,
          0.16392924826279218,
          0.16424510423247,
          0.16424510423247,
          0.16456096020214783,
          0.16456096020214783,
          0.1655085281111813,
          0.1655085281111813,
          0.16582438408085912,
          0.16582438408085912,
          0.16614024005053696,
          0.16614024005053696,
          0.16677195198989261,
          0.16677195198989261,
          0.16929879974731524,
          0.16929879974731524,
          0.16961465571699305,
          0.16961465571699305,
          0.16993051168667087,
          0.16993051168667087,
          0.1702463676563487,
          0.1702463676563487,
          0.17087807959570436,
          0.17087807959570436,
          0.17119393556538218,
          0.17119393556538218,
          0.17150979153506002,
          0.17150979153506002,
          0.17182564750473783,
          0.17182564750473783,
          0.17308907138344914,
          0.17308907138344914,
          0.173404927353127,
          0.173404927353127,
          0.1737207833228048,
          0.1737207833228048,
          0.17403663929248261,
          0.17403663929248261,
          0.1749842072015161,
          0.1749842072015161,
          0.17656348704990524,
          0.17656348704990524,
          0.17687934301958308,
          0.17687934301958308,
          0.1771951989892609,
          0.1771951989892609,
          0.17751105495893874,
          0.17751105495893874,
          0.1781427668982944,
          0.1781427668982944,
          0.17877447883765002,
          0.17877447883765002,
          0.17909033480732786,
          0.17909033480732786,
          0.17940619077700568,
          0.17940619077700568,
          0.17972204674668352,
          0.17972204674668352,
          0.180669614655717,
          0.180669614655717,
          0.18130132659507264,
          0.18130132659507264,
          0.18161718256475048,
          0.18161718256475048,
          0.18224889450410614,
          0.18224889450410614,
          0.18256475047378395,
          0.18256475047378395,
          0.18288060644346177,
          0.18288060644346177,
          0.1831964624131396,
          0.1831964624131396,
          0.18351231838281742,
          0.18351231838281742,
          0.18414403032217308,
          0.18414403032217308,
          0.18445988629185092,
          0.18445988629185092,
          0.18509159823120658,
          0.18509159823120658,
          0.18572331017056223,
          0.18572331017056223,
          0.18603916614024005,
          0.18603916614024005,
          0.1866708780795957,
          0.1866708780795957,
          0.18825015792798483,
          0.18825015792798483,
          0.18856601389766267,
          0.18856601389766267,
          0.18951358180669614,
          0.18951358180669614,
          0.18982943777637398,
          0.18982943777637398,
          0.1901452937460518,
          0.1901452937460518,
          0.19077700568540745,
          0.19077700568540745,
          0.1910928616550853,
          0.1910928616550853,
          0.19172457359444092,
          0.19172457359444092,
          0.19298799747315223,
          0.19298799747315223,
          0.19425142135186355,
          0.19425142135186355,
          0.1945672773215414,
          0.1945672773215414,
          0.19519898926089704,
          0.19519898926089704,
          0.19551484523057486,
          0.19551484523057486,
          0.19583070120025267,
          0.19583070120025267,
          0.19709412507896398,
          0.19709412507896398,
          0.19740998104864182,
          0.19740998104864182,
          0.1983575489576753,
          0.1983575489576753,
          0.19867340492735314,
          0.19867340492735314,
          0.19898926089703095,
          0.19898926089703095,
          0.1993051168667088,
          0.1993051168667088,
          0.1996209728363866,
          0.1996209728363866,
          0.20088439671509792,
          0.20088439671509792,
          0.20120025268477573,
          0.20120025268477573,
          0.20151610865445357,
          0.20151610865445357,
          0.2018319646241314,
          0.2018319646241314,
          0.2030953885028427,
          0.2030953885028427,
          0.20341124447252054,
          0.20341124447252054,
          0.2040429564118762,
          0.2040429564118762,
          0.20467466835123183,
          0.20467466835123183,
          0.20530638029058748,
          0.20530638029058748,
          0.20593809222994314,
          0.20593809222994314,
          0.20625394819962098,
          0.20625394819962098,
          0.20688566013897663,
          0.20688566013897663,
          0.20814908401768795,
          0.20814908401768795,
          0.20846493998736576,
          0.20846493998736576,
          0.20878079595704357,
          0.20878079595704357,
          0.20941250789639923,
          0.20941250789639923,
          0.2100442198357549,
          0.2100442198357549,
          0.2113076437144662,
          0.2113076437144662,
          0.2122552116234997,
          0.2122552116234997,
          0.2125710675931775,
          0.2125710675931775,
          0.21288692356285535,
          0.21288692356285535,
          0.21320277953253317,
          0.21320277953253317,
          0.21383449147188882,
          0.21383449147188882,
          0.21415034744156664,
          0.21415034744156664,
          0.2147820593809223,
          0.2147820593809223,
          0.21509791535060013,
          0.21509791535060013,
          0.21541377132027795,
          0.21541377132027795,
          0.21667719519898926,
          0.21667719519898926,
          0.2169930511686671,
          0.2169930511686671,
          0.21794061907770057,
          0.21794061907770057,
          0.21825647504737838,
          0.21825647504737838,
          0.21857233101705623,
          0.21857233101705623,
          0.21888818698673404,
          0.21888818698673404,
          0.21920404295641188,
          0.21920404295641188,
          0.21983575489576754,
          0.21983575489576754,
          0.22015161086544535,
          0.22015161086544535,
          0.2204674668351232,
          0.2204674668351232,
          0.2217308907138345,
          0.2217308907138345,
          0.2252053063802906,
          0.2252053063802906,
          0.2289955780164245,
          0.2289955780164245,
          0.22931143398610235,
          0.229943145925458,
          0.23025900189513582,
          0.23089071383449147,
          0.2312065698041693,
          0.2312065698041693,
          0.23183828174352494,
          0.23183828174352494,
          0.23215413771320279,
          0.23215413771320279,
          0.23436512950094757,
          0.23436512950094757,
          0.2346809854706254,
          0.2346809854706254,
          0.23562855337965888,
          0.23562855337965888,
          0.2359444093493367,
          0.2359444093493367,
          0.23626026531901453,
          0.23626026531901453,
          0.23657612128869235,
          0.23657612128869235,
          0.23783954516740366,
          0.23783954516740366,
          0.2381554011370815,
          0.2381554011370815,
          0.23847125710675932,
          0.23847125710675932,
          0.23878711307643716,
          0.23878711307643716,
          0.23910296904611497,
          0.23910296904611497,
          0.23941882501579279,
          0.23941882501579279,
          0.24099810486418194,
          0.24099810486418194,
          0.24131396083385975,
          0.2419456727732154,
          0.24257738471257106,
          0.24257738471257106,
          0.24447252053063803,
          0.24447252053063803,
          0.24478837650031585,
          0.24478837650031585,
          0.2451042324699937,
          0.2451042324699937,
          0.2454200884396715,
          0.2454200884396715,
          0.246367656348705,
          0.246367656348705,
          0.2466835123183828,
          0.2466835123183828,
          0.24826279216677194,
          0.24826279216677194,
          0.24857864813644978,
          0.24857864813644978,
          0.2488945041061276,
          0.2488945041061276,
          0.24952621604548325,
          0.24952621604548325,
          0.2511054958938724,
          0.2511054958938724,
          0.2520530638029059,
          0.2520530638029059,
          0.2526847757422615,
          0.2526847757422615,
          0.25300063171193937,
          0.25300063171193937,
          0.2533164876816172,
          0.2533164876816172,
          0.2548957675300063,
          0.2548957675300063,
          0.2558433354390398,
          0.2558433354390398,
          0.25679090334807325,
          0.25679090334807325,
          0.2571067593177511,
          0.2571067593177511,
          0.25773847125710675,
          0.25773847125710675,
          0.25900189513581806,
          0.25900189513581806,
          0.25963360707517374,
          0.25963360707517374,
          0.25994946304485156,
          0.25994946304485156,
          0.26121288692356287,
          0.26121288692356287,
          0.262792166771952,
          0.262792166771952,
          0.2637397346809855,
          0.2637397346809855,
          0.2640555906506633,
          0.2640555906506633,
          0.26468730259001894,
          0.2653190145293746,
          0.26721415034744156,
          0.26721415034744156,
          0.2675300063171194,
          0.2675300063171194,
          0.26910928616550855,
          0.26910928616550855,
          0.2697409981048642,
          0.2697409981048642,
          0.270056854074542,
          0.270056854074542,
          0.2703727100442198,
          0.2703727100442198,
          0.2710044219835755,
          0.2710044219835755,
          0.2722678458622868,
          0.2722678458622868,
          0.2735312697409981,
          0.2735312697409981,
          0.27479469361970943,
          0.27479469361970943,
          0.27511054958938724,
          0.27511054958938724,
          0.27574226152874287,
          0.27574226152874287,
          0.27605811749842074,
          0.27605811749842074,
          0.27637397346809855,
          0.27637397346809855,
          0.2770056854074542,
          0.27763739734680987,
          0.2782691092861655,
          0.2782691092861655,
          0.279216677195199,
          0.279216677195199,
          0.2795325331648768,
          0.2795325331648768,
          0.2801642451042325,
          0.2801642451042325,
          0.2807959570435881,
          0.2807959570435881,
          0.2817435249526216,
          0.2817435249526216,
          0.28237523689197724,
          0.28237523689197724,
          0.28332280480101074,
          0.28332280480101074,
          0.28490208464939987,
          0.28490208464939987,
          0.28553379658875555,
          0.28553379658875555,
          0.28584965255843336,
          0.28584965255843336,
          0.28679722046746686,
          0.28679722046746686,
          0.2880606443461781,
          0.2880606443461781,
          0.288376500315856,
          0.288376500315856,
          0.2890082122552116,
          0.2890082122552116,
          0.2896399241945673,
          0.2896399241945673,
          0.29027163613392293,
          0.29027163613392293,
          0.29185091598231205,
          0.29185091598231205,
          0.29216677195198987,
          0.29216677195198987,
          0.29248262792166774,
          0.29248262792166774,
          0.2946936197094125,
          0.2946936197094125,
          0.29500947567909036,
          0.29500947567909036,
          0.2953253316487682,
          0.2959570435881238,
          0.2965887555274795,
          0.2965887555274795,
          0.2969046114971573,
          0.2969046114971573,
          0.2972204674668351,
          0.2972204674668351,
          0.29753632343651293,
          0.29753632343651293,
          0.2978521794061908,
          0.2978521794061908,
          0.2984838913455464,
          0.2984838913455464,
          0.29879974731522424,
          0.29879974731522424,
          0.29974731522425774,
          0.29974731522425774,
          0.30069488313329124,
          0.30069488313329124,
          0.30101073910296905,
          0.30101073910296905,
          0.3016424510423247,
          0.3016424510423247,
          0.30195830701200255,
          0.30195830701200255,
          0.3025900189513582,
          0.3025900189513582,
          0.30322173089071386,
          0.30322173089071386,
          0.3035375868603917,
          0.3035375868603917,
          0.3041692987997473,
          0.3041692987997473,
          0.3044851547694251,
          0.3044851547694251,
          0.30701200252684774,
          0.3076437144662034,
          0.3085912823752369,
          0.3085912823752369,
          0.30922299431459255,
          0.30922299431459255,
          0.30953885028427036,
          0.30953885028427036,
          0.3108022741629817,
          0.3108022741629817,
          0.3123815540113708,
          0.3130132659507265,
          0.3158559696778269,
          0.3158559696778269,
          0.31617182564750473,
          0.31617182564750473,
          0.3168035375868604,
          0.3168035375868604,
          0.31743524952621605,
          0.31743524952621605,
          0.3180669614655717,
          0.3180669614655717,
          0.319330385344283,
          0.319330385344283,
          0.3224889450410613,
          0.3231206569804169,
          0.3240682248894504,
          0.3240682248894504,
          0.32438408085912823,
          0.32438408085912823,
          0.32469993682880605,
          0.32469993682880605,
          0.32533164876816173,
          0.32533164876816173,
          0.32596336070751736,
          0.32596336070751736,
          0.32627921667719517,
          0.32627921667719517,
          0.32659507264687304,
          0.32659507264687304,
          0.32691092861655086,
          0.32691092861655086,
          0.3294377763739735,
          0.3294377763739735,
          0.3297536323436513,
          0.3297536323436513,
          0.3313329121920404,
          0.3313329121920404,
          0.33385975994946304,
          0.33385975994946304,
          0.3344914718888187,
          0.3344914718888187,
          0.33575489576753,
          0.33575489576753,
          0.3370183196462413,
          0.3370183196462413,
          0.337650031585597,
          0.337650031585597,
          0.3395451674036639,
          0.3395451674036639,
          0.33986102337334173,
          0.33986102337334173,
          0.3401768793430196,
          0.3401768793430196,
          0.3414403032217309,
          0.3414403032217309,
          0.34207201516108654,
          0.34207201516108654,
          0.34365129500947567,
          0.34365129500947567,
          0.3439671509791535,
          0.3439671509791535,
          0.34554643082754266,
          0.34554643082754266,
          0.3471257106759318,
          0.3471257106759318,
          0.3496525584333544,
          0.3496525584333544,
          0.3499684144030322,
          0.3499684144030322,
          0.35028427037271004,
          0.35028427037271004,
          0.35060012634238785,
          0.35060012634238785,
          0.35123183828174354,
          0.35123183828174354,
          0.35154769425142135,
          0.35154769425142135,
          0.35186355022109916,
          0.35186355022109916,
          0.35249526216045485,
          0.35249526216045485,
          0.35281111813013266,
          0.35281111813013266,
          0.3534428300694883,
          0.3534428300694883,
          0.354074542008844,
          0.354074542008844,
          0.3547062539481996,
          0.3547062539481996,
          0.3553379658875553,
          0.3553379658875553,
          0.3562855337965888,
          0.3562855337965888,
          0.3569172457359444,
          0.3569172457359444,
          0.3581806696146557,
          0.3581806696146557,
          0.3591282375236892,
          0.3591282375236892,
          0.35975994946304485,
          0.35975994946304485,
          0.36007580543272266,
          0.36007580543272266,
          0.36039166140240053,
          0.36039166140240053,
          0.36102337334175616,
          0.36102337334175616,
          0.3616550852811118,
          0.3616550852811118,
          0.3629185091598231,
          0.3629185091598231,
          0.36323436512950097,
          0.36323436512950097,
          0.3638660770688566,
          0.3638660770688566,
          0.3651295009475679,
          0.3651295009475679,
          0.3654453569172457,
          0.3654453569172457,
          0.3660770688566014,
          0.3660770688566014,
          0.36702463676563485,
          0.36765634870499053,
          0.36797220467466835,
          0.36797220467466835,
          0.36955148452305747,
          0.36955148452305747,
          0.37018319646241316,
          0.37018319646241316,
          0.3708149084017688,
          0.3708149084017688,
          0.3711307643714466,
          0.3711307643714466,
          0.3727100442198358,
          0.3727100442198358,
          0.3730259001895136,
          0.3730259001895136,
          0.3736576121288692,
          0.3736576121288692,
          0.3742893240682249,
          0.3742893240682249,
          0.3746051800379027,
          0.3746051800379027,
          0.37492103600758053,
          0.37492103600758053,
          0.37586860391661403,
          0.37586860391661403,
          0.37650031585596966,
          0.37650031585596966,
          0.37681617182564753,
          0.37681617182564753,
          0.37744788376500316,
          0.37744788376500316,
          0.37807959570435884,
          0.37807959570435884,
          0.37839545167403665,
          0.37839545167403665,
          0.3793430195830701,
          0.3793430195830701,
          0.37965887555274797,
          0.37965887555274797,
          0.3802905874921036,
          0.3802905874921036,
          0.3815540113708149,
          0.3815540113708149,
          0.3818698673404927,
          0.3818698673404927,
          0.3825015792798484,
          0.3825015792798484,
          0.38344914718888184,
          0.38344914718888184,
          0.3837650031585597,
          0.3837650031585597,
          0.385028427037271,
          0.385028427037271,
          0.38566013897662665,
          0.38566013897662665,
          0.38597599494630447,
          0.38597599494630447,
          0.38660770688566015,
          0.38660770688566015,
          0.3875552747946936,
          0.3875552747946936,
          0.38787113076437146,
          0.38787113076437146,
          0.3881869867340493,
          0.3881869867340493,
          0.3891345546430828,
          0.3891345546430828,
          0.3897662665824384,
          0.3897662665824384,
          0.3907138344914719,
          0.3907138344914719,
          0.39134554643082753,
          0.39134554643082753,
          0.39166140240050534,
          0.39166140240050534,
          0.3919772583701832,
          0.3919772583701832,
          0.3932406822488945,
          0.3932406822488945,
          0.39387239418825015,
          0.39387239418825015,
          0.39418825015792797,
          0.39418825015792797,
          0.39450410612760584,
          0.39450410612760584,
          0.39513581806696146,
          0.39513581806696146,
          0.3957675300063171,
          0.3957675300063171,
          0.3976626658243841,
          0.3976626658243841,
          0.3979785217940619,
          0.3979785217940619,
          0.3982943777637397,
          0.3982943777637397,
          0.3989260897030954,
          0.3989260897030954,
          0.4001895135818067,
          0.4001895135818067,
          0.4005053695514845,
          0.4005053695514845,
          0.40176879343019584,
          0.40176879343019584,
          0.40208464939987365,
          0.40208464939987365,
          0.40271636133922933,
          0.40271636133922933,
          0.40397978521794065,
          0.40397978521794065,
          0.40429564118761846,
          0.40429564118761846,
          0.4046114971572963,
          0.4046114971572963,
          0.4049273531269741,
          0.4049273531269741,
          0.40555906506632977,
          0.40555906506632977,
          0.4061907770056854,
          0.4061907770056854,
          0.4065066329753632,
          0.4065066329753632,
          0.40903348073278584,
          0.40903348073278584,
          0.4096651926721415,
          0.4096651926721415,
          0.40998104864181933,
          0.41061276058117496,
          0.41061276058117496,
          0.41124447252053065,
          0.41124447252053065,
          0.41156032849020846,
          0.41156032849020846,
          0.4118761844598863,
          0.4118761844598863,
          0.41219204042956414,
          0.41219204042956414,
          0.41250789639924196,
          0.41250789639924196,
          0.41282375236891977,
          0.41282375236891977,
          0.4134554643082754,
          0.4140871762476311,
          0.4140871762476311,
          0.4144030322173089,
          0.4144030322173089,
          0.4150347441566646,
          0.4150347441566646,
          0.4153506001263424,
          0.4153506001263424,
          0.4156664560960202,
          0.4156664560960202,
          0.4162981680353759,
          0.4162981680353759,
          0.417877447883765,
          0.417877447883765,
          0.41819330385344283,
          0.41819330385344283,
          0.41945672773215414,
          0.41945672773215414,
          0.41977258370183196,
          0.41977258370183196,
          0.42040429564118764,
          0.42040429564118764,
          0.42072015161086546,
          0.42072015161086546,
          0.42103600758054327,
          0.42103600758054327,
          0.42166771951989895,
          0.42166771951989895,
          0.4222994314592546,
          0.4222994314592546,
          0.4232469993682881,
          0.4232469993682881,
          0.4241945672773215,
          0.4241945672773215,
          0.4260897030953885,
          0.4260897030953885,
          0.42672141503474414,
          0.42672141503474414,
          0.42703727100442196,
          0.42703727100442196,
          0.42987997473152245,
          0.42987997473152245,
          0.4308275426405559,
          0.4308275426405559,
          0.4314592545799116,
          0.4314592545799116,
          0.4317751105495894,
          0.4317751105495894,
          0.43461781427668983,
          0.43461781427668983,
          0.4355653821857233,
          0.4355653821857233,
          0.43714466203411245,
          0.43714466203411245,
          0.43809222994314595,
          0.43809222994314595,
          0.4390397978521794,
          0.4390397978521794,
          0.4393556538218572,
          0.4393556538218572,
          0.4396715097915351,
          0.4396715097915351,
          0.4406190777005685,
          0.4406190777005685,
          0.4409349336702464,
          0.4409349336702464,
          0.4412507896399242,
          0.4412507896399242,
          0.4437776373973468,
          0.4437776373973468,
          0.44409349336702464,
          0.44409349336702464,
          0.44440934933670245,
          0.44440934933670245,
          0.44472520530638027,
          0.44472520530638027,
          0.44504106127605814,
          0.44504106127605814,
          0.44630448515476945,
          0.44630448515476945,
          0.4472520530638029,
          0.4472520530638029,
          0.44756790903348076,
          0.44756790903348076,
          0.4478837650031586,
          0.4478837650031586,
          0.4485154769425142,
          0.4485154769425142,
          0.448831332912192,
          0.448831332912192,
          0.4500947567909033,
          0.4500947567909033,
          0.4510423246999368,
          0.4510423246999368,
          0.45135818066961464,
          0.45135818066961464,
          0.4516740366392925,
          0.4516740366392925,
          0.45230574857864814,
          0.45230574857864814,
          0.45293746051800376,
          0.45293746051800376,
          0.45325331648768163,
          0.45325331648768163,
          0.45388502842703726,
          0.45388502842703726,
          0.4542008843967151,
          0.45483259633607076,
          0.4551484523057486,
          0.4551484523057486,
          0.4554643082754264,
          0.4554643082754264,
          0.4564118761844599,
          0.4564118761844599,
          0.4573594440934934,
          0.4573594440934934,
          0.4576753000631712,
          0.4576753000631712,
          0.457991156032849,
          0.457991156032849,
          0.45957043588123814,
          0.45957043588123814,
          0.46114971572962726,
          0.46114971572962726,
          0.46209728363866076,
          0.46209728363866076,
          0.46430827542640557,
          0.46430827542640557,
          0.4649399873657612,
          0.4649399873657612,
          0.4658875552747947,
          0.4658875552747947,
          0.4665192672141503,
          0.4668351231838282,
          0.4668351231838282,
          0.4680985470625395,
          0.4680985470625395,
          0.46873025900189513,
          0.46873025900189513,
          0.4693619709412508,
          0.4693619709412508,
          0.4706253948199621,
          0.4706253948199621,
          0.47125710675931776,
          0.47125710675931776,
          0.47252053063802907,
          0.47252053063802907,
          0.4731522425773847,
          0.4737839545167404,
          0.4737839545167404,
          0.474415666456096,
          0.474415666456096,
          0.4747315224257738,
          0.4747315224257738,
          0.47599494630448513,
          0.47599494630448513,
          0.476310802274163,
          0.476310802274163,
          0.4766266582438408,
          0.4766266582438408,
          0.47694251421351863,
          0.47694251421351863,
          0.4775742261528743,
          0.4775742261528743,
          0.47852179406190776,
          0.47852179406190776,
          0.47946936197094125,
          0.47946936197094125,
          0.4801010739102969,
          0.48073278584965257,
          0.4813644977890082,
          0.4813644977890082,
          0.4823120656980417,
          0.4823120656980417,
          0.48420720151610863,
          0.48420720151610863,
          0.4845230574857865,
          0.4845230574857865,
          0.4857864813644978,
          0.4857864813644978,
          0.48641819330385344,
          0.48641819330385344,
          0.48673404927353126,
          0.48673404927353126,
          0.48704990524320907,
          0.48704990524320907,
          0.48768161718256475,
          0.48768161718256475,
          0.4883133291219204,
          0.4883133291219204,
          0.48862918509159825,
          0.48862918509159825,
          0.4895767530006317,
          0.4895767530006317,
          0.48989260897030956,
          0.48989260897030956,
          0.4905243209096652,
          0.4905243209096652,
          0.490840176879343,
          0.490840176879343,
          0.4914718888186987,
          0.4914718888186987,
          0.4917877447883765,
          0.4917877447883765,
          0.4921036007580543,
          0.4921036007580543,
          0.4939987365761213,
          0.4939987365761213,
          0.4943145925457991,
          0.4943145925457991,
          0.4952621604548326,
          0.49589387239418825,
          0.4965255843335439,
          0.4965255843335439,
          0.49684144030322175,
          0.49684144030322175,
          0.49715729627289956,
          0.49715729627289956,
          0.49810486418193306,
          0.49810486418193306,
          0.5015792798483891,
          0.5015792798483891,
          0.5034744156664561,
          0.5034744156664561,
          0.5047378395451674,
          0.5047378395451674,
          0.5050536955148452,
          0.5050536955148452,
          0.505369551484523,
          0.505369551484523,
          0.5066329753632344,
          0.5066329753632344,
          0.5088439671509791,
          0.5088439671509791,
          0.5101073910296905,
          0.5101073910296905,
          0.511054958938724,
          0.511054958938724,
          0.5123183828174352,
          0.5123183828174352,
          0.5157927984838914,
          0.5157927984838914,
          0.5167403663929249,
          0.5167403663929249,
          0.5170562223626026,
          0.5170562223626026,
          0.5173720783322805,
          0.5173720783322805,
          0.5176879343019583,
          0.5176879343019583,
          0.5195830701200252,
          0.5195830701200252,
          0.52179406190777,
          0.52179406190777,
          0.5230574857864814,
          0.5230574857864814,
          0.5233733417561592,
          0.5233733417561592,
          0.5243209096651926,
          0.5243209096651926,
          0.5249526216045484,
          0.5249526216045484,
          0.5262160454832596,
          0.5262160454832596,
          0.527479469361971,
          0.527479469361971,
          0.5277953253316487,
          0.5277953253316487,
          0.5287428932406822,
          0.5287428932406822,
          0.5290587492103601,
          0.5290587492103601,
          0.5300063171193936,
          0.5300063171193936,
          0.5303221730890714,
          0.5303221730890714,
          0.5306380290587492,
          0.5306380290587492,
          0.530953885028427,
          0.530953885028427,
          0.5312697409981049,
          0.5312697409981049,
          0.5315855969677827,
          0.5315855969677827,
          0.5325331648768161,
          0.5325331648768161,
          0.532849020846494,
          0.532849020846494,
          0.5341124447252054,
          0.5341124447252054,
          0.5350600126342387,
          0.5350600126342387,
          0.5356917245735945,
          0.5356917245735945,
          0.5366392924826279,
          0.5366392924826279,
          0.5382185723310171,
          0.5382185723310171,
          0.5385344283006949,
          0.5385344283006949,
          0.5391661402400505,
          0.5391661402400505,
          0.540113708149084,
          0.540113708149084,
          0.5429564118761845,
          0.5429564118761845,
          0.5435881238155401,
          0.5435881238155401,
          0.5442198357548957,
          0.5442198357548957,
          0.5457991156032849,
          0.5457991156032849,
          0.5467466835123184,
          0.5467466835123184,
          0.5476942514213519,
          0.5476942514213519,
          0.5483259633607075,
          0.5483259633607075,
          0.5489576753000631,
          0.5489576753000631,
          0.5505369551484524,
          0.5505369551484524,
          0.5508528111181301,
          0.5508528111181301,
          0.5518003790271636,
          0.5518003790271636,
          0.5530638029058749,
          0.5530638029058749,
          0.5533796588755527,
          0.5533796588755527,
          0.5536955148452306,
          0.5536955148452306,
          0.5540113708149084,
          0.5540113708149084,
          0.5546430827542641,
          0.5546430827542641,
          0.5562223626026532,
          0.5562223626026532,
          0.5574857864813645,
          0.5574857864813645,
          0.5581174984207201,
          0.5581174984207201,
          0.5587492103600759,
          0.5587492103600759,
          0.5596967782691092,
          0.5596967782691092,
          0.5609602021478206,
          0.5609602021478206,
          0.5619077700568541,
          0.5619077700568541,
          0.563802905874921,
          0.563802905874921,
          0.5644346178142767,
          0.5644346178142767,
          0.5669614655716994,
          0.5669614655716994,
          0.5679090334807327,
          0.5679090334807327,
          0.5685407454200885,
          0.5685407454200885,
          0.5688566013897662,
          0.5688566013897662,
          0.5691724573594441,
          0.5691724573594441,
          0.5701200252684776,
          0.5701200252684776,
          0.5704358812381554,
          0.5704358812381554,
          0.5726468730259002,
          0.5726468730259002,
          0.5732785849652559,
          0.5732785849652559,
          0.5761212886923562,
          0.5761212886923562,
          0.5770688566013897,
          0.5770688566013897,
          0.5780164245104232,
          0.5780164245104232,
          0.5783322804801011,
          0.5783322804801011,
          0.5792798483891346,
          0.5792798483891346,
          0.5799115603284902,
          0.5799115603284902,
          0.580227416298168,
          0.580227416298168,
          0.5805432722678459,
          0.5805432722678459,
          0.5811749842072015,
          0.5811749842072015,
          0.5818066961465572,
          0.5818066961465572,
          0.5833859759949463,
          0.5833859759949463,
          0.5868603916614024,
          0.5868603916614024,
          0.5874921036007581,
          0.5874921036007581,
          0.5900189513581807,
          0.5900189513581807,
          0.5922299431459255,
          0.5922299431459255,
          0.5925457991156032,
          0.5925457991156032,
          0.5938092229943146,
          0.5938092229943146,
          0.5944409349336702,
          0.5944409349336702,
          0.5950726468730259,
          0.5950726468730259,
          0.596651926721415,
          0.596651926721415,
          0.5975994946304485,
          0.5975994946304485,
          0.5988629185091598,
          0.5988629185091598,
          0.6001263423878711,
          0.6001263423878711,
          0.6007580543272267,
          0.6007580543272267,
          0.6017056222362602,
          0.6017056222362602,
          0.6020214782059381,
          0.6020214782059381,
          0.6051800379027164,
          0.6051800379027164,
          0.605811749842072,
          0.605811749842072,
          0.6083385975994946,
          0.6083385975994946,
          0.6092861655085281,
          0.6092861655085281,
          0.6127605811749842,
          0.6127605811749842,
          0.6137081490840177,
          0.6137081490840177,
          0.6146557169930512,
          0.6146557169930512,
          0.6159191408717625,
          0.6159191408717625,
          0.6171825647504738,
          0.6171825647504738,
          0.618761844598863,
          0.618761844598863,
          0.6197094125078964,
          0.6197094125078964,
          0.6200252684775742,
          0.6200252684775742,
          0.6212886923562856,
          0.6212886923562856,
          0.622236260265319,
          0.622236260265319,
          0.6253948199620973,
          0.6253948199620973,
          0.6266582438408086,
          0.6266582438408086,
          0.6269740998104865,
          0.6269740998104865,
          0.6282375236891977,
          0.6282375236891977,
          0.6288692356285533,
          0.6288692356285533,
          0.6291850915982312,
          0.6291850915982312,
          0.6320277953253316,
          0.6320277953253316,
          0.6323436512950095,
          0.6323436512950095,
          0.6336070751737208,
          0.6336070751737208,
          0.6342387871130765,
          0.6342387871130765,
          0.63518635502211,
          0.63518635502211,
          0.6364497789008212,
          0.6364497789008212,
          0.6370814908401768,
          0.6370814908401768,
          0.6392924826279217,
          0.6392924826279217,
          0.6418193303853443,
          0.6418193303853443,
          0.6427668982943777,
          0.6427668982943777,
          0.6437144662034112,
          0.6437144662034112,
          0.6446620341124447,
          0.6446620341124447,
          0.6452937460518003,
          0.6452937460518003,
          0.6456096020214782,
          0.6456096020214782,
          0.6493998736576121,
          0.6493998736576121,
          0.64971572962729,
          0.64971572962729,
          0.6519267214150347,
          0.6519267214150347,
          0.6522425773847126,
          0.6522425773847126,
          0.6535060012634238,
          0.6535060012634238,
          0.6547694251421352,
          0.6547694251421352,
          0.6572962728995578,
          0.6572962728995578,
          0.6582438408085913,
          0.6582438408085913,
          0.658875552747947,
          0.658875552747947,
          0.6598231206569805,
          0.6598231206569805,
          0.6626658243840808,
          0.6626658243840808,
          0.6648768161718257,
          0.6648768161718257,
          0.6651926721415035,
          0.6651926721415035,
          0.6664560960202148,
          0.6664560960202148,
          0.6670878079595705,
          0.6670878079595705,
          0.6677195198989261,
          0.6677195198989261,
          0.6702463676563487,
          0.6702463676563487,
          0.6705622236260266,
          0.6705622236260266,
          0.6708780795957043,
          0.6708780795957043,
          0.6711939355653822,
          0.6718256475047378,
          0.6724573594440935,
          0.6724573594440935,
          0.6740366392924826,
          0.6740366392924826,
          0.6743524952621605,
          0.6743524952621605,
          0.6794061907770057,
          0.6794061907770057,
          0.6822488945041061,
          0.6822488945041061,
          0.6835123183828175,
          0.6835123183828175,
          0.6838281743524952,
          0.6838281743524952,
          0.6841440303221731,
          0.6841440303221731,
          0.6850915982312066,
          0.6850915982312066,
          0.6895135818066962,
          0.6895135818066962,
          0.6907770056854075,
          0.6907770056854075,
          0.6910928616550853,
          0.6910928616550853,
          0.691724573594441,
          0.691724573594441,
          0.6939355653821857,
          0.6939355653821857,
          0.6945672773215413,
          0.6945672773215413,
          0.6948831332912192,
          0.6948831332912192,
          0.6958307012002527,
          0.6958307012002527,
          0.6961465571699305,
          0.6961465571699305,
          0.697094125078964,
          0.697094125078964,
          0.6983575489576753,
          0.6983575489576753,
          0.6996209728363866,
          0.6996209728363866,
          0.6999368288060644,
          0.6999368288060644,
          0.7002526847757422,
          0.7002526847757422,
          0.7034112444725206,
          0.7034112444725206,
          0.7040429564118762,
          0.7040429564118762,
          0.7072015161086544,
          0.7072015161086544,
          0.7075173720783323,
          0.7075173720783323,
          0.7087807959570436,
          0.7087807959570436,
          0.7106759317751106,
          0.7106759317751106,
          0.7116234996841441,
          0.7116234996841441,
          0.713518635502211,
          0.713518635502211,
          0.7147820593809223,
          0.7147820593809223,
          0.7157296272899558,
          0.7157296272899558,
          0.7160454832596336,
          0.7160454832596336,
          0.7173089071383449,
          0.7173089071383449,
          0.7188881869867341,
          0.7188881869867341,
          0.7201516108654453,
          0.7201516108654453,
          0.7204674668351232,
          0.7204674668351232,
          0.7217308907138344,
          0.7217308907138344,
          0.7239418825015793,
          0.7239418825015793,
          0.7242577384712571,
          0.7242577384712571,
          0.7255211623499684,
          0.7255211623499684,
          0.7261528742893241,
          0.7261528742893241,
          0.7293114339861023,
          0.7293114339861023,
          0.7296272899557802,
          0.7296272899557802,
          0.7305748578648137,
          0.7305748578648137,
          0.7331017056222363,
          0.7331017056222363,
          0.7337334175615919,
          0.7337334175615919,
          0.7343651295009476,
          0.7343651295009476,
          0.7353126974099811,
          0.7353126974099811,
          0.7372078332280481,
          0.7372078332280481,
          0.7378395451674037,
          0.7378395451674037,
          0.7391029690461149,
          0.7397346809854706,
          0.7416298168035376,
          0.7416298168035376,
          0.7425773847125711,
          0.7425773847125711,
          0.7466835123183828,
          0.7466835123183828,
          0.7469993682880607,
          0.7469993682880607,
          0.7476310802274163,
          0.7476310802274163,
          0.7492103600758054,
          0.7492103600758054,
          0.7507896399241946,
          0.7507896399241946,
          0.7564750473783954,
          0.7564750473783954,
          0.7596336070751737,
          0.7596336070751737,
          0.7602653190145294,
          0.7602653190145294,
          0.7627921667719519,
          0.7627921667719519,
          0.7634238787113077,
          0.7634238787113077,
          0.7646873025900189,
          0.7653190145293746,
          0.7659507264687303,
          0.7659507264687303,
          0.7703727100442198,
          0.7703727100442198,
          0.7744788376500316,
          0.7744788376500316,
          0.7766898294377764,
          0.7766898294377764,
          0.7795325331648768,
          0.7795325331648768,
          0.7814276689829438,
          0.7814276689829438,
          0.7820593809222994,
          0.7820593809222994,
          0.7833228048010107,
          0.7833228048010107,
          0.7839545167403664,
          0.7839545167403664,
          0.7858496525584333,
          0.7858496525584333,
          0.786481364497789,
          0.786481364497789,
          0.7871130764371447,
          0.7871130764371447,
          0.7896399241945673,
          0.7896399241945673,
          0.7931143398610234,
          0.7931143398610234,
          0.7943777637397347,
          0.7943777637397347,
          0.7950094756790903,
          0.7950094756790903,
          0.7953253316487682,
          0.7953253316487682,
          0.7969046114971573,
          0.7969046114971573,
          0.7975363234365129,
          0.7975363234365129,
          0.7981680353758686,
          0.7981680353758686,
          0.7987997473152243,
          0.7987997473152243,
          0.7994314592545799,
          0.7994314592545799,
          0.7997473152242578,
          0.7997473152242578,
          0.8013265950726469,
          0.8013265950726469,
          0.8019583070120025,
          0.8019583070120025,
          0.8066961465571699,
          0.8066961465571699,
          0.8076437144662034,
          0.8076437144662034,
          0.8079595704358813,
          0.8079595704358813,
          0.8085912823752369,
          0.8136449778900822,
          0.8136449778900822,
          0.8158559696778269,
          0.8158559696778269,
          0.8161718256475048,
          0.8161718256475048,
          0.8212255211623499,
          0.8212255211623499,
          0.8215413771320278,
          0.8215413771320278,
          0.8224889450410613,
          0.8224889450410613,
          0.822804801010739,
          0.822804801010739,
          0.8231206569804169,
          0.8231206569804169,
          0.8237523689197725,
          0.8237523689197725,
          0.8243840808591283,
          0.8243840808591283,
          0.824699936828806,
          0.824699936828806,
          0.8275426405559065,
          0.8275426405559065,
          0.8278584965255843,
          0.8278584965255843,
          0.8297536323436513,
          0.8297536323436513,
          0.8307012002526848,
          0.8313329121920404,
          0.8335439039797852,
          0.8335439039797852,
          0.833859759949463,
          0.833859759949463,
          0.8370183196462413,
          0.8370183196462413,
          0.8376500315855969,
          0.8395451674036639,
          0.8395451674036639,
          0.8420720151610865,
          0.8420720151610865,
          0.8427037271004422,
          0.8427037271004422,
          0.8433354390397979,
          0.8433354390397979,
          0.8436512950094757,
          0.8436512950094757,
          0.8452305748578648,
          0.8452305748578648,
          0.8461781427668983,
          0.8461781427668983,
          0.8499684144030322,
          0.8499684144030322,
          0.8509159823120657,
          0.8509159823120657,
          0.8528111181301327,
          0.8528111181301327,
          0.8540745420088439,
          0.8540745420088439,
          0.8547062539481997,
          0.8547062539481997,
          0.8553379658875553,
          0.8553379658875553,
          0.8559696778269109,
          0.8559696778269109,
          0.8572331017056223,
          0.8572331017056223,
          0.8584965255843335,
          0.8584965255843335,
          0.8641819330385344,
          0.8641819330385344,
          0.8689197725837018,
          0.8689197725837018,
          0.8736576121288693,
          0.8736576121288693,
          0.8742893240682249,
          0.8742893240682249,
          0.877763739734681,
          0.877763739734681,
          0.8783954516740367,
          0.8783954516740367,
          0.8793430195830702,
          0.8793430195830702,
          0.8796588755527479,
          0.8796588755527479,
          0.8809222994314593,
          0.8809222994314593,
          0.8818698673404928,
          0.8818698673404928,
          0.8843967150979154,
          0.8843967150979154,
          0.885028427037271,
          0.885028427037271,
          0.8875552747946936,
          0.8875552747946936,
          0.8881869867340493,
          0.8881869867340493,
          0.8900821225521163,
          0.8907138344914719,
          0.8935565382185723,
          0.8935565382185723,
          0.8951358180669615,
          0.8951358180669615,
          0.8954516740366393,
          0.8954516740366393,
          0.8979785217940619,
          0.8979785217940619,
          0.8986102337334175,
          0.8986102337334175,
          0.9011370814908402,
          0.9011370814908402,
          0.9039797852179406,
          0.9039797852179406,
          0.9058749210360075,
          0.9058749210360075,
          0.9065066329753633,
          0.9065066329753633,
          0.9080859128237524,
          0.9080859128237524,
          0.9084017687934302,
          0.9084017687934302,
          0.908717624763108,
          0.908717624763108,
          0.9090334807327859,
          0.9090334807327859,
          0.9109286165508528,
          0.9109286165508528,
          0.9137713202779533,
          0.9137713202779533,
          0.9147188881869868,
          0.9147188881869868,
          0.9172457359444094,
          0.9172457359444094,
          0.9204042956411876,
          0.9204042956411876,
          0.9241945672773215,
          0.9241945672773215,
          0.927037271004422,
          0.927037271004422,
          0.934301958307012,
          0.934301958307012,
          0.9355653821857233,
          0.9355653821857233,
          0.9387239418825016,
          0.9387239418825016,
          0.9409349336702464,
          0.9409349336702464,
          0.9412507896399241,
          0.9412507896399241,
          0.941566645609602,
          0.941566645609602,
          0.9485154769425143,
          0.9485154769425143,
          0.9497789008212255,
          0.9497789008212255,
          0.950726468730259,
          0.950726468730259,
          0.9510423246999369,
          0.9510423246999369,
          0.9529374605180038,
          0.9529374605180038,
          0.9542008843967151,
          0.9542008843967151,
          0.9548325963360708,
          0.9548325963360708,
          0.9583070120025269,
          0.9583070120025269,
          0.9605180037902716,
          0.9605180037902716,
          0.9614655716993051,
          0.9614655716993051,
          0.9636765634870499,
          0.9643082754264055,
          0.9699936828806064,
          0.9699936828806064,
          0.972520530638029,
          0.972520530638029,
          0.9740998104864181,
          0.9740998104864181,
          0.9772583701831965,
          0.9772583701831965,
          0.98547062539482,
          0.98547062539482,
          0.9892608970309539,
          0.9892608970309539,
          0.9939987365761213,
          0.9939987365761213,
          0.9968414403032217,
          0.9968414403032217,
          1
         ],
         "y": [
          0,
          0.0004476275738585497,
          0.0004476275738585497,
          0.0017905102954341987,
          0.0017905102954341987,
          0.004476275738585497,
          0.004476275738585497,
          0.006266786034019696,
          0.006266786034019696,
          0.007609668755595345,
          0.007609668755595345,
          0.011638316920322292,
          0.011638316920322292,
          0.01477170993733214,
          0.01477170993733214,
          0.023276633840644583,
          0.023276633840644583,
          0.025962399283795883,
          0.025962399283795883,
          0.02999104744852283,
          0.02999104744852283,
          0.03312444046553268,
          0.03312444046553268,
          0.03357206803939123,
          0.03357206803939123,
          0.03581020590868397,
          0.03581020590868397,
          0.03760071620411817,
          0.03760071620411817,
          0.03983885407341092,
          0.03983885407341092,
          0.04073410922112802,
          0.04073410922112802,
          0.04252461951656222,
          0.04252461951656222,
          0.046105640107430616,
          0.046105640107430616,
          0.049686660698299016,
          0.049686660698299016,
          0.051924798567591766,
          0.051924798567591766,
          0.05461056401074306,
          0.05461056401074306,
          0.05595344673231871,
          0.05595344673231871,
          0.05640107430617726,
          0.05640107430617726,
          0.05863921217547001,
          0.05863921217547001,
          0.06132497761862131,
          0.06132497761862131,
          0.06311548791405551,
          0.06311548791405551,
          0.06445837063563116,
          0.06445837063563116,
          0.06535362578334826,
          0.06535362578334826,
          0.0684870188003581,
          0.0684870188003581,
          0.06982990152193375,
          0.06982990152193375,
          0.0702775290957923,
          0.0702775290957923,
          0.07430617726051925,
          0.07430617726051925,
          0.07520143240823635,
          0.07520143240823635,
          0.076544315129812,
          0.076544315129812,
          0.0783348254252462,
          0.0783348254252462,
          0.07967770814682185,
          0.07967770814682185,
          0.0810205908683975,
          0.0810205908683975,
          0.0846016114592659,
          0.0846016114592659,
          0.08863025962399283,
          0.08863025962399283,
          0.08997314234556848,
          0.08997314234556848,
          0.09579230080572963,
          0.09579230080572963,
          0.09892569382273948,
          0.09892569382273948,
          0.10116383169203223,
          0.10116383169203223,
          0.10205908683974933,
          0.10205908683974933,
          0.10340196956132498,
          0.10340196956132498,
          0.10519247985675918,
          0.10519247985675918,
          0.10608773500447627,
          0.10608773500447627,
          0.10653536257833482,
          0.10653536257833482,
          0.10832587287376902,
          0.10832587287376902,
          0.10966875559534467,
          0.10966875559534467,
          0.11235452103849597,
          0.11235452103849597,
          0.11593554162936437,
          0.11593554162936437,
          0.11638316920322292,
          0.11638316920322292,
          0.11683079677708147,
          0.11683079677708147,
          0.11772605192479857,
          0.11772605192479857,
          0.11817367949865712,
          0.11817367949865712,
          0.11862130707251567,
          0.11862130707251567,
          0.12354521038495972,
          0.12354521038495972,
          0.12444046553267682,
          0.12444046553267682,
          0.12578334825425247,
          0.12578334825425247,
          0.12667860340196957,
          0.12667860340196957,
          0.12981199641897942,
          0.12981199641897942,
          0.13070725156669652,
          0.13070725156669652,
          0.13115487914055507,
          0.13115487914055507,
          0.13249776186213072,
          0.13249776186213072,
          0.13339301700984782,
          0.13339301700984782,
          0.13742166517457474,
          0.13742166517457474,
          0.13831692032229184,
          0.13831692032229184,
          0.1432408236347359,
          0.1432408236347359,
          0.14368845120859444,
          0.14368845120859444,
          0.1450313339301701,
          0.1450313339301701,
          0.1468218442256043,
          0.1468218442256043,
          0.14816472694717994,
          0.14816472694717994,
          0.1486123545210385,
          0.1486123545210385,
          0.1504028648164727,
          0.1504028648164727,
          0.1512981199641898,
          0.1512981199641898,
          0.153088630259624,
          0.153088630259624,
          0.15353625783348254,
          0.15353625783348254,
          0.1539838854073411,
          0.1539838854073411,
          0.15443151298119964,
          0.15443151298119964,
          0.1548791405550582,
          0.1548791405550582,
          0.15711727842435094,
          0.15711727842435094,
          0.15980304386750224,
          0.15980304386750224,
          0.1629364368845121,
          0.1629364368845121,
          0.1656222023276634,
          0.1656222023276634,
          0.16696508504923904,
          0.16696508504923904,
          0.16786034019695614,
          0.16786034019695614,
          0.16875559534467324,
          0.16875559534467324,
          0.1692032229185318,
          0.1692032229185318,
          0.16965085049239034,
          0.16965085049239034,
          0.17054610564010744,
          0.17054610564010744,
          0.1727842435094002,
          0.1727842435094002,
          0.17502238137869292,
          0.17502238137869292,
          0.17636526410026857,
          0.17636526410026857,
          0.17681289167412712,
          0.17681289167412712,
          0.18039391226499552,
          0.18039391226499552,
          0.18128916741271262,
          0.18128916741271262,
          0.18218442256042972,
          0.18218442256042972,
          0.18263205013428827,
          0.18263205013428827,
          0.18307967770814682,
          0.18307967770814682,
          0.18442256042972247,
          0.18442256042972247,
          0.18934646374216652,
          0.18934646374216652,
          0.19024171888988362,
          0.19024171888988362,
          0.19292748433303492,
          0.19292748433303492,
          0.19427036705461057,
          0.19427036705461057,
          0.19471799462846912,
          0.19471799462846912,
          0.19650850492390332,
          0.19650850492390332,
          0.19740376007162042,
          0.19740376007162042,
          0.20232766338406447,
          0.20232766338406447,
          0.20322291853178157,
          0.20322291853178157,
          0.20411817367949867,
          0.20411817367949867,
          0.20501342882721577,
          0.20501342882721577,
          0.20769919427036707,
          0.20769919427036707,
          0.20993733213965982,
          0.20993733213965982,
          0.21038495971351837,
          0.21038495971351837,
          0.211727842435094,
          0.211727842435094,
          0.2135183527305282,
          0.2135183527305282,
          0.21396598030438674,
          0.21396598030438674,
          0.2144136078782453,
          0.2144136078782453,
          0.2162041181736795,
          0.2162041181736795,
          0.21844225604297224,
          0.21844225604297224,
          0.2188898836168308,
          0.2188898836168308,
          0.2197851387645479,
          0.2197851387645479,
          0.2215756490599821,
          0.2215756490599821,
          0.22202327663384064,
          0.22202327663384064,
          0.22202327663384064,
          0.2224709042076992,
          0.2224709042076992,
          0.2269471799462847,
          0.2269471799462847,
          0.22829006266786034,
          0.22829006266786034,
          0.2287376902417189,
          0.2287376902417189,
          0.229632945389436,
          0.229632945389436,
          0.2314234556848702,
          0.2314234556848702,
          0.2332139659803044,
          0.2332139659803044,
          0.23634735899731424,
          0.23634735899731424,
          0.2376902417188899,
          0.2376902417188899,
          0.23813786929274844,
          0.23813786929274844,
          0.23903312444046554,
          0.23903312444046554,
          0.2412712623097583,
          0.2412712623097583,
          0.2430617726051925,
          0.2430617726051925,
          0.24350940017905104,
          0.24350940017905104,
          0.24709042076991944,
          0.24709042076991944,
          0.24977618621307074,
          0.24977618621307074,
          0.25067144136078784,
          0.25067144136078784,
          0.25111906893464636,
          0.25111906893464636,
          0.25201432408236346,
          0.25201432408236346,
          0.25335720680393914,
          0.25335720680393914,
          0.25380483437779766,
          0.25380483437779766,
          0.25425246195165624,
          0.25425246195165624,
          0.25693822739480754,
          0.25693822739480754,
          0.25783348254252464,
          0.25783348254252464,
          0.25917636526410026,
          0.25917636526410026,
          0.26051924798567594,
          0.26051924798567594,
          0.26186213070725156,
          0.26186213070725156,
          0.26275738585496866,
          0.26275738585496866,
          0.26320501342882724,
          0.26320501342882724,
          0.26365264100268576,
          0.26365264100268576,
          0.26410026857654434,
          0.26410026857654434,
          0.26454789615040286,
          0.26454789615040286,
          0.26499552372426144,
          0.26499552372426144,
          0.26723366159355416,
          0.26723366159355416,
          0.26812891674127126,
          0.26812891674127126,
          0.26857654431512984,
          0.26857654431512984,
          0.26991942703670546,
          0.26991942703670546,
          0.27081468218442256,
          0.27081468218442256,
          0.2721575649059982,
          0.2721575649059982,
          0.27350044762757386,
          0.27350044762757386,
          0.2739480752014324,
          0.2739480752014324,
          0.27529095792300806,
          0.27529095792300806,
          0.2757385854968666,
          0.2757385854968666,
          0.27887197851387646,
          0.27887197851387646,
          0.279319606087735,
          0.279319606087735,
          0.27976723366159356,
          0.27976723366159356,
          0.2802148612354521,
          0.2802148612354521,
          0.28245299910474486,
          0.28245299910474486,
          0.2855863921217547,
          0.2855863921217547,
          0.28692927484333036,
          0.28692927484333036,
          0.2873769024171889,
          0.2873769024171889,
          0.2900626678603402,
          0.2900626678603402,
          0.2918531781557744,
          0.2918531781557744,
          0.29230080572963296,
          0.29230080572963296,
          0.2927484333034915,
          0.2927484333034915,
          0.2945389435989257,
          0.2945389435989257,
          0.29677708146821846,
          0.29677708146821846,
          0.297224709042077,
          0.29767233661593556,
          0.29767233661593556,
          0.29856759176365266,
          0.29856759176365266,
          0.30304386750223816,
          0.30304386750223816,
          0.3034914950760967,
          0.3034914950760967,
          0.30393912264995526,
          0.30393912264995526,
          0.3043867502238138,
          0.3043867502238138,
          0.30572963294538946,
          0.30572963294538946,
          0.306177260519248,
          0.306177260519248,
          0.30662488809310656,
          0.30662488809310656,
          0.30752014324082366,
          0.30752014324082366,
          0.3097582811101164,
          0.3097582811101164,
          0.3106535362578335,
          0.3106535362578335,
          0.3119964189794091,
          0.3119964189794091,
          0.3128916741271262,
          0.3128916741271262,
          0.315129811996419,
          0.315129811996419,
          0.3169203222918532,
          0.3169203222918532,
          0.3178155774395703,
          0.3178155774395703,
          0.3187108325872874,
          0.3187108325872874,
          0.3196060877350045,
          0.3196060877350045,
          0.3205013428827216,
          0.3205013428827216,
          0.3209489704565801,
          0.3209489704565801,
          0.3213965980304387,
          0.3213965980304387,
          0.3231871083258729,
          0.3231871083258729,
          0.32408236347359,
          0.32408236347359,
          0.3245299910474485,
          0.3245299910474485,
          0.3254252461951656,
          0.3254252461951656,
          0.3258728737690242,
          0.3258728737690242,
          0.3258728737690242,
          0.3267681289167413,
          0.3267681289167413,
          0.3285586392121755,
          0.3285586392121755,
          0.329006266786034,
          0.329006266786034,
          0.3303491495076097,
          0.3307967770814682,
          0.3307967770814682,
          0.3312444046553268,
          0.3312444046553268,
          0.3316920322291853,
          0.3316920322291853,
          0.3321396598030439,
          0.3321396598030439,
          0.3325872873769024,
          0.3325872873769024,
          0.3339301700984781,
          0.3339301700984781,
          0.3357206803939123,
          0.3357206803939123,
          0.3361683079677708,
          0.3361683079677708,
          0.3410922112802149,
          0.3410922112802149,
          0.3415398388540734,
          0.3415398388540734,
          0.341987466427932,
          0.341987466427932,
          0.3424350940017905,
          0.3428827215756491,
          0.3428827215756491,
          0.3442256042972247,
          0.3442256042972247,
          0.3446732318710833,
          0.3446732318710833,
          0.3455684870188004,
          0.3455684870188004,
          0.34646374216651743,
          0.34646374216651743,
          0.346911369740376,
          0.346911369740376,
          0.34735899731423453,
          0.34735899731423453,
          0.3478066248880931,
          0.3478066248880931,
          0.3487018800358102,
          0.3495971351835273,
          0.3495971351835273,
          0.35004476275738583,
          0.35004476275738583,
          0.3513876454789615,
          0.3513876454789615,
          0.35183527305282003,
          0.35183527305282003,
          0.3522829006266786,
          0.3522829006266786,
          0.35362578334825423,
          0.35362578334825423,
          0.3540734109221128,
          0.3540734109221128,
          0.35452103849597133,
          0.35452103849597133,
          0.355863921217547,
          0.355863921217547,
          0.35720680393912263,
          0.35720680393912263,
          0.3576544315129812,
          0.35810205908683973,
          0.3585496866606983,
          0.3594449418084154,
          0.3621307072515667,
          0.3621307072515667,
          0.36257833482542523,
          0.36257833482542523,
          0.3630259623992838,
          0.3630259623992838,
          0.36347358997314233,
          0.36347358997314233,
          0.3639212175470009,
          0.3639212175470009,
          0.36436884512085943,
          0.36436884512085943,
          0.3657117278424351,
          0.3657117278424351,
          0.36615935541629363,
          0.36615935541629363,
          0.36615935541629363,
          0.36705461056401073,
          0.36705461056401073,
          0.3675022381378693,
          0.3675022381378693,
          0.36884512085944493,
          0.36884512085944493,
          0.3692927484333035,
          0.3701880035810206,
          0.3701880035810206,
          0.3719785138764548,
          0.3719785138764548,
          0.37242614145031333,
          0.37242614145031333,
          0.373769024171889,
          0.373769024171889,
          0.3746642793196061,
          0.3746642793196061,
          0.37511190689346463,
          0.37511190689346463,
          0.3755595344673232,
          0.3755595344673232,
          0.37600716204118173,
          0.37600716204118173,
          0.3764547896150403,
          0.3764547896150403,
          0.37690241718889883,
          0.37690241718889883,
          0.37779767233661593,
          0.37779767233661593,
          0.3782452999104745,
          0.3782452999104745,
          0.37869292748433303,
          0.37869292748433303,
          0.3791405550581916,
          0.3791405550581916,
          0.37958818263205013,
          0.37958818263205013,
          0.3800358102059087,
          0.3800358102059087,
          0.38137869292748433,
          0.38137869292748433,
          0.38137869292748433,
          0.38227394807520143,
          0.38227394807520143,
          0.38272157564906,
          0.38272157564906,
          0.38406445837063563,
          0.38406445837063563,
          0.3845120859444942,
          0.3845120859444942,
          0.38540734109221125,
          0.38540734109221125,
          0.38585496866606983,
          0.38630259623992835,
          0.38630259623992835,
          0.38719785138764545,
          0.38719785138764545,
          0.38854073410922113,
          0.38854073410922113,
          0.38898836168307965,
          0.38898836168307965,
          0.38988361683079675,
          0.38988361683079675,
          0.39077887197851385,
          0.39077887197851385,
          0.39122649955237243,
          0.39122649955237243,
          0.39212175470008953,
          0.39212175470008953,
          0.39256938227394805,
          0.39256938227394805,
          0.39435989256938225,
          0.39435989256938225,
          0.39615040286481645,
          0.39615040286481645,
          0.39615040286481645,
          0.39794091316025065,
          0.39794091316025065,
          0.39838854073410923,
          0.39838854073410923,
          0.40152193375111905,
          0.40152193375111905,
          0.40241718889883615,
          0.40241718889883615,
          0.40331244404655325,
          0.40331244404655325,
          0.40331244404655325,
          0.40331244404655325,
          0.40599820948970455,
          0.40599820948970455,
          0.40644583706356313,
          0.40644583706356313,
          0.40734109221128023,
          0.40734109221128023,
          0.40778871978513875,
          0.40778871978513875,
          0.40913160250671443,
          0.40913160250671443,
          0.40957923008057295,
          0.40957923008057295,
          0.41092211280214863,
          0.41092211280214863,
          0.41136974037600715,
          0.41136974037600715,
          0.41226499552372425,
          0.41226499552372425,
          0.41316025067144135,
          0.41316025067144135,
          0.41360787824529993,
          0.41360787824529993,
          0.41405550581915845,
          0.41405550581915845,
          0.41495076096687555,
          0.41495076096687555,
          0.41629364368845123,
          0.41629364368845123,
          0.41763652641002685,
          0.41763652641002685,
          0.42032229185317815,
          0.42032229185317815,
          0.42076991942703673,
          0.42076991942703673,
          0.42211280214861235,
          0.42211280214861235,
          0.42256042972247093,
          0.42256042972247093,
          0.423455684870188,
          0.423455684870188,
          0.42390331244404655,
          0.42390331244404655,
          0.42479856759176365,
          0.42479856759176365,
          0.4252461951656222,
          0.4252461951656222,
          0.4261414503133393,
          0.4261414503133393,
          0.42658907788719785,
          0.42658907788719785,
          0.4279319606087735,
          0.4279319606087735,
          0.42837958818263205,
          0.42837958818263205,
          0.4288272157564906,
          0.4288272157564906,
          0.43017009847806625,
          0.43017009847806625,
          0.43106535362578335,
          0.43106535362578335,
          0.4315129811996419,
          0.4315129811996419,
          0.43643688451208595,
          0.43643688451208595,
          0.4377797672336616,
          0.4377797672336616,
          0.4386750223813787,
          0.4386750223813787,
          0.43912264995523725,
          0.43912264995523725,
          0.4395702775290958,
          0.4395702775290958,
          0.44001790510295435,
          0.44001790510295435,
          0.4404655326768129,
          0.4404655326768129,
          0.44091316025067145,
          0.44091316025067145,
          0.44180841539838855,
          0.44180841539838855,
          0.4431512981199642,
          0.4431512981199642,
          0.44449418084153985,
          0.44449418084153985,
          0.44538943598925695,
          0.44538943598925695,
          0.44717994628469115,
          0.44717994628469115,
          0.4494180841539839,
          0.4494180841539839,
          0.44986571172784245,
          0.44986571172784245,
          0.450313339301701,
          0.450313339301701,
          0.45076096687555955,
          0.45076096687555955,
          0.4512085944494181,
          0.4512085944494181,
          0.4521038495971352,
          0.4521038495971352,
          0.45344673231871085,
          0.45344673231871085,
          0.45434198746642795,
          0.45434198746642795,
          0.4547896150402865,
          0.4547896150402865,
          0.45523724261414505,
          0.45523724261414505,
          0.4556848701880036,
          0.4556848701880036,
          0.45613249776186215,
          0.45613249776186215,
          0.4565801253357207,
          0.4565801253357207,
          0.4574753804834378,
          0.4574753804834378,
          0.459265890778872,
          0.459265890778872,
          0.4610564010743062,
          0.4610564010743062,
          0.46150402864816475,
          0.46150402864816475,
          0.4637421665174575,
          0.4637421665174575,
          0.4650850492390331,
          0.4650850492390331,
          0.4673231871083259,
          0.4673231871083259,
          0.4686660698299015,
          0.4686660698299015,
          0.4695613249776186,
          0.4695613249776186,
          0.4700089525514772,
          0.4700089525514772,
          0.4713518352730528,
          0.4713518352730528,
          0.4722470904207699,
          0.4722470904207699,
          0.473142345568487,
          0.473142345568487,
          0.4744852282900627,
          0.4744852282900627,
          0.4762757385854969,
          0.4762757385854969,
          0.4780662488809311,
          0.4780662488809311,
          0.4789615040286482,
          0.4789615040286482,
          0.4794091316025067,
          0.4794091316025067,
          0.4807520143240824,
          0.4807520143240824,
          0.4816472694717995,
          0.4816472694717995,
          0.4838854073410922,
          0.4838854073410922,
          0.4852282900626679,
          0.4852282900626679,
          0.4870188003581021,
          0.4870188003581021,
          0.4883616830796777,
          0.4883616830796777,
          0.4897045658012534,
          0.4897045658012534,
          0.4905998209489705,
          0.4905998209489705,
          0.4923903312444047,
          0.4923903312444047,
          0.4928379588182632,
          0.4928379588182632,
          0.4932855863921218,
          0.4932855863921218,
          0.4946284691136974,
          0.4946284691136974,
          0.495076096687556,
          0.495076096687556,
          0.4964189794091316,
          0.4964189794091316,
          0.4995523724261415,
          0.4995523724261415,
          0.5022381378692927,
          0.5022381378692927,
          0.5031333930170099,
          0.5031333930170099,
          0.5035810205908684,
          0.5035810205908684,
          0.5040286481647269,
          0.5040286481647269,
          0.5044762757385854,
          0.5044762757385854,
          0.5049239033124441,
          0.5049239033124441,
          0.5053715308863026,
          0.5053715308863026,
          0.5058191584601611,
          0.5058191584601611,
          0.5062667860340196,
          0.5062667860340196,
          0.5071620411817368,
          0.5071620411817368,
          0.5080572963294538,
          0.5080572963294538,
          0.5085049239033125,
          0.5085049239033125,
          0.5102954341987467,
          0.5102954341987467,
          0.5116383169203222,
          0.5116383169203222,
          0.5125335720680394,
          0.5125335720680394,
          0.5129811996418979,
          0.5129811996418979,
          0.5134288272157564,
          0.5134288272157564,
          0.5138764547896151,
          0.5138764547896151,
          0.5156669650850493,
          0.5156669650850493,
          0.5161145926589078,
          0.5161145926589078,
          0.5165622202327663,
          0.5165622202327663,
          0.5170098478066248,
          0.5170098478066248,
          0.517905102954342,
          0.517905102954342,
          0.5196956132497762,
          0.5196956132497762,
          0.5214861235452104,
          0.5214861235452104,
          0.5232766338406446,
          0.5232766338406446,
          0.5237242614145031,
          0.5237242614145031,
          0.5255147717099373,
          0.5255147717099373,
          0.5264100268576545,
          0.5264100268576545,
          0.526857654431513,
          0.526857654431513,
          0.5273052820053715,
          0.5273052820053715,
          0.52775290957923,
          0.52775290957923,
          0.5282005371530887,
          0.5282005371530887,
          0.5299910474485229,
          0.5299910474485229,
          0.5304386750223814,
          0.5304386750223814,
          0.5308863025962399,
          0.5308863025962399,
          0.5326768128916741,
          0.5326768128916741,
          0.5331244404655326,
          0.5331244404655326,
          0.5340196956132498,
          0.5340196956132498,
          0.5340196956132498,
          0.5340196956132498,
          0.5340196956132498,
          0.5340196956132498,
          0.5344673231871083,
          0.5344673231871083,
          0.535810205908684,
          0.535810205908684,
          0.536705461056401,
          0.536705461056401,
          0.5371530886302597,
          0.5371530886302597,
          0.5376007162041182,
          0.5376007162041182,
          0.5380483437779767,
          0.5380483437779767,
          0.5402864816472694,
          0.5402864816472694,
          0.5411817367949866,
          0.5411817367949866,
          0.5425246195165622,
          0.5425246195165622,
          0.5434198746642793,
          0.5434198746642793,
          0.5443151298119964,
          0.5443151298119964,
          0.544762757385855,
          0.544762757385855,
          0.5452103849597135,
          0.5452103849597135,
          0.5470008952551477,
          0.5470008952551477,
          0.5474485228290062,
          0.5474485228290062,
          0.5478961504028648,
          0.5478961504028648,
          0.5478961504028648,
          0.5478961504028648,
          0.5487914055505819,
          0.5487914055505819,
          0.549686660698299,
          0.549686660698299,
          0.5514771709937332,
          0.5514771709937332,
          0.5519247985675918,
          0.5519247985675918,
          0.5523724261414503,
          0.5523724261414503,
          0.553715308863026,
          0.553715308863026,
          0.5555058191584602,
          0.5555058191584602,
          0.5559534467323187,
          0.5559534467323187,
          0.5564010743061772,
          0.5564010743061772,
          0.5568487018800358,
          0.5568487018800358,
          0.5572963294538944,
          0.5572963294538944,
          0.5581915846016114,
          0.5581915846016114,
          0.55863921217547,
          0.55863921217547,
          0.5590868397493286,
          0.5590868397493286,
          0.5604297224709042,
          0.5604297224709042,
          0.5608773500447628,
          0.5608773500447628,
          0.5617726051924798,
          0.5617726051924798,
          0.563563115487914,
          0.563563115487914,
          0.5644583706356312,
          0.5644583706356312,
          0.5653536257833482,
          0.5653536257833482,
          0.5658012533572068,
          0.5658012533572068,
          0.5666965085049239,
          0.5666965085049239,
          0.567591763652641,
          0.567591763652641,
          0.5689346463742166,
          0.5689346463742166,
          0.5693822739480752,
          0.5693822739480752,
          0.5698299015219338,
          0.5698299015219338,
          0.5707251566696508,
          0.5707251566696508,
          0.5711727842435094,
          0.5711727842435094,
          0.5711727842435094,
          0.5711727842435094,
          0.571620411817368,
          0.571620411817368,
          0.572515666965085,
          0.572515666965085,
          0.5734109221128022,
          0.5734109221128022,
          0.5738585496866607,
          0.5738585496866607,
          0.5743061772605192,
          0.5743061772605192,
          0.5747538048343778,
          0.5747538048343778,
          0.5756490599820949,
          0.5756490599820949,
          0.576544315129812,
          0.576544315129812,
          0.5769919427036705,
          0.5769919427036705,
          0.5774395702775291,
          0.5774395702775291,
          0.5778871978513876,
          0.5778871978513876,
          0.5787824529991047,
          0.5787824529991047,
          0.5796777081468218,
          0.5796777081468218,
          0.5801253357206804,
          0.5801253357206804,
          0.5801253357206804,
          0.5801253357206804,
          0.5819158460161146,
          0.5819158460161146,
          0.5823634735899731,
          0.5823634735899731,
          0.5837063563115488,
          0.5837063563115488,
          0.5841539838854073,
          0.5841539838854073,
          0.5846016114592659,
          0.5846016114592659,
          0.5863921217547001,
          0.5863921217547001,
          0.5868397493285586,
          0.5868397493285586,
          0.5872873769024172,
          0.5872873769024172,
          0.5877350044762757,
          0.5877350044762757,
          0.5886302596239928,
          0.5886302596239928,
          0.5890778871978514,
          0.5890778871978514,
          0.5895255147717099,
          0.5895255147717099,
          0.5899731423455685,
          0.5899731423455685,
          0.5913160250671441,
          0.5913160250671441,
          0.5917636526410027,
          0.5917636526410027,
          0.5922112802148612,
          0.5922112802148612,
          0.5931065353625783,
          0.5931065353625783,
          0.5935541629364369,
          0.5935541629364369,
          0.5940017905102954,
          0.5940017905102954,
          0.5948970456580125,
          0.5948970456580125,
          0.5953446732318711,
          0.5953446732318711,
          0.5971351835273053,
          0.5971351835273053,
          0.5971351835273053,
          0.5971351835273053,
          0.5975828111011638,
          0.5975828111011638,
          0.5984780662488809,
          0.5984780662488809,
          0.5989256938227395,
          0.5989256938227395,
          0.599373321396598,
          0.599373321396598,
          0.5998209489704566,
          0.5998209489704566,
          0.6002685765443151,
          0.6002685765443151,
          0.6007162041181737,
          0.6007162041181737,
          0.6011638316920322,
          0.6011638316920322,
          0.6025067144136079,
          0.6025067144136079,
          0.6029543419874664,
          0.6029543419874664,
          0.603401969561325,
          0.603401969561325,
          0.6038495971351835,
          0.6038495971351835,
          0.6042972247090421,
          0.6042972247090421,
          0.6047448522829006,
          0.6047448522829006,
          0.6060877350044763,
          0.6060877350044763,
          0.6074306177260519,
          0.6074306177260519,
          0.6078782452999105,
          0.6078782452999105,
          0.6078782452999105,
          0.6078782452999105,
          0.608325872873769,
          0.608325872873769,
          0.6087735004476276,
          0.6087735004476276,
          0.6092211280214861,
          0.6092211280214861,
          0.6096687555953447,
          0.6096687555953447,
          0.6096687555953447,
          0.6096687555953447,
          0.6101163831692032,
          0.6101163831692032,
          0.6110116383169203,
          0.6110116383169203,
          0.6114592658907789,
          0.6114592658907789,
          0.6128021486123545,
          0.6128021486123545,
          0.6132497761862131,
          0.6132497761862131,
          0.6141450313339302,
          0.6141450313339302,
          0.6141450313339302,
          0.6141450313339302,
          0.6145926589077887,
          0.6145926589077887,
          0.6168307967770814,
          0.6168307967770814,
          0.61727842435094,
          0.61727842435094,
          0.6177260519247986,
          0.6177260519247986,
          0.6181736794986571,
          0.6181736794986571,
          0.6195165622202328,
          0.6195165622202328,
          0.6204118173679498,
          0.6204118173679498,
          0.6208594449418084,
          0.6208594449418084,
          0.621307072515667,
          0.621307072515667,
          0.6217547000895255,
          0.6217547000895255,
          0.622202327663384,
          0.622202327663384,
          0.6226499552372426,
          0.6226499552372426,
          0.6235452103849597,
          0.6235452103849597,
          0.6239928379588182,
          0.6239928379588182,
          0.6244404655326768,
          0.6244404655326768,
          0.6248880931065354,
          0.6248880931065354,
          0.6257833482542524,
          0.6257833482542524,
          0.6266786034019696,
          0.6266786034019696,
          0.6280214861235452,
          0.6280214861235452,
          0.6284691136974038,
          0.6284691136974038,
          0.6289167412712623,
          0.6289167412712623,
          0.6298119964189794,
          0.6298119964189794,
          0.6307072515666965,
          0.6307072515666965,
          0.6316025067144136,
          0.6316025067144136,
          0.6320501342882722,
          0.6320501342882722,
          0.6324977618621307,
          0.6324977618621307,
          0.6333930170098478,
          0.6333930170098478,
          0.6338406445837064,
          0.6338406445837064,
          0.6347358997314234,
          0.6347358997314234,
          0.635183527305282,
          0.635183527305282,
          0.6356311548791406,
          0.6356311548791406,
          0.6360787824529991,
          0.6360787824529991,
          0.6365264100268576,
          0.6365264100268576,
          0.6374216651745748,
          0.6374216651745748,
          0.6383169203222918,
          0.6383169203222918,
          0.639212175470009,
          0.639212175470009,
          0.640107430617726,
          0.640107430617726,
          0.6405550581915846,
          0.6405550581915846,
          0.6410026857654432,
          0.6410026857654432,
          0.6418979409131602,
          0.6418979409131602,
          0.6427931960608774,
          0.6427931960608774,
          0.6436884512085944,
          0.6436884512085944,
          0.644136078782453,
          0.644136078782453,
          0.6463742166517458,
          0.6463742166517458,
          0.6477170993733214,
          0.6477170993733214,
          0.649059982094897,
          0.649059982094897,
          0.6499552372426142,
          0.6499552372426142,
          0.6508504923903312,
          0.6508504923903312,
          0.6512981199641898,
          0.6512981199641898,
          0.6521933751119069,
          0.6521933751119069,
          0.6526410026857654,
          0.6526410026857654,
          0.653088630259624,
          0.653088630259624,
          0.6539838854073411,
          0.6539838854073411,
          0.6539838854073411,
          0.6539838854073411,
          0.6544315129811996,
          0.6544315129811996,
          0.6557743957027753,
          0.6557743957027753,
          0.657117278424351,
          0.657117278424351,
          0.658012533572068,
          0.658012533572068,
          0.6611459265890779,
          0.6611459265890779,
          0.6629364368845121,
          0.6629364368845121,
          0.6633840644583706,
          0.6633840644583706,
          0.6638316920322291,
          0.6638316920322291,
          0.6651745747538048,
          0.6651745747538048,
          0.6678603401969562,
          0.6678603401969562,
          0.6687555953446732,
          0.6687555953446732,
          0.6705461056401074,
          0.6705461056401074,
          0.6709937332139659,
          0.6709937332139659,
          0.6723366159355416,
          0.6723366159355416,
          0.6732318710832588,
          0.6732318710832588,
          0.6736794986571173,
          0.6736794986571173,
          0.6754700089525515,
          0.6754700089525515,
          0.67591763652641,
          0.67591763652641,
          0.6763652641002685,
          0.6763652641002685,
          0.6768128916741272,
          0.6768128916741272,
          0.6777081468218442,
          0.6777081468218442,
          0.6781557743957027,
          0.6781557743957027,
          0.6790510295434199,
          0.6790510295434199,
          0.6794986571172784,
          0.6794986571172784,
          0.6803939122649956,
          0.6803939122649956,
          0.6808415398388541,
          0.6808415398388541,
          0.6812891674127126,
          0.6812891674127126,
          0.6817367949865711,
          0.6817367949865711,
          0.6826320501342883,
          0.6826320501342883,
          0.6830796777081468,
          0.6830796777081468,
          0.683974932855864,
          0.683974932855864,
          0.6853178155774395,
          0.6853178155774395,
          0.6857654431512982,
          0.6857654431512982,
          0.6862130707251567,
          0.6862130707251567,
          0.6875559534467324,
          0.6875559534467324,
          0.6884512085944494,
          0.6884512085944494,
          0.6888988361683079,
          0.6888988361683079,
          0.6902417188898836,
          0.6902417188898836,
          0.6915846016114593,
          0.6915846016114593,
          0.6924798567591763,
          0.6924798567591763,
          0.6933751119068935,
          0.6933751119068935,
          0.6942703670546105,
          0.6942703670546105,
          0.6947179946284691,
          0.6947179946284691,
          0.6969561324977619,
          0.6969561324977619,
          0.6974037600716204,
          0.6974037600716204,
          0.6978513876454789,
          0.6978513876454789,
          0.6987466427931961,
          0.6987466427931961,
          0.6996418979409131,
          0.6996418979409131,
          0.7005371530886303,
          0.7005371530886303,
          0.7014324082363473,
          0.7014324082363473,
          0.702775290957923,
          0.702775290957923,
          0.7032229185317815,
          0.7032229185317815,
          0.7036705461056401,
          0.7036705461056401,
          0.7045658012533572,
          0.7045658012533572,
          0.7054610564010743,
          0.7054610564010743,
          0.7063563115487914,
          0.7063563115487914,
          0.7072515666965085,
          0.7072515666965085,
          0.7094897045658013,
          0.7094897045658013,
          0.7099373321396598,
          0.7099373321396598,
          0.7112802148612355,
          0.7112802148612355,
          0.711727842435094,
          0.711727842435094,
          0.7135183527305282,
          0.7135183527305282,
          0.7135183527305282,
          0.7144136078782453,
          0.7144136078782453,
          0.7153088630259624,
          0.7153088630259624,
          0.7162041181736795,
          0.7162041181736795,
          0.7170993733213966,
          0.7170993733213966,
          0.7175470008952551,
          0.7175470008952551,
          0.7197851387645479,
          0.7197851387645479,
          0.720680393912265,
          0.720680393912265,
          0.720680393912265,
          0.7215756490599821,
          0.7215756490599821,
          0.7220232766338407,
          0.7220232766338407,
          0.7229185317815577,
          0.7229185317815577,
          0.7233661593554163,
          0.7233661593554163,
          0.7238137869292749,
          0.7238137869292749,
          0.7242614145031334,
          0.7242614145031334,
          0.7247090420769919,
          0.7247090420769919,
          0.7256042972247091,
          0.7256042972247091,
          0.7264995523724261,
          0.7264995523724261,
          0.7287376902417189,
          0.7287376902417189,
          0.7291853178155775,
          0.7291853178155775,
          0.729632945389436,
          0.729632945389436,
          0.7314234556848702,
          0.7314234556848702,
          0.7318710832587287,
          0.7318710832587287,
          0.7332139659803044,
          0.7332139659803044,
          0.7341092211280215,
          0.7341092211280215,
          0.73455684870188,
          0.73455684870188,
          0.7350044762757386,
          0.7350044762757386,
          0.7354521038495971,
          0.7354521038495971,
          0.7358997314234557,
          0.7358997314234557,
          0.7372426141450313,
          0.7372426141450313,
          0.7376902417188899,
          0.7376902417188899,
          0.7381378692927484,
          0.7381378692927484,
          0.738585496866607,
          0.738585496866607,
          0.7390331244404655,
          0.7390331244404655,
          0.7403760071620412,
          0.7403760071620412,
          0.7408236347358997,
          0.7408236347358997,
          0.7412712623097583,
          0.7412712623097583,
          0.7417188898836168,
          0.7417188898836168,
          0.7421665174574754,
          0.7421665174574754,
          0.7426141450313339,
          0.7426141450313339,
          0.743509400179051,
          0.743509400179051,
          0.7444046553267681,
          0.7444046553267681,
          0.7448522829006267,
          0.7448522829006267,
          0.7461951656222023,
          0.7461951656222023,
          0.7466427931960609,
          0.7466427931960609,
          0.7470904207699194,
          0.7470904207699194,
          0.747538048343778,
          0.747538048343778,
          0.7479856759176365,
          0.7479856759176365,
          0.7488809310653536,
          0.7488809310653536,
          0.7493285586392122,
          0.7493285586392122,
          0.7506714413607878,
          0.7506714413607878,
          0.7520143240823635,
          0.7520143240823635,
          0.752461951656222,
          0.752461951656222,
          0.7529095792300806,
          0.7529095792300806,
          0.7538048343777977,
          0.7538048343777977,
          0.7547000895255148,
          0.7547000895255148,
          0.7560429722470904,
          0.7560429722470904,
          0.756490599820949,
          0.756490599820949,
          0.7573858549686661,
          0.7573858549686661,
          0.7578334825425246,
          0.7578334825425246,
          0.7591763652641003,
          0.7591763652641003,
          0.7596239928379588,
          0.7596239928379588,
          0.7596239928379588,
          0.7596239928379588,
          0.7600716204118174,
          0.7600716204118174,
          0.7609668755595345,
          0.7609668755595345,
          0.761414503133393,
          0.761414503133393,
          0.7618621307072516,
          0.7618621307072516,
          0.7623097582811101,
          0.7623097582811101,
          0.7627573858549687,
          0.7627573858549687,
          0.7632050134288272,
          0.7632050134288272,
          0.7641002685765443,
          0.7641002685765443,
          0.7645478961504029,
          0.7645478961504029,
          0.76544315129812,
          0.76544315129812,
          0.7658907788719785,
          0.7658907788719785,
          0.7663384064458371,
          0.7663384064458371,
          0.7663384064458371,
          0.7667860340196956,
          0.7667860340196956,
          0.7681289167412713,
          0.7681289167412713,
          0.7685765443151298,
          0.7685765443151298,
          0.770367054610564,
          0.770367054610564,
          0.7712623097582811,
          0.7712623097582811,
          0.7717099373321397,
          0.7717099373321397,
          0.7721575649059982,
          0.7721575649059982,
          0.7721575649059982,
          0.7730528200537153,
          0.7730528200537153,
          0.7735004476275739,
          0.7735004476275739,
          0.7739480752014324,
          0.7739480752014324,
          0.7752909579230081,
          0.7752909579230081,
          0.7757385854968666,
          0.7757385854968666,
          0.7761862130707251,
          0.7761862130707251,
          0.7766338406445837,
          0.7766338406445837,
          0.7770814682184423,
          0.7770814682184423,
          0.7779767233661593,
          0.7779767233661593,
          0.7784243509400179,
          0.7784243509400179,
          0.7784243509400179,
          0.7784243509400179,
          0.7788719785138765,
          0.7788719785138765,
          0.7797672336615935,
          0.7797672336615935,
          0.7811101163831692,
          0.7811101163831692,
          0.7815577439570277,
          0.7815577439570277,
          0.7829006266786034,
          0.7829006266786034,
          0.7833482542524619,
          0.7833482542524619,
          0.7837958818263205,
          0.7837958818263205,
          0.7842435094001791,
          0.7842435094001791,
          0.7864816472694718,
          0.7864816472694718,
          0.7878245299910475,
          0.7878245299910475,
          0.788272157564906,
          0.788272157564906,
          0.7887197851387645,
          0.7887197851387645,
          0.7896150402864817,
          0.7896150402864817,
          0.7900626678603402,
          0.7900626678603402,
          0.7905102954341987,
          0.7905102954341987,
          0.7909579230080573,
          0.7909579230080573,
          0.7914055505819159,
          0.7914055505819159,
          0.7923008057296329,
          0.7923008057296329,
          0.7936436884512086,
          0.7936436884512086,
          0.7945389435989257,
          0.7945389435989257,
          0.7945389435989257,
          0.7945389435989257,
          0.7949865711727843,
          0.7949865711727843,
          0.7954341987466428,
          0.7954341987466428,
          0.7963294538943599,
          0.7963294538943599,
          0.7967770814682185,
          0.7967770814682185,
          0.797224709042077,
          0.797224709042077,
          0.7976723366159355,
          0.7976723366159355,
          0.7981199641897941,
          0.7981199641897941,
          0.7985675917636527,
          0.7985675917636527,
          0.7990152193375112,
          0.7990152193375112,
          0.7994628469113697,
          0.7994628469113697,
          0.8003581020590869,
          0.8003581020590869,
          0.8017009847806625,
          0.8017009847806625,
          0.8021486123545211,
          0.8021486123545211,
          0.8025962399283796,
          0.8025962399283796,
          0.8039391226499553,
          0.8039391226499553,
          0.8043867502238138,
          0.8043867502238138,
          0.8048343777976723,
          0.8048343777976723,
          0.8052820053715309,
          0.8052820053715309,
          0.8057296329453895,
          0.8057296329453895,
          0.806177260519248,
          0.806177260519248,
          0.8066248880931065,
          0.8066248880931065,
          0.8075201432408237,
          0.8075201432408237,
          0.8084153983885407,
          0.8084153983885407,
          0.8088630259623992,
          0.8088630259623992,
          0.8097582811101164,
          0.8097582811101164,
          0.8111011638316921,
          0.8111011638316921,
          0.8115487914055506,
          0.8115487914055506,
          0.8119964189794091,
          0.8119964189794091,
          0.8124440465532676,
          0.8124440465532676,
          0.8128916741271263,
          0.8128916741271263,
          0.8133393017009848,
          0.8133393017009848,
          0.8137869292748433,
          0.8137869292748433,
          0.8146821844225605,
          0.8146821844225605,
          0.815129811996419,
          0.815129811996419,
          0.816025067144136,
          0.816025067144136,
          0.8164726947179947,
          0.8164726947179947,
          0.8182632050134289,
          0.8182632050134289,
          0.8187108325872874,
          0.8187108325872874,
          0.8196060877350044,
          0.8196060877350044,
          0.8209489704565801,
          0.8209489704565801,
          0.8218442256042973,
          0.8218442256042973,
          0.8222918531781558,
          0.8222918531781558,
          0.8227394807520143,
          0.8227394807520143,
          0.8236347358997315,
          0.8236347358997315,
          0.8245299910474485,
          0.8245299910474485,
          0.8254252461951657,
          0.8254252461951657,
          0.8258728737690242,
          0.8258728737690242,
          0.8263205013428827,
          0.8263205013428827,
          0.8267681289167412,
          0.8267681289167412,
          0.8272157564905999,
          0.8272157564905999,
          0.8281110116383169,
          0.8281110116383169,
          0.8285586392121754,
          0.8285586392121754,
          0.8290062667860341,
          0.8290062667860341,
          0.8294538943598926,
          0.8294538943598926,
          0.8299015219337511,
          0.8299015219337511,
          0.8303491495076096,
          0.8303491495076096,
          0.8312444046553268,
          0.8312444046553268,
          0.8321396598030438,
          0.8321396598030438,
          0.833034914950761,
          0.833034914950761,
          0.833930170098478,
          0.833930170098478,
          0.8343777976723367,
          0.8343777976723367,
          0.8348254252461952,
          0.8348254252461952,
          0.8352730528200537,
          0.8352730528200537,
          0.8357206803939122,
          0.8357206803939122,
          0.8361683079677709,
          0.8361683079677709,
          0.8384064458370636,
          0.8384064458370636,
          0.8397493285586393,
          0.8397493285586393,
          0.8401969561324978,
          0.8401969561324978,
          0.8406445837063563,
          0.8406445837063563,
          0.8410922112802148,
          0.8410922112802148,
          0.841987466427932,
          0.841987466427932,
          0.8424350940017905,
          0.8424350940017905,
          0.842882721575649,
          0.842882721575649,
          0.8433303491495077,
          0.8433303491495077,
          0.8437779767233662,
          0.8437779767233662,
          0.8451208594449419,
          0.8451208594449419,
          0.8455684870188004,
          0.8455684870188004,
          0.8460161145926589,
          0.8460161145926589,
          0.8473589973142346,
          0.8473589973142346,
          0.8478066248880931,
          0.8478066248880931,
          0.8487018800358102,
          0.8487018800358102,
          0.8495971351835273,
          0.8495971351835273,
          0.8500447627573858,
          0.8500447627573858,
          0.850940017905103,
          0.850940017905103,
          0.8522829006266786,
          0.8522829006266786,
          0.8527305282005372,
          0.8527305282005372,
          0.8531781557743957,
          0.8531781557743957,
          0.8536257833482542,
          0.8536257833482542,
          0.8540734109221128,
          0.8540734109221128,
          0.8549686660698299,
          0.8549686660698299,
          0.8554162936436884,
          0.8554162936436884,
          0.855863921217547,
          0.855863921217547,
          0.8563115487914056,
          0.8563115487914056,
          0.8567591763652641,
          0.8567591763652641,
          0.8572068039391226,
          0.8572068039391226,
          0.8576544315129812,
          0.8576544315129812,
          0.8585496866606983,
          0.8585496866606983,
          0.8589973142345568,
          0.8589973142345568,
          0.8594449418084154,
          0.8594449418084154,
          0.859892569382274,
          0.859892569382274,
          0.8603401969561325,
          0.8603401969561325,
          0.860787824529991,
          0.860787824529991,
          0.8625783348254252,
          0.8625783348254252,
          0.8630259623992838,
          0.8630259623992838,
          0.8634735899731424,
          0.8634735899731424,
          0.8639212175470009,
          0.8639212175470009,
          0.864816472694718,
          0.864816472694718,
          0.8652641002685766,
          0.8652641002685766,
          0.8657117278424351,
          0.8657117278424351,
          0.8661593554162936,
          0.8661593554162936,
          0.8666069829901522,
          0.8666069829901522,
          0.8670546105640108,
          0.8670546105640108,
          0.8679498657117278,
          0.8679498657117278,
          0.8683974932855864,
          0.8683974932855864,
          0.868845120859445,
          0.868845120859445,
          0.8692927484333035,
          0.8692927484333035,
          0.869740376007162,
          0.869740376007162,
          0.8706356311548792,
          0.8706356311548792,
          0.8710832587287377,
          0.8710832587287377,
          0.8715308863025962,
          0.8715308863025962,
          0.8719785138764548,
          0.8719785138764548,
          0.8724261414503134,
          0.8724261414503134,
          0.8728737690241719,
          0.8728737690241719,
          0.8733213965980304,
          0.8733213965980304,
          0.873769024171889,
          0.873769024171889,
          0.8742166517457476,
          0.8742166517457476,
          0.8746642793196061,
          0.8746642793196061,
          0.8755595344673232,
          0.8755595344673232,
          0.8760071620411818,
          0.8760071620411818,
          0.8769024171888988,
          0.8769024171888988,
          0.877797672336616,
          0.877797672336616,
          0.8782452999104745,
          0.8782452999104745,
          0.878692927484333,
          0.878692927484333,
          0.8791405550581916,
          0.8791405550581916,
          0.8795881826320502,
          0.8795881826320502,
          0.8800358102059087,
          0.8800358102059087,
          0.8809310653536258,
          0.8809310653536258,
          0.8813786929274844,
          0.8813786929274844,
          0.8818263205013429,
          0.8818263205013429,
          0.88272157564906,
          0.88272157564906,
          0.8831692032229186,
          0.8831692032229186,
          0.8836168307967771,
          0.8836168307967771,
          0.8840644583706356,
          0.8840644583706356,
          0.8845120859444942,
          0.8845120859444942,
          0.8849597135183527,
          0.8849597135183527,
          0.8854073410922113,
          0.8854073410922113,
          0.8858549686660698,
          0.8858549686660698,
          0.8867502238137869,
          0.8867502238137869,
          0.887645478961504,
          0.887645478961504,
          0.8880931065353626,
          0.8880931065353626,
          0.8889883616830797,
          0.8889883616830797,
          0.8898836168307968,
          0.8898836168307968,
          0.8903312444046553,
          0.8903312444046553,
          0.8907788719785139,
          0.8907788719785139,
          0.8912264995523724,
          0.8912264995523724,
          0.891674127126231,
          0.891674127126231,
          0.8921217547000895,
          0.8921217547000895,
          0.8925693822739481,
          0.8925693822739481,
          0.8934646374216652,
          0.8934646374216652,
          0.8934646374216652,
          0.8934646374216652,
          0.8943598925693823,
          0.8943598925693823,
          0.8948075201432408,
          0.8948075201432408,
          0.8952551477170994,
          0.8952551477170994,
          0.8957027752909579,
          0.8957027752909579,
          0.8974932855863921,
          0.8974932855863921,
          0.8979409131602507,
          0.8979409131602507,
          0.8983885407341092,
          0.8983885407341092,
          0.8988361683079678,
          0.8988361683079678,
          0.8992837958818263,
          0.8992837958818263,
          0.9001790510295434,
          0.9001790510295434,
          0.900626678603402,
          0.900626678603402,
          0.9010743061772605,
          0.9010743061772605,
          0.9015219337511191,
          0.9015219337511191,
          0.9037600716204118,
          0.9037600716204118,
          0.9051029543419875,
          0.9051029543419875,
          0.9059982094897046,
          0.9059982094897046,
          0.9064458370635631,
          0.9064458370635631,
          0.9068934646374217,
          0.9068934646374217,
          0.9073410922112802,
          0.9073410922112802,
          0.9077887197851388,
          0.9077887197851388,
          0.9082363473589973,
          0.9082363473589973,
          0.909579230080573,
          0.909579230080573,
          0.9100268576544315,
          0.9100268576544315,
          0.9104744852282901,
          0.9104744852282901,
          0.9109221128021486,
          0.9109221128021486,
          0.9113697403760072,
          0.9113697403760072,
          0.9118173679498657,
          0.9118173679498657,
          0.9122649955237243,
          0.9122649955237243,
          0.9127126230975828,
          0.9127126230975828,
          0.9131602506714414,
          0.9131602506714414,
          0.9136078782452999,
          0.9136078782452999,
          0.9140555058191585,
          0.9140555058191585,
          0.914503133393017,
          0.914503133393017,
          0.9158460161145927,
          0.9158460161145927,
          0.9167412712623098,
          0.9167412712623098,
          0.9176365264100269,
          0.9176365264100269,
          0.9180841539838854,
          0.9180841539838854,
          0.918531781557744,
          0.918531781557744,
          0.9189794091316025,
          0.9189794091316025,
          0.9203222918531782,
          0.9203222918531782,
          0.9212175470008953,
          0.9212175470008953,
          0.9216651745747538,
          0.9216651745747538,
          0.9221128021486124,
          0.9221128021486124,
          0.9225604297224709,
          0.9225604297224709,
          0.9230080572963295,
          0.9230080572963295,
          0.9239033124440466,
          0.9239033124440466,
          0.9243509400179051,
          0.9243509400179051,
          0.9247985675917636,
          0.9247985675917636,
          0.9252461951656222,
          0.9252461951656222,
          0.9256938227394808,
          0.9256938227394808,
          0.9261414503133393,
          0.9261414503133393,
          0.9270367054610564,
          0.9270367054610564,
          0.9270367054610564,
          0.9270367054610564,
          0.9279319606087735,
          0.9279319606087735,
          0.9288272157564906,
          0.9288272157564906,
          0.9292748433303492,
          0.9292748433303492,
          0.9297224709042077,
          0.9297224709042077,
          0.9301700984780662,
          0.9301700984780662,
          0.9310653536257834,
          0.9310653536257834,
          0.9315129811996419,
          0.9315129811996419,
          0.9319606087735004,
          0.9319606087735004,
          0.932408236347359,
          0.932408236347359,
          0.9328558639212176,
          0.9328558639212176,
          0.9337511190689346,
          0.9337511190689346,
          0.9341987466427932,
          0.9341987466427932,
          0.9341987466427932,
          0.9341987466427932,
          0.9346463742166518,
          0.9346463742166518,
          0.9355416293643688,
          0.9355416293643688,
          0.9359892569382274,
          0.9359892569382274,
          0.936436884512086,
          0.936436884512086,
          0.9368845120859445,
          0.9368845120859445,
          0.937332139659803,
          0.937332139659803,
          0.9377797672336616,
          0.9377797672336616,
          0.9386750223813787,
          0.9386750223813787,
          0.9400179051029544,
          0.9400179051029544,
          0.9404655326768129,
          0.9404655326768129,
          0.9409131602506714,
          0.9409131602506714,
          0.9422560429722471,
          0.9422560429722471,
          0.9435989256938228,
          0.9435989256938228,
          0.9458370635631155,
          0.9458370635631155,
          0.946284691136974,
          0.946284691136974,
          0.9467323187108326,
          0.9467323187108326,
          0.9471799462846912,
          0.9471799462846912,
          0.9476275738585497,
          0.9476275738585497,
          0.9480752014324082,
          0.9480752014324082,
          0.9485228290062668,
          0.9485228290062668,
          0.9494180841539839,
          0.9494180841539839,
          0.9498657117278424,
          0.9498657117278424,
          0.950313339301701,
          0.950313339301701,
          0.9507609668755596,
          0.9507609668755596,
          0.9512085944494181,
          0.9512085944494181,
          0.9516562220232766,
          0.9516562220232766,
          0.9525514771709938,
          0.9525514771709938,
          0.9529991047448523,
          0.9529991047448523,
          0.9529991047448523,
          0.9534467323187108,
          0.9534467323187108,
          0.9538943598925694,
          0.9538943598925694,
          0.954341987466428,
          0.954341987466428,
          0.955237242614145,
          0.955237242614145,
          0.9561324977618622,
          0.9561324977618622,
          0.9565801253357207,
          0.9565801253357207,
          0.9570277529095792,
          0.9570277529095792,
          0.9579230080572964,
          0.9579230080572964,
          0.9583706356311549,
          0.9583706356311549,
          0.959265890778872,
          0.959265890778872,
          0.9597135183527306,
          0.9597135183527306,
          0.9601611459265891,
          0.9601611459265891,
          0.9606087735004476,
          0.9606087735004476,
          0.9610564010743062,
          0.9610564010743062,
          0.9610564010743062,
          0.9610564010743062,
          0.9615040286481648,
          0.9615040286481648,
          0.9623992837958818,
          0.9623992837958818,
          0.9628469113697403,
          0.9628469113697403,
          0.9628469113697403,
          0.963294538943599,
          0.963294538943599,
          0.9637421665174575,
          0.9637421665174575,
          0.964189794091316,
          0.964189794091316,
          0.9646374216651745,
          0.9646374216651745,
          0.9655326768128917,
          0.9655326768128917,
          0.9659803043867502,
          0.9659803043867502,
          0.9664279319606087,
          0.9664279319606087,
          0.9668755595344674,
          0.9668755595344674,
          0.9677708146821844,
          0.9677708146821844,
          0.9682184422560429,
          0.9682184422560429,
          0.9686660698299016,
          0.9686660698299016,
          0.9691136974037601,
          0.9691136974037601,
          0.9700089525514771,
          0.9700089525514771,
          0.9709042076991943,
          0.9709042076991943,
          0.9713518352730528,
          0.9713518352730528,
          0.9717994628469113,
          0.9717994628469113,
          0.97224709042077,
          0.97224709042077,
          0.9726947179946285,
          0.9726947179946285,
          0.973142345568487,
          0.973142345568487,
          0.9735899731423455,
          0.9735899731423455,
          0.9740376007162042,
          0.9740376007162042,
          0.9744852282900627,
          0.9744852282900627,
          0.9749328558639212,
          0.9749328558639212,
          0.9753804834377797,
          0.9753804834377797,
          0.9758281110116384,
          0.9758281110116384,
          0.9762757385854969,
          0.9762757385854969,
          0.9767233661593554,
          0.9767233661593554,
          0.9771709937332139,
          0.9771709937332139,
          0.9776186213070726,
          0.9776186213070726,
          0.9785138764547896,
          0.9785138764547896,
          0.9785138764547896,
          0.9785138764547896,
          0.9789615040286481,
          0.9789615040286481,
          0.9803043867502238,
          0.9803043867502238,
          0.9807520143240823,
          0.9807520143240823,
          0.981199641897941,
          0.981199641897941,
          0.9816472694717995,
          0.9816472694717995,
          0.982094897045658,
          0.982094897045658,
          0.9825425246195165,
          0.9825425246195165,
          0.9829901521933752,
          0.9829901521933752,
          0.9834377797672337,
          0.9834377797672337,
          0.9838854073410922,
          0.9838854073410922,
          0.9843330349149507,
          0.9843330349149507,
          0.9847806624888094,
          0.9847806624888094,
          0.9852282900626679,
          0.9852282900626679,
          0.9856759176365264,
          0.9856759176365264,
          0.9861235452103849,
          0.9861235452103849,
          0.9865711727842436,
          0.9865711727842436,
          0.9870188003581021,
          0.9870188003581021,
          0.9874664279319606,
          0.9874664279319606,
          0.9883616830796778,
          0.9883616830796778,
          0.9888093106535363,
          0.9888093106535363,
          0.9892569382273948,
          0.9892569382273948,
          0.9897045658012533,
          0.9897045658012533,
          0.990152193375112,
          0.990152193375112,
          0.9905998209489705,
          0.9905998209489705,
          0.991047448522829,
          0.991047448522829,
          0.9914950760966875,
          0.9914950760966875,
          0.9919427036705462,
          0.9919427036705462,
          0.9928379588182632,
          0.9928379588182632,
          0.9932855863921217,
          0.9932855863921217,
          0.9937332139659804,
          0.9937332139659804,
          0.9941808415398389,
          0.9941808415398389,
          0.9946284691136974,
          0.9946284691136974,
          0.9950760966875559,
          0.9950760966875559,
          0.9955237242614146,
          0.9955237242614146,
          0.9959713518352731,
          0.9959713518352731,
          0.9964189794091316,
          0.9964189794091316,
          0.9964189794091316,
          0.9964189794091316,
          0.9968666069829901,
          0.9968666069829901,
          0.9973142345568488,
          0.9973142345568488,
          0.9977618621307073,
          0.9977618621307073,
          0.9982094897045658,
          0.9982094897045658,
          0.9986571172784243,
          0.9986571172784243,
          0.999104744852283,
          0.999104744852283,
          0.9995523724261415,
          0.9995523724261415,
          1,
          1
         ]
        },
        {
         "mode": "lines",
         "name": "No skill curve",
         "type": "scatter",
         "x": [
          0,
          1
         ],
         "y": [
          0,
          1
         ]
        }
       ],
       "layout": {
        "template": {
         "data": {
          "bar": [
           {
            "error_x": {
             "color": "#f2f5fa"
            },
            "error_y": {
             "color": "#f2f5fa"
            },
            "marker": {
             "line": {
              "color": "rgb(17,17,17)",
              "width": 0.5
             }
            },
            "type": "bar"
           }
          ],
          "barpolar": [
           {
            "marker": {
             "line": {
              "color": "rgb(17,17,17)",
              "width": 0.5
             }
            },
            "type": "barpolar"
           }
          ],
          "carpet": [
           {
            "aaxis": {
             "endlinecolor": "#A2B1C6",
             "gridcolor": "#506784",
             "linecolor": "#506784",
             "minorgridcolor": "#506784",
             "startlinecolor": "#A2B1C6"
            },
            "baxis": {
             "endlinecolor": "#A2B1C6",
             "gridcolor": "#506784",
             "linecolor": "#506784",
             "minorgridcolor": "#506784",
             "startlinecolor": "#A2B1C6"
            },
            "type": "carpet"
           }
          ],
          "choropleth": [
           {
            "colorbar": {
             "outlinewidth": 0,
             "ticks": ""
            },
            "type": "choropleth"
           }
          ],
          "contour": [
           {
            "colorbar": {
             "outlinewidth": 0,
             "ticks": ""
            },
            "colorscale": [
             [
              0,
              "#0d0887"
             ],
             [
              0.1111111111111111,
              "#46039f"
             ],
             [
              0.2222222222222222,
              "#7201a8"
             ],
             [
              0.3333333333333333,
              "#9c179e"
             ],
             [
              0.4444444444444444,
              "#bd3786"
             ],
             [
              0.5555555555555556,
              "#d8576b"
             ],
             [
              0.6666666666666666,
              "#ed7953"
             ],
             [
              0.7777777777777778,
              "#fb9f3a"
             ],
             [
              0.8888888888888888,
              "#fdca26"
             ],
             [
              1,
              "#f0f921"
             ]
            ],
            "type": "contour"
           }
          ],
          "contourcarpet": [
           {
            "colorbar": {
             "outlinewidth": 0,
             "ticks": ""
            },
            "type": "contourcarpet"
           }
          ],
          "heatmap": [
           {
            "colorbar": {
             "outlinewidth": 0,
             "ticks": ""
            },
            "colorscale": [
             [
              0,
              "#0d0887"
             ],
             [
              0.1111111111111111,
              "#46039f"
             ],
             [
              0.2222222222222222,
              "#7201a8"
             ],
             [
              0.3333333333333333,
              "#9c179e"
             ],
             [
              0.4444444444444444,
              "#bd3786"
             ],
             [
              0.5555555555555556,
              "#d8576b"
             ],
             [
              0.6666666666666666,
              "#ed7953"
             ],
             [
              0.7777777777777778,
              "#fb9f3a"
             ],
             [
              0.8888888888888888,
              "#fdca26"
             ],
             [
              1,
              "#f0f921"
             ]
            ],
            "type": "heatmap"
           }
          ],
          "heatmapgl": [
           {
            "colorbar": {
             "outlinewidth": 0,
             "ticks": ""
            },
            "colorscale": [
             [
              0,
              "#0d0887"
             ],
             [
              0.1111111111111111,
              "#46039f"
             ],
             [
              0.2222222222222222,
              "#7201a8"
             ],
             [
              0.3333333333333333,
              "#9c179e"
             ],
             [
              0.4444444444444444,
              "#bd3786"
             ],
             [
              0.5555555555555556,
              "#d8576b"
             ],
             [
              0.6666666666666666,
              "#ed7953"
             ],
             [
              0.7777777777777778,
              "#fb9f3a"
             ],
             [
              0.8888888888888888,
              "#fdca26"
             ],
             [
              1,
              "#f0f921"
             ]
            ],
            "type": "heatmapgl"
           }
          ],
          "histogram": [
           {
            "marker": {
             "colorbar": {
              "outlinewidth": 0,
              "ticks": ""
             }
            },
            "type": "histogram"
           }
          ],
          "histogram2d": [
           {
            "colorbar": {
             "outlinewidth": 0,
             "ticks": ""
            },
            "colorscale": [
             [
              0,
              "#0d0887"
             ],
             [
              0.1111111111111111,
              "#46039f"
             ],
             [
              0.2222222222222222,
              "#7201a8"
             ],
             [
              0.3333333333333333,
              "#9c179e"
             ],
             [
              0.4444444444444444,
              "#bd3786"
             ],
             [
              0.5555555555555556,
              "#d8576b"
             ],
             [
              0.6666666666666666,
              "#ed7953"
             ],
             [
              0.7777777777777778,
              "#fb9f3a"
             ],
             [
              0.8888888888888888,
              "#fdca26"
             ],
             [
              1,
              "#f0f921"
             ]
            ],
            "type": "histogram2d"
           }
          ],
          "histogram2dcontour": [
           {
            "colorbar": {
             "outlinewidth": 0,
             "ticks": ""
            },
            "colorscale": [
             [
              0,
              "#0d0887"
             ],
             [
              0.1111111111111111,
              "#46039f"
             ],
             [
              0.2222222222222222,
              "#7201a8"
             ],
             [
              0.3333333333333333,
              "#9c179e"
             ],
             [
              0.4444444444444444,
              "#bd3786"
             ],
             [
              0.5555555555555556,
              "#d8576b"
             ],
             [
              0.6666666666666666,
              "#ed7953"
             ],
             [
              0.7777777777777778,
              "#fb9f3a"
             ],
             [
              0.8888888888888888,
              "#fdca26"
             ],
             [
              1,
              "#f0f921"
             ]
            ],
            "type": "histogram2dcontour"
           }
          ],
          "mesh3d": [
           {
            "colorbar": {
             "outlinewidth": 0,
             "ticks": ""
            },
            "type": "mesh3d"
           }
          ],
          "parcoords": [
           {
            "line": {
             "colorbar": {
              "outlinewidth": 0,
              "ticks": ""
             }
            },
            "type": "parcoords"
           }
          ],
          "scatter": [
           {
            "marker": {
             "line": {
              "color": "#283442"
             }
            },
            "type": "scatter"
           }
          ],
          "scatter3d": [
           {
            "line": {
             "colorbar": {
              "outlinewidth": 0,
              "ticks": ""
             }
            },
            "marker": {
             "colorbar": {
              "outlinewidth": 0,
              "ticks": ""
             }
            },
            "type": "scatter3d"
           }
          ],
          "scattercarpet": [
           {
            "marker": {
             "colorbar": {
              "outlinewidth": 0,
              "ticks": ""
             }
            },
            "type": "scattercarpet"
           }
          ],
          "scattergeo": [
           {
            "marker": {
             "colorbar": {
              "outlinewidth": 0,
              "ticks": ""
             }
            },
            "type": "scattergeo"
           }
          ],
          "scattergl": [
           {
            "marker": {
             "line": {
              "color": "#283442"
             }
            },
            "type": "scattergl"
           }
          ],
          "scattermapbox": [
           {
            "marker": {
             "colorbar": {
              "outlinewidth": 0,
              "ticks": ""
             }
            },
            "type": "scattermapbox"
           }
          ],
          "scatterpolar": [
           {
            "marker": {
             "colorbar": {
              "outlinewidth": 0,
              "ticks": ""
             }
            },
            "type": "scatterpolar"
           }
          ],
          "scatterpolargl": [
           {
            "marker": {
             "colorbar": {
              "outlinewidth": 0,
              "ticks": ""
             }
            },
            "type": "scatterpolargl"
           }
          ],
          "scatterternary": [
           {
            "marker": {
             "colorbar": {
              "outlinewidth": 0,
              "ticks": ""
             }
            },
            "type": "scatterternary"
           }
          ],
          "surface": [
           {
            "colorbar": {
             "outlinewidth": 0,
             "ticks": ""
            },
            "colorscale": [
             [
              0,
              "#0d0887"
             ],
             [
              0.1111111111111111,
              "#46039f"
             ],
             [
              0.2222222222222222,
              "#7201a8"
             ],
             [
              0.3333333333333333,
              "#9c179e"
             ],
             [
              0.4444444444444444,
              "#bd3786"
             ],
             [
              0.5555555555555556,
              "#d8576b"
             ],
             [
              0.6666666666666666,
              "#ed7953"
             ],
             [
              0.7777777777777778,
              "#fb9f3a"
             ],
             [
              0.8888888888888888,
              "#fdca26"
             ],
             [
              1,
              "#f0f921"
             ]
            ],
            "type": "surface"
           }
          ],
          "table": [
           {
            "cells": {
             "fill": {
              "color": "#506784"
             },
             "line": {
              "color": "rgb(17,17,17)"
             }
            },
            "header": {
             "fill": {
              "color": "#2a3f5f"
             },
             "line": {
              "color": "rgb(17,17,17)"
             }
            },
            "type": "table"
           }
          ]
         },
         "layout": {
          "annotationdefaults": {
           "arrowcolor": "#f2f5fa",
           "arrowhead": 0,
           "arrowwidth": 1
          },
          "colorscale": {
           "diverging": [
            [
             0,
             "#8e0152"
            ],
            [
             0.1,
             "#c51b7d"
            ],
            [
             0.2,
             "#de77ae"
            ],
            [
             0.3,
             "#f1b6da"
            ],
            [
             0.4,
             "#fde0ef"
            ],
            [
             0.5,
             "#f7f7f7"
            ],
            [
             0.6,
             "#e6f5d0"
            ],
            [
             0.7,
             "#b8e186"
            ],
            [
             0.8,
             "#7fbc41"
            ],
            [
             0.9,
             "#4d9221"
            ],
            [
             1,
             "#276419"
            ]
           ],
           "sequential": [
            [
             0,
             "#0d0887"
            ],
            [
             0.1111111111111111,
             "#46039f"
            ],
            [
             0.2222222222222222,
             "#7201a8"
            ],
            [
             0.3333333333333333,
             "#9c179e"
            ],
            [
             0.4444444444444444,
             "#bd3786"
            ],
            [
             0.5555555555555556,
             "#d8576b"
            ],
            [
             0.6666666666666666,
             "#ed7953"
            ],
            [
             0.7777777777777778,
             "#fb9f3a"
            ],
            [
             0.8888888888888888,
             "#fdca26"
            ],
            [
             1,
             "#f0f921"
            ]
           ],
           "sequentialminus": [
            [
             0,
             "#0d0887"
            ],
            [
             0.1111111111111111,
             "#46039f"
            ],
            [
             0.2222222222222222,
             "#7201a8"
            ],
            [
             0.3333333333333333,
             "#9c179e"
            ],
            [
             0.4444444444444444,
             "#bd3786"
            ],
            [
             0.5555555555555556,
             "#d8576b"
            ],
            [
             0.6666666666666666,
             "#ed7953"
            ],
            [
             0.7777777777777778,
             "#fb9f3a"
            ],
            [
             0.8888888888888888,
             "#fdca26"
            ],
            [
             1,
             "#f0f921"
            ]
           ]
          },
          "colorway": [
           "#636efa",
           "#EF553B",
           "#00cc96",
           "#ab63fa",
           "#FFA15A",
           "#19d3f3",
           "#FF6692",
           "#B6E880",
           "#FF97FF",
           "#FECB52"
          ],
          "font": {
           "color": "#f2f5fa"
          },
          "geo": {
           "bgcolor": "rgb(17,17,17)",
           "lakecolor": "rgb(17,17,17)",
           "landcolor": "rgb(17,17,17)",
           "showlakes": true,
           "showland": true,
           "subunitcolor": "#506784"
          },
          "hoverlabel": {
           "align": "left"
          },
          "hovermode": "closest",
          "mapbox": {
           "style": "dark"
          },
          "paper_bgcolor": "rgb(17,17,17)",
          "plot_bgcolor": "rgb(17,17,17)",
          "polar": {
           "angularaxis": {
            "gridcolor": "#506784",
            "linecolor": "#506784",
            "ticks": ""
           },
           "bgcolor": "rgb(17,17,17)",
           "radialaxis": {
            "gridcolor": "#506784",
            "linecolor": "#506784",
            "ticks": ""
           }
          },
          "scene": {
           "xaxis": {
            "backgroundcolor": "rgb(17,17,17)",
            "gridcolor": "#506784",
            "gridwidth": 2,
            "linecolor": "#506784",
            "showbackground": true,
            "ticks": "",
            "zerolinecolor": "#C8D4E3"
           },
           "yaxis": {
            "backgroundcolor": "rgb(17,17,17)",
            "gridcolor": "#506784",
            "gridwidth": 2,
            "linecolor": "#506784",
            "showbackground": true,
            "ticks": "",
            "zerolinecolor": "#C8D4E3"
           },
           "zaxis": {
            "backgroundcolor": "rgb(17,17,17)",
            "gridcolor": "#506784",
            "gridwidth": 2,
            "linecolor": "#506784",
            "showbackground": true,
            "ticks": "",
            "zerolinecolor": "#C8D4E3"
           }
          },
          "shapedefaults": {
           "line": {
            "color": "#f2f5fa"
           }
          },
          "sliderdefaults": {
           "bgcolor": "#C8D4E3",
           "bordercolor": "rgb(17,17,17)",
           "borderwidth": 1,
           "tickwidth": 0
          },
          "ternary": {
           "aaxis": {
            "gridcolor": "#506784",
            "linecolor": "#506784",
            "ticks": ""
           },
           "baxis": {
            "gridcolor": "#506784",
            "linecolor": "#506784",
            "ticks": ""
           },
           "bgcolor": "rgb(17,17,17)",
           "caxis": {
            "gridcolor": "#506784",
            "linecolor": "#506784",
            "ticks": ""
           }
          },
          "title": {
           "x": 0.05
          },
          "updatemenudefaults": {
           "bgcolor": "#506784",
           "borderwidth": 0
          },
          "xaxis": {
           "automargin": true,
           "gridcolor": "#283442",
           "linecolor": "#506784",
           "ticks": "",
           "zerolinecolor": "#283442",
           "zerolinewidth": 2
          },
          "yaxis": {
           "automargin": true,
           "gridcolor": "#283442",
           "linecolor": "#506784",
           "ticks": "",
           "zerolinecolor": "#283442",
           "zerolinewidth": 2
          }
         }
        },
        "title": {
         "font": {
          "family": "Merriweather",
          "size": 24
         },
         "text": "Receiver operating Characteristic (ROC) Curve"
        },
        "xaxis": {
         "title": {
          "font": {
           "family": "open sans",
           "size": 18
          },
          "text": "False Positive Rate"
         }
        },
        "yaxis": {
         "title": {
          "font": {
           "family": "open sans",
           "size": 18
          },
          "text": "True Positive Rate"
         }
        }
       }
      },
      "text/html": [
       "<div>\n",
       "        \n",
       "        \n",
       "            <div id=\"f5546042-d25d-4933-a8d5-569a9cb633e6\" class=\"plotly-graph-div\" style=\"height:525px; width:100%;\"></div>\n",
       "            <script type=\"text/javascript\">\n",
       "                require([\"plotly\"], function(Plotly) {\n",
       "                    window.PLOTLYENV=window.PLOTLYENV || {};\n",
       "                    \n",
       "                if (document.getElementById(\"f5546042-d25d-4933-a8d5-569a9cb633e6\")) {\n",
       "                    Plotly.newPlot(\n",
       "                        'f5546042-d25d-4933-a8d5-569a9cb633e6',\n",
       "                        [{\"mode\": \"lines\", \"name\": \"ROC Curve (Area=0.717)\", \"type\": \"scatter\", \"x\": [0.0, 0.0, 0.0006317119393556538, 0.0006317119393556538, 0.0009475679090334807, 0.0009475679090334807, 0.0012634238787113076, 0.0012634238787113076, 0.0015792798483891346, 0.0015792798483891346, 0.0018951358180669614, 0.0018951358180669614, 0.0022109917877447885, 0.0022109917877447885, 0.002842703727100442, 0.002842703727100442, 0.003158559696778269, 0.003158559696778269, 0.003474415666456096, 0.003474415666456096, 0.003790271636133923, 0.003790271636133923, 0.00410612760581175, 0.00410612760581175, 0.004421983575489577, 0.004421983575489577, 0.00505369551484523, 0.00505369551484523, 0.005685407454200884, 0.005685407454200884, 0.006001263423878711, 0.006001263423878711, 0.006317119393556538, 0.006317119393556538, 0.0066329753632343655, 0.0066329753632343655, 0.006948831332912192, 0.006948831332912192, 0.007264687302590019, 0.007264687302590019, 0.007580543272267846, 0.007580543272267846, 0.0082122552116235, 0.0082122552116235, 0.008843967150979154, 0.008843967150979154, 0.00915982312065698, 0.00915982312065698, 0.009475679090334808, 0.009475679090334808, 0.01010739102969046, 0.01010739102969046, 0.010423246999368288, 0.010423246999368288, 0.011054958938723942, 0.011054958938723942, 0.011370814908401769, 0.011370814908401769, 0.011686670878079595, 0.011686670878079595, 0.012002526847757423, 0.012002526847757423, 0.012318382817435249, 0.012318382817435249, 0.012634238787113077, 0.012634238787113077, 0.012950094756790903, 0.012950094756790903, 0.013265950726468731, 0.013265950726468731, 0.013581806696146557, 0.013581806696146557, 0.013897662665824383, 0.013897662665824383, 0.014213518635502211, 0.014213518635502211, 0.014529374605180037, 0.014529374605180037, 0.014845230574857865, 0.014845230574857865, 0.01547694251421352, 0.01547694251421352, 0.015792798483891344, 0.015792798483891344, 0.016424510423247, 0.016424510423247, 0.016740366392924828, 0.016740366392924828, 0.017056222362602652, 0.017056222362602652, 0.01737207833228048, 0.01737207833228048, 0.017687934301958308, 0.017687934301958308, 0.018003790271636132, 0.018003790271636132, 0.01831964624131396, 0.01831964624131396, 0.018951358180669616, 0.018951358180669616, 0.01926721415034744, 0.01926721415034744, 0.01958307012002527, 0.01958307012002527, 0.019898926089703096, 0.019898926089703096, 0.02021478205938092, 0.02021478205938092, 0.02053063802905875, 0.02053063802905875, 0.020846493998736577, 0.020846493998736577, 0.021162349968414405, 0.021162349968414405, 0.02147820593809223, 0.02147820593809223, 0.021794061907770057, 0.021794061907770057, 0.022109917877447885, 0.022109917877447885, 0.02242577384712571, 0.02242577384712571, 0.022741629816803537, 0.022741629816803537, 0.023057485786481365, 0.023057485786481365, 0.023689197725837018, 0.023689197725837018, 0.024005053695514846, 0.024005053695514846, 0.024636765634870498, 0.024636765634870498, 0.024952621604548326, 0.024952621604548326, 0.025268477574226154, 0.025268477574226154, 0.025584333543903978, 0.025584333543903978, 0.025900189513581806, 0.025900189513581806, 0.026216045483259634, 0.026216045483259634, 0.026531901452937462, 0.026531901452937462, 0.027163613392293114, 0.027163613392293114, 0.027479469361970942, 0.027479469361970942, 0.027795325331648767, 0.027795325331648767, 0.028111181301326595, 0.028111181301326595, 0.02874289324068225, 0.02874289324068225, 0.029058749210360075, 0.029058749210360075, 0.029374605180037903, 0.029374605180037903, 0.02969046114971573, 0.02969046114971573, 0.030322173089071383, 0.030322173089071383, 0.03063802905874921, 0.03063802905874921, 0.03095388502842704, 0.03095388502842704, 0.03126974099810487, 0.03126974099810487, 0.032217308907138344, 0.032217308907138344, 0.03253316487681617, 0.03253316487681617, 0.03316487681617183, 0.03316487681617183, 0.033480732785849655, 0.033480732785849655, 0.03442830069488313, 0.03442830069488313, 0.03474415666456096, 0.03474415666456096, 0.03506001263423879, 0.03506001263423879, 0.035375868603916616, 0.035375868603916616, 0.035691724573594444, 0.035691724573594444, 0.036007580543272265, 0.036007580543272265, 0.03632343651295009, 0.03632343651295009, 0.03695514845230575, 0.03695514845230575, 0.037271004421983576, 0.037271004421983576, 0.037586860391661404, 0.037586860391661404, 0.03790271636133923, 0.03790271636133923, 0.03885028427037271, 0.03885028427037271, 0.03916614024005054, 0.03916614024005054, 0.039481996209728365, 0.039481996209728365, 0.03979785217940619, 0.03979785217940619, 0.04011370814908402, 0.04011370814908402, 0.04042956411876184, 0.04042956411876184, 0.04074542008843967, 0.04074542008843967, 0.0410612760581175, 0.0410612760581175, 0.041692987997473153, 0.041692987997473153, 0.04200884396715098, 0.04200884396715098, 0.04232469993682881, 0.04232469993682881, 0.04264055590650663, 0.04264055590650663, 0.04295641187618446, 0.04295641187618446, 0.043272267845862286, 0.043272267845862286, 0.043588123815540114, 0.043588123815540114, 0.04390397978521794, 0.04390397978521794, 0.0445356917245736, 0.0445356917245736, 0.04485154769425142, 0.04485154769425142, 0.04516740366392925, 0.04516740366392925, 0.045483259633607075, 0.045483259633607075, 0.0457991156032849, 0.0457991156032849, 0.04611497157296273, 0.04611497157296273, 0.04643082754264056, 0.04643082754264056, 0.04706253948199621, 0.04706253948199621, 0.047378395451674035, 0.047378395451674035, 0.04864181933038535, 0.04864181933038535, 0.049273531269740996, 0.049589387239418824, 0.049589387239418824, 0.04990524320909665, 0.04990524320909665, 0.050852811118130135, 0.050852811118130135, 0.051168667087807956, 0.051168667087807956, 0.05180037902716361, 0.05180037902716361, 0.05211623499684144, 0.05211623499684144, 0.05243209096651927, 0.05243209096651927, 0.052747946936197096, 0.052747946936197096, 0.053379658875552745, 0.053379658875552745, 0.05369551484523057, 0.05369551484523057, 0.0540113708149084, 0.0540113708149084, 0.05432722678458623, 0.05432722678458623, 0.05464308275426406, 0.05464308275426406, 0.054958938723941884, 0.054958938723941884, 0.05527479469361971, 0.05527479469361971, 0.05559065066329753, 0.05559065066329753, 0.05590650663297536, 0.05590650663297536, 0.05622236260265319, 0.05622236260265319, 0.05716993051168667, 0.05716993051168667, 0.0574857864813645, 0.0574857864813645, 0.05780164245104232, 0.05780164245104232, 0.05843335439039798, 0.05843335439039798, 0.059065066329753634, 0.059065066329753634, 0.05938092229943146, 0.05938092229943146, 0.060644346178142766, 0.060644346178142766, 0.060960202147820594, 0.060960202147820594, 0.06190777005685408, 0.06190777005685408, 0.06317119393556538, 0.06317119393556538, 0.0634870499052432, 0.0634870499052432, 0.06380290587492103, 0.06380290587492103, 0.06411876184459886, 0.06411876184459886, 0.06443461781427669, 0.06443461781427669, 0.06506632975363234, 0.06506632975363234, 0.06538218572331017, 0.06538218572331017, 0.065698041692988, 0.06632975363234365, 0.06664560960202148, 0.06664560960202148, 0.06696146557169931, 0.06696146557169931, 0.06759317751105495, 0.06759317751105495, 0.06854074542008844, 0.06854074542008844, 0.06948831332912192, 0.06948831332912192, 0.06980416929879975, 0.06980416929879975, 0.07075173720783323, 0.07075173720783323, 0.07106759317751106, 0.07106759317751106, 0.07138344914718889, 0.07138344914718889, 0.07169930511686672, 0.07169930511686672, 0.07201516108654453, 0.07201516108654453, 0.07233101705622236, 0.07233101705622236, 0.07264687302590019, 0.07264687302590019, 0.07359444093493367, 0.07359444093493367, 0.0739102969046115, 0.0739102969046115, 0.07485786481364498, 0.07485786481364498, 0.07517372078332281, 0.07517372078332281, 0.07580543272267846, 0.07580543272267846, 0.07612128869235628, 0.07612128869235628, 0.07675300063171193, 0.07675300063171193, 0.07706885660138976, 0.07706885660138976, 0.07801642451042325, 0.07801642451042325, 0.07833228048010107, 0.07833228048010107, 0.07896399241945673, 0.07991156032849021, 0.07991156032849021, 0.08117498420720151, 0.08117498420720151, 0.08180669614655717, 0.08180669614655717, 0.082122552116235, 0.082122552116235, 0.08275426405559065, 0.08275426405559065, 0.08401768793430196, 0.08401768793430196, 0.08496525584333543, 0.08496525584333543, 0.08528111181301326, 0.08528111181301326, 0.08559696778269109, 0.08559696778269109, 0.08622867972204674, 0.08622867972204674, 0.08654453569172457, 0.08654453569172457, 0.0868603916614024, 0.0868603916614024, 0.08717624763108023, 0.08717624763108023, 0.08749210360075806, 0.08749210360075806, 0.08780795957043588, 0.08780795957043588, 0.08843967150979154, 0.08843967150979154, 0.08875552747946937, 0.08875552747946937, 0.08938723941882501, 0.08938723941882501, 0.09096651926721415, 0.09096651926721415, 0.0915982312065698, 0.0915982312065698, 0.09191408717624763, 0.09191408717624763, 0.09222994314592546, 0.09222994314592546, 0.09254579911560329, 0.09254579911560329, 0.09317751105495894, 0.09317751105495894, 0.09380922299431459, 0.09380922299431459, 0.09475679090334807, 0.09475679090334807, 0.0950726468730259, 0.09570435881238155, 0.09570435881238155, 0.09602021478205938, 0.09602021478205938, 0.09633607075173721, 0.09633607075173721, 0.09665192672141504, 0.09665192672141504, 0.09696778269109287, 0.09759949463044852, 0.09759949463044852, 0.09823120656980416, 0.09823120656980416, 0.09854706253948199, 0.09854706253948199, 0.09886291850915982, 0.09886291850915982, 0.09949463044851548, 0.09949463044851548, 0.10044219835754896, 0.10044219835754896, 0.10233733417561591, 0.10233733417561591, 0.1032849020846494, 0.1032849020846494, 0.10391661402400505, 0.10391661402400505, 0.10454832596336071, 0.10454832596336071, 0.10518003790271636, 0.10549589387239419, 0.10549589387239419, 0.10581174984207202, 0.10581174984207202, 0.10644346178142768, 0.10644346178142768, 0.10707517372078332, 0.10707517372078332, 0.10739102969046115, 0.10739102969046115, 0.10770688566013897, 0.10770688566013897, 0.10833859759949463, 0.10833859759949463, 0.10865445356917246, 0.10865445356917246, 0.10928616550852811, 0.10928616550852811, 0.10960202147820594, 0.1102337334175616, 0.1102337334175616, 0.11054958938723942, 0.11054958938723942, 0.11086544535691725, 0.11086544535691725, 0.1114971572962729, 0.1114971572962729, 0.11181301326595072, 0.11181301326595072, 0.11244472520530638, 0.11244472520530638, 0.1127605811749842, 0.1127605811749842, 0.11339229311433986, 0.11339229311433986, 0.11433986102337335, 0.11433986102337335, 0.11465571699305117, 0.11465571699305117, 0.114971572962729, 0.114971572962729, 0.114971572962729, 0.114971572962729, 0.11560328490208464, 0.11560328490208464, 0.1162349968414403, 0.1162349968414403, 0.11686670878079596, 0.11686670878079596, 0.11749842072015161, 0.11749842072015161, 0.11813013265950727, 0.11813013265950727, 0.11876184459886292, 0.11876184459886292, 0.12002526847757422, 0.12002526847757422, 0.12034112444725205, 0.1209728363866077, 0.1209728363866077, 0.12128869235628553, 0.12128869235628553, 0.12160454832596336, 0.12160454832596336, 0.12192040429564119, 0.12223626026531902, 0.12223626026531902, 0.12286797220467467, 0.12286797220467467, 0.1231838281743525, 0.1231838281743525, 0.12381554011370816, 0.12381554011370816, 0.12476310802274163, 0.12476310802274163, 0.12507896399241947, 0.12507896399241947, 0.12571067593177512, 0.12571067593177512, 0.12634238787113075, 0.12634238787113075, 0.1266582438408086, 0.1266582438408086, 0.12760581174984206, 0.12760581174984206, 0.12823752368919772, 0.12823752368919772, 0.12886923562855337, 0.12886923562855337, 0.12950094756790903, 0.12950094756790903, 0.1301326595072647, 0.1301326595072647, 0.13076437144662034, 0.13076437144662034, 0.1317119393556538, 0.1317119393556538, 0.13202779532533165, 0.13202779532533165, 0.1326595072646873, 0.13329121920404297, 0.13329121920404297, 0.13360707517372078, 0.13360707517372078, 0.13392293114339862, 0.13392293114339862, 0.13423878711307644, 0.13455464308275428, 0.1348704990524321, 0.1348704990524321, 0.13550221099178775, 0.13550221099178775, 0.13581806696146556, 0.1361339229311434, 0.1361339229311434, 0.13644977890082122, 0.13644977890082122, 0.13897662665824384, 0.13897662665824384, 0.1396083385975995, 0.1396083385975995, 0.1399241945672773, 0.1399241945672773, 0.14150347441566646, 0.14150347441566646, 0.14213518635502212, 0.14213518635502212, 0.14276689829437778, 0.14276689829437778, 0.1443461781427669, 0.1443461781427669, 0.1456096020214782, 0.1456096020214782, 0.14655716993051168, 0.14718888186986734, 0.14718888186986734, 0.147820593809223, 0.147820593809223, 0.14876816171825646, 0.14876816171825646, 0.1490840176879343, 0.1490840176879343, 0.15003158559696778, 0.15003158559696778, 0.15034744156664562, 0.15097915350600127, 0.1512950094756791, 0.1512950094756791, 0.15161086544535693, 0.15161086544535693, 0.15224257738471256, 0.15224257738471256, 0.1525584333543904, 0.1525584333543904, 0.1528742893240682, 0.1528742893240682, 0.15350600126342387, 0.15350600126342387, 0.15445356917245737, 0.15445356917245737, 0.15476942514213518, 0.15476942514213518, 0.15508528111181302, 0.15508528111181302, 0.15540113708149084, 0.15540113708149084, 0.1560328490208465, 0.1560328490208465, 0.15634870499052433, 0.15634870499052433, 0.15698041692987996, 0.15698041692987996, 0.1572962728995578, 0.1572962728995578, 0.15761212886923562, 0.15761212886923562, 0.15887555274794693, 0.15887555274794693, 0.15950726468730259, 0.15950726468730259, 0.15982312065698043, 0.15982312065698043, 0.16013897662665824, 0.16013897662665824, 0.16045483259633608, 0.16045483259633608, 0.1607706885660139, 0.1607706885660139, 0.1620341124447252, 0.1620341124447252, 0.16266582438408086, 0.16266582438408086, 0.16298168035375868, 0.16298168035375868, 0.16329753632343652, 0.16329753632343652, 0.16392924826279218, 0.16392924826279218, 0.16424510423247, 0.16424510423247, 0.16456096020214783, 0.16456096020214783, 0.1655085281111813, 0.1655085281111813, 0.16582438408085912, 0.16582438408085912, 0.16614024005053696, 0.16614024005053696, 0.16677195198989261, 0.16677195198989261, 0.16929879974731524, 0.16929879974731524, 0.16961465571699305, 0.16961465571699305, 0.16993051168667087, 0.16993051168667087, 0.1702463676563487, 0.1702463676563487, 0.17087807959570436, 0.17087807959570436, 0.17119393556538218, 0.17119393556538218, 0.17150979153506002, 0.17150979153506002, 0.17182564750473783, 0.17182564750473783, 0.17308907138344914, 0.17308907138344914, 0.173404927353127, 0.173404927353127, 0.1737207833228048, 0.1737207833228048, 0.17403663929248261, 0.17403663929248261, 0.1749842072015161, 0.1749842072015161, 0.17656348704990524, 0.17656348704990524, 0.17687934301958308, 0.17687934301958308, 0.1771951989892609, 0.1771951989892609, 0.17751105495893874, 0.17751105495893874, 0.1781427668982944, 0.1781427668982944, 0.17877447883765002, 0.17877447883765002, 0.17909033480732786, 0.17909033480732786, 0.17940619077700568, 0.17940619077700568, 0.17972204674668352, 0.17972204674668352, 0.180669614655717, 0.180669614655717, 0.18130132659507264, 0.18130132659507264, 0.18161718256475048, 0.18161718256475048, 0.18224889450410614, 0.18224889450410614, 0.18256475047378395, 0.18256475047378395, 0.18288060644346177, 0.18288060644346177, 0.1831964624131396, 0.1831964624131396, 0.18351231838281742, 0.18351231838281742, 0.18414403032217308, 0.18414403032217308, 0.18445988629185092, 0.18445988629185092, 0.18509159823120658, 0.18509159823120658, 0.18572331017056223, 0.18572331017056223, 0.18603916614024005, 0.18603916614024005, 0.1866708780795957, 0.1866708780795957, 0.18825015792798483, 0.18825015792798483, 0.18856601389766267, 0.18856601389766267, 0.18951358180669614, 0.18951358180669614, 0.18982943777637398, 0.18982943777637398, 0.1901452937460518, 0.1901452937460518, 0.19077700568540745, 0.19077700568540745, 0.1910928616550853, 0.1910928616550853, 0.19172457359444092, 0.19172457359444092, 0.19298799747315223, 0.19298799747315223, 0.19425142135186355, 0.19425142135186355, 0.1945672773215414, 0.1945672773215414, 0.19519898926089704, 0.19519898926089704, 0.19551484523057486, 0.19551484523057486, 0.19583070120025267, 0.19583070120025267, 0.19709412507896398, 0.19709412507896398, 0.19740998104864182, 0.19740998104864182, 0.1983575489576753, 0.1983575489576753, 0.19867340492735314, 0.19867340492735314, 0.19898926089703095, 0.19898926089703095, 0.1993051168667088, 0.1993051168667088, 0.1996209728363866, 0.1996209728363866, 0.20088439671509792, 0.20088439671509792, 0.20120025268477573, 0.20120025268477573, 0.20151610865445357, 0.20151610865445357, 0.2018319646241314, 0.2018319646241314, 0.2030953885028427, 0.2030953885028427, 0.20341124447252054, 0.20341124447252054, 0.2040429564118762, 0.2040429564118762, 0.20467466835123183, 0.20467466835123183, 0.20530638029058748, 0.20530638029058748, 0.20593809222994314, 0.20593809222994314, 0.20625394819962098, 0.20625394819962098, 0.20688566013897663, 0.20688566013897663, 0.20814908401768795, 0.20814908401768795, 0.20846493998736576, 0.20846493998736576, 0.20878079595704357, 0.20878079595704357, 0.20941250789639923, 0.20941250789639923, 0.2100442198357549, 0.2100442198357549, 0.2113076437144662, 0.2113076437144662, 0.2122552116234997, 0.2122552116234997, 0.2125710675931775, 0.2125710675931775, 0.21288692356285535, 0.21288692356285535, 0.21320277953253317, 0.21320277953253317, 0.21383449147188882, 0.21383449147188882, 0.21415034744156664, 0.21415034744156664, 0.2147820593809223, 0.2147820593809223, 0.21509791535060013, 0.21509791535060013, 0.21541377132027795, 0.21541377132027795, 0.21667719519898926, 0.21667719519898926, 0.2169930511686671, 0.2169930511686671, 0.21794061907770057, 0.21794061907770057, 0.21825647504737838, 0.21825647504737838, 0.21857233101705623, 0.21857233101705623, 0.21888818698673404, 0.21888818698673404, 0.21920404295641188, 0.21920404295641188, 0.21983575489576754, 0.21983575489576754, 0.22015161086544535, 0.22015161086544535, 0.2204674668351232, 0.2204674668351232, 0.2217308907138345, 0.2217308907138345, 0.2252053063802906, 0.2252053063802906, 0.2289955780164245, 0.2289955780164245, 0.22931143398610235, 0.229943145925458, 0.23025900189513582, 0.23089071383449147, 0.2312065698041693, 0.2312065698041693, 0.23183828174352494, 0.23183828174352494, 0.23215413771320279, 0.23215413771320279, 0.23436512950094757, 0.23436512950094757, 0.2346809854706254, 0.2346809854706254, 0.23562855337965888, 0.23562855337965888, 0.2359444093493367, 0.2359444093493367, 0.23626026531901453, 0.23626026531901453, 0.23657612128869235, 0.23657612128869235, 0.23783954516740366, 0.23783954516740366, 0.2381554011370815, 0.2381554011370815, 0.23847125710675932, 0.23847125710675932, 0.23878711307643716, 0.23878711307643716, 0.23910296904611497, 0.23910296904611497, 0.23941882501579279, 0.23941882501579279, 0.24099810486418194, 0.24099810486418194, 0.24131396083385975, 0.2419456727732154, 0.24257738471257106, 0.24257738471257106, 0.24447252053063803, 0.24447252053063803, 0.24478837650031585, 0.24478837650031585, 0.2451042324699937, 0.2451042324699937, 0.2454200884396715, 0.2454200884396715, 0.246367656348705, 0.246367656348705, 0.2466835123183828, 0.2466835123183828, 0.24826279216677194, 0.24826279216677194, 0.24857864813644978, 0.24857864813644978, 0.2488945041061276, 0.2488945041061276, 0.24952621604548325, 0.24952621604548325, 0.2511054958938724, 0.2511054958938724, 0.2520530638029059, 0.2520530638029059, 0.2526847757422615, 0.2526847757422615, 0.25300063171193937, 0.25300063171193937, 0.2533164876816172, 0.2533164876816172, 0.2548957675300063, 0.2548957675300063, 0.2558433354390398, 0.2558433354390398, 0.25679090334807325, 0.25679090334807325, 0.2571067593177511, 0.2571067593177511, 0.25773847125710675, 0.25773847125710675, 0.25900189513581806, 0.25900189513581806, 0.25963360707517374, 0.25963360707517374, 0.25994946304485156, 0.25994946304485156, 0.26121288692356287, 0.26121288692356287, 0.262792166771952, 0.262792166771952, 0.2637397346809855, 0.2637397346809855, 0.2640555906506633, 0.2640555906506633, 0.26468730259001894, 0.2653190145293746, 0.26721415034744156, 0.26721415034744156, 0.2675300063171194, 0.2675300063171194, 0.26910928616550855, 0.26910928616550855, 0.2697409981048642, 0.2697409981048642, 0.270056854074542, 0.270056854074542, 0.2703727100442198, 0.2703727100442198, 0.2710044219835755, 0.2710044219835755, 0.2722678458622868, 0.2722678458622868, 0.2735312697409981, 0.2735312697409981, 0.27479469361970943, 0.27479469361970943, 0.27511054958938724, 0.27511054958938724, 0.27574226152874287, 0.27574226152874287, 0.27605811749842074, 0.27605811749842074, 0.27637397346809855, 0.27637397346809855, 0.2770056854074542, 0.27763739734680987, 0.2782691092861655, 0.2782691092861655, 0.279216677195199, 0.279216677195199, 0.2795325331648768, 0.2795325331648768, 0.2801642451042325, 0.2801642451042325, 0.2807959570435881, 0.2807959570435881, 0.2817435249526216, 0.2817435249526216, 0.28237523689197724, 0.28237523689197724, 0.28332280480101074, 0.28332280480101074, 0.28490208464939987, 0.28490208464939987, 0.28553379658875555, 0.28553379658875555, 0.28584965255843336, 0.28584965255843336, 0.28679722046746686, 0.28679722046746686, 0.2880606443461781, 0.2880606443461781, 0.288376500315856, 0.288376500315856, 0.2890082122552116, 0.2890082122552116, 0.2896399241945673, 0.2896399241945673, 0.29027163613392293, 0.29027163613392293, 0.29185091598231205, 0.29185091598231205, 0.29216677195198987, 0.29216677195198987, 0.29248262792166774, 0.29248262792166774, 0.2946936197094125, 0.2946936197094125, 0.29500947567909036, 0.29500947567909036, 0.2953253316487682, 0.2959570435881238, 0.2965887555274795, 0.2965887555274795, 0.2969046114971573, 0.2969046114971573, 0.2972204674668351, 0.2972204674668351, 0.29753632343651293, 0.29753632343651293, 0.2978521794061908, 0.2978521794061908, 0.2984838913455464, 0.2984838913455464, 0.29879974731522424, 0.29879974731522424, 0.29974731522425774, 0.29974731522425774, 0.30069488313329124, 0.30069488313329124, 0.30101073910296905, 0.30101073910296905, 0.3016424510423247, 0.3016424510423247, 0.30195830701200255, 0.30195830701200255, 0.3025900189513582, 0.3025900189513582, 0.30322173089071386, 0.30322173089071386, 0.3035375868603917, 0.3035375868603917, 0.3041692987997473, 0.3041692987997473, 0.3044851547694251, 0.3044851547694251, 0.30701200252684774, 0.3076437144662034, 0.3085912823752369, 0.3085912823752369, 0.30922299431459255, 0.30922299431459255, 0.30953885028427036, 0.30953885028427036, 0.3108022741629817, 0.3108022741629817, 0.3123815540113708, 0.3130132659507265, 0.3158559696778269, 0.3158559696778269, 0.31617182564750473, 0.31617182564750473, 0.3168035375868604, 0.3168035375868604, 0.31743524952621605, 0.31743524952621605, 0.3180669614655717, 0.3180669614655717, 0.319330385344283, 0.319330385344283, 0.3224889450410613, 0.3231206569804169, 0.3240682248894504, 0.3240682248894504, 0.32438408085912823, 0.32438408085912823, 0.32469993682880605, 0.32469993682880605, 0.32533164876816173, 0.32533164876816173, 0.32596336070751736, 0.32596336070751736, 0.32627921667719517, 0.32627921667719517, 0.32659507264687304, 0.32659507264687304, 0.32691092861655086, 0.32691092861655086, 0.3294377763739735, 0.3294377763739735, 0.3297536323436513, 0.3297536323436513, 0.3313329121920404, 0.3313329121920404, 0.33385975994946304, 0.33385975994946304, 0.3344914718888187, 0.3344914718888187, 0.33575489576753, 0.33575489576753, 0.3370183196462413, 0.3370183196462413, 0.337650031585597, 0.337650031585597, 0.3395451674036639, 0.3395451674036639, 0.33986102337334173, 0.33986102337334173, 0.3401768793430196, 0.3401768793430196, 0.3414403032217309, 0.3414403032217309, 0.34207201516108654, 0.34207201516108654, 0.34365129500947567, 0.34365129500947567, 0.3439671509791535, 0.3439671509791535, 0.34554643082754266, 0.34554643082754266, 0.3471257106759318, 0.3471257106759318, 0.3496525584333544, 0.3496525584333544, 0.3499684144030322, 0.3499684144030322, 0.35028427037271004, 0.35028427037271004, 0.35060012634238785, 0.35060012634238785, 0.35123183828174354, 0.35123183828174354, 0.35154769425142135, 0.35154769425142135, 0.35186355022109916, 0.35186355022109916, 0.35249526216045485, 0.35249526216045485, 0.35281111813013266, 0.35281111813013266, 0.3534428300694883, 0.3534428300694883, 0.354074542008844, 0.354074542008844, 0.3547062539481996, 0.3547062539481996, 0.3553379658875553, 0.3553379658875553, 0.3562855337965888, 0.3562855337965888, 0.3569172457359444, 0.3569172457359444, 0.3581806696146557, 0.3581806696146557, 0.3591282375236892, 0.3591282375236892, 0.35975994946304485, 0.35975994946304485, 0.36007580543272266, 0.36007580543272266, 0.36039166140240053, 0.36039166140240053, 0.36102337334175616, 0.36102337334175616, 0.3616550852811118, 0.3616550852811118, 0.3629185091598231, 0.3629185091598231, 0.36323436512950097, 0.36323436512950097, 0.3638660770688566, 0.3638660770688566, 0.3651295009475679, 0.3651295009475679, 0.3654453569172457, 0.3654453569172457, 0.3660770688566014, 0.3660770688566014, 0.36702463676563485, 0.36765634870499053, 0.36797220467466835, 0.36797220467466835, 0.36955148452305747, 0.36955148452305747, 0.37018319646241316, 0.37018319646241316, 0.3708149084017688, 0.3708149084017688, 0.3711307643714466, 0.3711307643714466, 0.3727100442198358, 0.3727100442198358, 0.3730259001895136, 0.3730259001895136, 0.3736576121288692, 0.3736576121288692, 0.3742893240682249, 0.3742893240682249, 0.3746051800379027, 0.3746051800379027, 0.37492103600758053, 0.37492103600758053, 0.37586860391661403, 0.37586860391661403, 0.37650031585596966, 0.37650031585596966, 0.37681617182564753, 0.37681617182564753, 0.37744788376500316, 0.37744788376500316, 0.37807959570435884, 0.37807959570435884, 0.37839545167403665, 0.37839545167403665, 0.3793430195830701, 0.3793430195830701, 0.37965887555274797, 0.37965887555274797, 0.3802905874921036, 0.3802905874921036, 0.3815540113708149, 0.3815540113708149, 0.3818698673404927, 0.3818698673404927, 0.3825015792798484, 0.3825015792798484, 0.38344914718888184, 0.38344914718888184, 0.3837650031585597, 0.3837650031585597, 0.385028427037271, 0.385028427037271, 0.38566013897662665, 0.38566013897662665, 0.38597599494630447, 0.38597599494630447, 0.38660770688566015, 0.38660770688566015, 0.3875552747946936, 0.3875552747946936, 0.38787113076437146, 0.38787113076437146, 0.3881869867340493, 0.3881869867340493, 0.3891345546430828, 0.3891345546430828, 0.3897662665824384, 0.3897662665824384, 0.3907138344914719, 0.3907138344914719, 0.39134554643082753, 0.39134554643082753, 0.39166140240050534, 0.39166140240050534, 0.3919772583701832, 0.3919772583701832, 0.3932406822488945, 0.3932406822488945, 0.39387239418825015, 0.39387239418825015, 0.39418825015792797, 0.39418825015792797, 0.39450410612760584, 0.39450410612760584, 0.39513581806696146, 0.39513581806696146, 0.3957675300063171, 0.3957675300063171, 0.3976626658243841, 0.3976626658243841, 0.3979785217940619, 0.3979785217940619, 0.3982943777637397, 0.3982943777637397, 0.3989260897030954, 0.3989260897030954, 0.4001895135818067, 0.4001895135818067, 0.4005053695514845, 0.4005053695514845, 0.40176879343019584, 0.40176879343019584, 0.40208464939987365, 0.40208464939987365, 0.40271636133922933, 0.40271636133922933, 0.40397978521794065, 0.40397978521794065, 0.40429564118761846, 0.40429564118761846, 0.4046114971572963, 0.4046114971572963, 0.4049273531269741, 0.4049273531269741, 0.40555906506632977, 0.40555906506632977, 0.4061907770056854, 0.4061907770056854, 0.4065066329753632, 0.4065066329753632, 0.40903348073278584, 0.40903348073278584, 0.4096651926721415, 0.4096651926721415, 0.40998104864181933, 0.41061276058117496, 0.41061276058117496, 0.41124447252053065, 0.41124447252053065, 0.41156032849020846, 0.41156032849020846, 0.4118761844598863, 0.4118761844598863, 0.41219204042956414, 0.41219204042956414, 0.41250789639924196, 0.41250789639924196, 0.41282375236891977, 0.41282375236891977, 0.4134554643082754, 0.4140871762476311, 0.4140871762476311, 0.4144030322173089, 0.4144030322173089, 0.4150347441566646, 0.4150347441566646, 0.4153506001263424, 0.4153506001263424, 0.4156664560960202, 0.4156664560960202, 0.4162981680353759, 0.4162981680353759, 0.417877447883765, 0.417877447883765, 0.41819330385344283, 0.41819330385344283, 0.41945672773215414, 0.41945672773215414, 0.41977258370183196, 0.41977258370183196, 0.42040429564118764, 0.42040429564118764, 0.42072015161086546, 0.42072015161086546, 0.42103600758054327, 0.42103600758054327, 0.42166771951989895, 0.42166771951989895, 0.4222994314592546, 0.4222994314592546, 0.4232469993682881, 0.4232469993682881, 0.4241945672773215, 0.4241945672773215, 0.4260897030953885, 0.4260897030953885, 0.42672141503474414, 0.42672141503474414, 0.42703727100442196, 0.42703727100442196, 0.42987997473152245, 0.42987997473152245, 0.4308275426405559, 0.4308275426405559, 0.4314592545799116, 0.4314592545799116, 0.4317751105495894, 0.4317751105495894, 0.43461781427668983, 0.43461781427668983, 0.4355653821857233, 0.4355653821857233, 0.43714466203411245, 0.43714466203411245, 0.43809222994314595, 0.43809222994314595, 0.4390397978521794, 0.4390397978521794, 0.4393556538218572, 0.4393556538218572, 0.4396715097915351, 0.4396715097915351, 0.4406190777005685, 0.4406190777005685, 0.4409349336702464, 0.4409349336702464, 0.4412507896399242, 0.4412507896399242, 0.4437776373973468, 0.4437776373973468, 0.44409349336702464, 0.44409349336702464, 0.44440934933670245, 0.44440934933670245, 0.44472520530638027, 0.44472520530638027, 0.44504106127605814, 0.44504106127605814, 0.44630448515476945, 0.44630448515476945, 0.4472520530638029, 0.4472520530638029, 0.44756790903348076, 0.44756790903348076, 0.4478837650031586, 0.4478837650031586, 0.4485154769425142, 0.4485154769425142, 0.448831332912192, 0.448831332912192, 0.4500947567909033, 0.4500947567909033, 0.4510423246999368, 0.4510423246999368, 0.45135818066961464, 0.45135818066961464, 0.4516740366392925, 0.4516740366392925, 0.45230574857864814, 0.45230574857864814, 0.45293746051800376, 0.45293746051800376, 0.45325331648768163, 0.45325331648768163, 0.45388502842703726, 0.45388502842703726, 0.4542008843967151, 0.45483259633607076, 0.4551484523057486, 0.4551484523057486, 0.4554643082754264, 0.4554643082754264, 0.4564118761844599, 0.4564118761844599, 0.4573594440934934, 0.4573594440934934, 0.4576753000631712, 0.4576753000631712, 0.457991156032849, 0.457991156032849, 0.45957043588123814, 0.45957043588123814, 0.46114971572962726, 0.46114971572962726, 0.46209728363866076, 0.46209728363866076, 0.46430827542640557, 0.46430827542640557, 0.4649399873657612, 0.4649399873657612, 0.4658875552747947, 0.4658875552747947, 0.4665192672141503, 0.4668351231838282, 0.4668351231838282, 0.4680985470625395, 0.4680985470625395, 0.46873025900189513, 0.46873025900189513, 0.4693619709412508, 0.4693619709412508, 0.4706253948199621, 0.4706253948199621, 0.47125710675931776, 0.47125710675931776, 0.47252053063802907, 0.47252053063802907, 0.4731522425773847, 0.4737839545167404, 0.4737839545167404, 0.474415666456096, 0.474415666456096, 0.4747315224257738, 0.4747315224257738, 0.47599494630448513, 0.47599494630448513, 0.476310802274163, 0.476310802274163, 0.4766266582438408, 0.4766266582438408, 0.47694251421351863, 0.47694251421351863, 0.4775742261528743, 0.4775742261528743, 0.47852179406190776, 0.47852179406190776, 0.47946936197094125, 0.47946936197094125, 0.4801010739102969, 0.48073278584965257, 0.4813644977890082, 0.4813644977890082, 0.4823120656980417, 0.4823120656980417, 0.48420720151610863, 0.48420720151610863, 0.4845230574857865, 0.4845230574857865, 0.4857864813644978, 0.4857864813644978, 0.48641819330385344, 0.48641819330385344, 0.48673404927353126, 0.48673404927353126, 0.48704990524320907, 0.48704990524320907, 0.48768161718256475, 0.48768161718256475, 0.4883133291219204, 0.4883133291219204, 0.48862918509159825, 0.48862918509159825, 0.4895767530006317, 0.4895767530006317, 0.48989260897030956, 0.48989260897030956, 0.4905243209096652, 0.4905243209096652, 0.490840176879343, 0.490840176879343, 0.4914718888186987, 0.4914718888186987, 0.4917877447883765, 0.4917877447883765, 0.4921036007580543, 0.4921036007580543, 0.4939987365761213, 0.4939987365761213, 0.4943145925457991, 0.4943145925457991, 0.4952621604548326, 0.49589387239418825, 0.4965255843335439, 0.4965255843335439, 0.49684144030322175, 0.49684144030322175, 0.49715729627289956, 0.49715729627289956, 0.49810486418193306, 0.49810486418193306, 0.5015792798483891, 0.5015792798483891, 0.5034744156664561, 0.5034744156664561, 0.5047378395451674, 0.5047378395451674, 0.5050536955148452, 0.5050536955148452, 0.505369551484523, 0.505369551484523, 0.5066329753632344, 0.5066329753632344, 0.5088439671509791, 0.5088439671509791, 0.5101073910296905, 0.5101073910296905, 0.511054958938724, 0.511054958938724, 0.5123183828174352, 0.5123183828174352, 0.5157927984838914, 0.5157927984838914, 0.5167403663929249, 0.5167403663929249, 0.5170562223626026, 0.5170562223626026, 0.5173720783322805, 0.5173720783322805, 0.5176879343019583, 0.5176879343019583, 0.5195830701200252, 0.5195830701200252, 0.52179406190777, 0.52179406190777, 0.5230574857864814, 0.5230574857864814, 0.5233733417561592, 0.5233733417561592, 0.5243209096651926, 0.5243209096651926, 0.5249526216045484, 0.5249526216045484, 0.5262160454832596, 0.5262160454832596, 0.527479469361971, 0.527479469361971, 0.5277953253316487, 0.5277953253316487, 0.5287428932406822, 0.5287428932406822, 0.5290587492103601, 0.5290587492103601, 0.5300063171193936, 0.5300063171193936, 0.5303221730890714, 0.5303221730890714, 0.5306380290587492, 0.5306380290587492, 0.530953885028427, 0.530953885028427, 0.5312697409981049, 0.5312697409981049, 0.5315855969677827, 0.5315855969677827, 0.5325331648768161, 0.5325331648768161, 0.532849020846494, 0.532849020846494, 0.5341124447252054, 0.5341124447252054, 0.5350600126342387, 0.5350600126342387, 0.5356917245735945, 0.5356917245735945, 0.5366392924826279, 0.5366392924826279, 0.5382185723310171, 0.5382185723310171, 0.5385344283006949, 0.5385344283006949, 0.5391661402400505, 0.5391661402400505, 0.540113708149084, 0.540113708149084, 0.5429564118761845, 0.5429564118761845, 0.5435881238155401, 0.5435881238155401, 0.5442198357548957, 0.5442198357548957, 0.5457991156032849, 0.5457991156032849, 0.5467466835123184, 0.5467466835123184, 0.5476942514213519, 0.5476942514213519, 0.5483259633607075, 0.5483259633607075, 0.5489576753000631, 0.5489576753000631, 0.5505369551484524, 0.5505369551484524, 0.5508528111181301, 0.5508528111181301, 0.5518003790271636, 0.5518003790271636, 0.5530638029058749, 0.5530638029058749, 0.5533796588755527, 0.5533796588755527, 0.5536955148452306, 0.5536955148452306, 0.5540113708149084, 0.5540113708149084, 0.5546430827542641, 0.5546430827542641, 0.5562223626026532, 0.5562223626026532, 0.5574857864813645, 0.5574857864813645, 0.5581174984207201, 0.5581174984207201, 0.5587492103600759, 0.5587492103600759, 0.5596967782691092, 0.5596967782691092, 0.5609602021478206, 0.5609602021478206, 0.5619077700568541, 0.5619077700568541, 0.563802905874921, 0.563802905874921, 0.5644346178142767, 0.5644346178142767, 0.5669614655716994, 0.5669614655716994, 0.5679090334807327, 0.5679090334807327, 0.5685407454200885, 0.5685407454200885, 0.5688566013897662, 0.5688566013897662, 0.5691724573594441, 0.5691724573594441, 0.5701200252684776, 0.5701200252684776, 0.5704358812381554, 0.5704358812381554, 0.5726468730259002, 0.5726468730259002, 0.5732785849652559, 0.5732785849652559, 0.5761212886923562, 0.5761212886923562, 0.5770688566013897, 0.5770688566013897, 0.5780164245104232, 0.5780164245104232, 0.5783322804801011, 0.5783322804801011, 0.5792798483891346, 0.5792798483891346, 0.5799115603284902, 0.5799115603284902, 0.580227416298168, 0.580227416298168, 0.5805432722678459, 0.5805432722678459, 0.5811749842072015, 0.5811749842072015, 0.5818066961465572, 0.5818066961465572, 0.5833859759949463, 0.5833859759949463, 0.5868603916614024, 0.5868603916614024, 0.5874921036007581, 0.5874921036007581, 0.5900189513581807, 0.5900189513581807, 0.5922299431459255, 0.5922299431459255, 0.5925457991156032, 0.5925457991156032, 0.5938092229943146, 0.5938092229943146, 0.5944409349336702, 0.5944409349336702, 0.5950726468730259, 0.5950726468730259, 0.596651926721415, 0.596651926721415, 0.5975994946304485, 0.5975994946304485, 0.5988629185091598, 0.5988629185091598, 0.6001263423878711, 0.6001263423878711, 0.6007580543272267, 0.6007580543272267, 0.6017056222362602, 0.6017056222362602, 0.6020214782059381, 0.6020214782059381, 0.6051800379027164, 0.6051800379027164, 0.605811749842072, 0.605811749842072, 0.6083385975994946, 0.6083385975994946, 0.6092861655085281, 0.6092861655085281, 0.6127605811749842, 0.6127605811749842, 0.6137081490840177, 0.6137081490840177, 0.6146557169930512, 0.6146557169930512, 0.6159191408717625, 0.6159191408717625, 0.6171825647504738, 0.6171825647504738, 0.618761844598863, 0.618761844598863, 0.6197094125078964, 0.6197094125078964, 0.6200252684775742, 0.6200252684775742, 0.6212886923562856, 0.6212886923562856, 0.622236260265319, 0.622236260265319, 0.6253948199620973, 0.6253948199620973, 0.6266582438408086, 0.6266582438408086, 0.6269740998104865, 0.6269740998104865, 0.6282375236891977, 0.6282375236891977, 0.6288692356285533, 0.6288692356285533, 0.6291850915982312, 0.6291850915982312, 0.6320277953253316, 0.6320277953253316, 0.6323436512950095, 0.6323436512950095, 0.6336070751737208, 0.6336070751737208, 0.6342387871130765, 0.6342387871130765, 0.63518635502211, 0.63518635502211, 0.6364497789008212, 0.6364497789008212, 0.6370814908401768, 0.6370814908401768, 0.6392924826279217, 0.6392924826279217, 0.6418193303853443, 0.6418193303853443, 0.6427668982943777, 0.6427668982943777, 0.6437144662034112, 0.6437144662034112, 0.6446620341124447, 0.6446620341124447, 0.6452937460518003, 0.6452937460518003, 0.6456096020214782, 0.6456096020214782, 0.6493998736576121, 0.6493998736576121, 0.64971572962729, 0.64971572962729, 0.6519267214150347, 0.6519267214150347, 0.6522425773847126, 0.6522425773847126, 0.6535060012634238, 0.6535060012634238, 0.6547694251421352, 0.6547694251421352, 0.6572962728995578, 0.6572962728995578, 0.6582438408085913, 0.6582438408085913, 0.658875552747947, 0.658875552747947, 0.6598231206569805, 0.6598231206569805, 0.6626658243840808, 0.6626658243840808, 0.6648768161718257, 0.6648768161718257, 0.6651926721415035, 0.6651926721415035, 0.6664560960202148, 0.6664560960202148, 0.6670878079595705, 0.6670878079595705, 0.6677195198989261, 0.6677195198989261, 0.6702463676563487, 0.6702463676563487, 0.6705622236260266, 0.6705622236260266, 0.6708780795957043, 0.6708780795957043, 0.6711939355653822, 0.6718256475047378, 0.6724573594440935, 0.6724573594440935, 0.6740366392924826, 0.6740366392924826, 0.6743524952621605, 0.6743524952621605, 0.6794061907770057, 0.6794061907770057, 0.6822488945041061, 0.6822488945041061, 0.6835123183828175, 0.6835123183828175, 0.6838281743524952, 0.6838281743524952, 0.6841440303221731, 0.6841440303221731, 0.6850915982312066, 0.6850915982312066, 0.6895135818066962, 0.6895135818066962, 0.6907770056854075, 0.6907770056854075, 0.6910928616550853, 0.6910928616550853, 0.691724573594441, 0.691724573594441, 0.6939355653821857, 0.6939355653821857, 0.6945672773215413, 0.6945672773215413, 0.6948831332912192, 0.6948831332912192, 0.6958307012002527, 0.6958307012002527, 0.6961465571699305, 0.6961465571699305, 0.697094125078964, 0.697094125078964, 0.6983575489576753, 0.6983575489576753, 0.6996209728363866, 0.6996209728363866, 0.6999368288060644, 0.6999368288060644, 0.7002526847757422, 0.7002526847757422, 0.7034112444725206, 0.7034112444725206, 0.7040429564118762, 0.7040429564118762, 0.7072015161086544, 0.7072015161086544, 0.7075173720783323, 0.7075173720783323, 0.7087807959570436, 0.7087807959570436, 0.7106759317751106, 0.7106759317751106, 0.7116234996841441, 0.7116234996841441, 0.713518635502211, 0.713518635502211, 0.7147820593809223, 0.7147820593809223, 0.7157296272899558, 0.7157296272899558, 0.7160454832596336, 0.7160454832596336, 0.7173089071383449, 0.7173089071383449, 0.7188881869867341, 0.7188881869867341, 0.7201516108654453, 0.7201516108654453, 0.7204674668351232, 0.7204674668351232, 0.7217308907138344, 0.7217308907138344, 0.7239418825015793, 0.7239418825015793, 0.7242577384712571, 0.7242577384712571, 0.7255211623499684, 0.7255211623499684, 0.7261528742893241, 0.7261528742893241, 0.7293114339861023, 0.7293114339861023, 0.7296272899557802, 0.7296272899557802, 0.7305748578648137, 0.7305748578648137, 0.7331017056222363, 0.7331017056222363, 0.7337334175615919, 0.7337334175615919, 0.7343651295009476, 0.7343651295009476, 0.7353126974099811, 0.7353126974099811, 0.7372078332280481, 0.7372078332280481, 0.7378395451674037, 0.7378395451674037, 0.7391029690461149, 0.7397346809854706, 0.7416298168035376, 0.7416298168035376, 0.7425773847125711, 0.7425773847125711, 0.7466835123183828, 0.7466835123183828, 0.7469993682880607, 0.7469993682880607, 0.7476310802274163, 0.7476310802274163, 0.7492103600758054, 0.7492103600758054, 0.7507896399241946, 0.7507896399241946, 0.7564750473783954, 0.7564750473783954, 0.7596336070751737, 0.7596336070751737, 0.7602653190145294, 0.7602653190145294, 0.7627921667719519, 0.7627921667719519, 0.7634238787113077, 0.7634238787113077, 0.7646873025900189, 0.7653190145293746, 0.7659507264687303, 0.7659507264687303, 0.7703727100442198, 0.7703727100442198, 0.7744788376500316, 0.7744788376500316, 0.7766898294377764, 0.7766898294377764, 0.7795325331648768, 0.7795325331648768, 0.7814276689829438, 0.7814276689829438, 0.7820593809222994, 0.7820593809222994, 0.7833228048010107, 0.7833228048010107, 0.7839545167403664, 0.7839545167403664, 0.7858496525584333, 0.7858496525584333, 0.786481364497789, 0.786481364497789, 0.7871130764371447, 0.7871130764371447, 0.7896399241945673, 0.7896399241945673, 0.7931143398610234, 0.7931143398610234, 0.7943777637397347, 0.7943777637397347, 0.7950094756790903, 0.7950094756790903, 0.7953253316487682, 0.7953253316487682, 0.7969046114971573, 0.7969046114971573, 0.7975363234365129, 0.7975363234365129, 0.7981680353758686, 0.7981680353758686, 0.7987997473152243, 0.7987997473152243, 0.7994314592545799, 0.7994314592545799, 0.7997473152242578, 0.7997473152242578, 0.8013265950726469, 0.8013265950726469, 0.8019583070120025, 0.8019583070120025, 0.8066961465571699, 0.8066961465571699, 0.8076437144662034, 0.8076437144662034, 0.8079595704358813, 0.8079595704358813, 0.8085912823752369, 0.8136449778900822, 0.8136449778900822, 0.8158559696778269, 0.8158559696778269, 0.8161718256475048, 0.8161718256475048, 0.8212255211623499, 0.8212255211623499, 0.8215413771320278, 0.8215413771320278, 0.8224889450410613, 0.8224889450410613, 0.822804801010739, 0.822804801010739, 0.8231206569804169, 0.8231206569804169, 0.8237523689197725, 0.8237523689197725, 0.8243840808591283, 0.8243840808591283, 0.824699936828806, 0.824699936828806, 0.8275426405559065, 0.8275426405559065, 0.8278584965255843, 0.8278584965255843, 0.8297536323436513, 0.8297536323436513, 0.8307012002526848, 0.8313329121920404, 0.8335439039797852, 0.8335439039797852, 0.833859759949463, 0.833859759949463, 0.8370183196462413, 0.8370183196462413, 0.8376500315855969, 0.8395451674036639, 0.8395451674036639, 0.8420720151610865, 0.8420720151610865, 0.8427037271004422, 0.8427037271004422, 0.8433354390397979, 0.8433354390397979, 0.8436512950094757, 0.8436512950094757, 0.8452305748578648, 0.8452305748578648, 0.8461781427668983, 0.8461781427668983, 0.8499684144030322, 0.8499684144030322, 0.8509159823120657, 0.8509159823120657, 0.8528111181301327, 0.8528111181301327, 0.8540745420088439, 0.8540745420088439, 0.8547062539481997, 0.8547062539481997, 0.8553379658875553, 0.8553379658875553, 0.8559696778269109, 0.8559696778269109, 0.8572331017056223, 0.8572331017056223, 0.8584965255843335, 0.8584965255843335, 0.8641819330385344, 0.8641819330385344, 0.8689197725837018, 0.8689197725837018, 0.8736576121288693, 0.8736576121288693, 0.8742893240682249, 0.8742893240682249, 0.877763739734681, 0.877763739734681, 0.8783954516740367, 0.8783954516740367, 0.8793430195830702, 0.8793430195830702, 0.8796588755527479, 0.8796588755527479, 0.8809222994314593, 0.8809222994314593, 0.8818698673404928, 0.8818698673404928, 0.8843967150979154, 0.8843967150979154, 0.885028427037271, 0.885028427037271, 0.8875552747946936, 0.8875552747946936, 0.8881869867340493, 0.8881869867340493, 0.8900821225521163, 0.8907138344914719, 0.8935565382185723, 0.8935565382185723, 0.8951358180669615, 0.8951358180669615, 0.8954516740366393, 0.8954516740366393, 0.8979785217940619, 0.8979785217940619, 0.8986102337334175, 0.8986102337334175, 0.9011370814908402, 0.9011370814908402, 0.9039797852179406, 0.9039797852179406, 0.9058749210360075, 0.9058749210360075, 0.9065066329753633, 0.9065066329753633, 0.9080859128237524, 0.9080859128237524, 0.9084017687934302, 0.9084017687934302, 0.908717624763108, 0.908717624763108, 0.9090334807327859, 0.9090334807327859, 0.9109286165508528, 0.9109286165508528, 0.9137713202779533, 0.9137713202779533, 0.9147188881869868, 0.9147188881869868, 0.9172457359444094, 0.9172457359444094, 0.9204042956411876, 0.9204042956411876, 0.9241945672773215, 0.9241945672773215, 0.927037271004422, 0.927037271004422, 0.934301958307012, 0.934301958307012, 0.9355653821857233, 0.9355653821857233, 0.9387239418825016, 0.9387239418825016, 0.9409349336702464, 0.9409349336702464, 0.9412507896399241, 0.9412507896399241, 0.941566645609602, 0.941566645609602, 0.9485154769425143, 0.9485154769425143, 0.9497789008212255, 0.9497789008212255, 0.950726468730259, 0.950726468730259, 0.9510423246999369, 0.9510423246999369, 0.9529374605180038, 0.9529374605180038, 0.9542008843967151, 0.9542008843967151, 0.9548325963360708, 0.9548325963360708, 0.9583070120025269, 0.9583070120025269, 0.9605180037902716, 0.9605180037902716, 0.9614655716993051, 0.9614655716993051, 0.9636765634870499, 0.9643082754264055, 0.9699936828806064, 0.9699936828806064, 0.972520530638029, 0.972520530638029, 0.9740998104864181, 0.9740998104864181, 0.9772583701831965, 0.9772583701831965, 0.98547062539482, 0.98547062539482, 0.9892608970309539, 0.9892608970309539, 0.9939987365761213, 0.9939987365761213, 0.9968414403032217, 0.9968414403032217, 1.0], \"y\": [0.0, 0.0004476275738585497, 0.0004476275738585497, 0.0017905102954341987, 0.0017905102954341987, 0.004476275738585497, 0.004476275738585497, 0.006266786034019696, 0.006266786034019696, 0.007609668755595345, 0.007609668755595345, 0.011638316920322292, 0.011638316920322292, 0.01477170993733214, 0.01477170993733214, 0.023276633840644583, 0.023276633840644583, 0.025962399283795883, 0.025962399283795883, 0.02999104744852283, 0.02999104744852283, 0.03312444046553268, 0.03312444046553268, 0.03357206803939123, 0.03357206803939123, 0.03581020590868397, 0.03581020590868397, 0.03760071620411817, 0.03760071620411817, 0.03983885407341092, 0.03983885407341092, 0.04073410922112802, 0.04073410922112802, 0.04252461951656222, 0.04252461951656222, 0.046105640107430616, 0.046105640107430616, 0.049686660698299016, 0.049686660698299016, 0.051924798567591766, 0.051924798567591766, 0.05461056401074306, 0.05461056401074306, 0.05595344673231871, 0.05595344673231871, 0.05640107430617726, 0.05640107430617726, 0.05863921217547001, 0.05863921217547001, 0.06132497761862131, 0.06132497761862131, 0.06311548791405551, 0.06311548791405551, 0.06445837063563116, 0.06445837063563116, 0.06535362578334826, 0.06535362578334826, 0.0684870188003581, 0.0684870188003581, 0.06982990152193375, 0.06982990152193375, 0.0702775290957923, 0.0702775290957923, 0.07430617726051925, 0.07430617726051925, 0.07520143240823635, 0.07520143240823635, 0.076544315129812, 0.076544315129812, 0.0783348254252462, 0.0783348254252462, 0.07967770814682185, 0.07967770814682185, 0.0810205908683975, 0.0810205908683975, 0.0846016114592659, 0.0846016114592659, 0.08863025962399283, 0.08863025962399283, 0.08997314234556848, 0.08997314234556848, 0.09579230080572963, 0.09579230080572963, 0.09892569382273948, 0.09892569382273948, 0.10116383169203223, 0.10116383169203223, 0.10205908683974933, 0.10205908683974933, 0.10340196956132498, 0.10340196956132498, 0.10519247985675918, 0.10519247985675918, 0.10608773500447627, 0.10608773500447627, 0.10653536257833482, 0.10653536257833482, 0.10832587287376902, 0.10832587287376902, 0.10966875559534467, 0.10966875559534467, 0.11235452103849597, 0.11235452103849597, 0.11593554162936437, 0.11593554162936437, 0.11638316920322292, 0.11638316920322292, 0.11683079677708147, 0.11683079677708147, 0.11772605192479857, 0.11772605192479857, 0.11817367949865712, 0.11817367949865712, 0.11862130707251567, 0.11862130707251567, 0.12354521038495972, 0.12354521038495972, 0.12444046553267682, 0.12444046553267682, 0.12578334825425247, 0.12578334825425247, 0.12667860340196957, 0.12667860340196957, 0.12981199641897942, 0.12981199641897942, 0.13070725156669652, 0.13070725156669652, 0.13115487914055507, 0.13115487914055507, 0.13249776186213072, 0.13249776186213072, 0.13339301700984782, 0.13339301700984782, 0.13742166517457474, 0.13742166517457474, 0.13831692032229184, 0.13831692032229184, 0.1432408236347359, 0.1432408236347359, 0.14368845120859444, 0.14368845120859444, 0.1450313339301701, 0.1450313339301701, 0.1468218442256043, 0.1468218442256043, 0.14816472694717994, 0.14816472694717994, 0.1486123545210385, 0.1486123545210385, 0.1504028648164727, 0.1504028648164727, 0.1512981199641898, 0.1512981199641898, 0.153088630259624, 0.153088630259624, 0.15353625783348254, 0.15353625783348254, 0.1539838854073411, 0.1539838854073411, 0.15443151298119964, 0.15443151298119964, 0.1548791405550582, 0.1548791405550582, 0.15711727842435094, 0.15711727842435094, 0.15980304386750224, 0.15980304386750224, 0.1629364368845121, 0.1629364368845121, 0.1656222023276634, 0.1656222023276634, 0.16696508504923904, 0.16696508504923904, 0.16786034019695614, 0.16786034019695614, 0.16875559534467324, 0.16875559534467324, 0.1692032229185318, 0.1692032229185318, 0.16965085049239034, 0.16965085049239034, 0.17054610564010744, 0.17054610564010744, 0.1727842435094002, 0.1727842435094002, 0.17502238137869292, 0.17502238137869292, 0.17636526410026857, 0.17636526410026857, 0.17681289167412712, 0.17681289167412712, 0.18039391226499552, 0.18039391226499552, 0.18128916741271262, 0.18128916741271262, 0.18218442256042972, 0.18218442256042972, 0.18263205013428827, 0.18263205013428827, 0.18307967770814682, 0.18307967770814682, 0.18442256042972247, 0.18442256042972247, 0.18934646374216652, 0.18934646374216652, 0.19024171888988362, 0.19024171888988362, 0.19292748433303492, 0.19292748433303492, 0.19427036705461057, 0.19427036705461057, 0.19471799462846912, 0.19471799462846912, 0.19650850492390332, 0.19650850492390332, 0.19740376007162042, 0.19740376007162042, 0.20232766338406447, 0.20232766338406447, 0.20322291853178157, 0.20322291853178157, 0.20411817367949867, 0.20411817367949867, 0.20501342882721577, 0.20501342882721577, 0.20769919427036707, 0.20769919427036707, 0.20993733213965982, 0.20993733213965982, 0.21038495971351837, 0.21038495971351837, 0.211727842435094, 0.211727842435094, 0.2135183527305282, 0.2135183527305282, 0.21396598030438674, 0.21396598030438674, 0.2144136078782453, 0.2144136078782453, 0.2162041181736795, 0.2162041181736795, 0.21844225604297224, 0.21844225604297224, 0.2188898836168308, 0.2188898836168308, 0.2197851387645479, 0.2197851387645479, 0.2215756490599821, 0.2215756490599821, 0.22202327663384064, 0.22202327663384064, 0.22202327663384064, 0.2224709042076992, 0.2224709042076992, 0.2269471799462847, 0.2269471799462847, 0.22829006266786034, 0.22829006266786034, 0.2287376902417189, 0.2287376902417189, 0.229632945389436, 0.229632945389436, 0.2314234556848702, 0.2314234556848702, 0.2332139659803044, 0.2332139659803044, 0.23634735899731424, 0.23634735899731424, 0.2376902417188899, 0.2376902417188899, 0.23813786929274844, 0.23813786929274844, 0.23903312444046554, 0.23903312444046554, 0.2412712623097583, 0.2412712623097583, 0.2430617726051925, 0.2430617726051925, 0.24350940017905104, 0.24350940017905104, 0.24709042076991944, 0.24709042076991944, 0.24977618621307074, 0.24977618621307074, 0.25067144136078784, 0.25067144136078784, 0.25111906893464636, 0.25111906893464636, 0.25201432408236346, 0.25201432408236346, 0.25335720680393914, 0.25335720680393914, 0.25380483437779766, 0.25380483437779766, 0.25425246195165624, 0.25425246195165624, 0.25693822739480754, 0.25693822739480754, 0.25783348254252464, 0.25783348254252464, 0.25917636526410026, 0.25917636526410026, 0.26051924798567594, 0.26051924798567594, 0.26186213070725156, 0.26186213070725156, 0.26275738585496866, 0.26275738585496866, 0.26320501342882724, 0.26320501342882724, 0.26365264100268576, 0.26365264100268576, 0.26410026857654434, 0.26410026857654434, 0.26454789615040286, 0.26454789615040286, 0.26499552372426144, 0.26499552372426144, 0.26723366159355416, 0.26723366159355416, 0.26812891674127126, 0.26812891674127126, 0.26857654431512984, 0.26857654431512984, 0.26991942703670546, 0.26991942703670546, 0.27081468218442256, 0.27081468218442256, 0.2721575649059982, 0.2721575649059982, 0.27350044762757386, 0.27350044762757386, 0.2739480752014324, 0.2739480752014324, 0.27529095792300806, 0.27529095792300806, 0.2757385854968666, 0.2757385854968666, 0.27887197851387646, 0.27887197851387646, 0.279319606087735, 0.279319606087735, 0.27976723366159356, 0.27976723366159356, 0.2802148612354521, 0.2802148612354521, 0.28245299910474486, 0.28245299910474486, 0.2855863921217547, 0.2855863921217547, 0.28692927484333036, 0.28692927484333036, 0.2873769024171889, 0.2873769024171889, 0.2900626678603402, 0.2900626678603402, 0.2918531781557744, 0.2918531781557744, 0.29230080572963296, 0.29230080572963296, 0.2927484333034915, 0.2927484333034915, 0.2945389435989257, 0.2945389435989257, 0.29677708146821846, 0.29677708146821846, 0.297224709042077, 0.29767233661593556, 0.29767233661593556, 0.29856759176365266, 0.29856759176365266, 0.30304386750223816, 0.30304386750223816, 0.3034914950760967, 0.3034914950760967, 0.30393912264995526, 0.30393912264995526, 0.3043867502238138, 0.3043867502238138, 0.30572963294538946, 0.30572963294538946, 0.306177260519248, 0.306177260519248, 0.30662488809310656, 0.30662488809310656, 0.30752014324082366, 0.30752014324082366, 0.3097582811101164, 0.3097582811101164, 0.3106535362578335, 0.3106535362578335, 0.3119964189794091, 0.3119964189794091, 0.3128916741271262, 0.3128916741271262, 0.315129811996419, 0.315129811996419, 0.3169203222918532, 0.3169203222918532, 0.3178155774395703, 0.3178155774395703, 0.3187108325872874, 0.3187108325872874, 0.3196060877350045, 0.3196060877350045, 0.3205013428827216, 0.3205013428827216, 0.3209489704565801, 0.3209489704565801, 0.3213965980304387, 0.3213965980304387, 0.3231871083258729, 0.3231871083258729, 0.32408236347359, 0.32408236347359, 0.3245299910474485, 0.3245299910474485, 0.3254252461951656, 0.3254252461951656, 0.3258728737690242, 0.3258728737690242, 0.3258728737690242, 0.3267681289167413, 0.3267681289167413, 0.3285586392121755, 0.3285586392121755, 0.329006266786034, 0.329006266786034, 0.3303491495076097, 0.3307967770814682, 0.3307967770814682, 0.3312444046553268, 0.3312444046553268, 0.3316920322291853, 0.3316920322291853, 0.3321396598030439, 0.3321396598030439, 0.3325872873769024, 0.3325872873769024, 0.3339301700984781, 0.3339301700984781, 0.3357206803939123, 0.3357206803939123, 0.3361683079677708, 0.3361683079677708, 0.3410922112802149, 0.3410922112802149, 0.3415398388540734, 0.3415398388540734, 0.341987466427932, 0.341987466427932, 0.3424350940017905, 0.3428827215756491, 0.3428827215756491, 0.3442256042972247, 0.3442256042972247, 0.3446732318710833, 0.3446732318710833, 0.3455684870188004, 0.3455684870188004, 0.34646374216651743, 0.34646374216651743, 0.346911369740376, 0.346911369740376, 0.34735899731423453, 0.34735899731423453, 0.3478066248880931, 0.3478066248880931, 0.3487018800358102, 0.3495971351835273, 0.3495971351835273, 0.35004476275738583, 0.35004476275738583, 0.3513876454789615, 0.3513876454789615, 0.35183527305282003, 0.35183527305282003, 0.3522829006266786, 0.3522829006266786, 0.35362578334825423, 0.35362578334825423, 0.3540734109221128, 0.3540734109221128, 0.35452103849597133, 0.35452103849597133, 0.355863921217547, 0.355863921217547, 0.35720680393912263, 0.35720680393912263, 0.3576544315129812, 0.35810205908683973, 0.3585496866606983, 0.3594449418084154, 0.3621307072515667, 0.3621307072515667, 0.36257833482542523, 0.36257833482542523, 0.3630259623992838, 0.3630259623992838, 0.36347358997314233, 0.36347358997314233, 0.3639212175470009, 0.3639212175470009, 0.36436884512085943, 0.36436884512085943, 0.3657117278424351, 0.3657117278424351, 0.36615935541629363, 0.36615935541629363, 0.36615935541629363, 0.36705461056401073, 0.36705461056401073, 0.3675022381378693, 0.3675022381378693, 0.36884512085944493, 0.36884512085944493, 0.3692927484333035, 0.3701880035810206, 0.3701880035810206, 0.3719785138764548, 0.3719785138764548, 0.37242614145031333, 0.37242614145031333, 0.373769024171889, 0.373769024171889, 0.3746642793196061, 0.3746642793196061, 0.37511190689346463, 0.37511190689346463, 0.3755595344673232, 0.3755595344673232, 0.37600716204118173, 0.37600716204118173, 0.3764547896150403, 0.3764547896150403, 0.37690241718889883, 0.37690241718889883, 0.37779767233661593, 0.37779767233661593, 0.3782452999104745, 0.3782452999104745, 0.37869292748433303, 0.37869292748433303, 0.3791405550581916, 0.3791405550581916, 0.37958818263205013, 0.37958818263205013, 0.3800358102059087, 0.3800358102059087, 0.38137869292748433, 0.38137869292748433, 0.38137869292748433, 0.38227394807520143, 0.38227394807520143, 0.38272157564906, 0.38272157564906, 0.38406445837063563, 0.38406445837063563, 0.3845120859444942, 0.3845120859444942, 0.38540734109221125, 0.38540734109221125, 0.38585496866606983, 0.38630259623992835, 0.38630259623992835, 0.38719785138764545, 0.38719785138764545, 0.38854073410922113, 0.38854073410922113, 0.38898836168307965, 0.38898836168307965, 0.38988361683079675, 0.38988361683079675, 0.39077887197851385, 0.39077887197851385, 0.39122649955237243, 0.39122649955237243, 0.39212175470008953, 0.39212175470008953, 0.39256938227394805, 0.39256938227394805, 0.39435989256938225, 0.39435989256938225, 0.39615040286481645, 0.39615040286481645, 0.39615040286481645, 0.39794091316025065, 0.39794091316025065, 0.39838854073410923, 0.39838854073410923, 0.40152193375111905, 0.40152193375111905, 0.40241718889883615, 0.40241718889883615, 0.40331244404655325, 0.40331244404655325, 0.40331244404655325, 0.40331244404655325, 0.40599820948970455, 0.40599820948970455, 0.40644583706356313, 0.40644583706356313, 0.40734109221128023, 0.40734109221128023, 0.40778871978513875, 0.40778871978513875, 0.40913160250671443, 0.40913160250671443, 0.40957923008057295, 0.40957923008057295, 0.41092211280214863, 0.41092211280214863, 0.41136974037600715, 0.41136974037600715, 0.41226499552372425, 0.41226499552372425, 0.41316025067144135, 0.41316025067144135, 0.41360787824529993, 0.41360787824529993, 0.41405550581915845, 0.41405550581915845, 0.41495076096687555, 0.41495076096687555, 0.41629364368845123, 0.41629364368845123, 0.41763652641002685, 0.41763652641002685, 0.42032229185317815, 0.42032229185317815, 0.42076991942703673, 0.42076991942703673, 0.42211280214861235, 0.42211280214861235, 0.42256042972247093, 0.42256042972247093, 0.423455684870188, 0.423455684870188, 0.42390331244404655, 0.42390331244404655, 0.42479856759176365, 0.42479856759176365, 0.4252461951656222, 0.4252461951656222, 0.4261414503133393, 0.4261414503133393, 0.42658907788719785, 0.42658907788719785, 0.4279319606087735, 0.4279319606087735, 0.42837958818263205, 0.42837958818263205, 0.4288272157564906, 0.4288272157564906, 0.43017009847806625, 0.43017009847806625, 0.43106535362578335, 0.43106535362578335, 0.4315129811996419, 0.4315129811996419, 0.43643688451208595, 0.43643688451208595, 0.4377797672336616, 0.4377797672336616, 0.4386750223813787, 0.4386750223813787, 0.43912264995523725, 0.43912264995523725, 0.4395702775290958, 0.4395702775290958, 0.44001790510295435, 0.44001790510295435, 0.4404655326768129, 0.4404655326768129, 0.44091316025067145, 0.44091316025067145, 0.44180841539838855, 0.44180841539838855, 0.4431512981199642, 0.4431512981199642, 0.44449418084153985, 0.44449418084153985, 0.44538943598925695, 0.44538943598925695, 0.44717994628469115, 0.44717994628469115, 0.4494180841539839, 0.4494180841539839, 0.44986571172784245, 0.44986571172784245, 0.450313339301701, 0.450313339301701, 0.45076096687555955, 0.45076096687555955, 0.4512085944494181, 0.4512085944494181, 0.4521038495971352, 0.4521038495971352, 0.45344673231871085, 0.45344673231871085, 0.45434198746642795, 0.45434198746642795, 0.4547896150402865, 0.4547896150402865, 0.45523724261414505, 0.45523724261414505, 0.4556848701880036, 0.4556848701880036, 0.45613249776186215, 0.45613249776186215, 0.4565801253357207, 0.4565801253357207, 0.4574753804834378, 0.4574753804834378, 0.459265890778872, 0.459265890778872, 0.4610564010743062, 0.4610564010743062, 0.46150402864816475, 0.46150402864816475, 0.4637421665174575, 0.4637421665174575, 0.4650850492390331, 0.4650850492390331, 0.4673231871083259, 0.4673231871083259, 0.4686660698299015, 0.4686660698299015, 0.4695613249776186, 0.4695613249776186, 0.4700089525514772, 0.4700089525514772, 0.4713518352730528, 0.4713518352730528, 0.4722470904207699, 0.4722470904207699, 0.473142345568487, 0.473142345568487, 0.4744852282900627, 0.4744852282900627, 0.4762757385854969, 0.4762757385854969, 0.4780662488809311, 0.4780662488809311, 0.4789615040286482, 0.4789615040286482, 0.4794091316025067, 0.4794091316025067, 0.4807520143240824, 0.4807520143240824, 0.4816472694717995, 0.4816472694717995, 0.4838854073410922, 0.4838854073410922, 0.4852282900626679, 0.4852282900626679, 0.4870188003581021, 0.4870188003581021, 0.4883616830796777, 0.4883616830796777, 0.4897045658012534, 0.4897045658012534, 0.4905998209489705, 0.4905998209489705, 0.4923903312444047, 0.4923903312444047, 0.4928379588182632, 0.4928379588182632, 0.4932855863921218, 0.4932855863921218, 0.4946284691136974, 0.4946284691136974, 0.495076096687556, 0.495076096687556, 0.4964189794091316, 0.4964189794091316, 0.4995523724261415, 0.4995523724261415, 0.5022381378692927, 0.5022381378692927, 0.5031333930170099, 0.5031333930170099, 0.5035810205908684, 0.5035810205908684, 0.5040286481647269, 0.5040286481647269, 0.5044762757385854, 0.5044762757385854, 0.5049239033124441, 0.5049239033124441, 0.5053715308863026, 0.5053715308863026, 0.5058191584601611, 0.5058191584601611, 0.5062667860340196, 0.5062667860340196, 0.5071620411817368, 0.5071620411817368, 0.5080572963294538, 0.5080572963294538, 0.5085049239033125, 0.5085049239033125, 0.5102954341987467, 0.5102954341987467, 0.5116383169203222, 0.5116383169203222, 0.5125335720680394, 0.5125335720680394, 0.5129811996418979, 0.5129811996418979, 0.5134288272157564, 0.5134288272157564, 0.5138764547896151, 0.5138764547896151, 0.5156669650850493, 0.5156669650850493, 0.5161145926589078, 0.5161145926589078, 0.5165622202327663, 0.5165622202327663, 0.5170098478066248, 0.5170098478066248, 0.517905102954342, 0.517905102954342, 0.5196956132497762, 0.5196956132497762, 0.5214861235452104, 0.5214861235452104, 0.5232766338406446, 0.5232766338406446, 0.5237242614145031, 0.5237242614145031, 0.5255147717099373, 0.5255147717099373, 0.5264100268576545, 0.5264100268576545, 0.526857654431513, 0.526857654431513, 0.5273052820053715, 0.5273052820053715, 0.52775290957923, 0.52775290957923, 0.5282005371530887, 0.5282005371530887, 0.5299910474485229, 0.5299910474485229, 0.5304386750223814, 0.5304386750223814, 0.5308863025962399, 0.5308863025962399, 0.5326768128916741, 0.5326768128916741, 0.5331244404655326, 0.5331244404655326, 0.5340196956132498, 0.5340196956132498, 0.5340196956132498, 0.5340196956132498, 0.5340196956132498, 0.5340196956132498, 0.5344673231871083, 0.5344673231871083, 0.535810205908684, 0.535810205908684, 0.536705461056401, 0.536705461056401, 0.5371530886302597, 0.5371530886302597, 0.5376007162041182, 0.5376007162041182, 0.5380483437779767, 0.5380483437779767, 0.5402864816472694, 0.5402864816472694, 0.5411817367949866, 0.5411817367949866, 0.5425246195165622, 0.5425246195165622, 0.5434198746642793, 0.5434198746642793, 0.5443151298119964, 0.5443151298119964, 0.544762757385855, 0.544762757385855, 0.5452103849597135, 0.5452103849597135, 0.5470008952551477, 0.5470008952551477, 0.5474485228290062, 0.5474485228290062, 0.5478961504028648, 0.5478961504028648, 0.5478961504028648, 0.5478961504028648, 0.5487914055505819, 0.5487914055505819, 0.549686660698299, 0.549686660698299, 0.5514771709937332, 0.5514771709937332, 0.5519247985675918, 0.5519247985675918, 0.5523724261414503, 0.5523724261414503, 0.553715308863026, 0.553715308863026, 0.5555058191584602, 0.5555058191584602, 0.5559534467323187, 0.5559534467323187, 0.5564010743061772, 0.5564010743061772, 0.5568487018800358, 0.5568487018800358, 0.5572963294538944, 0.5572963294538944, 0.5581915846016114, 0.5581915846016114, 0.55863921217547, 0.55863921217547, 0.5590868397493286, 0.5590868397493286, 0.5604297224709042, 0.5604297224709042, 0.5608773500447628, 0.5608773500447628, 0.5617726051924798, 0.5617726051924798, 0.563563115487914, 0.563563115487914, 0.5644583706356312, 0.5644583706356312, 0.5653536257833482, 0.5653536257833482, 0.5658012533572068, 0.5658012533572068, 0.5666965085049239, 0.5666965085049239, 0.567591763652641, 0.567591763652641, 0.5689346463742166, 0.5689346463742166, 0.5693822739480752, 0.5693822739480752, 0.5698299015219338, 0.5698299015219338, 0.5707251566696508, 0.5707251566696508, 0.5711727842435094, 0.5711727842435094, 0.5711727842435094, 0.5711727842435094, 0.571620411817368, 0.571620411817368, 0.572515666965085, 0.572515666965085, 0.5734109221128022, 0.5734109221128022, 0.5738585496866607, 0.5738585496866607, 0.5743061772605192, 0.5743061772605192, 0.5747538048343778, 0.5747538048343778, 0.5756490599820949, 0.5756490599820949, 0.576544315129812, 0.576544315129812, 0.5769919427036705, 0.5769919427036705, 0.5774395702775291, 0.5774395702775291, 0.5778871978513876, 0.5778871978513876, 0.5787824529991047, 0.5787824529991047, 0.5796777081468218, 0.5796777081468218, 0.5801253357206804, 0.5801253357206804, 0.5801253357206804, 0.5801253357206804, 0.5819158460161146, 0.5819158460161146, 0.5823634735899731, 0.5823634735899731, 0.5837063563115488, 0.5837063563115488, 0.5841539838854073, 0.5841539838854073, 0.5846016114592659, 0.5846016114592659, 0.5863921217547001, 0.5863921217547001, 0.5868397493285586, 0.5868397493285586, 0.5872873769024172, 0.5872873769024172, 0.5877350044762757, 0.5877350044762757, 0.5886302596239928, 0.5886302596239928, 0.5890778871978514, 0.5890778871978514, 0.5895255147717099, 0.5895255147717099, 0.5899731423455685, 0.5899731423455685, 0.5913160250671441, 0.5913160250671441, 0.5917636526410027, 0.5917636526410027, 0.5922112802148612, 0.5922112802148612, 0.5931065353625783, 0.5931065353625783, 0.5935541629364369, 0.5935541629364369, 0.5940017905102954, 0.5940017905102954, 0.5948970456580125, 0.5948970456580125, 0.5953446732318711, 0.5953446732318711, 0.5971351835273053, 0.5971351835273053, 0.5971351835273053, 0.5971351835273053, 0.5975828111011638, 0.5975828111011638, 0.5984780662488809, 0.5984780662488809, 0.5989256938227395, 0.5989256938227395, 0.599373321396598, 0.599373321396598, 0.5998209489704566, 0.5998209489704566, 0.6002685765443151, 0.6002685765443151, 0.6007162041181737, 0.6007162041181737, 0.6011638316920322, 0.6011638316920322, 0.6025067144136079, 0.6025067144136079, 0.6029543419874664, 0.6029543419874664, 0.603401969561325, 0.603401969561325, 0.6038495971351835, 0.6038495971351835, 0.6042972247090421, 0.6042972247090421, 0.6047448522829006, 0.6047448522829006, 0.6060877350044763, 0.6060877350044763, 0.6074306177260519, 0.6074306177260519, 0.6078782452999105, 0.6078782452999105, 0.6078782452999105, 0.6078782452999105, 0.608325872873769, 0.608325872873769, 0.6087735004476276, 0.6087735004476276, 0.6092211280214861, 0.6092211280214861, 0.6096687555953447, 0.6096687555953447, 0.6096687555953447, 0.6096687555953447, 0.6101163831692032, 0.6101163831692032, 0.6110116383169203, 0.6110116383169203, 0.6114592658907789, 0.6114592658907789, 0.6128021486123545, 0.6128021486123545, 0.6132497761862131, 0.6132497761862131, 0.6141450313339302, 0.6141450313339302, 0.6141450313339302, 0.6141450313339302, 0.6145926589077887, 0.6145926589077887, 0.6168307967770814, 0.6168307967770814, 0.61727842435094, 0.61727842435094, 0.6177260519247986, 0.6177260519247986, 0.6181736794986571, 0.6181736794986571, 0.6195165622202328, 0.6195165622202328, 0.6204118173679498, 0.6204118173679498, 0.6208594449418084, 0.6208594449418084, 0.621307072515667, 0.621307072515667, 0.6217547000895255, 0.6217547000895255, 0.622202327663384, 0.622202327663384, 0.6226499552372426, 0.6226499552372426, 0.6235452103849597, 0.6235452103849597, 0.6239928379588182, 0.6239928379588182, 0.6244404655326768, 0.6244404655326768, 0.6248880931065354, 0.6248880931065354, 0.6257833482542524, 0.6257833482542524, 0.6266786034019696, 0.6266786034019696, 0.6280214861235452, 0.6280214861235452, 0.6284691136974038, 0.6284691136974038, 0.6289167412712623, 0.6289167412712623, 0.6298119964189794, 0.6298119964189794, 0.6307072515666965, 0.6307072515666965, 0.6316025067144136, 0.6316025067144136, 0.6320501342882722, 0.6320501342882722, 0.6324977618621307, 0.6324977618621307, 0.6333930170098478, 0.6333930170098478, 0.6338406445837064, 0.6338406445837064, 0.6347358997314234, 0.6347358997314234, 0.635183527305282, 0.635183527305282, 0.6356311548791406, 0.6356311548791406, 0.6360787824529991, 0.6360787824529991, 0.6365264100268576, 0.6365264100268576, 0.6374216651745748, 0.6374216651745748, 0.6383169203222918, 0.6383169203222918, 0.639212175470009, 0.639212175470009, 0.640107430617726, 0.640107430617726, 0.6405550581915846, 0.6405550581915846, 0.6410026857654432, 0.6410026857654432, 0.6418979409131602, 0.6418979409131602, 0.6427931960608774, 0.6427931960608774, 0.6436884512085944, 0.6436884512085944, 0.644136078782453, 0.644136078782453, 0.6463742166517458, 0.6463742166517458, 0.6477170993733214, 0.6477170993733214, 0.649059982094897, 0.649059982094897, 0.6499552372426142, 0.6499552372426142, 0.6508504923903312, 0.6508504923903312, 0.6512981199641898, 0.6512981199641898, 0.6521933751119069, 0.6521933751119069, 0.6526410026857654, 0.6526410026857654, 0.653088630259624, 0.653088630259624, 0.6539838854073411, 0.6539838854073411, 0.6539838854073411, 0.6539838854073411, 0.6544315129811996, 0.6544315129811996, 0.6557743957027753, 0.6557743957027753, 0.657117278424351, 0.657117278424351, 0.658012533572068, 0.658012533572068, 0.6611459265890779, 0.6611459265890779, 0.6629364368845121, 0.6629364368845121, 0.6633840644583706, 0.6633840644583706, 0.6638316920322291, 0.6638316920322291, 0.6651745747538048, 0.6651745747538048, 0.6678603401969562, 0.6678603401969562, 0.6687555953446732, 0.6687555953446732, 0.6705461056401074, 0.6705461056401074, 0.6709937332139659, 0.6709937332139659, 0.6723366159355416, 0.6723366159355416, 0.6732318710832588, 0.6732318710832588, 0.6736794986571173, 0.6736794986571173, 0.6754700089525515, 0.6754700089525515, 0.67591763652641, 0.67591763652641, 0.6763652641002685, 0.6763652641002685, 0.6768128916741272, 0.6768128916741272, 0.6777081468218442, 0.6777081468218442, 0.6781557743957027, 0.6781557743957027, 0.6790510295434199, 0.6790510295434199, 0.6794986571172784, 0.6794986571172784, 0.6803939122649956, 0.6803939122649956, 0.6808415398388541, 0.6808415398388541, 0.6812891674127126, 0.6812891674127126, 0.6817367949865711, 0.6817367949865711, 0.6826320501342883, 0.6826320501342883, 0.6830796777081468, 0.6830796777081468, 0.683974932855864, 0.683974932855864, 0.6853178155774395, 0.6853178155774395, 0.6857654431512982, 0.6857654431512982, 0.6862130707251567, 0.6862130707251567, 0.6875559534467324, 0.6875559534467324, 0.6884512085944494, 0.6884512085944494, 0.6888988361683079, 0.6888988361683079, 0.6902417188898836, 0.6902417188898836, 0.6915846016114593, 0.6915846016114593, 0.6924798567591763, 0.6924798567591763, 0.6933751119068935, 0.6933751119068935, 0.6942703670546105, 0.6942703670546105, 0.6947179946284691, 0.6947179946284691, 0.6969561324977619, 0.6969561324977619, 0.6974037600716204, 0.6974037600716204, 0.6978513876454789, 0.6978513876454789, 0.6987466427931961, 0.6987466427931961, 0.6996418979409131, 0.6996418979409131, 0.7005371530886303, 0.7005371530886303, 0.7014324082363473, 0.7014324082363473, 0.702775290957923, 0.702775290957923, 0.7032229185317815, 0.7032229185317815, 0.7036705461056401, 0.7036705461056401, 0.7045658012533572, 0.7045658012533572, 0.7054610564010743, 0.7054610564010743, 0.7063563115487914, 0.7063563115487914, 0.7072515666965085, 0.7072515666965085, 0.7094897045658013, 0.7094897045658013, 0.7099373321396598, 0.7099373321396598, 0.7112802148612355, 0.7112802148612355, 0.711727842435094, 0.711727842435094, 0.7135183527305282, 0.7135183527305282, 0.7135183527305282, 0.7144136078782453, 0.7144136078782453, 0.7153088630259624, 0.7153088630259624, 0.7162041181736795, 0.7162041181736795, 0.7170993733213966, 0.7170993733213966, 0.7175470008952551, 0.7175470008952551, 0.7197851387645479, 0.7197851387645479, 0.720680393912265, 0.720680393912265, 0.720680393912265, 0.7215756490599821, 0.7215756490599821, 0.7220232766338407, 0.7220232766338407, 0.7229185317815577, 0.7229185317815577, 0.7233661593554163, 0.7233661593554163, 0.7238137869292749, 0.7238137869292749, 0.7242614145031334, 0.7242614145031334, 0.7247090420769919, 0.7247090420769919, 0.7256042972247091, 0.7256042972247091, 0.7264995523724261, 0.7264995523724261, 0.7287376902417189, 0.7287376902417189, 0.7291853178155775, 0.7291853178155775, 0.729632945389436, 0.729632945389436, 0.7314234556848702, 0.7314234556848702, 0.7318710832587287, 0.7318710832587287, 0.7332139659803044, 0.7332139659803044, 0.7341092211280215, 0.7341092211280215, 0.73455684870188, 0.73455684870188, 0.7350044762757386, 0.7350044762757386, 0.7354521038495971, 0.7354521038495971, 0.7358997314234557, 0.7358997314234557, 0.7372426141450313, 0.7372426141450313, 0.7376902417188899, 0.7376902417188899, 0.7381378692927484, 0.7381378692927484, 0.738585496866607, 0.738585496866607, 0.7390331244404655, 0.7390331244404655, 0.7403760071620412, 0.7403760071620412, 0.7408236347358997, 0.7408236347358997, 0.7412712623097583, 0.7412712623097583, 0.7417188898836168, 0.7417188898836168, 0.7421665174574754, 0.7421665174574754, 0.7426141450313339, 0.7426141450313339, 0.743509400179051, 0.743509400179051, 0.7444046553267681, 0.7444046553267681, 0.7448522829006267, 0.7448522829006267, 0.7461951656222023, 0.7461951656222023, 0.7466427931960609, 0.7466427931960609, 0.7470904207699194, 0.7470904207699194, 0.747538048343778, 0.747538048343778, 0.7479856759176365, 0.7479856759176365, 0.7488809310653536, 0.7488809310653536, 0.7493285586392122, 0.7493285586392122, 0.7506714413607878, 0.7506714413607878, 0.7520143240823635, 0.7520143240823635, 0.752461951656222, 0.752461951656222, 0.7529095792300806, 0.7529095792300806, 0.7538048343777977, 0.7538048343777977, 0.7547000895255148, 0.7547000895255148, 0.7560429722470904, 0.7560429722470904, 0.756490599820949, 0.756490599820949, 0.7573858549686661, 0.7573858549686661, 0.7578334825425246, 0.7578334825425246, 0.7591763652641003, 0.7591763652641003, 0.7596239928379588, 0.7596239928379588, 0.7596239928379588, 0.7596239928379588, 0.7600716204118174, 0.7600716204118174, 0.7609668755595345, 0.7609668755595345, 0.761414503133393, 0.761414503133393, 0.7618621307072516, 0.7618621307072516, 0.7623097582811101, 0.7623097582811101, 0.7627573858549687, 0.7627573858549687, 0.7632050134288272, 0.7632050134288272, 0.7641002685765443, 0.7641002685765443, 0.7645478961504029, 0.7645478961504029, 0.76544315129812, 0.76544315129812, 0.7658907788719785, 0.7658907788719785, 0.7663384064458371, 0.7663384064458371, 0.7663384064458371, 0.7667860340196956, 0.7667860340196956, 0.7681289167412713, 0.7681289167412713, 0.7685765443151298, 0.7685765443151298, 0.770367054610564, 0.770367054610564, 0.7712623097582811, 0.7712623097582811, 0.7717099373321397, 0.7717099373321397, 0.7721575649059982, 0.7721575649059982, 0.7721575649059982, 0.7730528200537153, 0.7730528200537153, 0.7735004476275739, 0.7735004476275739, 0.7739480752014324, 0.7739480752014324, 0.7752909579230081, 0.7752909579230081, 0.7757385854968666, 0.7757385854968666, 0.7761862130707251, 0.7761862130707251, 0.7766338406445837, 0.7766338406445837, 0.7770814682184423, 0.7770814682184423, 0.7779767233661593, 0.7779767233661593, 0.7784243509400179, 0.7784243509400179, 0.7784243509400179, 0.7784243509400179, 0.7788719785138765, 0.7788719785138765, 0.7797672336615935, 0.7797672336615935, 0.7811101163831692, 0.7811101163831692, 0.7815577439570277, 0.7815577439570277, 0.7829006266786034, 0.7829006266786034, 0.7833482542524619, 0.7833482542524619, 0.7837958818263205, 0.7837958818263205, 0.7842435094001791, 0.7842435094001791, 0.7864816472694718, 0.7864816472694718, 0.7878245299910475, 0.7878245299910475, 0.788272157564906, 0.788272157564906, 0.7887197851387645, 0.7887197851387645, 0.7896150402864817, 0.7896150402864817, 0.7900626678603402, 0.7900626678603402, 0.7905102954341987, 0.7905102954341987, 0.7909579230080573, 0.7909579230080573, 0.7914055505819159, 0.7914055505819159, 0.7923008057296329, 0.7923008057296329, 0.7936436884512086, 0.7936436884512086, 0.7945389435989257, 0.7945389435989257, 0.7945389435989257, 0.7945389435989257, 0.7949865711727843, 0.7949865711727843, 0.7954341987466428, 0.7954341987466428, 0.7963294538943599, 0.7963294538943599, 0.7967770814682185, 0.7967770814682185, 0.797224709042077, 0.797224709042077, 0.7976723366159355, 0.7976723366159355, 0.7981199641897941, 0.7981199641897941, 0.7985675917636527, 0.7985675917636527, 0.7990152193375112, 0.7990152193375112, 0.7994628469113697, 0.7994628469113697, 0.8003581020590869, 0.8003581020590869, 0.8017009847806625, 0.8017009847806625, 0.8021486123545211, 0.8021486123545211, 0.8025962399283796, 0.8025962399283796, 0.8039391226499553, 0.8039391226499553, 0.8043867502238138, 0.8043867502238138, 0.8048343777976723, 0.8048343777976723, 0.8052820053715309, 0.8052820053715309, 0.8057296329453895, 0.8057296329453895, 0.806177260519248, 0.806177260519248, 0.8066248880931065, 0.8066248880931065, 0.8075201432408237, 0.8075201432408237, 0.8084153983885407, 0.8084153983885407, 0.8088630259623992, 0.8088630259623992, 0.8097582811101164, 0.8097582811101164, 0.8111011638316921, 0.8111011638316921, 0.8115487914055506, 0.8115487914055506, 0.8119964189794091, 0.8119964189794091, 0.8124440465532676, 0.8124440465532676, 0.8128916741271263, 0.8128916741271263, 0.8133393017009848, 0.8133393017009848, 0.8137869292748433, 0.8137869292748433, 0.8146821844225605, 0.8146821844225605, 0.815129811996419, 0.815129811996419, 0.816025067144136, 0.816025067144136, 0.8164726947179947, 0.8164726947179947, 0.8182632050134289, 0.8182632050134289, 0.8187108325872874, 0.8187108325872874, 0.8196060877350044, 0.8196060877350044, 0.8209489704565801, 0.8209489704565801, 0.8218442256042973, 0.8218442256042973, 0.8222918531781558, 0.8222918531781558, 0.8227394807520143, 0.8227394807520143, 0.8236347358997315, 0.8236347358997315, 0.8245299910474485, 0.8245299910474485, 0.8254252461951657, 0.8254252461951657, 0.8258728737690242, 0.8258728737690242, 0.8263205013428827, 0.8263205013428827, 0.8267681289167412, 0.8267681289167412, 0.8272157564905999, 0.8272157564905999, 0.8281110116383169, 0.8281110116383169, 0.8285586392121754, 0.8285586392121754, 0.8290062667860341, 0.8290062667860341, 0.8294538943598926, 0.8294538943598926, 0.8299015219337511, 0.8299015219337511, 0.8303491495076096, 0.8303491495076096, 0.8312444046553268, 0.8312444046553268, 0.8321396598030438, 0.8321396598030438, 0.833034914950761, 0.833034914950761, 0.833930170098478, 0.833930170098478, 0.8343777976723367, 0.8343777976723367, 0.8348254252461952, 0.8348254252461952, 0.8352730528200537, 0.8352730528200537, 0.8357206803939122, 0.8357206803939122, 0.8361683079677709, 0.8361683079677709, 0.8384064458370636, 0.8384064458370636, 0.8397493285586393, 0.8397493285586393, 0.8401969561324978, 0.8401969561324978, 0.8406445837063563, 0.8406445837063563, 0.8410922112802148, 0.8410922112802148, 0.841987466427932, 0.841987466427932, 0.8424350940017905, 0.8424350940017905, 0.842882721575649, 0.842882721575649, 0.8433303491495077, 0.8433303491495077, 0.8437779767233662, 0.8437779767233662, 0.8451208594449419, 0.8451208594449419, 0.8455684870188004, 0.8455684870188004, 0.8460161145926589, 0.8460161145926589, 0.8473589973142346, 0.8473589973142346, 0.8478066248880931, 0.8478066248880931, 0.8487018800358102, 0.8487018800358102, 0.8495971351835273, 0.8495971351835273, 0.8500447627573858, 0.8500447627573858, 0.850940017905103, 0.850940017905103, 0.8522829006266786, 0.8522829006266786, 0.8527305282005372, 0.8527305282005372, 0.8531781557743957, 0.8531781557743957, 0.8536257833482542, 0.8536257833482542, 0.8540734109221128, 0.8540734109221128, 0.8549686660698299, 0.8549686660698299, 0.8554162936436884, 0.8554162936436884, 0.855863921217547, 0.855863921217547, 0.8563115487914056, 0.8563115487914056, 0.8567591763652641, 0.8567591763652641, 0.8572068039391226, 0.8572068039391226, 0.8576544315129812, 0.8576544315129812, 0.8585496866606983, 0.8585496866606983, 0.8589973142345568, 0.8589973142345568, 0.8594449418084154, 0.8594449418084154, 0.859892569382274, 0.859892569382274, 0.8603401969561325, 0.8603401969561325, 0.860787824529991, 0.860787824529991, 0.8625783348254252, 0.8625783348254252, 0.8630259623992838, 0.8630259623992838, 0.8634735899731424, 0.8634735899731424, 0.8639212175470009, 0.8639212175470009, 0.864816472694718, 0.864816472694718, 0.8652641002685766, 0.8652641002685766, 0.8657117278424351, 0.8657117278424351, 0.8661593554162936, 0.8661593554162936, 0.8666069829901522, 0.8666069829901522, 0.8670546105640108, 0.8670546105640108, 0.8679498657117278, 0.8679498657117278, 0.8683974932855864, 0.8683974932855864, 0.868845120859445, 0.868845120859445, 0.8692927484333035, 0.8692927484333035, 0.869740376007162, 0.869740376007162, 0.8706356311548792, 0.8706356311548792, 0.8710832587287377, 0.8710832587287377, 0.8715308863025962, 0.8715308863025962, 0.8719785138764548, 0.8719785138764548, 0.8724261414503134, 0.8724261414503134, 0.8728737690241719, 0.8728737690241719, 0.8733213965980304, 0.8733213965980304, 0.873769024171889, 0.873769024171889, 0.8742166517457476, 0.8742166517457476, 0.8746642793196061, 0.8746642793196061, 0.8755595344673232, 0.8755595344673232, 0.8760071620411818, 0.8760071620411818, 0.8769024171888988, 0.8769024171888988, 0.877797672336616, 0.877797672336616, 0.8782452999104745, 0.8782452999104745, 0.878692927484333, 0.878692927484333, 0.8791405550581916, 0.8791405550581916, 0.8795881826320502, 0.8795881826320502, 0.8800358102059087, 0.8800358102059087, 0.8809310653536258, 0.8809310653536258, 0.8813786929274844, 0.8813786929274844, 0.8818263205013429, 0.8818263205013429, 0.88272157564906, 0.88272157564906, 0.8831692032229186, 0.8831692032229186, 0.8836168307967771, 0.8836168307967771, 0.8840644583706356, 0.8840644583706356, 0.8845120859444942, 0.8845120859444942, 0.8849597135183527, 0.8849597135183527, 0.8854073410922113, 0.8854073410922113, 0.8858549686660698, 0.8858549686660698, 0.8867502238137869, 0.8867502238137869, 0.887645478961504, 0.887645478961504, 0.8880931065353626, 0.8880931065353626, 0.8889883616830797, 0.8889883616830797, 0.8898836168307968, 0.8898836168307968, 0.8903312444046553, 0.8903312444046553, 0.8907788719785139, 0.8907788719785139, 0.8912264995523724, 0.8912264995523724, 0.891674127126231, 0.891674127126231, 0.8921217547000895, 0.8921217547000895, 0.8925693822739481, 0.8925693822739481, 0.8934646374216652, 0.8934646374216652, 0.8934646374216652, 0.8934646374216652, 0.8943598925693823, 0.8943598925693823, 0.8948075201432408, 0.8948075201432408, 0.8952551477170994, 0.8952551477170994, 0.8957027752909579, 0.8957027752909579, 0.8974932855863921, 0.8974932855863921, 0.8979409131602507, 0.8979409131602507, 0.8983885407341092, 0.8983885407341092, 0.8988361683079678, 0.8988361683079678, 0.8992837958818263, 0.8992837958818263, 0.9001790510295434, 0.9001790510295434, 0.900626678603402, 0.900626678603402, 0.9010743061772605, 0.9010743061772605, 0.9015219337511191, 0.9015219337511191, 0.9037600716204118, 0.9037600716204118, 0.9051029543419875, 0.9051029543419875, 0.9059982094897046, 0.9059982094897046, 0.9064458370635631, 0.9064458370635631, 0.9068934646374217, 0.9068934646374217, 0.9073410922112802, 0.9073410922112802, 0.9077887197851388, 0.9077887197851388, 0.9082363473589973, 0.9082363473589973, 0.909579230080573, 0.909579230080573, 0.9100268576544315, 0.9100268576544315, 0.9104744852282901, 0.9104744852282901, 0.9109221128021486, 0.9109221128021486, 0.9113697403760072, 0.9113697403760072, 0.9118173679498657, 0.9118173679498657, 0.9122649955237243, 0.9122649955237243, 0.9127126230975828, 0.9127126230975828, 0.9131602506714414, 0.9131602506714414, 0.9136078782452999, 0.9136078782452999, 0.9140555058191585, 0.9140555058191585, 0.914503133393017, 0.914503133393017, 0.9158460161145927, 0.9158460161145927, 0.9167412712623098, 0.9167412712623098, 0.9176365264100269, 0.9176365264100269, 0.9180841539838854, 0.9180841539838854, 0.918531781557744, 0.918531781557744, 0.9189794091316025, 0.9189794091316025, 0.9203222918531782, 0.9203222918531782, 0.9212175470008953, 0.9212175470008953, 0.9216651745747538, 0.9216651745747538, 0.9221128021486124, 0.9221128021486124, 0.9225604297224709, 0.9225604297224709, 0.9230080572963295, 0.9230080572963295, 0.9239033124440466, 0.9239033124440466, 0.9243509400179051, 0.9243509400179051, 0.9247985675917636, 0.9247985675917636, 0.9252461951656222, 0.9252461951656222, 0.9256938227394808, 0.9256938227394808, 0.9261414503133393, 0.9261414503133393, 0.9270367054610564, 0.9270367054610564, 0.9270367054610564, 0.9270367054610564, 0.9279319606087735, 0.9279319606087735, 0.9288272157564906, 0.9288272157564906, 0.9292748433303492, 0.9292748433303492, 0.9297224709042077, 0.9297224709042077, 0.9301700984780662, 0.9301700984780662, 0.9310653536257834, 0.9310653536257834, 0.9315129811996419, 0.9315129811996419, 0.9319606087735004, 0.9319606087735004, 0.932408236347359, 0.932408236347359, 0.9328558639212176, 0.9328558639212176, 0.9337511190689346, 0.9337511190689346, 0.9341987466427932, 0.9341987466427932, 0.9341987466427932, 0.9341987466427932, 0.9346463742166518, 0.9346463742166518, 0.9355416293643688, 0.9355416293643688, 0.9359892569382274, 0.9359892569382274, 0.936436884512086, 0.936436884512086, 0.9368845120859445, 0.9368845120859445, 0.937332139659803, 0.937332139659803, 0.9377797672336616, 0.9377797672336616, 0.9386750223813787, 0.9386750223813787, 0.9400179051029544, 0.9400179051029544, 0.9404655326768129, 0.9404655326768129, 0.9409131602506714, 0.9409131602506714, 0.9422560429722471, 0.9422560429722471, 0.9435989256938228, 0.9435989256938228, 0.9458370635631155, 0.9458370635631155, 0.946284691136974, 0.946284691136974, 0.9467323187108326, 0.9467323187108326, 0.9471799462846912, 0.9471799462846912, 0.9476275738585497, 0.9476275738585497, 0.9480752014324082, 0.9480752014324082, 0.9485228290062668, 0.9485228290062668, 0.9494180841539839, 0.9494180841539839, 0.9498657117278424, 0.9498657117278424, 0.950313339301701, 0.950313339301701, 0.9507609668755596, 0.9507609668755596, 0.9512085944494181, 0.9512085944494181, 0.9516562220232766, 0.9516562220232766, 0.9525514771709938, 0.9525514771709938, 0.9529991047448523, 0.9529991047448523, 0.9529991047448523, 0.9534467323187108, 0.9534467323187108, 0.9538943598925694, 0.9538943598925694, 0.954341987466428, 0.954341987466428, 0.955237242614145, 0.955237242614145, 0.9561324977618622, 0.9561324977618622, 0.9565801253357207, 0.9565801253357207, 0.9570277529095792, 0.9570277529095792, 0.9579230080572964, 0.9579230080572964, 0.9583706356311549, 0.9583706356311549, 0.959265890778872, 0.959265890778872, 0.9597135183527306, 0.9597135183527306, 0.9601611459265891, 0.9601611459265891, 0.9606087735004476, 0.9606087735004476, 0.9610564010743062, 0.9610564010743062, 0.9610564010743062, 0.9610564010743062, 0.9615040286481648, 0.9615040286481648, 0.9623992837958818, 0.9623992837958818, 0.9628469113697403, 0.9628469113697403, 0.9628469113697403, 0.963294538943599, 0.963294538943599, 0.9637421665174575, 0.9637421665174575, 0.964189794091316, 0.964189794091316, 0.9646374216651745, 0.9646374216651745, 0.9655326768128917, 0.9655326768128917, 0.9659803043867502, 0.9659803043867502, 0.9664279319606087, 0.9664279319606087, 0.9668755595344674, 0.9668755595344674, 0.9677708146821844, 0.9677708146821844, 0.9682184422560429, 0.9682184422560429, 0.9686660698299016, 0.9686660698299016, 0.9691136974037601, 0.9691136974037601, 0.9700089525514771, 0.9700089525514771, 0.9709042076991943, 0.9709042076991943, 0.9713518352730528, 0.9713518352730528, 0.9717994628469113, 0.9717994628469113, 0.97224709042077, 0.97224709042077, 0.9726947179946285, 0.9726947179946285, 0.973142345568487, 0.973142345568487, 0.9735899731423455, 0.9735899731423455, 0.9740376007162042, 0.9740376007162042, 0.9744852282900627, 0.9744852282900627, 0.9749328558639212, 0.9749328558639212, 0.9753804834377797, 0.9753804834377797, 0.9758281110116384, 0.9758281110116384, 0.9762757385854969, 0.9762757385854969, 0.9767233661593554, 0.9767233661593554, 0.9771709937332139, 0.9771709937332139, 0.9776186213070726, 0.9776186213070726, 0.9785138764547896, 0.9785138764547896, 0.9785138764547896, 0.9785138764547896, 0.9789615040286481, 0.9789615040286481, 0.9803043867502238, 0.9803043867502238, 0.9807520143240823, 0.9807520143240823, 0.981199641897941, 0.981199641897941, 0.9816472694717995, 0.9816472694717995, 0.982094897045658, 0.982094897045658, 0.9825425246195165, 0.9825425246195165, 0.9829901521933752, 0.9829901521933752, 0.9834377797672337, 0.9834377797672337, 0.9838854073410922, 0.9838854073410922, 0.9843330349149507, 0.9843330349149507, 0.9847806624888094, 0.9847806624888094, 0.9852282900626679, 0.9852282900626679, 0.9856759176365264, 0.9856759176365264, 0.9861235452103849, 0.9861235452103849, 0.9865711727842436, 0.9865711727842436, 0.9870188003581021, 0.9870188003581021, 0.9874664279319606, 0.9874664279319606, 0.9883616830796778, 0.9883616830796778, 0.9888093106535363, 0.9888093106535363, 0.9892569382273948, 0.9892569382273948, 0.9897045658012533, 0.9897045658012533, 0.990152193375112, 0.990152193375112, 0.9905998209489705, 0.9905998209489705, 0.991047448522829, 0.991047448522829, 0.9914950760966875, 0.9914950760966875, 0.9919427036705462, 0.9919427036705462, 0.9928379588182632, 0.9928379588182632, 0.9932855863921217, 0.9932855863921217, 0.9937332139659804, 0.9937332139659804, 0.9941808415398389, 0.9941808415398389, 0.9946284691136974, 0.9946284691136974, 0.9950760966875559, 0.9950760966875559, 0.9955237242614146, 0.9955237242614146, 0.9959713518352731, 0.9959713518352731, 0.9964189794091316, 0.9964189794091316, 0.9964189794091316, 0.9964189794091316, 0.9968666069829901, 0.9968666069829901, 0.9973142345568488, 0.9973142345568488, 0.9977618621307073, 0.9977618621307073, 0.9982094897045658, 0.9982094897045658, 0.9986571172784243, 0.9986571172784243, 0.999104744852283, 0.999104744852283, 0.9995523724261415, 0.9995523724261415, 1.0, 1.0]}, {\"mode\": \"lines\", \"name\": \"No skill curve\", \"type\": \"scatter\", \"x\": [0, 1], \"y\": [0, 1]}],\n",
       "                        {\"template\": {\"data\": {\"bar\": [{\"error_x\": {\"color\": \"#f2f5fa\"}, \"error_y\": {\"color\": \"#f2f5fa\"}, \"marker\": {\"line\": {\"color\": \"rgb(17,17,17)\", \"width\": 0.5}}, \"type\": \"bar\"}], \"barpolar\": [{\"marker\": {\"line\": {\"color\": \"rgb(17,17,17)\", \"width\": 0.5}}, \"type\": \"barpolar\"}], \"carpet\": [{\"aaxis\": {\"endlinecolor\": \"#A2B1C6\", \"gridcolor\": \"#506784\", \"linecolor\": \"#506784\", \"minorgridcolor\": \"#506784\", \"startlinecolor\": \"#A2B1C6\"}, \"baxis\": {\"endlinecolor\": \"#A2B1C6\", \"gridcolor\": \"#506784\", \"linecolor\": \"#506784\", \"minorgridcolor\": \"#506784\", \"startlinecolor\": \"#A2B1C6\"}, \"type\": \"carpet\"}], \"choropleth\": [{\"colorbar\": {\"outlinewidth\": 0, \"ticks\": \"\"}, \"type\": \"choropleth\"}], \"contour\": [{\"colorbar\": {\"outlinewidth\": 0, \"ticks\": \"\"}, \"colorscale\": [[0.0, \"#0d0887\"], [0.1111111111111111, \"#46039f\"], [0.2222222222222222, \"#7201a8\"], [0.3333333333333333, \"#9c179e\"], [0.4444444444444444, \"#bd3786\"], [0.5555555555555556, \"#d8576b\"], [0.6666666666666666, \"#ed7953\"], [0.7777777777777778, \"#fb9f3a\"], [0.8888888888888888, \"#fdca26\"], [1.0, \"#f0f921\"]], \"type\": \"contour\"}], \"contourcarpet\": [{\"colorbar\": {\"outlinewidth\": 0, \"ticks\": \"\"}, \"type\": \"contourcarpet\"}], \"heatmap\": [{\"colorbar\": {\"outlinewidth\": 0, \"ticks\": \"\"}, \"colorscale\": [[0.0, \"#0d0887\"], [0.1111111111111111, \"#46039f\"], [0.2222222222222222, \"#7201a8\"], [0.3333333333333333, \"#9c179e\"], [0.4444444444444444, \"#bd3786\"], [0.5555555555555556, \"#d8576b\"], [0.6666666666666666, \"#ed7953\"], [0.7777777777777778, \"#fb9f3a\"], [0.8888888888888888, \"#fdca26\"], [1.0, \"#f0f921\"]], \"type\": \"heatmap\"}], \"heatmapgl\": [{\"colorbar\": {\"outlinewidth\": 0, \"ticks\": \"\"}, \"colorscale\": [[0.0, \"#0d0887\"], [0.1111111111111111, \"#46039f\"], [0.2222222222222222, \"#7201a8\"], [0.3333333333333333, \"#9c179e\"], [0.4444444444444444, \"#bd3786\"], [0.5555555555555556, \"#d8576b\"], [0.6666666666666666, \"#ed7953\"], [0.7777777777777778, \"#fb9f3a\"], [0.8888888888888888, \"#fdca26\"], [1.0, \"#f0f921\"]], \"type\": \"heatmapgl\"}], \"histogram\": [{\"marker\": {\"colorbar\": {\"outlinewidth\": 0, \"ticks\": \"\"}}, \"type\": \"histogram\"}], \"histogram2d\": [{\"colorbar\": {\"outlinewidth\": 0, \"ticks\": \"\"}, \"colorscale\": [[0.0, \"#0d0887\"], [0.1111111111111111, \"#46039f\"], [0.2222222222222222, \"#7201a8\"], [0.3333333333333333, \"#9c179e\"], [0.4444444444444444, \"#bd3786\"], [0.5555555555555556, \"#d8576b\"], [0.6666666666666666, \"#ed7953\"], [0.7777777777777778, \"#fb9f3a\"], [0.8888888888888888, \"#fdca26\"], [1.0, \"#f0f921\"]], \"type\": \"histogram2d\"}], \"histogram2dcontour\": [{\"colorbar\": {\"outlinewidth\": 0, \"ticks\": \"\"}, \"colorscale\": [[0.0, \"#0d0887\"], [0.1111111111111111, \"#46039f\"], [0.2222222222222222, \"#7201a8\"], [0.3333333333333333, \"#9c179e\"], [0.4444444444444444, \"#bd3786\"], [0.5555555555555556, \"#d8576b\"], [0.6666666666666666, \"#ed7953\"], [0.7777777777777778, \"#fb9f3a\"], [0.8888888888888888, \"#fdca26\"], [1.0, \"#f0f921\"]], \"type\": \"histogram2dcontour\"}], \"mesh3d\": [{\"colorbar\": {\"outlinewidth\": 0, \"ticks\": \"\"}, \"type\": \"mesh3d\"}], \"parcoords\": [{\"line\": {\"colorbar\": {\"outlinewidth\": 0, \"ticks\": \"\"}}, \"type\": \"parcoords\"}], \"scatter\": [{\"marker\": {\"line\": {\"color\": \"#283442\"}}, \"type\": \"scatter\"}], \"scatter3d\": [{\"line\": {\"colorbar\": {\"outlinewidth\": 0, \"ticks\": \"\"}}, \"marker\": {\"colorbar\": {\"outlinewidth\": 0, \"ticks\": \"\"}}, \"type\": \"scatter3d\"}], \"scattercarpet\": [{\"marker\": {\"colorbar\": {\"outlinewidth\": 0, \"ticks\": \"\"}}, \"type\": \"scattercarpet\"}], \"scattergeo\": [{\"marker\": {\"colorbar\": {\"outlinewidth\": 0, \"ticks\": \"\"}}, \"type\": \"scattergeo\"}], \"scattergl\": [{\"marker\": {\"line\": {\"color\": \"#283442\"}}, \"type\": \"scattergl\"}], \"scattermapbox\": [{\"marker\": {\"colorbar\": {\"outlinewidth\": 0, \"ticks\": \"\"}}, \"type\": \"scattermapbox\"}], \"scatterpolar\": [{\"marker\": {\"colorbar\": {\"outlinewidth\": 0, \"ticks\": \"\"}}, \"type\": \"scatterpolar\"}], \"scatterpolargl\": [{\"marker\": {\"colorbar\": {\"outlinewidth\": 0, \"ticks\": \"\"}}, \"type\": \"scatterpolargl\"}], \"scatterternary\": [{\"marker\": {\"colorbar\": {\"outlinewidth\": 0, \"ticks\": \"\"}}, \"type\": \"scatterternary\"}], \"surface\": [{\"colorbar\": {\"outlinewidth\": 0, \"ticks\": \"\"}, \"colorscale\": [[0.0, \"#0d0887\"], [0.1111111111111111, \"#46039f\"], [0.2222222222222222, \"#7201a8\"], [0.3333333333333333, \"#9c179e\"], [0.4444444444444444, \"#bd3786\"], [0.5555555555555556, \"#d8576b\"], [0.6666666666666666, \"#ed7953\"], [0.7777777777777778, \"#fb9f3a\"], [0.8888888888888888, \"#fdca26\"], [1.0, \"#f0f921\"]], \"type\": \"surface\"}], \"table\": [{\"cells\": {\"fill\": {\"color\": \"#506784\"}, \"line\": {\"color\": \"rgb(17,17,17)\"}}, \"header\": {\"fill\": {\"color\": \"#2a3f5f\"}, \"line\": {\"color\": \"rgb(17,17,17)\"}}, \"type\": \"table\"}]}, \"layout\": {\"annotationdefaults\": {\"arrowcolor\": \"#f2f5fa\", \"arrowhead\": 0, \"arrowwidth\": 1}, \"colorscale\": {\"diverging\": [[0, \"#8e0152\"], [0.1, \"#c51b7d\"], [0.2, \"#de77ae\"], [0.3, \"#f1b6da\"], [0.4, \"#fde0ef\"], [0.5, \"#f7f7f7\"], [0.6, \"#e6f5d0\"], [0.7, \"#b8e186\"], [0.8, \"#7fbc41\"], [0.9, \"#4d9221\"], [1, \"#276419\"]], \"sequential\": [[0.0, \"#0d0887\"], [0.1111111111111111, \"#46039f\"], [0.2222222222222222, \"#7201a8\"], [0.3333333333333333, \"#9c179e\"], [0.4444444444444444, \"#bd3786\"], [0.5555555555555556, \"#d8576b\"], [0.6666666666666666, \"#ed7953\"], [0.7777777777777778, \"#fb9f3a\"], [0.8888888888888888, \"#fdca26\"], [1.0, \"#f0f921\"]], \"sequentialminus\": [[0.0, \"#0d0887\"], [0.1111111111111111, \"#46039f\"], [0.2222222222222222, \"#7201a8\"], [0.3333333333333333, \"#9c179e\"], [0.4444444444444444, \"#bd3786\"], [0.5555555555555556, \"#d8576b\"], [0.6666666666666666, \"#ed7953\"], [0.7777777777777778, \"#fb9f3a\"], [0.8888888888888888, \"#fdca26\"], [1.0, \"#f0f921\"]]}, \"colorway\": [\"#636efa\", \"#EF553B\", \"#00cc96\", \"#ab63fa\", \"#FFA15A\", \"#19d3f3\", \"#FF6692\", \"#B6E880\", \"#FF97FF\", \"#FECB52\"], \"font\": {\"color\": \"#f2f5fa\"}, \"geo\": {\"bgcolor\": \"rgb(17,17,17)\", \"lakecolor\": \"rgb(17,17,17)\", \"landcolor\": \"rgb(17,17,17)\", \"showlakes\": true, \"showland\": true, \"subunitcolor\": \"#506784\"}, \"hoverlabel\": {\"align\": \"left\"}, \"hovermode\": \"closest\", \"mapbox\": {\"style\": \"dark\"}, \"paper_bgcolor\": \"rgb(17,17,17)\", \"plot_bgcolor\": \"rgb(17,17,17)\", \"polar\": {\"angularaxis\": {\"gridcolor\": \"#506784\", \"linecolor\": \"#506784\", \"ticks\": \"\"}, \"bgcolor\": \"rgb(17,17,17)\", \"radialaxis\": {\"gridcolor\": \"#506784\", \"linecolor\": \"#506784\", \"ticks\": \"\"}}, \"scene\": {\"xaxis\": {\"backgroundcolor\": \"rgb(17,17,17)\", \"gridcolor\": \"#506784\", \"gridwidth\": 2, \"linecolor\": \"#506784\", \"showbackground\": true, \"ticks\": \"\", \"zerolinecolor\": \"#C8D4E3\"}, \"yaxis\": {\"backgroundcolor\": \"rgb(17,17,17)\", \"gridcolor\": \"#506784\", \"gridwidth\": 2, \"linecolor\": \"#506784\", \"showbackground\": true, \"ticks\": \"\", \"zerolinecolor\": \"#C8D4E3\"}, \"zaxis\": {\"backgroundcolor\": \"rgb(17,17,17)\", \"gridcolor\": \"#506784\", \"gridwidth\": 2, \"linecolor\": \"#506784\", \"showbackground\": true, \"ticks\": \"\", \"zerolinecolor\": \"#C8D4E3\"}}, \"shapedefaults\": {\"line\": {\"color\": \"#f2f5fa\"}}, \"sliderdefaults\": {\"bgcolor\": \"#C8D4E3\", \"bordercolor\": \"rgb(17,17,17)\", \"borderwidth\": 1, \"tickwidth\": 0}, \"ternary\": {\"aaxis\": {\"gridcolor\": \"#506784\", \"linecolor\": \"#506784\", \"ticks\": \"\"}, \"baxis\": {\"gridcolor\": \"#506784\", \"linecolor\": \"#506784\", \"ticks\": \"\"}, \"bgcolor\": \"rgb(17,17,17)\", \"caxis\": {\"gridcolor\": \"#506784\", \"linecolor\": \"#506784\", \"ticks\": \"\"}}, \"title\": {\"x\": 0.05}, \"updatemenudefaults\": {\"bgcolor\": \"#506784\", \"borderwidth\": 0}, \"xaxis\": {\"automargin\": true, \"gridcolor\": \"#283442\", \"linecolor\": \"#506784\", \"ticks\": \"\", \"zerolinecolor\": \"#283442\", \"zerolinewidth\": 2}, \"yaxis\": {\"automargin\": true, \"gridcolor\": \"#283442\", \"linecolor\": \"#506784\", \"ticks\": \"\", \"zerolinecolor\": \"#283442\", \"zerolinewidth\": 2}}}, \"title\": {\"font\": {\"family\": \"Merriweather\", \"size\": 24}, \"text\": \"Receiver operating Characteristic (ROC) Curve\"}, \"xaxis\": {\"title\": {\"font\": {\"family\": \"open sans\", \"size\": 18}, \"text\": \"False Positive Rate\"}}, \"yaxis\": {\"title\": {\"font\": {\"family\": \"open sans\", \"size\": 18}, \"text\": \"True Positive Rate\"}}},\n",
       "                        {\"responsive\": true}\n",
       "                    ).then(function(){\n",
       "                            \n",
       "var gd = document.getElementById('f5546042-d25d-4933-a8d5-569a9cb633e6');\n",
       "var x = new MutationObserver(function (mutations, observer) {{\n",
       "        var display = window.getComputedStyle(gd).display;\n",
       "        if (!display || display === 'none') {{\n",
       "            console.log([gd, 'removed!']);\n",
       "            Plotly.purge(gd);\n",
       "            observer.disconnect();\n",
       "        }}\n",
       "}});\n",
       "\n",
       "// Listen for the removal of the full notebook cells\n",
       "var notebookContainer = gd.closest('#notebook-container');\n",
       "if (notebookContainer) {{\n",
       "    x.observe(notebookContainer, {childList: true});\n",
       "}}\n",
       "\n",
       "// Listen for the clearing of the current output cell\n",
       "var outputEl = gd.closest('.output');\n",
       "if (outputEl) {{\n",
       "    x.observe(outputEl, {childList: true});\n",
       "}}\n",
       "\n",
       "                        })\n",
       "                };\n",
       "                });\n",
       "            </script>\n",
       "        </div>"
      ]
     },
     "metadata": {},
     "output_type": "display_data"
    }
   ],
   "source": [
    "trace_ROC = go.Scatter(x=fpr,y=tpr,\n",
    "                   mode='lines',\n",
    "                       name='ROC Curve (Area={})'.format(round(auc,3)))\n",
    "trace_neutral = go.Scatter(x=[0, 1],y=[0, 1],\n",
    "                   mode='lines',\n",
    "                          name='No skill curve')\n",
    "\n",
    "data=[trace_ROC,trace_neutral]\n",
    "layout=go.Layout(title={'text':'Receiver operating Characteristic (ROC) Curve',\n",
    "                                'font':{'family':'Merriweather',\n",
    "                                        'size':24},\n",
    "                               },\n",
    "                       xaxis = {\"title\":{\"text\":\"False Positive Rate\",\n",
    "                                         \"font\":{'family':'open sans',\n",
    "                                                 'size':18}}},                   \n",
    "                       yaxis = {\"title\":{\"text\":\"True Positive Rate\",\n",
    "                                         \"font\":{'family':'open sans',\n",
    "                                                 'size':18}}},\n",
    "                template=\"plotly_dark\")\n",
    "                      \n",
    "\n",
    "fig = go.Figure(data=data,layout=layout)\n",
    "\n",
    "fig.show()"
   ]
  },
  {
   "cell_type": "code",
   "execution_count": 269,
   "metadata": {
    "ExecuteTime": {
     "end_time": "2019-09-23T15:21:01.594371Z",
     "start_time": "2019-09-23T15:21:01.564940Z"
    }
   },
   "outputs": [],
   "source": [
    "coefficient_rf=pd.DataFrame(RFClf.feature_importances_, columns=['rf_coef'])\n",
    "features_rf=pd.DataFrame(X_test.columns,columns=['features'])\n",
    "rf_coeff=pd.concat([features_rf,coefficient_rf],axis=1).sort_values(['rf_coef'],ascending=True)"
   ]
  },
  {
   "cell_type": "code",
   "execution_count": 270,
   "metadata": {
    "ExecuteTime": {
     "end_time": "2019-09-23T15:21:03.215588Z",
     "start_time": "2019-09-23T15:21:02.749299Z"
    },
    "scrolled": true
   },
   "outputs": [
    {
     "data": {
      "application/vnd.plotly.v1+json": {
       "config": {
        "plotlyServerURL": "https://plot.ly"
       },
       "data": [
        {
         "alignmentgroup": "True",
         "hoverlabel": {
          "namelength": 0
         },
         "hovertemplate": "rf_coef=%{x}<br>features=%{y}",
         "legendgroup": "",
         "marker": {
          "color": "#636efa"
         },
         "name": "",
         "offsetgroup": "",
         "orientation": "h",
         "showlegend": false,
         "textposition": "auto",
         "type": "bar",
         "x": [
          0.0008865486214435043,
          0.0011617099143010376,
          0.0011617824825321146,
          0.0011863113651792835,
          0.0012240261808074918,
          0.0012984954550859754,
          0.0013136455801135616,
          0.0014575346500587305,
          0.0014665816701456638,
          0.0016018797634216686,
          0.0016496491831748882,
          0.001652144157709867,
          0.0018174959161268583,
          0.0019002093934360254,
          0.0019943914727577877,
          0.0021309743647379585,
          0.0021916034437450393,
          0.002209346358940487,
          0.002419333254271688,
          0.0024597243502135304,
          0.003163150021834361,
          0.0032567405502411636,
          0.003326771498562501,
          0.003540943885651298,
          0.004839661717556985,
          0.005053017665644363,
          0.005470901378743957,
          0.005511172262720147,
          0.007105258575396903,
          0.009446939208347088,
          0.00987575196747434,
          0.0102136876788251,
          0.016129422904706286,
          0.016960787439257396,
          0.031170824834541918,
          0.03711559860189289,
          0.057205225488201616,
          0.06687379106109673,
          0.14384844337849143,
          0.14425024209812404,
          0.3824582802044863
         ],
         "xaxis": "x",
         "y": [
          "waiting_4_loan",
          "zodiac_sign_Pisces",
          "zodiac_sign_Leo",
          "zodiac_sign_Aries",
          "zodiac_sign_Gemini",
          "zodiac_sign_Scorpio",
          "zodiac_sign_Cancer",
          "zodiac_sign_Aquarius",
          "zodiac_sign_Virgo",
          "zodiac_sign_Sagittarius",
          "zodiac_sign_Capricorn",
          "zodiac_sign_Libra",
          "zodiac_sign_Taurus",
          "cc_liked",
          "payment_type_Monthly",
          "payment_type_Bi-Weekly",
          "payment_type_Semi-Monthly",
          "left_for_one_month",
          "app_downloaded",
          "android_user",
          "ios_user",
          "housing_R",
          "housing_O",
          "payment_type_Weekly",
          "left_for_two_month_plus",
          "rejected_loan",
          "cancelled_loan",
          "cc_disliked",
          "web_user",
          "registered_phones",
          "is_referred",
          "received_loan",
          "withdrawal",
          "cc_taken",
          "age",
          "cc_application_begin",
          "purchases",
          "deposits",
          "cc_recommended",
          "reward_rate",
          "purchases_partners"
         ],
         "yaxis": "y"
        }
       ],
       "layout": {
        "autosize": false,
        "barmode": "relative",
        "height": 800,
        "legend": {
         "tracegroupgap": 0
        },
        "margin": {
         "t": 60
        },
        "template": {
         "data": {
          "bar": [
           {
            "error_x": {
             "color": "#f2f5fa"
            },
            "error_y": {
             "color": "#f2f5fa"
            },
            "marker": {
             "line": {
              "color": "rgb(17,17,17)",
              "width": 0.5
             }
            },
            "type": "bar"
           }
          ],
          "barpolar": [
           {
            "marker": {
             "line": {
              "color": "rgb(17,17,17)",
              "width": 0.5
             }
            },
            "type": "barpolar"
           }
          ],
          "carpet": [
           {
            "aaxis": {
             "endlinecolor": "#A2B1C6",
             "gridcolor": "#506784",
             "linecolor": "#506784",
             "minorgridcolor": "#506784",
             "startlinecolor": "#A2B1C6"
            },
            "baxis": {
             "endlinecolor": "#A2B1C6",
             "gridcolor": "#506784",
             "linecolor": "#506784",
             "minorgridcolor": "#506784",
             "startlinecolor": "#A2B1C6"
            },
            "type": "carpet"
           }
          ],
          "choropleth": [
           {
            "colorbar": {
             "outlinewidth": 0,
             "ticks": ""
            },
            "type": "choropleth"
           }
          ],
          "contour": [
           {
            "colorbar": {
             "outlinewidth": 0,
             "ticks": ""
            },
            "colorscale": [
             [
              0,
              "#0d0887"
             ],
             [
              0.1111111111111111,
              "#46039f"
             ],
             [
              0.2222222222222222,
              "#7201a8"
             ],
             [
              0.3333333333333333,
              "#9c179e"
             ],
             [
              0.4444444444444444,
              "#bd3786"
             ],
             [
              0.5555555555555556,
              "#d8576b"
             ],
             [
              0.6666666666666666,
              "#ed7953"
             ],
             [
              0.7777777777777778,
              "#fb9f3a"
             ],
             [
              0.8888888888888888,
              "#fdca26"
             ],
             [
              1,
              "#f0f921"
             ]
            ],
            "type": "contour"
           }
          ],
          "contourcarpet": [
           {
            "colorbar": {
             "outlinewidth": 0,
             "ticks": ""
            },
            "type": "contourcarpet"
           }
          ],
          "heatmap": [
           {
            "colorbar": {
             "outlinewidth": 0,
             "ticks": ""
            },
            "colorscale": [
             [
              0,
              "#0d0887"
             ],
             [
              0.1111111111111111,
              "#46039f"
             ],
             [
              0.2222222222222222,
              "#7201a8"
             ],
             [
              0.3333333333333333,
              "#9c179e"
             ],
             [
              0.4444444444444444,
              "#bd3786"
             ],
             [
              0.5555555555555556,
              "#d8576b"
             ],
             [
              0.6666666666666666,
              "#ed7953"
             ],
             [
              0.7777777777777778,
              "#fb9f3a"
             ],
             [
              0.8888888888888888,
              "#fdca26"
             ],
             [
              1,
              "#f0f921"
             ]
            ],
            "type": "heatmap"
           }
          ],
          "heatmapgl": [
           {
            "colorbar": {
             "outlinewidth": 0,
             "ticks": ""
            },
            "colorscale": [
             [
              0,
              "#0d0887"
             ],
             [
              0.1111111111111111,
              "#46039f"
             ],
             [
              0.2222222222222222,
              "#7201a8"
             ],
             [
              0.3333333333333333,
              "#9c179e"
             ],
             [
              0.4444444444444444,
              "#bd3786"
             ],
             [
              0.5555555555555556,
              "#d8576b"
             ],
             [
              0.6666666666666666,
              "#ed7953"
             ],
             [
              0.7777777777777778,
              "#fb9f3a"
             ],
             [
              0.8888888888888888,
              "#fdca26"
             ],
             [
              1,
              "#f0f921"
             ]
            ],
            "type": "heatmapgl"
           }
          ],
          "histogram": [
           {
            "marker": {
             "colorbar": {
              "outlinewidth": 0,
              "ticks": ""
             }
            },
            "type": "histogram"
           }
          ],
          "histogram2d": [
           {
            "colorbar": {
             "outlinewidth": 0,
             "ticks": ""
            },
            "colorscale": [
             [
              0,
              "#0d0887"
             ],
             [
              0.1111111111111111,
              "#46039f"
             ],
             [
              0.2222222222222222,
              "#7201a8"
             ],
             [
              0.3333333333333333,
              "#9c179e"
             ],
             [
              0.4444444444444444,
              "#bd3786"
             ],
             [
              0.5555555555555556,
              "#d8576b"
             ],
             [
              0.6666666666666666,
              "#ed7953"
             ],
             [
              0.7777777777777778,
              "#fb9f3a"
             ],
             [
              0.8888888888888888,
              "#fdca26"
             ],
             [
              1,
              "#f0f921"
             ]
            ],
            "type": "histogram2d"
           }
          ],
          "histogram2dcontour": [
           {
            "colorbar": {
             "outlinewidth": 0,
             "ticks": ""
            },
            "colorscale": [
             [
              0,
              "#0d0887"
             ],
             [
              0.1111111111111111,
              "#46039f"
             ],
             [
              0.2222222222222222,
              "#7201a8"
             ],
             [
              0.3333333333333333,
              "#9c179e"
             ],
             [
              0.4444444444444444,
              "#bd3786"
             ],
             [
              0.5555555555555556,
              "#d8576b"
             ],
             [
              0.6666666666666666,
              "#ed7953"
             ],
             [
              0.7777777777777778,
              "#fb9f3a"
             ],
             [
              0.8888888888888888,
              "#fdca26"
             ],
             [
              1,
              "#f0f921"
             ]
            ],
            "type": "histogram2dcontour"
           }
          ],
          "mesh3d": [
           {
            "colorbar": {
             "outlinewidth": 0,
             "ticks": ""
            },
            "type": "mesh3d"
           }
          ],
          "parcoords": [
           {
            "line": {
             "colorbar": {
              "outlinewidth": 0,
              "ticks": ""
             }
            },
            "type": "parcoords"
           }
          ],
          "scatter": [
           {
            "marker": {
             "line": {
              "color": "#283442"
             }
            },
            "type": "scatter"
           }
          ],
          "scatter3d": [
           {
            "line": {
             "colorbar": {
              "outlinewidth": 0,
              "ticks": ""
             }
            },
            "marker": {
             "colorbar": {
              "outlinewidth": 0,
              "ticks": ""
             }
            },
            "type": "scatter3d"
           }
          ],
          "scattercarpet": [
           {
            "marker": {
             "colorbar": {
              "outlinewidth": 0,
              "ticks": ""
             }
            },
            "type": "scattercarpet"
           }
          ],
          "scattergeo": [
           {
            "marker": {
             "colorbar": {
              "outlinewidth": 0,
              "ticks": ""
             }
            },
            "type": "scattergeo"
           }
          ],
          "scattergl": [
           {
            "marker": {
             "line": {
              "color": "#283442"
             }
            },
            "type": "scattergl"
           }
          ],
          "scattermapbox": [
           {
            "marker": {
             "colorbar": {
              "outlinewidth": 0,
              "ticks": ""
             }
            },
            "type": "scattermapbox"
           }
          ],
          "scatterpolar": [
           {
            "marker": {
             "colorbar": {
              "outlinewidth": 0,
              "ticks": ""
             }
            },
            "type": "scatterpolar"
           }
          ],
          "scatterpolargl": [
           {
            "marker": {
             "colorbar": {
              "outlinewidth": 0,
              "ticks": ""
             }
            },
            "type": "scatterpolargl"
           }
          ],
          "scatterternary": [
           {
            "marker": {
             "colorbar": {
              "outlinewidth": 0,
              "ticks": ""
             }
            },
            "type": "scatterternary"
           }
          ],
          "surface": [
           {
            "colorbar": {
             "outlinewidth": 0,
             "ticks": ""
            },
            "colorscale": [
             [
              0,
              "#0d0887"
             ],
             [
              0.1111111111111111,
              "#46039f"
             ],
             [
              0.2222222222222222,
              "#7201a8"
             ],
             [
              0.3333333333333333,
              "#9c179e"
             ],
             [
              0.4444444444444444,
              "#bd3786"
             ],
             [
              0.5555555555555556,
              "#d8576b"
             ],
             [
              0.6666666666666666,
              "#ed7953"
             ],
             [
              0.7777777777777778,
              "#fb9f3a"
             ],
             [
              0.8888888888888888,
              "#fdca26"
             ],
             [
              1,
              "#f0f921"
             ]
            ],
            "type": "surface"
           }
          ],
          "table": [
           {
            "cells": {
             "fill": {
              "color": "#506784"
             },
             "line": {
              "color": "rgb(17,17,17)"
             }
            },
            "header": {
             "fill": {
              "color": "#2a3f5f"
             },
             "line": {
              "color": "rgb(17,17,17)"
             }
            },
            "type": "table"
           }
          ]
         },
         "layout": {
          "annotationdefaults": {
           "arrowcolor": "#f2f5fa",
           "arrowhead": 0,
           "arrowwidth": 1
          },
          "colorscale": {
           "diverging": [
            [
             0,
             "#8e0152"
            ],
            [
             0.1,
             "#c51b7d"
            ],
            [
             0.2,
             "#de77ae"
            ],
            [
             0.3,
             "#f1b6da"
            ],
            [
             0.4,
             "#fde0ef"
            ],
            [
             0.5,
             "#f7f7f7"
            ],
            [
             0.6,
             "#e6f5d0"
            ],
            [
             0.7,
             "#b8e186"
            ],
            [
             0.8,
             "#7fbc41"
            ],
            [
             0.9,
             "#4d9221"
            ],
            [
             1,
             "#276419"
            ]
           ],
           "sequential": [
            [
             0,
             "#0d0887"
            ],
            [
             0.1111111111111111,
             "#46039f"
            ],
            [
             0.2222222222222222,
             "#7201a8"
            ],
            [
             0.3333333333333333,
             "#9c179e"
            ],
            [
             0.4444444444444444,
             "#bd3786"
            ],
            [
             0.5555555555555556,
             "#d8576b"
            ],
            [
             0.6666666666666666,
             "#ed7953"
            ],
            [
             0.7777777777777778,
             "#fb9f3a"
            ],
            [
             0.8888888888888888,
             "#fdca26"
            ],
            [
             1,
             "#f0f921"
            ]
           ],
           "sequentialminus": [
            [
             0,
             "#0d0887"
            ],
            [
             0.1111111111111111,
             "#46039f"
            ],
            [
             0.2222222222222222,
             "#7201a8"
            ],
            [
             0.3333333333333333,
             "#9c179e"
            ],
            [
             0.4444444444444444,
             "#bd3786"
            ],
            [
             0.5555555555555556,
             "#d8576b"
            ],
            [
             0.6666666666666666,
             "#ed7953"
            ],
            [
             0.7777777777777778,
             "#fb9f3a"
            ],
            [
             0.8888888888888888,
             "#fdca26"
            ],
            [
             1,
             "#f0f921"
            ]
           ]
          },
          "colorway": [
           "#636efa",
           "#EF553B",
           "#00cc96",
           "#ab63fa",
           "#FFA15A",
           "#19d3f3",
           "#FF6692",
           "#B6E880",
           "#FF97FF",
           "#FECB52"
          ],
          "font": {
           "color": "#f2f5fa"
          },
          "geo": {
           "bgcolor": "rgb(17,17,17)",
           "lakecolor": "rgb(17,17,17)",
           "landcolor": "rgb(17,17,17)",
           "showlakes": true,
           "showland": true,
           "subunitcolor": "#506784"
          },
          "hoverlabel": {
           "align": "left"
          },
          "hovermode": "closest",
          "mapbox": {
           "style": "dark"
          },
          "paper_bgcolor": "rgb(17,17,17)",
          "plot_bgcolor": "rgb(17,17,17)",
          "polar": {
           "angularaxis": {
            "gridcolor": "#506784",
            "linecolor": "#506784",
            "ticks": ""
           },
           "bgcolor": "rgb(17,17,17)",
           "radialaxis": {
            "gridcolor": "#506784",
            "linecolor": "#506784",
            "ticks": ""
           }
          },
          "scene": {
           "xaxis": {
            "backgroundcolor": "rgb(17,17,17)",
            "gridcolor": "#506784",
            "gridwidth": 2,
            "linecolor": "#506784",
            "showbackground": true,
            "ticks": "",
            "zerolinecolor": "#C8D4E3"
           },
           "yaxis": {
            "backgroundcolor": "rgb(17,17,17)",
            "gridcolor": "#506784",
            "gridwidth": 2,
            "linecolor": "#506784",
            "showbackground": true,
            "ticks": "",
            "zerolinecolor": "#C8D4E3"
           },
           "zaxis": {
            "backgroundcolor": "rgb(17,17,17)",
            "gridcolor": "#506784",
            "gridwidth": 2,
            "linecolor": "#506784",
            "showbackground": true,
            "ticks": "",
            "zerolinecolor": "#C8D4E3"
           }
          },
          "shapedefaults": {
           "line": {
            "color": "#f2f5fa"
           }
          },
          "sliderdefaults": {
           "bgcolor": "#C8D4E3",
           "bordercolor": "rgb(17,17,17)",
           "borderwidth": 1,
           "tickwidth": 0
          },
          "ternary": {
           "aaxis": {
            "gridcolor": "#506784",
            "linecolor": "#506784",
            "ticks": ""
           },
           "baxis": {
            "gridcolor": "#506784",
            "linecolor": "#506784",
            "ticks": ""
           },
           "bgcolor": "rgb(17,17,17)",
           "caxis": {
            "gridcolor": "#506784",
            "linecolor": "#506784",
            "ticks": ""
           }
          },
          "title": {
           "x": 0.05
          },
          "updatemenudefaults": {
           "bgcolor": "#506784",
           "borderwidth": 0
          },
          "xaxis": {
           "automargin": true,
           "gridcolor": "#283442",
           "linecolor": "#506784",
           "ticks": "",
           "zerolinecolor": "#283442",
           "zerolinewidth": 2
          },
          "yaxis": {
           "automargin": true,
           "gridcolor": "#283442",
           "linecolor": "#506784",
           "ticks": "",
           "zerolinecolor": "#283442",
           "zerolinewidth": 2
          }
         }
        },
        "width": 1000,
        "xaxis": {
         "anchor": "y",
         "domain": [
          0,
          0.98
         ],
         "title": {
          "text": "rf_coef"
         }
        },
        "yaxis": {
         "anchor": "x",
         "domain": [
          0,
          1
         ],
         "title": {
          "text": "features"
         }
        }
       }
      },
      "text/html": [
       "<div>\n",
       "        \n",
       "        \n",
       "            <div id=\"22590d4e-afa1-423e-890a-416b6b892794\" class=\"plotly-graph-div\" style=\"height:800px; width:1000px;\"></div>\n",
       "            <script type=\"text/javascript\">\n",
       "                require([\"plotly\"], function(Plotly) {\n",
       "                    window.PLOTLYENV=window.PLOTLYENV || {};\n",
       "                    \n",
       "                if (document.getElementById(\"22590d4e-afa1-423e-890a-416b6b892794\")) {\n",
       "                    Plotly.newPlot(\n",
       "                        '22590d4e-afa1-423e-890a-416b6b892794',\n",
       "                        [{\"alignmentgroup\": \"True\", \"hoverlabel\": {\"namelength\": 0}, \"hovertemplate\": \"rf_coef=%{x}<br>features=%{y}\", \"legendgroup\": \"\", \"marker\": {\"color\": \"#636efa\"}, \"name\": \"\", \"offsetgroup\": \"\", \"orientation\": \"h\", \"showlegend\": false, \"textposition\": \"auto\", \"type\": \"bar\", \"x\": [0.0008865486214435043, 0.0011617099143010376, 0.0011617824825321146, 0.0011863113651792835, 0.0012240261808074918, 0.0012984954550859754, 0.0013136455801135616, 0.0014575346500587305, 0.0014665816701456638, 0.0016018797634216686, 0.0016496491831748882, 0.001652144157709867, 0.0018174959161268583, 0.0019002093934360254, 0.0019943914727577877, 0.0021309743647379585, 0.0021916034437450393, 0.002209346358940487, 0.002419333254271688, 0.0024597243502135304, 0.003163150021834361, 0.0032567405502411636, 0.003326771498562501, 0.003540943885651298, 0.004839661717556985, 0.005053017665644363, 0.005470901378743957, 0.005511172262720147, 0.007105258575396903, 0.009446939208347088, 0.00987575196747434, 0.0102136876788251, 0.016129422904706286, 0.016960787439257396, 0.031170824834541918, 0.03711559860189289, 0.057205225488201616, 0.06687379106109673, 0.14384844337849143, 0.14425024209812404, 0.3824582802044863], \"xaxis\": \"x\", \"y\": [\"waiting_4_loan\", \"zodiac_sign_Pisces\", \"zodiac_sign_Leo\", \"zodiac_sign_Aries\", \"zodiac_sign_Gemini\", \"zodiac_sign_Scorpio\", \"zodiac_sign_Cancer\", \"zodiac_sign_Aquarius\", \"zodiac_sign_Virgo\", \"zodiac_sign_Sagittarius\", \"zodiac_sign_Capricorn\", \"zodiac_sign_Libra\", \"zodiac_sign_Taurus\", \"cc_liked\", \"payment_type_Monthly\", \"payment_type_Bi-Weekly\", \"payment_type_Semi-Monthly\", \"left_for_one_month\", \"app_downloaded\", \"android_user\", \"ios_user\", \"housing_R\", \"housing_O\", \"payment_type_Weekly\", \"left_for_two_month_plus\", \"rejected_loan\", \"cancelled_loan\", \"cc_disliked\", \"web_user\", \"registered_phones\", \"is_referred\", \"received_loan\", \"withdrawal\", \"cc_taken\", \"age\", \"cc_application_begin\", \"purchases\", \"deposits\", \"cc_recommended\", \"reward_rate\", \"purchases_partners\"], \"yaxis\": \"y\"}],\n",
       "                        {\"autosize\": false, \"barmode\": \"relative\", \"height\": 800, \"legend\": {\"tracegroupgap\": 0}, \"margin\": {\"t\": 60}, \"template\": {\"data\": {\"bar\": [{\"error_x\": {\"color\": \"#f2f5fa\"}, \"error_y\": {\"color\": \"#f2f5fa\"}, \"marker\": {\"line\": {\"color\": \"rgb(17,17,17)\", \"width\": 0.5}}, \"type\": \"bar\"}], \"barpolar\": [{\"marker\": {\"line\": {\"color\": \"rgb(17,17,17)\", \"width\": 0.5}}, \"type\": \"barpolar\"}], \"carpet\": [{\"aaxis\": {\"endlinecolor\": \"#A2B1C6\", \"gridcolor\": \"#506784\", \"linecolor\": \"#506784\", \"minorgridcolor\": \"#506784\", \"startlinecolor\": \"#A2B1C6\"}, \"baxis\": {\"endlinecolor\": \"#A2B1C6\", \"gridcolor\": \"#506784\", \"linecolor\": \"#506784\", \"minorgridcolor\": \"#506784\", \"startlinecolor\": \"#A2B1C6\"}, \"type\": \"carpet\"}], \"choropleth\": [{\"colorbar\": {\"outlinewidth\": 0, \"ticks\": \"\"}, \"type\": \"choropleth\"}], \"contour\": [{\"colorbar\": {\"outlinewidth\": 0, \"ticks\": \"\"}, \"colorscale\": [[0.0, \"#0d0887\"], [0.1111111111111111, \"#46039f\"], [0.2222222222222222, \"#7201a8\"], [0.3333333333333333, \"#9c179e\"], [0.4444444444444444, \"#bd3786\"], [0.5555555555555556, \"#d8576b\"], [0.6666666666666666, \"#ed7953\"], [0.7777777777777778, \"#fb9f3a\"], [0.8888888888888888, \"#fdca26\"], [1.0, \"#f0f921\"]], \"type\": \"contour\"}], \"contourcarpet\": [{\"colorbar\": {\"outlinewidth\": 0, \"ticks\": \"\"}, \"type\": \"contourcarpet\"}], \"heatmap\": [{\"colorbar\": {\"outlinewidth\": 0, \"ticks\": \"\"}, \"colorscale\": [[0.0, \"#0d0887\"], [0.1111111111111111, \"#46039f\"], [0.2222222222222222, \"#7201a8\"], [0.3333333333333333, \"#9c179e\"], [0.4444444444444444, \"#bd3786\"], [0.5555555555555556, \"#d8576b\"], [0.6666666666666666, \"#ed7953\"], [0.7777777777777778, \"#fb9f3a\"], [0.8888888888888888, \"#fdca26\"], [1.0, \"#f0f921\"]], \"type\": \"heatmap\"}], \"heatmapgl\": [{\"colorbar\": {\"outlinewidth\": 0, \"ticks\": \"\"}, \"colorscale\": [[0.0, \"#0d0887\"], [0.1111111111111111, \"#46039f\"], [0.2222222222222222, \"#7201a8\"], [0.3333333333333333, \"#9c179e\"], [0.4444444444444444, \"#bd3786\"], [0.5555555555555556, \"#d8576b\"], [0.6666666666666666, \"#ed7953\"], [0.7777777777777778, \"#fb9f3a\"], [0.8888888888888888, \"#fdca26\"], [1.0, \"#f0f921\"]], \"type\": \"heatmapgl\"}], \"histogram\": [{\"marker\": {\"colorbar\": {\"outlinewidth\": 0, \"ticks\": \"\"}}, \"type\": \"histogram\"}], \"histogram2d\": [{\"colorbar\": {\"outlinewidth\": 0, \"ticks\": \"\"}, \"colorscale\": [[0.0, \"#0d0887\"], [0.1111111111111111, \"#46039f\"], [0.2222222222222222, \"#7201a8\"], [0.3333333333333333, \"#9c179e\"], [0.4444444444444444, \"#bd3786\"], [0.5555555555555556, \"#d8576b\"], [0.6666666666666666, \"#ed7953\"], [0.7777777777777778, \"#fb9f3a\"], [0.8888888888888888, \"#fdca26\"], [1.0, \"#f0f921\"]], \"type\": \"histogram2d\"}], \"histogram2dcontour\": [{\"colorbar\": {\"outlinewidth\": 0, \"ticks\": \"\"}, \"colorscale\": [[0.0, \"#0d0887\"], [0.1111111111111111, \"#46039f\"], [0.2222222222222222, \"#7201a8\"], [0.3333333333333333, \"#9c179e\"], [0.4444444444444444, \"#bd3786\"], [0.5555555555555556, \"#d8576b\"], [0.6666666666666666, \"#ed7953\"], [0.7777777777777778, \"#fb9f3a\"], [0.8888888888888888, \"#fdca26\"], [1.0, \"#f0f921\"]], \"type\": \"histogram2dcontour\"}], \"mesh3d\": [{\"colorbar\": {\"outlinewidth\": 0, \"ticks\": \"\"}, \"type\": \"mesh3d\"}], \"parcoords\": [{\"line\": {\"colorbar\": {\"outlinewidth\": 0, \"ticks\": \"\"}}, \"type\": \"parcoords\"}], \"scatter\": [{\"marker\": {\"line\": {\"color\": \"#283442\"}}, \"type\": \"scatter\"}], \"scatter3d\": [{\"line\": {\"colorbar\": {\"outlinewidth\": 0, \"ticks\": \"\"}}, \"marker\": {\"colorbar\": {\"outlinewidth\": 0, \"ticks\": \"\"}}, \"type\": \"scatter3d\"}], \"scattercarpet\": [{\"marker\": {\"colorbar\": {\"outlinewidth\": 0, \"ticks\": \"\"}}, \"type\": \"scattercarpet\"}], \"scattergeo\": [{\"marker\": {\"colorbar\": {\"outlinewidth\": 0, \"ticks\": \"\"}}, \"type\": \"scattergeo\"}], \"scattergl\": [{\"marker\": {\"line\": {\"color\": \"#283442\"}}, \"type\": \"scattergl\"}], \"scattermapbox\": [{\"marker\": {\"colorbar\": {\"outlinewidth\": 0, \"ticks\": \"\"}}, \"type\": \"scattermapbox\"}], \"scatterpolar\": [{\"marker\": {\"colorbar\": {\"outlinewidth\": 0, \"ticks\": \"\"}}, \"type\": \"scatterpolar\"}], \"scatterpolargl\": [{\"marker\": {\"colorbar\": {\"outlinewidth\": 0, \"ticks\": \"\"}}, \"type\": \"scatterpolargl\"}], \"scatterternary\": [{\"marker\": {\"colorbar\": {\"outlinewidth\": 0, \"ticks\": \"\"}}, \"type\": \"scatterternary\"}], \"surface\": [{\"colorbar\": {\"outlinewidth\": 0, \"ticks\": \"\"}, \"colorscale\": [[0.0, \"#0d0887\"], [0.1111111111111111, \"#46039f\"], [0.2222222222222222, \"#7201a8\"], [0.3333333333333333, \"#9c179e\"], [0.4444444444444444, \"#bd3786\"], [0.5555555555555556, \"#d8576b\"], [0.6666666666666666, \"#ed7953\"], [0.7777777777777778, \"#fb9f3a\"], [0.8888888888888888, \"#fdca26\"], [1.0, \"#f0f921\"]], \"type\": \"surface\"}], \"table\": [{\"cells\": {\"fill\": {\"color\": \"#506784\"}, \"line\": {\"color\": \"rgb(17,17,17)\"}}, \"header\": {\"fill\": {\"color\": \"#2a3f5f\"}, \"line\": {\"color\": \"rgb(17,17,17)\"}}, \"type\": \"table\"}]}, \"layout\": {\"annotationdefaults\": {\"arrowcolor\": \"#f2f5fa\", \"arrowhead\": 0, \"arrowwidth\": 1}, \"colorscale\": {\"diverging\": [[0, \"#8e0152\"], [0.1, \"#c51b7d\"], [0.2, \"#de77ae\"], [0.3, \"#f1b6da\"], [0.4, \"#fde0ef\"], [0.5, \"#f7f7f7\"], [0.6, \"#e6f5d0\"], [0.7, \"#b8e186\"], [0.8, \"#7fbc41\"], [0.9, \"#4d9221\"], [1, \"#276419\"]], \"sequential\": [[0.0, \"#0d0887\"], [0.1111111111111111, \"#46039f\"], [0.2222222222222222, \"#7201a8\"], [0.3333333333333333, \"#9c179e\"], [0.4444444444444444, \"#bd3786\"], [0.5555555555555556, \"#d8576b\"], [0.6666666666666666, \"#ed7953\"], [0.7777777777777778, \"#fb9f3a\"], [0.8888888888888888, \"#fdca26\"], [1.0, \"#f0f921\"]], \"sequentialminus\": [[0.0, \"#0d0887\"], [0.1111111111111111, \"#46039f\"], [0.2222222222222222, \"#7201a8\"], [0.3333333333333333, \"#9c179e\"], [0.4444444444444444, \"#bd3786\"], [0.5555555555555556, \"#d8576b\"], [0.6666666666666666, \"#ed7953\"], [0.7777777777777778, \"#fb9f3a\"], [0.8888888888888888, \"#fdca26\"], [1.0, \"#f0f921\"]]}, \"colorway\": [\"#636efa\", \"#EF553B\", \"#00cc96\", \"#ab63fa\", \"#FFA15A\", \"#19d3f3\", \"#FF6692\", \"#B6E880\", \"#FF97FF\", \"#FECB52\"], \"font\": {\"color\": \"#f2f5fa\"}, \"geo\": {\"bgcolor\": \"rgb(17,17,17)\", \"lakecolor\": \"rgb(17,17,17)\", \"landcolor\": \"rgb(17,17,17)\", \"showlakes\": true, \"showland\": true, \"subunitcolor\": \"#506784\"}, \"hoverlabel\": {\"align\": \"left\"}, \"hovermode\": \"closest\", \"mapbox\": {\"style\": \"dark\"}, \"paper_bgcolor\": \"rgb(17,17,17)\", \"plot_bgcolor\": \"rgb(17,17,17)\", \"polar\": {\"angularaxis\": {\"gridcolor\": \"#506784\", \"linecolor\": \"#506784\", \"ticks\": \"\"}, \"bgcolor\": \"rgb(17,17,17)\", \"radialaxis\": {\"gridcolor\": \"#506784\", \"linecolor\": \"#506784\", \"ticks\": \"\"}}, \"scene\": {\"xaxis\": {\"backgroundcolor\": \"rgb(17,17,17)\", \"gridcolor\": \"#506784\", \"gridwidth\": 2, \"linecolor\": \"#506784\", \"showbackground\": true, \"ticks\": \"\", \"zerolinecolor\": \"#C8D4E3\"}, \"yaxis\": {\"backgroundcolor\": \"rgb(17,17,17)\", \"gridcolor\": \"#506784\", \"gridwidth\": 2, \"linecolor\": \"#506784\", \"showbackground\": true, \"ticks\": \"\", \"zerolinecolor\": \"#C8D4E3\"}, \"zaxis\": {\"backgroundcolor\": \"rgb(17,17,17)\", \"gridcolor\": \"#506784\", \"gridwidth\": 2, \"linecolor\": \"#506784\", \"showbackground\": true, \"ticks\": \"\", \"zerolinecolor\": \"#C8D4E3\"}}, \"shapedefaults\": {\"line\": {\"color\": \"#f2f5fa\"}}, \"sliderdefaults\": {\"bgcolor\": \"#C8D4E3\", \"bordercolor\": \"rgb(17,17,17)\", \"borderwidth\": 1, \"tickwidth\": 0}, \"ternary\": {\"aaxis\": {\"gridcolor\": \"#506784\", \"linecolor\": \"#506784\", \"ticks\": \"\"}, \"baxis\": {\"gridcolor\": \"#506784\", \"linecolor\": \"#506784\", \"ticks\": \"\"}, \"bgcolor\": \"rgb(17,17,17)\", \"caxis\": {\"gridcolor\": \"#506784\", \"linecolor\": \"#506784\", \"ticks\": \"\"}}, \"title\": {\"x\": 0.05}, \"updatemenudefaults\": {\"bgcolor\": \"#506784\", \"borderwidth\": 0}, \"xaxis\": {\"automargin\": true, \"gridcolor\": \"#283442\", \"linecolor\": \"#506784\", \"ticks\": \"\", \"zerolinecolor\": \"#283442\", \"zerolinewidth\": 2}, \"yaxis\": {\"automargin\": true, \"gridcolor\": \"#283442\", \"linecolor\": \"#506784\", \"ticks\": \"\", \"zerolinecolor\": \"#283442\", \"zerolinewidth\": 2}}}, \"width\": 1000, \"xaxis\": {\"anchor\": \"y\", \"domain\": [0.0, 0.98], \"title\": {\"text\": \"rf_coef\"}}, \"yaxis\": {\"anchor\": \"x\", \"domain\": [0.0, 1.0], \"title\": {\"text\": \"features\"}}},\n",
       "                        {\"responsive\": true}\n",
       "                    ).then(function(){\n",
       "                            \n",
       "var gd = document.getElementById('22590d4e-afa1-423e-890a-416b6b892794');\n",
       "var x = new MutationObserver(function (mutations, observer) {{\n",
       "        var display = window.getComputedStyle(gd).display;\n",
       "        if (!display || display === 'none') {{\n",
       "            console.log([gd, 'removed!']);\n",
       "            Plotly.purge(gd);\n",
       "            observer.disconnect();\n",
       "        }}\n",
       "}});\n",
       "\n",
       "// Listen for the removal of the full notebook cells\n",
       "var notebookContainer = gd.closest('#notebook-container');\n",
       "if (notebookContainer) {{\n",
       "    x.observe(notebookContainer, {childList: true});\n",
       "}}\n",
       "\n",
       "// Listen for the clearing of the current output cell\n",
       "var outputEl = gd.closest('.output');\n",
       "if (outputEl) {{\n",
       "    x.observe(outputEl, {childList: true});\n",
       "}}\n",
       "\n",
       "                        })\n",
       "                };\n",
       "                });\n",
       "            </script>\n",
       "        </div>"
      ]
     },
     "metadata": {},
     "output_type": "display_data"
    }
   ],
   "source": [
    "#plotting features importance\n",
    "fig = px.bar(rf_coeff, x=\"rf_coef\", y=\"features\", orientation='h')\n",
    "fig.update_layout(autosize=False,\n",
    "                         width=1000,\n",
    "                         height=800,\n",
    "                         template=\"plotly_dark\")\n",
    "fig.show()"
   ]
  },
  {
   "cell_type": "code",
   "execution_count": 271,
   "metadata": {
    "ExecuteTime": {
     "end_time": "2019-09-23T15:21:20.322653Z",
     "start_time": "2019-09-23T15:21:20.316671Z"
    }
   },
   "outputs": [],
   "source": [
    "#Let's compare the features from RandomForest with Logistic Regression\n",
    "df_coef['coef_abs']=abs(df_coef['coef'])"
   ]
  },
  {
   "cell_type": "code",
   "execution_count": 272,
   "metadata": {
    "ExecuteTime": {
     "end_time": "2019-09-23T15:21:21.035964Z",
     "start_time": "2019-09-23T15:21:21.031476Z"
    }
   },
   "outputs": [],
   "source": [
    "df_coef_abs=df_coef.drop(columns=['coef'])"
   ]
  },
  {
   "cell_type": "code",
   "execution_count": 273,
   "metadata": {
    "ExecuteTime": {
     "end_time": "2019-09-23T15:21:21.599012Z",
     "start_time": "2019-09-23T15:21:21.588077Z"
    }
   },
   "outputs": [],
   "source": [
    "df_coeff_abs=df_coef_abs.merge(rf_coeff,how='inner',left_on='features',right_on='features').sort_values(['coef_abs'])"
   ]
  },
  {
   "cell_type": "code",
   "execution_count": 274,
   "metadata": {
    "ExecuteTime": {
     "end_time": "2019-09-23T15:21:22.277455Z",
     "start_time": "2019-09-23T15:21:22.083745Z"
    }
   },
   "outputs": [
    {
     "data": {
      "application/vnd.plotly.v1+json": {
       "config": {
        "plotlyServerURL": "https://plot.ly"
       },
       "data": [
        {
         "name": "LogReg Coefficients",
         "type": "bar",
         "x": [
          "cc_liked",
          "zodiac_sign_Sagittarius",
          "zodiac_sign_Leo",
          "payment_type_Monthly",
          "zodiac_sign_Gemini",
          "zodiac_sign_Aquarius",
          "cc_disliked",
          "zodiac_sign_Pisces",
          "zodiac_sign_Taurus",
          "zodiac_sign_Virgo",
          "zodiac_sign_Aries",
          "zodiac_sign_Cancer",
          "zodiac_sign_Libra",
          "payment_type_Weekly",
          "zodiac_sign_Scorpio",
          "housing_O",
          "zodiac_sign_Capricorn",
          "is_referred",
          "housing_R",
          "payment_type_Bi-Weekly",
          "payment_type_Semi-Monthly",
          "withdrawal",
          "cc_application_begin",
          "deposits",
          "app_downloaded",
          "left_for_one_month",
          "cc_taken",
          "waiting_4_loan",
          "left_for_two_month_plus",
          "cc_recommended",
          "android_user",
          "cancelled_loan",
          "registered_phones",
          "received_loan",
          "rejected_loan",
          "web_user",
          "ios_user",
          "age",
          "purchases",
          "reward_rate",
          "purchases_partners"
         ],
         "y": [
          0.0009379915778047237,
          0.0022093751433415955,
          0.0056079134605382915,
          0.008967744005213675,
          0.011625466236175894,
          0.01296448704395605,
          0.013868323888650152,
          0.01465727521087696,
          0.015531623524385892,
          0.01910196173467948,
          0.019623157468862566,
          0.01995260141331486,
          0.02222657013408602,
          0.02461384357701006,
          0.024639314888461127,
          0.0252653855466949,
          0.025658396095662478,
          0.026113409672158614,
          0.03136985749204271,
          0.03186207277370532,
          0.03404608354514686,
          0.03989777748846129,
          0.04098374051837787,
          0.04293464933854891,
          0.047143712136482274,
          0.04864916131349372,
          0.05111419912023739,
          0.05536543664353061,
          0.05651252773624668,
          0.06881328861657213,
          0.07028843966714665,
          0.09139176725256032,
          0.09394939870830095,
          0.11047103318708874,
          0.11408606871559629,
          0.11479239033401256,
          0.12660971214414557,
          0.16217231088445327,
          0.19501806926237084,
          0.21779751259315797,
          0.6885925229535103
         ]
        },
        {
         "name": "RandomForest Coefficients",
         "type": "bar",
         "x": [
          "cc_liked",
          "zodiac_sign_Sagittarius",
          "zodiac_sign_Leo",
          "payment_type_Monthly",
          "zodiac_sign_Gemini",
          "zodiac_sign_Aquarius",
          "cc_disliked",
          "zodiac_sign_Pisces",
          "zodiac_sign_Taurus",
          "zodiac_sign_Virgo",
          "zodiac_sign_Aries",
          "zodiac_sign_Cancer",
          "zodiac_sign_Libra",
          "payment_type_Weekly",
          "zodiac_sign_Scorpio",
          "housing_O",
          "zodiac_sign_Capricorn",
          "is_referred",
          "housing_R",
          "payment_type_Bi-Weekly",
          "payment_type_Semi-Monthly",
          "withdrawal",
          "cc_application_begin",
          "deposits",
          "app_downloaded",
          "left_for_one_month",
          "cc_taken",
          "waiting_4_loan",
          "left_for_two_month_plus",
          "cc_recommended",
          "android_user",
          "cancelled_loan",
          "registered_phones",
          "received_loan",
          "rejected_loan",
          "web_user",
          "ios_user",
          "age",
          "purchases",
          "reward_rate",
          "purchases_partners"
         ],
         "y": [
          0.0019002093934360254,
          0.0016018797634216686,
          0.0011617824825321146,
          0.0019943914727577877,
          0.0012240261808074918,
          0.0014575346500587305,
          0.005511172262720147,
          0.0011617099143010376,
          0.0018174959161268583,
          0.0014665816701456638,
          0.0011863113651792835,
          0.0013136455801135616,
          0.001652144157709867,
          0.003540943885651298,
          0.0012984954550859754,
          0.003326771498562501,
          0.0016496491831748882,
          0.00987575196747434,
          0.0032567405502411636,
          0.0021309743647379585,
          0.0021916034437450393,
          0.016129422904706286,
          0.03711559860189289,
          0.06687379106109673,
          0.002419333254271688,
          0.002209346358940487,
          0.016960787439257396,
          0.0008865486214435043,
          0.004839661717556985,
          0.14384844337849143,
          0.0024597243502135304,
          0.005470901378743957,
          0.009446939208347088,
          0.0102136876788251,
          0.005053017665644363,
          0.007105258575396903,
          0.003163150021834361,
          0.031170824834541918,
          0.057205225488201616,
          0.14425024209812404,
          0.3824582802044863
         ]
        }
       ],
       "layout": {
        "template": {
         "data": {
          "bar": [
           {
            "error_x": {
             "color": "#2a3f5f"
            },
            "error_y": {
             "color": "#2a3f5f"
            },
            "marker": {
             "line": {
              "color": "#E5ECF6",
              "width": 0.5
             }
            },
            "type": "bar"
           }
          ],
          "barpolar": [
           {
            "marker": {
             "line": {
              "color": "#E5ECF6",
              "width": 0.5
             }
            },
            "type": "barpolar"
           }
          ],
          "carpet": [
           {
            "aaxis": {
             "endlinecolor": "#2a3f5f",
             "gridcolor": "white",
             "linecolor": "white",
             "minorgridcolor": "white",
             "startlinecolor": "#2a3f5f"
            },
            "baxis": {
             "endlinecolor": "#2a3f5f",
             "gridcolor": "white",
             "linecolor": "white",
             "minorgridcolor": "white",
             "startlinecolor": "#2a3f5f"
            },
            "type": "carpet"
           }
          ],
          "choropleth": [
           {
            "colorbar": {
             "outlinewidth": 0,
             "ticks": ""
            },
            "type": "choropleth"
           }
          ],
          "contour": [
           {
            "colorbar": {
             "outlinewidth": 0,
             "ticks": ""
            },
            "colorscale": [
             [
              0,
              "#0d0887"
             ],
             [
              0.1111111111111111,
              "#46039f"
             ],
             [
              0.2222222222222222,
              "#7201a8"
             ],
             [
              0.3333333333333333,
              "#9c179e"
             ],
             [
              0.4444444444444444,
              "#bd3786"
             ],
             [
              0.5555555555555556,
              "#d8576b"
             ],
             [
              0.6666666666666666,
              "#ed7953"
             ],
             [
              0.7777777777777778,
              "#fb9f3a"
             ],
             [
              0.8888888888888888,
              "#fdca26"
             ],
             [
              1,
              "#f0f921"
             ]
            ],
            "type": "contour"
           }
          ],
          "contourcarpet": [
           {
            "colorbar": {
             "outlinewidth": 0,
             "ticks": ""
            },
            "type": "contourcarpet"
           }
          ],
          "heatmap": [
           {
            "colorbar": {
             "outlinewidth": 0,
             "ticks": ""
            },
            "colorscale": [
             [
              0,
              "#0d0887"
             ],
             [
              0.1111111111111111,
              "#46039f"
             ],
             [
              0.2222222222222222,
              "#7201a8"
             ],
             [
              0.3333333333333333,
              "#9c179e"
             ],
             [
              0.4444444444444444,
              "#bd3786"
             ],
             [
              0.5555555555555556,
              "#d8576b"
             ],
             [
              0.6666666666666666,
              "#ed7953"
             ],
             [
              0.7777777777777778,
              "#fb9f3a"
             ],
             [
              0.8888888888888888,
              "#fdca26"
             ],
             [
              1,
              "#f0f921"
             ]
            ],
            "type": "heatmap"
           }
          ],
          "heatmapgl": [
           {
            "colorbar": {
             "outlinewidth": 0,
             "ticks": ""
            },
            "colorscale": [
             [
              0,
              "#0d0887"
             ],
             [
              0.1111111111111111,
              "#46039f"
             ],
             [
              0.2222222222222222,
              "#7201a8"
             ],
             [
              0.3333333333333333,
              "#9c179e"
             ],
             [
              0.4444444444444444,
              "#bd3786"
             ],
             [
              0.5555555555555556,
              "#d8576b"
             ],
             [
              0.6666666666666666,
              "#ed7953"
             ],
             [
              0.7777777777777778,
              "#fb9f3a"
             ],
             [
              0.8888888888888888,
              "#fdca26"
             ],
             [
              1,
              "#f0f921"
             ]
            ],
            "type": "heatmapgl"
           }
          ],
          "histogram": [
           {
            "marker": {
             "colorbar": {
              "outlinewidth": 0,
              "ticks": ""
             }
            },
            "type": "histogram"
           }
          ],
          "histogram2d": [
           {
            "colorbar": {
             "outlinewidth": 0,
             "ticks": ""
            },
            "colorscale": [
             [
              0,
              "#0d0887"
             ],
             [
              0.1111111111111111,
              "#46039f"
             ],
             [
              0.2222222222222222,
              "#7201a8"
             ],
             [
              0.3333333333333333,
              "#9c179e"
             ],
             [
              0.4444444444444444,
              "#bd3786"
             ],
             [
              0.5555555555555556,
              "#d8576b"
             ],
             [
              0.6666666666666666,
              "#ed7953"
             ],
             [
              0.7777777777777778,
              "#fb9f3a"
             ],
             [
              0.8888888888888888,
              "#fdca26"
             ],
             [
              1,
              "#f0f921"
             ]
            ],
            "type": "histogram2d"
           }
          ],
          "histogram2dcontour": [
           {
            "colorbar": {
             "outlinewidth": 0,
             "ticks": ""
            },
            "colorscale": [
             [
              0,
              "#0d0887"
             ],
             [
              0.1111111111111111,
              "#46039f"
             ],
             [
              0.2222222222222222,
              "#7201a8"
             ],
             [
              0.3333333333333333,
              "#9c179e"
             ],
             [
              0.4444444444444444,
              "#bd3786"
             ],
             [
              0.5555555555555556,
              "#d8576b"
             ],
             [
              0.6666666666666666,
              "#ed7953"
             ],
             [
              0.7777777777777778,
              "#fb9f3a"
             ],
             [
              0.8888888888888888,
              "#fdca26"
             ],
             [
              1,
              "#f0f921"
             ]
            ],
            "type": "histogram2dcontour"
           }
          ],
          "mesh3d": [
           {
            "colorbar": {
             "outlinewidth": 0,
             "ticks": ""
            },
            "type": "mesh3d"
           }
          ],
          "parcoords": [
           {
            "line": {
             "colorbar": {
              "outlinewidth": 0,
              "ticks": ""
             }
            },
            "type": "parcoords"
           }
          ],
          "scatter": [
           {
            "marker": {
             "colorbar": {
              "outlinewidth": 0,
              "ticks": ""
             }
            },
            "type": "scatter"
           }
          ],
          "scatter3d": [
           {
            "line": {
             "colorbar": {
              "outlinewidth": 0,
              "ticks": ""
             }
            },
            "marker": {
             "colorbar": {
              "outlinewidth": 0,
              "ticks": ""
             }
            },
            "type": "scatter3d"
           }
          ],
          "scattercarpet": [
           {
            "marker": {
             "colorbar": {
              "outlinewidth": 0,
              "ticks": ""
             }
            },
            "type": "scattercarpet"
           }
          ],
          "scattergeo": [
           {
            "marker": {
             "colorbar": {
              "outlinewidth": 0,
              "ticks": ""
             }
            },
            "type": "scattergeo"
           }
          ],
          "scattergl": [
           {
            "marker": {
             "colorbar": {
              "outlinewidth": 0,
              "ticks": ""
             }
            },
            "type": "scattergl"
           }
          ],
          "scattermapbox": [
           {
            "marker": {
             "colorbar": {
              "outlinewidth": 0,
              "ticks": ""
             }
            },
            "type": "scattermapbox"
           }
          ],
          "scatterpolar": [
           {
            "marker": {
             "colorbar": {
              "outlinewidth": 0,
              "ticks": ""
             }
            },
            "type": "scatterpolar"
           }
          ],
          "scatterpolargl": [
           {
            "marker": {
             "colorbar": {
              "outlinewidth": 0,
              "ticks": ""
             }
            },
            "type": "scatterpolargl"
           }
          ],
          "scatterternary": [
           {
            "marker": {
             "colorbar": {
              "outlinewidth": 0,
              "ticks": ""
             }
            },
            "type": "scatterternary"
           }
          ],
          "surface": [
           {
            "colorbar": {
             "outlinewidth": 0,
             "ticks": ""
            },
            "colorscale": [
             [
              0,
              "#0d0887"
             ],
             [
              0.1111111111111111,
              "#46039f"
             ],
             [
              0.2222222222222222,
              "#7201a8"
             ],
             [
              0.3333333333333333,
              "#9c179e"
             ],
             [
              0.4444444444444444,
              "#bd3786"
             ],
             [
              0.5555555555555556,
              "#d8576b"
             ],
             [
              0.6666666666666666,
              "#ed7953"
             ],
             [
              0.7777777777777778,
              "#fb9f3a"
             ],
             [
              0.8888888888888888,
              "#fdca26"
             ],
             [
              1,
              "#f0f921"
             ]
            ],
            "type": "surface"
           }
          ],
          "table": [
           {
            "cells": {
             "fill": {
              "color": "#EBF0F8"
             },
             "line": {
              "color": "white"
             }
            },
            "header": {
             "fill": {
              "color": "#C8D4E3"
             },
             "line": {
              "color": "white"
             }
            },
            "type": "table"
           }
          ]
         },
         "layout": {
          "annotationdefaults": {
           "arrowcolor": "#2a3f5f",
           "arrowhead": 0,
           "arrowwidth": 1
          },
          "colorscale": {
           "diverging": [
            [
             0,
             "#8e0152"
            ],
            [
             0.1,
             "#c51b7d"
            ],
            [
             0.2,
             "#de77ae"
            ],
            [
             0.3,
             "#f1b6da"
            ],
            [
             0.4,
             "#fde0ef"
            ],
            [
             0.5,
             "#f7f7f7"
            ],
            [
             0.6,
             "#e6f5d0"
            ],
            [
             0.7,
             "#b8e186"
            ],
            [
             0.8,
             "#7fbc41"
            ],
            [
             0.9,
             "#4d9221"
            ],
            [
             1,
             "#276419"
            ]
           ],
           "sequential": [
            [
             0,
             "#0d0887"
            ],
            [
             0.1111111111111111,
             "#46039f"
            ],
            [
             0.2222222222222222,
             "#7201a8"
            ],
            [
             0.3333333333333333,
             "#9c179e"
            ],
            [
             0.4444444444444444,
             "#bd3786"
            ],
            [
             0.5555555555555556,
             "#d8576b"
            ],
            [
             0.6666666666666666,
             "#ed7953"
            ],
            [
             0.7777777777777778,
             "#fb9f3a"
            ],
            [
             0.8888888888888888,
             "#fdca26"
            ],
            [
             1,
             "#f0f921"
            ]
           ],
           "sequentialminus": [
            [
             0,
             "#0d0887"
            ],
            [
             0.1111111111111111,
             "#46039f"
            ],
            [
             0.2222222222222222,
             "#7201a8"
            ],
            [
             0.3333333333333333,
             "#9c179e"
            ],
            [
             0.4444444444444444,
             "#bd3786"
            ],
            [
             0.5555555555555556,
             "#d8576b"
            ],
            [
             0.6666666666666666,
             "#ed7953"
            ],
            [
             0.7777777777777778,
             "#fb9f3a"
            ],
            [
             0.8888888888888888,
             "#fdca26"
            ],
            [
             1,
             "#f0f921"
            ]
           ]
          },
          "colorway": [
           "#636efa",
           "#EF553B",
           "#00cc96",
           "#ab63fa",
           "#FFA15A",
           "#19d3f3",
           "#FF6692",
           "#B6E880",
           "#FF97FF",
           "#FECB52"
          ],
          "font": {
           "color": "#2a3f5f"
          },
          "geo": {
           "bgcolor": "white",
           "lakecolor": "white",
           "landcolor": "#E5ECF6",
           "showlakes": true,
           "showland": true,
           "subunitcolor": "white"
          },
          "hoverlabel": {
           "align": "left"
          },
          "hovermode": "closest",
          "mapbox": {
           "style": "light"
          },
          "paper_bgcolor": "white",
          "plot_bgcolor": "#E5ECF6",
          "polar": {
           "angularaxis": {
            "gridcolor": "white",
            "linecolor": "white",
            "ticks": ""
           },
           "bgcolor": "#E5ECF6",
           "radialaxis": {
            "gridcolor": "white",
            "linecolor": "white",
            "ticks": ""
           }
          },
          "scene": {
           "xaxis": {
            "backgroundcolor": "#E5ECF6",
            "gridcolor": "white",
            "gridwidth": 2,
            "linecolor": "white",
            "showbackground": true,
            "ticks": "",
            "zerolinecolor": "white"
           },
           "yaxis": {
            "backgroundcolor": "#E5ECF6",
            "gridcolor": "white",
            "gridwidth": 2,
            "linecolor": "white",
            "showbackground": true,
            "ticks": "",
            "zerolinecolor": "white"
           },
           "zaxis": {
            "backgroundcolor": "#E5ECF6",
            "gridcolor": "white",
            "gridwidth": 2,
            "linecolor": "white",
            "showbackground": true,
            "ticks": "",
            "zerolinecolor": "white"
           }
          },
          "shapedefaults": {
           "line": {
            "color": "#2a3f5f"
           }
          },
          "ternary": {
           "aaxis": {
            "gridcolor": "white",
            "linecolor": "white",
            "ticks": ""
           },
           "baxis": {
            "gridcolor": "white",
            "linecolor": "white",
            "ticks": ""
           },
           "bgcolor": "#E5ECF6",
           "caxis": {
            "gridcolor": "white",
            "linecolor": "white",
            "ticks": ""
           }
          },
          "title": {
           "x": 0.05
          },
          "xaxis": {
           "automargin": true,
           "gridcolor": "white",
           "linecolor": "white",
           "ticks": "",
           "zerolinecolor": "white",
           "zerolinewidth": 2
          },
          "yaxis": {
           "automargin": true,
           "gridcolor": "white",
           "linecolor": "white",
           "ticks": "",
           "zerolinecolor": "white",
           "zerolinewidth": 2
          }
         }
        }
       }
      },
      "text/html": [
       "<div>\n",
       "        \n",
       "        \n",
       "            <div id=\"13dfdbaf-a0bd-4826-afa0-c1b5bb6f4773\" class=\"plotly-graph-div\" style=\"height:525px; width:100%;\"></div>\n",
       "            <script type=\"text/javascript\">\n",
       "                require([\"plotly\"], function(Plotly) {\n",
       "                    window.PLOTLYENV=window.PLOTLYENV || {};\n",
       "                    \n",
       "                if (document.getElementById(\"13dfdbaf-a0bd-4826-afa0-c1b5bb6f4773\")) {\n",
       "                    Plotly.newPlot(\n",
       "                        '13dfdbaf-a0bd-4826-afa0-c1b5bb6f4773',\n",
       "                        [{\"name\": \"LogReg Coefficients\", \"type\": \"bar\", \"x\": [\"cc_liked\", \"zodiac_sign_Sagittarius\", \"zodiac_sign_Leo\", \"payment_type_Monthly\", \"zodiac_sign_Gemini\", \"zodiac_sign_Aquarius\", \"cc_disliked\", \"zodiac_sign_Pisces\", \"zodiac_sign_Taurus\", \"zodiac_sign_Virgo\", \"zodiac_sign_Aries\", \"zodiac_sign_Cancer\", \"zodiac_sign_Libra\", \"payment_type_Weekly\", \"zodiac_sign_Scorpio\", \"housing_O\", \"zodiac_sign_Capricorn\", \"is_referred\", \"housing_R\", \"payment_type_Bi-Weekly\", \"payment_type_Semi-Monthly\", \"withdrawal\", \"cc_application_begin\", \"deposits\", \"app_downloaded\", \"left_for_one_month\", \"cc_taken\", \"waiting_4_loan\", \"left_for_two_month_plus\", \"cc_recommended\", \"android_user\", \"cancelled_loan\", \"registered_phones\", \"received_loan\", \"rejected_loan\", \"web_user\", \"ios_user\", \"age\", \"purchases\", \"reward_rate\", \"purchases_partners\"], \"y\": [0.0009379915778047237, 0.0022093751433415955, 0.0056079134605382915, 0.008967744005213675, 0.011625466236175894, 0.01296448704395605, 0.013868323888650152, 0.01465727521087696, 0.015531623524385892, 0.01910196173467948, 0.019623157468862566, 0.01995260141331486, 0.02222657013408602, 0.02461384357701006, 0.024639314888461127, 0.0252653855466949, 0.025658396095662478, 0.026113409672158614, 0.03136985749204271, 0.03186207277370532, 0.03404608354514686, 0.03989777748846129, 0.04098374051837787, 0.04293464933854891, 0.047143712136482274, 0.04864916131349372, 0.05111419912023739, 0.05536543664353061, 0.05651252773624668, 0.06881328861657213, 0.07028843966714665, 0.09139176725256032, 0.09394939870830095, 0.11047103318708874, 0.11408606871559629, 0.11479239033401256, 0.12660971214414557, 0.16217231088445327, 0.19501806926237084, 0.21779751259315797, 0.6885925229535103]}, {\"name\": \"RandomForest Coefficients\", \"type\": \"bar\", \"x\": [\"cc_liked\", \"zodiac_sign_Sagittarius\", \"zodiac_sign_Leo\", \"payment_type_Monthly\", \"zodiac_sign_Gemini\", \"zodiac_sign_Aquarius\", \"cc_disliked\", \"zodiac_sign_Pisces\", \"zodiac_sign_Taurus\", \"zodiac_sign_Virgo\", \"zodiac_sign_Aries\", \"zodiac_sign_Cancer\", \"zodiac_sign_Libra\", \"payment_type_Weekly\", \"zodiac_sign_Scorpio\", \"housing_O\", \"zodiac_sign_Capricorn\", \"is_referred\", \"housing_R\", \"payment_type_Bi-Weekly\", \"payment_type_Semi-Monthly\", \"withdrawal\", \"cc_application_begin\", \"deposits\", \"app_downloaded\", \"left_for_one_month\", \"cc_taken\", \"waiting_4_loan\", \"left_for_two_month_plus\", \"cc_recommended\", \"android_user\", \"cancelled_loan\", \"registered_phones\", \"received_loan\", \"rejected_loan\", \"web_user\", \"ios_user\", \"age\", \"purchases\", \"reward_rate\", \"purchases_partners\"], \"y\": [0.0019002093934360254, 0.0016018797634216686, 0.0011617824825321146, 0.0019943914727577877, 0.0012240261808074918, 0.0014575346500587305, 0.005511172262720147, 0.0011617099143010376, 0.0018174959161268583, 0.0014665816701456638, 0.0011863113651792835, 0.0013136455801135616, 0.001652144157709867, 0.003540943885651298, 0.0012984954550859754, 0.003326771498562501, 0.0016496491831748882, 0.00987575196747434, 0.0032567405502411636, 0.0021309743647379585, 0.0021916034437450393, 0.016129422904706286, 0.03711559860189289, 0.06687379106109673, 0.002419333254271688, 0.002209346358940487, 0.016960787439257396, 0.0008865486214435043, 0.004839661717556985, 0.14384844337849143, 0.0024597243502135304, 0.005470901378743957, 0.009446939208347088, 0.0102136876788251, 0.005053017665644363, 0.007105258575396903, 0.003163150021834361, 0.031170824834541918, 0.057205225488201616, 0.14425024209812404, 0.3824582802044863]}],\n",
       "                        {\"template\": {\"data\": {\"bar\": [{\"error_x\": {\"color\": \"#2a3f5f\"}, \"error_y\": {\"color\": \"#2a3f5f\"}, \"marker\": {\"line\": {\"color\": \"#E5ECF6\", \"width\": 0.5}}, \"type\": \"bar\"}], \"barpolar\": [{\"marker\": {\"line\": {\"color\": \"#E5ECF6\", \"width\": 0.5}}, \"type\": \"barpolar\"}], \"carpet\": [{\"aaxis\": {\"endlinecolor\": \"#2a3f5f\", \"gridcolor\": \"white\", \"linecolor\": \"white\", \"minorgridcolor\": \"white\", \"startlinecolor\": \"#2a3f5f\"}, \"baxis\": {\"endlinecolor\": \"#2a3f5f\", \"gridcolor\": \"white\", \"linecolor\": \"white\", \"minorgridcolor\": \"white\", \"startlinecolor\": \"#2a3f5f\"}, \"type\": \"carpet\"}], \"choropleth\": [{\"colorbar\": {\"outlinewidth\": 0, \"ticks\": \"\"}, \"type\": \"choropleth\"}], \"contour\": [{\"colorbar\": {\"outlinewidth\": 0, \"ticks\": \"\"}, \"colorscale\": [[0.0, \"#0d0887\"], [0.1111111111111111, \"#46039f\"], [0.2222222222222222, \"#7201a8\"], [0.3333333333333333, \"#9c179e\"], [0.4444444444444444, \"#bd3786\"], [0.5555555555555556, \"#d8576b\"], [0.6666666666666666, \"#ed7953\"], [0.7777777777777778, \"#fb9f3a\"], [0.8888888888888888, \"#fdca26\"], [1.0, \"#f0f921\"]], \"type\": \"contour\"}], \"contourcarpet\": [{\"colorbar\": {\"outlinewidth\": 0, \"ticks\": \"\"}, \"type\": \"contourcarpet\"}], \"heatmap\": [{\"colorbar\": {\"outlinewidth\": 0, \"ticks\": \"\"}, \"colorscale\": [[0.0, \"#0d0887\"], [0.1111111111111111, \"#46039f\"], [0.2222222222222222, \"#7201a8\"], [0.3333333333333333, \"#9c179e\"], [0.4444444444444444, \"#bd3786\"], [0.5555555555555556, \"#d8576b\"], [0.6666666666666666, \"#ed7953\"], [0.7777777777777778, \"#fb9f3a\"], [0.8888888888888888, \"#fdca26\"], [1.0, \"#f0f921\"]], \"type\": \"heatmap\"}], \"heatmapgl\": [{\"colorbar\": {\"outlinewidth\": 0, \"ticks\": \"\"}, \"colorscale\": [[0.0, \"#0d0887\"], [0.1111111111111111, \"#46039f\"], [0.2222222222222222, \"#7201a8\"], [0.3333333333333333, \"#9c179e\"], [0.4444444444444444, \"#bd3786\"], [0.5555555555555556, \"#d8576b\"], [0.6666666666666666, \"#ed7953\"], [0.7777777777777778, \"#fb9f3a\"], [0.8888888888888888, \"#fdca26\"], [1.0, \"#f0f921\"]], \"type\": \"heatmapgl\"}], \"histogram\": [{\"marker\": {\"colorbar\": {\"outlinewidth\": 0, \"ticks\": \"\"}}, \"type\": \"histogram\"}], \"histogram2d\": [{\"colorbar\": {\"outlinewidth\": 0, \"ticks\": \"\"}, \"colorscale\": [[0.0, \"#0d0887\"], [0.1111111111111111, \"#46039f\"], [0.2222222222222222, \"#7201a8\"], [0.3333333333333333, \"#9c179e\"], [0.4444444444444444, \"#bd3786\"], [0.5555555555555556, \"#d8576b\"], [0.6666666666666666, \"#ed7953\"], [0.7777777777777778, \"#fb9f3a\"], [0.8888888888888888, \"#fdca26\"], [1.0, \"#f0f921\"]], \"type\": \"histogram2d\"}], \"histogram2dcontour\": [{\"colorbar\": {\"outlinewidth\": 0, \"ticks\": \"\"}, \"colorscale\": [[0.0, \"#0d0887\"], [0.1111111111111111, \"#46039f\"], [0.2222222222222222, \"#7201a8\"], [0.3333333333333333, \"#9c179e\"], [0.4444444444444444, \"#bd3786\"], [0.5555555555555556, \"#d8576b\"], [0.6666666666666666, \"#ed7953\"], [0.7777777777777778, \"#fb9f3a\"], [0.8888888888888888, \"#fdca26\"], [1.0, \"#f0f921\"]], \"type\": \"histogram2dcontour\"}], \"mesh3d\": [{\"colorbar\": {\"outlinewidth\": 0, \"ticks\": \"\"}, \"type\": \"mesh3d\"}], \"parcoords\": [{\"line\": {\"colorbar\": {\"outlinewidth\": 0, \"ticks\": \"\"}}, \"type\": \"parcoords\"}], \"scatter\": [{\"marker\": {\"colorbar\": {\"outlinewidth\": 0, \"ticks\": \"\"}}, \"type\": \"scatter\"}], \"scatter3d\": [{\"line\": {\"colorbar\": {\"outlinewidth\": 0, \"ticks\": \"\"}}, \"marker\": {\"colorbar\": {\"outlinewidth\": 0, \"ticks\": \"\"}}, \"type\": \"scatter3d\"}], \"scattercarpet\": [{\"marker\": {\"colorbar\": {\"outlinewidth\": 0, \"ticks\": \"\"}}, \"type\": \"scattercarpet\"}], \"scattergeo\": [{\"marker\": {\"colorbar\": {\"outlinewidth\": 0, \"ticks\": \"\"}}, \"type\": \"scattergeo\"}], \"scattergl\": [{\"marker\": {\"colorbar\": {\"outlinewidth\": 0, \"ticks\": \"\"}}, \"type\": \"scattergl\"}], \"scattermapbox\": [{\"marker\": {\"colorbar\": {\"outlinewidth\": 0, \"ticks\": \"\"}}, \"type\": \"scattermapbox\"}], \"scatterpolar\": [{\"marker\": {\"colorbar\": {\"outlinewidth\": 0, \"ticks\": \"\"}}, \"type\": \"scatterpolar\"}], \"scatterpolargl\": [{\"marker\": {\"colorbar\": {\"outlinewidth\": 0, \"ticks\": \"\"}}, \"type\": \"scatterpolargl\"}], \"scatterternary\": [{\"marker\": {\"colorbar\": {\"outlinewidth\": 0, \"ticks\": \"\"}}, \"type\": \"scatterternary\"}], \"surface\": [{\"colorbar\": {\"outlinewidth\": 0, \"ticks\": \"\"}, \"colorscale\": [[0.0, \"#0d0887\"], [0.1111111111111111, \"#46039f\"], [0.2222222222222222, \"#7201a8\"], [0.3333333333333333, \"#9c179e\"], [0.4444444444444444, \"#bd3786\"], [0.5555555555555556, \"#d8576b\"], [0.6666666666666666, \"#ed7953\"], [0.7777777777777778, \"#fb9f3a\"], [0.8888888888888888, \"#fdca26\"], [1.0, \"#f0f921\"]], \"type\": \"surface\"}], \"table\": [{\"cells\": {\"fill\": {\"color\": \"#EBF0F8\"}, \"line\": {\"color\": \"white\"}}, \"header\": {\"fill\": {\"color\": \"#C8D4E3\"}, \"line\": {\"color\": \"white\"}}, \"type\": \"table\"}]}, \"layout\": {\"annotationdefaults\": {\"arrowcolor\": \"#2a3f5f\", \"arrowhead\": 0, \"arrowwidth\": 1}, \"colorscale\": {\"diverging\": [[0, \"#8e0152\"], [0.1, \"#c51b7d\"], [0.2, \"#de77ae\"], [0.3, \"#f1b6da\"], [0.4, \"#fde0ef\"], [0.5, \"#f7f7f7\"], [0.6, \"#e6f5d0\"], [0.7, \"#b8e186\"], [0.8, \"#7fbc41\"], [0.9, \"#4d9221\"], [1, \"#276419\"]], \"sequential\": [[0.0, \"#0d0887\"], [0.1111111111111111, \"#46039f\"], [0.2222222222222222, \"#7201a8\"], [0.3333333333333333, \"#9c179e\"], [0.4444444444444444, \"#bd3786\"], [0.5555555555555556, \"#d8576b\"], [0.6666666666666666, \"#ed7953\"], [0.7777777777777778, \"#fb9f3a\"], [0.8888888888888888, \"#fdca26\"], [1.0, \"#f0f921\"]], \"sequentialminus\": [[0.0, \"#0d0887\"], [0.1111111111111111, \"#46039f\"], [0.2222222222222222, \"#7201a8\"], [0.3333333333333333, \"#9c179e\"], [0.4444444444444444, \"#bd3786\"], [0.5555555555555556, \"#d8576b\"], [0.6666666666666666, \"#ed7953\"], [0.7777777777777778, \"#fb9f3a\"], [0.8888888888888888, \"#fdca26\"], [1.0, \"#f0f921\"]]}, \"colorway\": [\"#636efa\", \"#EF553B\", \"#00cc96\", \"#ab63fa\", \"#FFA15A\", \"#19d3f3\", \"#FF6692\", \"#B6E880\", \"#FF97FF\", \"#FECB52\"], \"font\": {\"color\": \"#2a3f5f\"}, \"geo\": {\"bgcolor\": \"white\", \"lakecolor\": \"white\", \"landcolor\": \"#E5ECF6\", \"showlakes\": true, \"showland\": true, \"subunitcolor\": \"white\"}, \"hoverlabel\": {\"align\": \"left\"}, \"hovermode\": \"closest\", \"mapbox\": {\"style\": \"light\"}, \"paper_bgcolor\": \"white\", \"plot_bgcolor\": \"#E5ECF6\", \"polar\": {\"angularaxis\": {\"gridcolor\": \"white\", \"linecolor\": \"white\", \"ticks\": \"\"}, \"bgcolor\": \"#E5ECF6\", \"radialaxis\": {\"gridcolor\": \"white\", \"linecolor\": \"white\", \"ticks\": \"\"}}, \"scene\": {\"xaxis\": {\"backgroundcolor\": \"#E5ECF6\", \"gridcolor\": \"white\", \"gridwidth\": 2, \"linecolor\": \"white\", \"showbackground\": true, \"ticks\": \"\", \"zerolinecolor\": \"white\"}, \"yaxis\": {\"backgroundcolor\": \"#E5ECF6\", \"gridcolor\": \"white\", \"gridwidth\": 2, \"linecolor\": \"white\", \"showbackground\": true, \"ticks\": \"\", \"zerolinecolor\": \"white\"}, \"zaxis\": {\"backgroundcolor\": \"#E5ECF6\", \"gridcolor\": \"white\", \"gridwidth\": 2, \"linecolor\": \"white\", \"showbackground\": true, \"ticks\": \"\", \"zerolinecolor\": \"white\"}}, \"shapedefaults\": {\"line\": {\"color\": \"#2a3f5f\"}}, \"ternary\": {\"aaxis\": {\"gridcolor\": \"white\", \"linecolor\": \"white\", \"ticks\": \"\"}, \"baxis\": {\"gridcolor\": \"white\", \"linecolor\": \"white\", \"ticks\": \"\"}, \"bgcolor\": \"#E5ECF6\", \"caxis\": {\"gridcolor\": \"white\", \"linecolor\": \"white\", \"ticks\": \"\"}}, \"title\": {\"x\": 0.05}, \"xaxis\": {\"automargin\": true, \"gridcolor\": \"white\", \"linecolor\": \"white\", \"ticks\": \"\", \"zerolinecolor\": \"white\", \"zerolinewidth\": 2}, \"yaxis\": {\"automargin\": true, \"gridcolor\": \"white\", \"linecolor\": \"white\", \"ticks\": \"\", \"zerolinecolor\": \"white\", \"zerolinewidth\": 2}}}},\n",
       "                        {\"responsive\": true}\n",
       "                    ).then(function(){\n",
       "                            \n",
       "var gd = document.getElementById('13dfdbaf-a0bd-4826-afa0-c1b5bb6f4773');\n",
       "var x = new MutationObserver(function (mutations, observer) {{\n",
       "        var display = window.getComputedStyle(gd).display;\n",
       "        if (!display || display === 'none') {{\n",
       "            console.log([gd, 'removed!']);\n",
       "            Plotly.purge(gd);\n",
       "            observer.disconnect();\n",
       "        }}\n",
       "}});\n",
       "\n",
       "// Listen for the removal of the full notebook cells\n",
       "var notebookContainer = gd.closest('#notebook-container');\n",
       "if (notebookContainer) {{\n",
       "    x.observe(notebookContainer, {childList: true});\n",
       "}}\n",
       "\n",
       "// Listen for the clearing of the current output cell\n",
       "var outputEl = gd.closest('.output');\n",
       "if (outputEl) {{\n",
       "    x.observe(outputEl, {childList: true});\n",
       "}}\n",
       "\n",
       "                        })\n",
       "                };\n",
       "                });\n",
       "            </script>\n",
       "        </div>"
      ]
     },
     "metadata": {},
     "output_type": "display_data"
    }
   ],
   "source": [
    "trace0=go.Bar(x=df_coeff_abs['features'],\n",
    "            y=df_coeff_abs['coef_abs'],\n",
    "            name='LogReg Coefficients')\n",
    "trace1=go.Bar(x=df_coeff_abs['features'],\n",
    "            y=df_coeff_abs['rf_coef'],\n",
    "            name='RandomForest Coefficients')\n",
    "data=[trace0,trace1]\n",
    "fig=go.Figure(data=data)\n",
    "fig.show()"
   ]
  },
  {
   "cell_type": "markdown",
   "metadata": {},
   "source": [
    "There is a discrepancy between the results. Let's see what are the results of a permutation importance"
   ]
  },
  {
   "cell_type": "code",
   "execution_count": 275,
   "metadata": {
    "ExecuteTime": {
     "end_time": "2019-09-23T15:22:09.188148Z",
     "start_time": "2019-09-23T15:21:25.500834Z"
    }
   },
   "outputs": [
    {
     "data": {
      "text/html": [
       "\n",
       "    <style>\n",
       "    table.eli5-weights tr:hover {\n",
       "        filter: brightness(85%);\n",
       "    }\n",
       "</style>\n",
       "\n",
       "\n",
       "\n",
       "    \n",
       "\n",
       "    \n",
       "\n",
       "    \n",
       "\n",
       "    \n",
       "\n",
       "    \n",
       "\n",
       "    \n",
       "\n",
       "\n",
       "    \n",
       "\n",
       "    \n",
       "\n",
       "    \n",
       "\n",
       "    \n",
       "\n",
       "    \n",
       "\n",
       "    \n",
       "\n",
       "\n",
       "    \n",
       "\n",
       "    \n",
       "\n",
       "    \n",
       "\n",
       "    \n",
       "\n",
       "    \n",
       "        <table class=\"eli5-weights eli5-feature-importances\" style=\"border-collapse: collapse; border: none; margin-top: 0em; table-layout: auto;\">\n",
       "    <thead>\n",
       "    <tr style=\"border: none;\">\n",
       "        <th style=\"padding: 0 1em 0 0.5em; text-align: right; border: none;\">Weight</th>\n",
       "        <th style=\"padding: 0 0.5em 0 0.5em; text-align: left; border: none;\">Feature</th>\n",
       "    </tr>\n",
       "    </thead>\n",
       "    <tbody>\n",
       "    \n",
       "        <tr style=\"background-color: hsl(120, 100.00%, 80.00%); border: none;\">\n",
       "            <td style=\"padding: 0 1em 0 0.5em; text-align: right; border: none;\">\n",
       "                0.0860\n",
       "                \n",
       "                    &plusmn; 0.0098\n",
       "                \n",
       "            </td>\n",
       "            <td style=\"padding: 0 0.5em 0 0.5em; text-align: left; border: none;\">\n",
       "                purchases_partners\n",
       "            </td>\n",
       "        </tr>\n",
       "    \n",
       "        <tr style=\"background-color: hsl(120, 100.00%, 91.59%); border: none;\">\n",
       "            <td style=\"padding: 0 1em 0 0.5em; text-align: right; border: none;\">\n",
       "                0.0249\n",
       "                \n",
       "                    &plusmn; 0.0042\n",
       "                \n",
       "            </td>\n",
       "            <td style=\"padding: 0 0.5em 0 0.5em; text-align: left; border: none;\">\n",
       "                reward_rate\n",
       "            </td>\n",
       "        </tr>\n",
       "    \n",
       "        <tr style=\"background-color: hsl(120, 100.00%, 94.11%); border: none;\">\n",
       "            <td style=\"padding: 0 1em 0 0.5em; text-align: right; border: none;\">\n",
       "                0.0150\n",
       "                \n",
       "                    &plusmn; 0.0032\n",
       "                \n",
       "            </td>\n",
       "            <td style=\"padding: 0 0.5em 0 0.5em; text-align: left; border: none;\">\n",
       "                cc_recommended\n",
       "            </td>\n",
       "        </tr>\n",
       "    \n",
       "        <tr style=\"background-color: hsl(120, 100.00%, 98.12%); border: none;\">\n",
       "            <td style=\"padding: 0 1em 0 0.5em; text-align: right; border: none;\">\n",
       "                0.0029\n",
       "                \n",
       "                    &plusmn; 0.0018\n",
       "                \n",
       "            </td>\n",
       "            <td style=\"padding: 0 0.5em 0 0.5em; text-align: left; border: none;\">\n",
       "                cc_taken\n",
       "            </td>\n",
       "        </tr>\n",
       "    \n",
       "        <tr style=\"background-color: hsl(120, 100.00%, 98.49%); border: none;\">\n",
       "            <td style=\"padding: 0 1em 0 0.5em; text-align: right; border: none;\">\n",
       "                0.0021\n",
       "                \n",
       "                    &plusmn; 0.0011\n",
       "                \n",
       "            </td>\n",
       "            <td style=\"padding: 0 0.5em 0 0.5em; text-align: left; border: none;\">\n",
       "                age\n",
       "            </td>\n",
       "        </tr>\n",
       "    \n",
       "        <tr style=\"background-color: hsl(120, 100.00%, 98.66%); border: none;\">\n",
       "            <td style=\"padding: 0 1em 0 0.5em; text-align: right; border: none;\">\n",
       "                0.0018\n",
       "                \n",
       "                    &plusmn; 0.0008\n",
       "                \n",
       "            </td>\n",
       "            <td style=\"padding: 0 0.5em 0 0.5em; text-align: left; border: none;\">\n",
       "                cc_application_begin\n",
       "            </td>\n",
       "        </tr>\n",
       "    \n",
       "        <tr style=\"background-color: hsl(120, 100.00%, 98.70%); border: none;\">\n",
       "            <td style=\"padding: 0 1em 0 0.5em; text-align: right; border: none;\">\n",
       "                0.0017\n",
       "                \n",
       "                    &plusmn; 0.0016\n",
       "                \n",
       "            </td>\n",
       "            <td style=\"padding: 0 0.5em 0 0.5em; text-align: left; border: none;\">\n",
       "                left_for_two_month_plus\n",
       "            </td>\n",
       "        </tr>\n",
       "    \n",
       "        <tr style=\"background-color: hsl(120, 100.00%, 98.70%); border: none;\">\n",
       "            <td style=\"padding: 0 1em 0 0.5em; text-align: right; border: none;\">\n",
       "                0.0017\n",
       "                \n",
       "                    &plusmn; 0.0019\n",
       "                \n",
       "            </td>\n",
       "            <td style=\"padding: 0 0.5em 0 0.5em; text-align: left; border: none;\">\n",
       "                purchases\n",
       "            </td>\n",
       "        </tr>\n",
       "    \n",
       "        <tr style=\"background-color: hsl(120, 100.00%, 98.81%); border: none;\">\n",
       "            <td style=\"padding: 0 1em 0 0.5em; text-align: right; border: none;\">\n",
       "                0.0015\n",
       "                \n",
       "                    &plusmn; 0.0019\n",
       "                \n",
       "            </td>\n",
       "            <td style=\"padding: 0 0.5em 0 0.5em; text-align: left; border: none;\">\n",
       "                withdrawal\n",
       "            </td>\n",
       "        </tr>\n",
       "    \n",
       "        <tr style=\"background-color: hsl(120, 100.00%, 98.86%); border: none;\">\n",
       "            <td style=\"padding: 0 1em 0 0.5em; text-align: right; border: none;\">\n",
       "                0.0014\n",
       "                \n",
       "                    &plusmn; 0.0013\n",
       "                \n",
       "            </td>\n",
       "            <td style=\"padding: 0 0.5em 0 0.5em; text-align: left; border: none;\">\n",
       "                web_user\n",
       "            </td>\n",
       "        </tr>\n",
       "    \n",
       "        <tr style=\"background-color: hsl(120, 100.00%, 99.05%); border: none;\">\n",
       "            <td style=\"padding: 0 1em 0 0.5em; text-align: right; border: none;\">\n",
       "                0.0011\n",
       "                \n",
       "                    &plusmn; 0.0020\n",
       "                \n",
       "            </td>\n",
       "            <td style=\"padding: 0 0.5em 0 0.5em; text-align: left; border: none;\">\n",
       "                registered_phones\n",
       "            </td>\n",
       "        </tr>\n",
       "    \n",
       "        <tr style=\"background-color: hsl(120, 100.00%, 99.05%); border: none;\">\n",
       "            <td style=\"padding: 0 1em 0 0.5em; text-align: right; border: none;\">\n",
       "                0.0011\n",
       "                \n",
       "                    &plusmn; 0.0014\n",
       "                \n",
       "            </td>\n",
       "            <td style=\"padding: 0 0.5em 0 0.5em; text-align: left; border: none;\">\n",
       "                housing_R\n",
       "            </td>\n",
       "        </tr>\n",
       "    \n",
       "        <tr style=\"background-color: hsl(120, 100.00%, 99.05%); border: none;\">\n",
       "            <td style=\"padding: 0 1em 0 0.5em; text-align: right; border: none;\">\n",
       "                0.0011\n",
       "                \n",
       "                    &plusmn; 0.0006\n",
       "                \n",
       "            </td>\n",
       "            <td style=\"padding: 0 0.5em 0 0.5em; text-align: left; border: none;\">\n",
       "                ios_user\n",
       "            </td>\n",
       "        </tr>\n",
       "    \n",
       "        <tr style=\"background-color: hsl(120, 100.00%, 99.18%); border: none;\">\n",
       "            <td style=\"padding: 0 1em 0 0.5em; text-align: right; border: none;\">\n",
       "                0.0009\n",
       "                \n",
       "                    &plusmn; 0.0009\n",
       "                \n",
       "            </td>\n",
       "            <td style=\"padding: 0 0.5em 0 0.5em; text-align: left; border: none;\">\n",
       "                cancelled_loan\n",
       "            </td>\n",
       "        </tr>\n",
       "    \n",
       "        <tr style=\"background-color: hsl(120, 100.00%, 99.23%); border: none;\">\n",
       "            <td style=\"padding: 0 1em 0 0.5em; text-align: right; border: none;\">\n",
       "                0.0008\n",
       "                \n",
       "                    &plusmn; 0.0013\n",
       "                \n",
       "            </td>\n",
       "            <td style=\"padding: 0 0.5em 0 0.5em; text-align: left; border: none;\">\n",
       "                is_referred\n",
       "            </td>\n",
       "        </tr>\n",
       "    \n",
       "        <tr style=\"background-color: hsl(120, 100.00%, 99.28%); border: none;\">\n",
       "            <td style=\"padding: 0 1em 0 0.5em; text-align: right; border: none;\">\n",
       "                0.0007\n",
       "                \n",
       "                    &plusmn; 0.0012\n",
       "                \n",
       "            </td>\n",
       "            <td style=\"padding: 0 0.5em 0 0.5em; text-align: left; border: none;\">\n",
       "                android_user\n",
       "            </td>\n",
       "        </tr>\n",
       "    \n",
       "        <tr style=\"background-color: hsl(120, 100.00%, 99.36%); border: none;\">\n",
       "            <td style=\"padding: 0 1em 0 0.5em; text-align: right; border: none;\">\n",
       "                0.0006\n",
       "                \n",
       "                    &plusmn; 0.0004\n",
       "                \n",
       "            </td>\n",
       "            <td style=\"padding: 0 0.5em 0 0.5em; text-align: left; border: none;\">\n",
       "                payment_type_Monthly\n",
       "            </td>\n",
       "        </tr>\n",
       "    \n",
       "        <tr style=\"background-color: hsl(120, 100.00%, 99.39%); border: none;\">\n",
       "            <td style=\"padding: 0 1em 0 0.5em; text-align: right; border: none;\">\n",
       "                0.0006\n",
       "                \n",
       "                    &plusmn; 0.0009\n",
       "                \n",
       "            </td>\n",
       "            <td style=\"padding: 0 0.5em 0 0.5em; text-align: left; border: none;\">\n",
       "                payment_type_Weekly\n",
       "            </td>\n",
       "        </tr>\n",
       "    \n",
       "        <tr style=\"background-color: hsl(120, 100.00%, 99.47%); border: none;\">\n",
       "            <td style=\"padding: 0 1em 0 0.5em; text-align: right; border: none;\">\n",
       "                0.0005\n",
       "                \n",
       "                    &plusmn; 0.0002\n",
       "                \n",
       "            </td>\n",
       "            <td style=\"padding: 0 0.5em 0 0.5em; text-align: left; border: none;\">\n",
       "                zodiac_sign_Sagittarius\n",
       "            </td>\n",
       "        </tr>\n",
       "    \n",
       "        <tr style=\"background-color: hsl(120, 100.00%, 99.50%); border: none;\">\n",
       "            <td style=\"padding: 0 1em 0 0.5em; text-align: right; border: none;\">\n",
       "                0.0004\n",
       "                \n",
       "                    &plusmn; 0.0006\n",
       "                \n",
       "            </td>\n",
       "            <td style=\"padding: 0 0.5em 0 0.5em; text-align: left; border: none;\">\n",
       "                zodiac_sign_Virgo\n",
       "            </td>\n",
       "        </tr>\n",
       "    \n",
       "    \n",
       "        \n",
       "            <tr style=\"background-color: hsl(120, 100.00%, 99.50%); border: none;\">\n",
       "                <td colspan=\"2\" style=\"padding: 0 0.5em 0 0.5em; text-align: center; border: none; white-space: nowrap;\">\n",
       "                    <i>&hellip; 21 more &hellip;</i>\n",
       "                </td>\n",
       "            </tr>\n",
       "        \n",
       "    \n",
       "    </tbody>\n",
       "</table>\n",
       "    \n",
       "\n",
       "    \n",
       "\n",
       "\n",
       "    \n",
       "\n",
       "    \n",
       "\n",
       "    \n",
       "\n",
       "    \n",
       "\n",
       "    \n",
       "\n",
       "    \n",
       "\n",
       "\n",
       "\n"
      ],
      "text/plain": [
       "<IPython.core.display.HTML object>"
      ]
     },
     "execution_count": 275,
     "metadata": {},
     "output_type": "execute_result"
    }
   ],
   "source": [
    "import eli5\n",
    "from eli5.sklearn import PermutationImportance\n",
    "\n",
    "perm = PermutationImportance(RFClf, random_state=1).fit(X_test, y_test)\n",
    "eli5.show_weights(perm, feature_names = X_test.columns.tolist())"
   ]
  },
  {
   "cell_type": "code",
   "execution_count": 276,
   "metadata": {
    "ExecuteTime": {
     "end_time": "2019-09-23T15:22:09.426490Z",
     "start_time": "2019-09-23T15:22:09.190110Z"
    }
   },
   "outputs": [
    {
     "data": {
      "text/html": [
       "\n",
       "    <style>\n",
       "    table.eli5-weights tr:hover {\n",
       "        filter: brightness(85%);\n",
       "    }\n",
       "</style>\n",
       "\n",
       "\n",
       "\n",
       "    \n",
       "\n",
       "    \n",
       "\n",
       "    \n",
       "\n",
       "    \n",
       "\n",
       "    \n",
       "\n",
       "    \n",
       "\n",
       "\n",
       "    \n",
       "\n",
       "    \n",
       "\n",
       "    \n",
       "\n",
       "    \n",
       "\n",
       "    \n",
       "\n",
       "    \n",
       "\n",
       "\n",
       "    \n",
       "\n",
       "    \n",
       "\n",
       "    \n",
       "\n",
       "    \n",
       "\n",
       "    \n",
       "        <table class=\"eli5-weights eli5-feature-importances\" style=\"border-collapse: collapse; border: none; margin-top: 0em; table-layout: auto;\">\n",
       "    <thead>\n",
       "    <tr style=\"border: none;\">\n",
       "        <th style=\"padding: 0 1em 0 0.5em; text-align: right; border: none;\">Weight</th>\n",
       "        <th style=\"padding: 0 0.5em 0 0.5em; text-align: left; border: none;\">Feature</th>\n",
       "    </tr>\n",
       "    </thead>\n",
       "    <tbody>\n",
       "    \n",
       "        <tr style=\"background-color: hsl(120, 100.00%, 80.00%); border: none;\">\n",
       "            <td style=\"padding: 0 1em 0 0.5em; text-align: right; border: none;\">\n",
       "                0.0927\n",
       "                \n",
       "                    &plusmn; 0.0063\n",
       "                \n",
       "            </td>\n",
       "            <td style=\"padding: 0 0.5em 0 0.5em; text-align: left; border: none;\">\n",
       "                purchases_partners\n",
       "            </td>\n",
       "        </tr>\n",
       "    \n",
       "        <tr style=\"background-color: hsl(120, 100.00%, 96.53%); border: none;\">\n",
       "            <td style=\"padding: 0 1em 0 0.5em; text-align: right; border: none;\">\n",
       "                0.0076\n",
       "                \n",
       "                    &plusmn; 0.0070\n",
       "                \n",
       "            </td>\n",
       "            <td style=\"padding: 0 0.5em 0 0.5em; text-align: left; border: none;\">\n",
       "                age\n",
       "            </td>\n",
       "        </tr>\n",
       "    \n",
       "        <tr style=\"background-color: hsl(120, 100.00%, 97.92%); border: none;\">\n",
       "            <td style=\"padding: 0 1em 0 0.5em; text-align: right; border: none;\">\n",
       "                0.0037\n",
       "                \n",
       "                    &plusmn; 0.0028\n",
       "                \n",
       "            </td>\n",
       "            <td style=\"padding: 0 0.5em 0 0.5em; text-align: left; border: none;\">\n",
       "                registered_phones\n",
       "            </td>\n",
       "        </tr>\n",
       "    \n",
       "        <tr style=\"background-color: hsl(120, 100.00%, 98.17%); border: none;\">\n",
       "            <td style=\"padding: 0 1em 0 0.5em; text-align: right; border: none;\">\n",
       "                0.0030\n",
       "                \n",
       "                    &plusmn; 0.0011\n",
       "                \n",
       "            </td>\n",
       "            <td style=\"padding: 0 0.5em 0 0.5em; text-align: left; border: none;\">\n",
       "                left_for_two_month_plus\n",
       "            </td>\n",
       "        </tr>\n",
       "    \n",
       "        <tr style=\"background-color: hsl(120, 100.00%, 98.41%); border: none;\">\n",
       "            <td style=\"padding: 0 1em 0 0.5em; text-align: right; border: none;\">\n",
       "                0.0025\n",
       "                \n",
       "                    &plusmn; 0.0012\n",
       "                \n",
       "            </td>\n",
       "            <td style=\"padding: 0 0.5em 0 0.5em; text-align: left; border: none;\">\n",
       "                zodiac_sign_Scorpio\n",
       "            </td>\n",
       "        </tr>\n",
       "    \n",
       "        <tr style=\"background-color: hsl(120, 100.00%, 98.46%); border: none;\">\n",
       "            <td style=\"padding: 0 1em 0 0.5em; text-align: right; border: none;\">\n",
       "                0.0024\n",
       "                \n",
       "                    &plusmn; 0.0033\n",
       "                \n",
       "            </td>\n",
       "            <td style=\"padding: 0 0.5em 0 0.5em; text-align: left; border: none;\">\n",
       "                deposits\n",
       "            </td>\n",
       "        </tr>\n",
       "    \n",
       "        <tr style=\"background-color: hsl(120, 100.00%, 98.67%); border: none;\">\n",
       "            <td style=\"padding: 0 1em 0 0.5em; text-align: right; border: none;\">\n",
       "                0.0019\n",
       "                \n",
       "                    &plusmn; 0.0003\n",
       "                \n",
       "            </td>\n",
       "            <td style=\"padding: 0 0.5em 0 0.5em; text-align: left; border: none;\">\n",
       "                rejected_loan\n",
       "            </td>\n",
       "        </tr>\n",
       "    \n",
       "        <tr style=\"background-color: hsl(120, 100.00%, 98.69%); border: none;\">\n",
       "            <td style=\"padding: 0 1em 0 0.5em; text-align: right; border: none;\">\n",
       "                0.0019\n",
       "                \n",
       "                    &plusmn; 0.0012\n",
       "                \n",
       "            </td>\n",
       "            <td style=\"padding: 0 0.5em 0 0.5em; text-align: left; border: none;\">\n",
       "                cc_taken\n",
       "            </td>\n",
       "        </tr>\n",
       "    \n",
       "        <tr style=\"background-color: hsl(120, 100.00%, 98.74%); border: none;\">\n",
       "            <td style=\"padding: 0 1em 0 0.5em; text-align: right; border: none;\">\n",
       "                0.0018\n",
       "                \n",
       "                    &plusmn; 0.0010\n",
       "                \n",
       "            </td>\n",
       "            <td style=\"padding: 0 0.5em 0 0.5em; text-align: left; border: none;\">\n",
       "                payment_type_Semi-Monthly\n",
       "            </td>\n",
       "        </tr>\n",
       "    \n",
       "        <tr style=\"background-color: hsl(120, 100.00%, 98.78%); border: none;\">\n",
       "            <td style=\"padding: 0 1em 0 0.5em; text-align: right; border: none;\">\n",
       "                0.0017\n",
       "                \n",
       "                    &plusmn; 0.0016\n",
       "                \n",
       "            </td>\n",
       "            <td style=\"padding: 0 0.5em 0 0.5em; text-align: left; border: none;\">\n",
       "                received_loan\n",
       "            </td>\n",
       "        </tr>\n",
       "    \n",
       "        <tr style=\"background-color: hsl(120, 100.00%, 98.84%); border: none;\">\n",
       "            <td style=\"padding: 0 1em 0 0.5em; text-align: right; border: none;\">\n",
       "                0.0016\n",
       "                \n",
       "                    &plusmn; 0.0048\n",
       "                \n",
       "            </td>\n",
       "            <td style=\"padding: 0 0.5em 0 0.5em; text-align: left; border: none;\">\n",
       "                android_user\n",
       "            </td>\n",
       "        </tr>\n",
       "    \n",
       "        <tr style=\"background-color: hsl(120, 100.00%, 99.03%); border: none;\">\n",
       "            <td style=\"padding: 0 1em 0 0.5em; text-align: right; border: none;\">\n",
       "                0.0012\n",
       "                \n",
       "                    &plusmn; 0.0045\n",
       "                \n",
       "            </td>\n",
       "            <td style=\"padding: 0 0.5em 0 0.5em; text-align: left; border: none;\">\n",
       "                cc_recommended\n",
       "            </td>\n",
       "        </tr>\n",
       "    \n",
       "        <tr style=\"background-color: hsl(120, 100.00%, 99.05%); border: none;\">\n",
       "            <td style=\"padding: 0 1em 0 0.5em; text-align: right; border: none;\">\n",
       "                0.0012\n",
       "                \n",
       "                    &plusmn; 0.0052\n",
       "                \n",
       "            </td>\n",
       "            <td style=\"padding: 0 0.5em 0 0.5em; text-align: left; border: none;\">\n",
       "                ios_user\n",
       "            </td>\n",
       "        </tr>\n",
       "    \n",
       "        <tr style=\"background-color: hsl(120, 100.00%, 99.18%); border: none;\">\n",
       "            <td style=\"padding: 0 1em 0 0.5em; text-align: right; border: none;\">\n",
       "                0.0010\n",
       "                \n",
       "                    &plusmn; 0.0015\n",
       "                \n",
       "            </td>\n",
       "            <td style=\"padding: 0 0.5em 0 0.5em; text-align: left; border: none;\">\n",
       "                is_referred\n",
       "            </td>\n",
       "        </tr>\n",
       "    \n",
       "        <tr style=\"background-color: hsl(120, 100.00%, 99.18%); border: none;\">\n",
       "            <td style=\"padding: 0 1em 0 0.5em; text-align: right; border: none;\">\n",
       "                0.0010\n",
       "                \n",
       "                    &plusmn; 0.0005\n",
       "                \n",
       "            </td>\n",
       "            <td style=\"padding: 0 0.5em 0 0.5em; text-align: left; border: none;\">\n",
       "                left_for_one_month\n",
       "            </td>\n",
       "        </tr>\n",
       "    \n",
       "        <tr style=\"background-color: hsl(120, 100.00%, 99.20%); border: none;\">\n",
       "            <td style=\"padding: 0 1em 0 0.5em; text-align: right; border: none;\">\n",
       "                0.0009\n",
       "                \n",
       "                    &plusmn; 0.0038\n",
       "                \n",
       "            </td>\n",
       "            <td style=\"padding: 0 0.5em 0 0.5em; text-align: left; border: none;\">\n",
       "                web_user\n",
       "            </td>\n",
       "        </tr>\n",
       "    \n",
       "        <tr style=\"background-color: hsl(120, 100.00%, 99.44%); border: none;\">\n",
       "            <td style=\"padding: 0 1em 0 0.5em; text-align: right; border: none;\">\n",
       "                0.0006\n",
       "                \n",
       "                    &plusmn; 0.0019\n",
       "                \n",
       "            </td>\n",
       "            <td style=\"padding: 0 0.5em 0 0.5em; text-align: left; border: none;\">\n",
       "                zodiac_sign_Cancer\n",
       "            </td>\n",
       "        </tr>\n",
       "    \n",
       "        <tr style=\"background-color: hsl(120, 100.00%, 99.55%); border: none;\">\n",
       "            <td style=\"padding: 0 1em 0 0.5em; text-align: right; border: none;\">\n",
       "                0.0004\n",
       "                \n",
       "                    &plusmn; 0.0025\n",
       "                \n",
       "            </td>\n",
       "            <td style=\"padding: 0 0.5em 0 0.5em; text-align: left; border: none;\">\n",
       "                cc_application_begin\n",
       "            </td>\n",
       "        </tr>\n",
       "    \n",
       "        <tr style=\"background-color: hsl(120, 100.00%, 99.61%); border: none;\">\n",
       "            <td style=\"padding: 0 1em 0 0.5em; text-align: right; border: none;\">\n",
       "                0.0003\n",
       "                \n",
       "                    &plusmn; 0.0049\n",
       "                \n",
       "            </td>\n",
       "            <td style=\"padding: 0 0.5em 0 0.5em; text-align: left; border: none;\">\n",
       "                purchases\n",
       "            </td>\n",
       "        </tr>\n",
       "    \n",
       "        <tr style=\"background-color: hsl(120, 100.00%, 99.64%); border: none;\">\n",
       "            <td style=\"padding: 0 1em 0 0.5em; text-align: right; border: none;\">\n",
       "                0.0003\n",
       "                \n",
       "                    &plusmn; 0.0019\n",
       "                \n",
       "            </td>\n",
       "            <td style=\"padding: 0 0.5em 0 0.5em; text-align: left; border: none;\">\n",
       "                zodiac_sign_Libra\n",
       "            </td>\n",
       "        </tr>\n",
       "    \n",
       "    \n",
       "        \n",
       "            <tr style=\"background-color: hsl(120, 100.00%, 99.64%); border: none;\">\n",
       "                <td colspan=\"2\" style=\"padding: 0 0.5em 0 0.5em; text-align: center; border: none; white-space: nowrap;\">\n",
       "                    <i>&hellip; 21 more &hellip;</i>\n",
       "                </td>\n",
       "            </tr>\n",
       "        \n",
       "    \n",
       "    </tbody>\n",
       "</table>\n",
       "    \n",
       "\n",
       "    \n",
       "\n",
       "\n",
       "    \n",
       "\n",
       "    \n",
       "\n",
       "    \n",
       "\n",
       "    \n",
       "\n",
       "    \n",
       "\n",
       "    \n",
       "\n",
       "\n",
       "\n"
      ],
      "text/plain": [
       "<IPython.core.display.HTML object>"
      ]
     },
     "execution_count": 276,
     "metadata": {},
     "output_type": "execute_result"
    }
   ],
   "source": [
    "perm = PermutationImportance(classifier_full, random_state=0).fit(X_test, y_test)\n",
    "eli5.show_weights(perm, feature_names = X_test.columns.tolist())"
   ]
  },
  {
   "cell_type": "markdown",
   "metadata": {},
   "source": [
    "Different methods are providing different results in terms of which features impact the most our models. Some independent variables are consistently ranked among the top predictors.\n",
    "These variations and inconsitencies are to some extent related to the multicolinerity among independent variables.\n",
    "To further fine tune our recommendations we could further investigate on removing the multicolinearity we observed."
   ]
  }
 ],
 "metadata": {
  "kernelspec": {
   "display_name": "Python 3",
   "language": "python",
   "name": "python3"
  },
  "language_info": {
   "codemirror_mode": {
    "name": "ipython",
    "version": 3
   },
   "file_extension": ".py",
   "mimetype": "text/x-python",
   "name": "python",
   "nbconvert_exporter": "python",
   "pygments_lexer": "ipython3",
   "version": "3.6.5"
  },
  "toc": {
   "base_numbering": 1,
   "nav_menu": {},
   "number_sections": true,
   "sideBar": true,
   "skip_h1_title": false,
   "title_cell": "Table of Contents",
   "title_sidebar": "Contents",
   "toc_cell": false,
   "toc_position": {},
   "toc_section_display": true,
   "toc_window_display": false
  }
 },
 "nbformat": 4,
 "nbformat_minor": 2
}
