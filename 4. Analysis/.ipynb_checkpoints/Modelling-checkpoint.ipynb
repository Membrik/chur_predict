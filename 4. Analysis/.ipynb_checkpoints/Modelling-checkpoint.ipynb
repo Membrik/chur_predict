{
 "cells": [
  {
   "cell_type": "code",
   "execution_count": 1,
   "metadata": {
    "ExecuteTime": {
     "end_time": "2019-09-22T13:15:02.547696Z",
     "start_time": "2019-09-22T13:14:54.279620Z"
    }
   },
   "outputs": [],
   "source": [
    "import pandas as pd\n",
    "import numpy as np\n",
    "import pandas as pd\n",
    "import numpy as np\n",
    "import plotly.graph_objects as go\n",
    "import plotly.express as px\n",
    "import plotly.figure_factory as ff\n",
    "from plotly.subplots import make_subplots"
   ]
  },
  {
   "cell_type": "markdown",
   "metadata": {
    "ExecuteTime": {
     "end_time": "2019-09-22T13:15:23.509622Z",
     "start_time": "2019-09-22T13:15:23.505651Z"
    }
   },
   "source": [
    "# Cleaning the data (modelling steps)"
   ]
  },
  {
   "cell_type": "code",
   "execution_count": 3,
   "metadata": {
    "ExecuteTime": {
     "end_time": "2019-09-22T13:17:18.504466Z",
     "start_time": "2019-09-22T13:17:18.479243Z"
    }
   },
   "outputs": [],
   "source": [
    "#import dataset from EDA\n",
    "df =pd.read_pickle(r'C:\\DataScienceProjects\\201907_Churn_ Prediction\\3. Uploaded Data\\churn_data_for_modelling.pkl')"
   ]
  },
  {
   "cell_type": "code",
   "execution_count": 6,
   "metadata": {
    "ExecuteTime": {
     "end_time": "2019-09-22T13:20:40.218002Z",
     "start_time": "2019-09-22T13:20:40.206440Z"
    }
   },
   "outputs": [],
   "source": [
    "# assigning user ids to a variable and removing from the dataset\n",
    "user_id = df['user']\n",
    "df = df.drop(columns=['user'])"
   ]
  },
  {
   "cell_type": "code",
   "execution_count": 8,
   "metadata": {
    "ExecuteTime": {
     "end_time": "2019-09-22T13:21:30.085282Z",
     "start_time": "2019-09-22T13:21:30.027005Z"
    }
   },
   "outputs": [],
   "source": [
    "# one hot encoding of categorical variables\n",
    "df = pd.get_dummies(df)"
   ]
  },
  {
   "cell_type": "code",
   "execution_count": 12,
   "metadata": {
    "ExecuteTime": {
     "end_time": "2019-09-22T13:28:22.046605Z",
     "start_time": "2019-09-22T13:28:22.006884Z"
    }
   },
   "outputs": [],
   "source": [
    "# removing correlated columns created with one hot encoding, i.e. 'na' columns which included the null values\n",
    "df = df.drop(columns = ['housing_na','payment_type_na','zodiac_sign_na'])"
   ]
  },
  {
   "cell_type": "markdown",
   "metadata": {
    "ExecuteTime": {
     "end_time": "2019-09-22T13:31:38.155382Z",
     "start_time": "2019-09-22T13:31:38.139906Z"
    }
   },
   "source": [
    "# Train_test split"
   ]
  },
  {
   "cell_type": "code",
   "execution_count": 16,
   "metadata": {
    "ExecuteTime": {
     "end_time": "2019-09-22T13:34:06.250367Z",
     "start_time": "2019-09-22T13:34:06.217048Z"
    }
   },
   "outputs": [],
   "source": [
    "from sklearn.model_selection import train_test_split\n",
    "X_train,X_test,y_train,y_test = train_test_split(df.drop(columns =['churn']), # independent variables\n",
    "                                                df['churn'],      # dependent variable\n",
    "                                                test_size=0.2,\n",
    "                                                random_state=0)"
   ]
  },
  {
   "cell_type": "code",
   "execution_count": 37,
   "metadata": {
    "ExecuteTime": {
     "end_time": "2019-09-23T09:07:28.662320Z",
     "start_time": "2019-09-23T09:07:28.648359Z"
    }
   },
   "outputs": [
    {
     "data": {
      "text/plain": [
       "pandas.core.series.Series"
      ]
     },
     "execution_count": 37,
     "metadata": {},
     "output_type": "execute_result"
    }
   ],
   "source": [
    "# Checking the balancing of the dataset\n",
    "y_train.value_counts()"
   ]
  },
  {
   "cell_type": "markdown",
   "metadata": {},
   "source": [
    "# Rebalancing dataset"
   ]
  },
  {
   "cell_type": "code",
   "execution_count": 35,
   "metadata": {
    "ExecuteTime": {
     "end_time": "2019-09-23T09:04:57.084051Z",
     "start_time": "2019-09-23T09:04:57.077068Z"
    }
   },
   "outputs": [],
   "source": [
    "#Dividing dataset by class\n",
    "y_train_neg = y_train[y_train.values==0].index\n",
    "y_train_pos = y_train[y_train.values==1].index"
   ]
  },
  {
   "cell_type": "code",
   "execution_count": 38,
   "metadata": {
    "ExecuteTime": {
     "end_time": "2019-09-23T09:14:48.503128Z",
     "start_time": "2019-09-23T09:14:48.480658Z"
    }
   },
   "outputs": [
    {
     "ename": "NameError",
     "evalue": "name 'randomw' is not defined",
     "output_type": "error",
     "traceback": [
      "\u001b[1;31m---------------------------------------------------------------------------\u001b[0m",
      "\u001b[1;31mNameError\u001b[0m                                 Traceback (most recent call last)",
      "\u001b[1;32m<ipython-input-38-524c7eed2fc9>\u001b[0m in \u001b[0;36m<module>\u001b[1;34m()\u001b[0m\n\u001b[0;32m      7\u001b[0m     \u001b[0mlower\u001b[0m \u001b[1;33m=\u001b[0m \u001b[0my_train_\u001b[0m\u001b[1;33m\u001b[0m\u001b[0m\n\u001b[0;32m      8\u001b[0m \u001b[1;33m\u001b[0m\u001b[0m\n\u001b[1;32m----> 9\u001b[1;33m \u001b[0mrandomw\u001b[0m\u001b[1;33m.\u001b[0m\u001b[0mseed\u001b[0m\u001b[1;33m(\u001b[0m\u001b[1;36m0\u001b[0m\u001b[1;33m)\u001b[0m\u001b[1;33m\u001b[0m\u001b[0m\n\u001b[0m\u001b[0;32m     10\u001b[0m \u001b[0mhigher\u001b[0m \u001b[1;33m=\u001b[0m \u001b[0mnp\u001b[0m\u001b[1;33m.\u001b[0m\u001b[0mrandom\u001b[0m\u001b[1;33m.\u001b[0m\u001b[0mchoice\u001b[0m\u001b[1;33m(\u001b[0m\u001b[0mhigher\u001b[0m\u001b[1;33m,\u001b[0m \u001b[0msize\u001b[0m \u001b[1;33m=\u001b[0m \u001b[0mlen\u001b[0m\u001b[1;33m(\u001b[0m\u001b[0mlower\u001b[0m\u001b[1;33m)\u001b[0m\u001b[1;33m)\u001b[0m \u001b[1;31m# pick randomly a subset of observations (rows) matching the size of the smallest class\u001b[0m\u001b[1;33m\u001b[0m\u001b[0m\n\u001b[0;32m     11\u001b[0m \u001b[0mlower\u001b[0m \u001b[1;33m=\u001b[0m \u001b[0mnp\u001b[0m\u001b[1;33m.\u001b[0m\u001b[0masarray\u001b[0m\u001b[1;33m(\u001b[0m\u001b[0mlower\u001b[0m\u001b[1;33m)\u001b[0m \u001b[1;31m#converting to an array\u001b[0m\u001b[1;33m\u001b[0m\u001b[0m\n",
      "\u001b[1;31mNameError\u001b[0m: name 'randomw' is not defined"
     ]
    }
   ],
   "source": [
    "# Resampling of classes in relation to the higher represented class\n",
    "if len(y_train_neg)>len(y_train_pos):\n",
    "    higher = y_train_neg\n",
    "    lower = y_train_pos\n",
    "else:\n",
    "    higher = y_train_pos\n",
    "    lower = y_train_\n",
    "\n",
    "random.seed(0)\n",
    "higher = np.random.choice(higher, size = len(lower)) # pick randomly a subset of observations (rows) matching the size of the smallest class\n",
    "lower = np.asarray(lower) #converting to an array\n",
    "new_indexes = np.concatenate((lower,higher)) # concatenating arrays of indexes\n",
    "\n",
    "# undersampling training data\n",
    "X_train = X_train.loc[new_indexes,]  #all columns\n",
    "y_train = y_train.loc[new_indexes]   #only one col\n",
    "\n"
   ]
  },
  {
   "cell_type": "code",
   "execution_count": null,
   "metadata": {},
   "outputs": [],
   "source": []
  }
 ],
 "metadata": {
  "kernelspec": {
   "display_name": "Python 3",
   "language": "python",
   "name": "python3"
  },
  "language_info": {
   "codemirror_mode": {
    "name": "ipython",
    "version": 3
   },
   "file_extension": ".py",
   "mimetype": "text/x-python",
   "name": "python",
   "nbconvert_exporter": "python",
   "pygments_lexer": "ipython3",
   "version": "3.6.5"
  },
  "toc": {
   "base_numbering": 1,
   "nav_menu": {},
   "number_sections": true,
   "sideBar": true,
   "skip_h1_title": false,
   "title_cell": "Table of Contents",
   "title_sidebar": "Contents",
   "toc_cell": false,
   "toc_position": {},
   "toc_section_display": true,
   "toc_window_display": false
  }
 },
 "nbformat": 4,
 "nbformat_minor": 2
}
